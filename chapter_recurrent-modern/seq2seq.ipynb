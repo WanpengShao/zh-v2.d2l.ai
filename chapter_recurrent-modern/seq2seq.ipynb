{
  "cells": [
    {
      "cell_type": "markdown",
      "id": "e8e79e3c",
      "metadata": {
        "id": "e8e79e3c"
      },
      "source": [
        "The following additional libraries are needed to run this\n",
        "notebook. Note that running on Colab is experimental, please report a Github\n",
        "issue if you have any problem."
      ]
    },
    {
      "cell_type": "code",
      "execution_count": 14,
      "id": "23a57089",
      "metadata": {
        "id": "23a57089",
        "outputId": "25498180-5c1e-4c5f-a604-72c3fb050911",
        "colab": {
          "base_uri": "https://localhost:8080/",
          "height": 493
        }
      },
      "outputs": [
        {
          "output_type": "stream",
          "name": "stdout",
          "text": [
            "Collecting git+https://github.com/d2l-ai/d2l-zh@release\n",
            "  Cloning https://github.com/d2l-ai/d2l-zh (to revision release) to /tmp/pip-req-build-exh650tg\n",
            "  Running command git clone --filter=blob:none --quiet https://github.com/d2l-ai/d2l-zh /tmp/pip-req-build-exh650tg\n",
            "  Running command git checkout -b release --track origin/release\n",
            "  Switched to a new branch 'release'\n",
            "  Branch 'release' set up to track remote branch 'release' from 'origin'.\n",
            "  Resolved https://github.com/d2l-ai/d2l-zh to commit 843d3d41dca48d8df65f4b324dd171d8bfe9c067\n",
            "  Running command git submodule update --init --recursive -q\n",
            "  Preparing metadata (setup.py) ... \u001b[?25l\u001b[?25hdone\n",
            "Building wheels for collected packages: d2l\n",
            "  Building wheel for d2l (setup.py) ... \u001b[?25l\u001b[?25hdone\n",
            "  Created wheel for d2l: filename=d2l-2.0.0-py3-none-any.whl size=110800 sha256=44d6e0ecc58cb0e19c1da691edc7697d382e87ef652a7292500732ec7b8f6bda\n",
            "  Stored in directory: /tmp/pip-ephem-wheel-cache-p_7_n3vw/wheels/3e/87/36/53b013ece7da539a59fcc56da2d329d7afb08eef9a9a5ae1d1\n",
            "Successfully built d2l\n",
            "Installing collected packages: d2l\n",
            "  Attempting uninstall: d2l\n",
            "    Found existing installation: d2l 2.0.0\n",
            "    Uninstalling d2l-2.0.0:\n",
            "      Successfully uninstalled d2l-2.0.0\n",
            "Successfully installed d2l-2.0.0\n"
          ]
        },
        {
          "output_type": "display_data",
          "data": {
            "application/vnd.colab-display-data+json": {
              "pip_warning": {
                "packages": [
                  "d2l"
                ]
              },
              "id": "4f18e3b7dbdd46b7a6b4db67a8db3e5c"
            }
          },
          "metadata": {}
        },
        {
          "output_type": "stream",
          "name": "stdout",
          "text": [
            "^C\n"
          ]
        }
      ],
      "source": [
        "!pip install git+https://github.com/d2l-ai/d2l-zh@release --no-deps --force-reinstall\n",
        "!pip install numpy>=1.20"
      ]
    },
    {
      "cell_type": "markdown",
      "id": "74f92c25",
      "metadata": {
        "origin_pos": 0,
        "id": "74f92c25"
      },
      "source": [
        "#  序列到序列学习（seq2seq）\n",
        ":label:`sec_seq2seq`\n",
        "\n",
        "正如我们在 :numref:`sec_machine_translation`中看到的，\n",
        "机器翻译中的输入序列和输出序列都是长度可变的。\n",
        "为了解决这类问题，我们在 :numref:`sec_encoder-decoder`中\n",
        "设计了一个通用的”编码器－解码器“架构。\n",
        "本节，我们将使用两个循环神经网络的编码器和解码器，\n",
        "并将其应用于*序列到序列*（sequence to sequence，seq2seq）类的学习任务\n",
        " :cite:`Sutskever.Vinyals.Le.2014,Cho.Van-Merrienboer.Gulcehre.ea.2014`。\n",
        "\n",
        "遵循编码器－解码器架构的设计原则，\n",
        "循环神经网络编码器使用长度可变的序列作为输入，\n",
        "将其转换为固定形状的隐状态。\n",
        "换言之，输入序列的信息被*编码*到循环神经网络编码器的隐状态中。\n",
        "为了连续生成输出序列的词元，\n",
        "独立的循环神经网络解码器是基于输入序列的编码信息\n",
        "和输出序列已经看见的或者生成的词元来预测下一个词元。\n",
        " :numref:`fig_seq2seq`演示了\n",
        "如何在机器翻译中使用两个循环神经网络进行序列到序列学习。\n",
        "\n",
        "![使用循环神经网络编码器和循环神经网络解码器的序列到序列学习](http://d2l.ai/_images/seq2seq.svg)\n",
        ":label:`fig_seq2seq`\n",
        "\n",
        "在 :numref:`fig_seq2seq`中，\n",
        "特定的“&lt;eos&gt;”表示序列结束词元。\n",
        "一旦输出序列生成此词元，模型就会停止预测。\n",
        "在循环神经网络解码器的初始化时间步，有两个特定的设计决定：\n",
        "首先，特定的“&lt;bos&gt;”表示序列开始词元，它是解码器的输入序列的第一个词元。\n",
        "其次，使用循环神经网络编码器最终的隐状态来初始化解码器的隐状态。\n",
        "例如，在 :cite:`Sutskever.Vinyals.Le.2014`的设计中，\n",
        "正是基于这种设计将输入序列的编码信息送入到解码器中来生成输出序列的。\n",
        "在其他一些设计中 :cite:`Cho.Van-Merrienboer.Gulcehre.ea.2014`，\n",
        "如 :numref:`fig_seq2seq`所示，\n",
        "编码器最终的隐状态在每一个时间步都作为解码器的输入序列的一部分。\n",
        "类似于 :numref:`sec_language_model`中语言模型的训练，\n",
        "可以允许标签成为原始的输出序列，\n",
        "从源序列词元“&lt;bos&gt;”“Ils”“regardent”“.”\n",
        "到新序列词元\n",
        "“Ils”“regardent”“.”“&lt;eos&gt;”来移动预测的位置。\n",
        "\n",
        "下面，我们动手构建 :numref:`fig_seq2seq`的设计，\n",
        "并将基于 :numref:`sec_machine_translation`中\n",
        "介绍的“英－法”数据集来训练这个机器翻译模型。\n"
      ]
    },
    {
      "cell_type": "code",
      "execution_count": 16,
      "id": "bc9aa4b5",
      "metadata": {
        "execution": {
          "iopub.execute_input": "2023-08-18T07:15:31.967521Z",
          "iopub.status.busy": "2023-08-18T07:15:31.966534Z",
          "iopub.status.idle": "2023-08-18T07:15:33.959337Z",
          "shell.execute_reply": "2023-08-18T07:15:33.958486Z"
        },
        "origin_pos": 2,
        "tab": [
          "pytorch"
        ],
        "id": "bc9aa4b5"
      },
      "outputs": [],
      "source": [
        "import collections\n",
        "import math\n",
        "import torch\n",
        "from torch import nn\n",
        "from d2l import torch as d2l"
      ]
    },
    {
      "cell_type": "markdown",
      "id": "cb6cae12",
      "metadata": {
        "origin_pos": 5,
        "id": "cb6cae12"
      },
      "source": [
        "## 编码器\n",
        "\n",
        "从技术上讲，编码器将长度可变的输入序列转换成\n",
        "形状固定的上下文变量$\\mathbf{c}$，\n",
        "并且将输入序列的信息在该上下文变量中进行编码。\n",
        "如 :numref:`fig_seq2seq`所示，可以使用循环神经网络来设计编码器。\n",
        "\n",
        "考虑由一个序列组成的样本（批量大小是$1$）。\n",
        "假设输入序列是$x_1, \\ldots, x_T$，\n",
        "其中$x_t$是输入文本序列中的第$t$个词元。\n",
        "在时间步$t$，循环神经网络将词元$x_t$的输入特征向量\n",
        "$\\mathbf{x}_t$和$\\mathbf{h} _{t-1}$（即上一时间步的隐状态）\n",
        "转换为$\\mathbf{h}_t$（即当前步的隐状态）。\n",
        "使用一个函数$f$来描述循环神经网络的循环层所做的变换：\n",
        "\n",
        "$$\\mathbf{h}_t = f(\\mathbf{x}_t, \\mathbf{h}_{t-1}). $$\n",
        "\n",
        "总之，编码器通过选定的函数$q$，\n",
        "将所有时间步的隐状态转换为上下文变量：\n",
        "\n",
        "$$\\mathbf{c} =  q(\\mathbf{h}_1, \\ldots, \\mathbf{h}_T).$$\n",
        "\n",
        "比如，当选择$q(\\mathbf{h}_1, \\ldots, \\mathbf{h}_T) = \\mathbf{h}_T$时\n",
        "（就像 :numref:`fig_seq2seq`中一样），\n",
        "上下文变量仅仅是输入序列在最后时间步的隐状态$\\mathbf{h}_T$。\n",
        "\n",
        "到目前为止，我们使用的是一个单向循环神经网络来设计编码器，\n",
        "其中隐状态只依赖于输入子序列，\n",
        "这个子序列是由输入序列的开始位置到隐状态所在的时间步的位置\n",
        "（包括隐状态所在的时间步）组成。\n",
        "我们也可以使用双向循环神经网络构造编码器，\n",
        "其中隐状态依赖于两个输入子序列，\n",
        "两个子序列是由隐状态所在的时间步的位置之前的序列和之后的序列\n",
        "（包括隐状态所在的时间步），\n",
        "因此隐状态对整个序列的信息都进行了编码。\n",
        "\n",
        "现在，让我们[**实现循环神经网络编码器**]。\n",
        "注意，我们使用了*嵌入层*（embedding layer）\n",
        "来获得输入序列中每个词元的特征向量。\n",
        "嵌入层的权重是一个矩阵，\n",
        "其行数等于输入词表的大小（`vocab_size`），\n",
        "其列数等于特征向量的维度（`embed_size`）。\n",
        "对于任意输入词元的索引$i$，\n",
        "嵌入层获取权重矩阵的第$i$行（从$0$开始）以返回其特征向量。\n",
        "另外，本文选择了一个多层门控循环单元来实现编码器。\n"
      ]
    },
    {
      "cell_type": "code",
      "execution_count": 17,
      "id": "3dbfb3ed",
      "metadata": {
        "execution": {
          "iopub.execute_input": "2023-08-18T07:15:33.963601Z",
          "iopub.status.busy": "2023-08-18T07:15:33.962917Z",
          "iopub.status.idle": "2023-08-18T07:15:33.969272Z",
          "shell.execute_reply": "2023-08-18T07:15:33.968489Z"
        },
        "origin_pos": 7,
        "tab": [
          "pytorch"
        ],
        "id": "3dbfb3ed"
      },
      "outputs": [],
      "source": [
        "#@save\n",
        "class Seq2SeqEncoder(d2l.Encoder):\n",
        "    \"\"\"用于序列到序列学习的循环神经网络编码器\"\"\"\n",
        "    def __init__(self, vocab_size, embed_size, num_hiddens, num_layers,\n",
        "                 dropout=0, **kwargs):\n",
        "        super(Seq2SeqEncoder, self).__init__(**kwargs)\n",
        "        # 嵌入层\n",
        "        self.embedding = nn.Embedding(vocab_size, embed_size)\n",
        "        self.rnn = nn.GRU(embed_size, num_hiddens, num_layers,\n",
        "                          dropout=dropout)\n",
        "\n",
        "    def forward(self, X, *args):\n",
        "        # 输出'X'的形状：(batch_size,num_steps,embed_size)\n",
        "        X = self.embedding(X)\n",
        "        # 在循环神经网络模型中，第一个轴对应于时间步\n",
        "        #这里输出是(num_steps，batch_sizeembed_size)\n",
        "        X = X.permute(1, 0, 2)\n",
        "        # 如果未提及状态，则默认为0\n",
        "        output, state = self.rnn(X)\n",
        "        # output的形状:(num_steps,batch_size,num_hiddens)\n",
        "        # state的形状:(num_layers,batch_size,num_hiddens) 我知道一维度的state输出就是batchsize num_hiddens\n",
        "        return output, state"
      ]
    },
    {
      "cell_type": "code",
      "source": [
        "import torch\n",
        "import torch.nn as nn\n",
        "\n",
        "# 参数设置\n",
        "vocab_size = 5\n",
        "embed_size = 3\n",
        "batch_size = 2\n",
        "seq_len = 4\n",
        "\n",
        "# 创建相同的随机嵌入矩阵\n",
        "torch.manual_seed(42)  # 确保可重复\n",
        "embedding_layer = nn.Embedding(vocab_size, embed_size)\n",
        "\n",
        "# 创建随机输入\n",
        "indices = torch.randint(0, vocab_size, (batch_size, seq_len))\n",
        "print(\"输入索引:\")\n",
        "print(indices)\n",
        "'''\n",
        "输入索引:\n",
        "tensor([[0, 4, 3, 4],\n",
        "        [4, 1, 2, 0]])\n",
        "2,4\n",
        "'''\n",
        "\n",
        "# 方法1: 使用 nn.Embedding（高效方法）\n",
        "efficient_result = embedding_layer(indices)\n",
        "'''\n",
        "（2，4，3）\n",
        "'''\n",
        "print(\"\\n直接索引查找结果:\")\n",
        "print(efficient_result)\n",
        "\n",
        "# 方法2: 使用 one-hot + 矩阵乘法（低效方法）\n",
        "def one_hot_embedding(indices, embedding_matrix):\n",
        "    # 创建 one-hot 编码\n",
        "    one_hot = torch.zeros(indices.shape[0], indices.shape[1], vocab_size) #2*4*5 2句话 4个单词 每个单词对应vocab 为5\n",
        "    one_hot.scatter_(2, indices.unsqueeze(2), 1)#在第二个维度 利用1 给2,4索引 给插入1\n",
        "    '''\n",
        "    tensor([[0, 4, 3, 4],\n",
        "        [4, 1, 2, 0]])\n",
        "    indices.unsqueeze(2)\n",
        "    这就是（2，4）扩展到（2，4，1）\n",
        "    '''\n",
        "\n",
        "    # 矩阵乘法\n",
        "    return torch.matmul(one_hot, embedding_matrix)\n",
        "\n",
        "inefficient_result = one_hot_embedding(indices, embedding_layer.weight)\n",
        "print(\"\\nOne-hot + 矩阵乘法结果:\")\n",
        "print(inefficient_result)\n",
        "\n",
        "# 验证两种方法结果相同\n",
        "print(\"\\n两种方法结果是否相同:\", torch.allclose(efficient_result, inefficient_result))"
      ],
      "metadata": {
        "id": "A6697Fq7JojC",
        "outputId": "dc73145c-a579-4d2f-a4b8-9e5f21d8033c",
        "colab": {
          "base_uri": "https://localhost:8080/"
        }
      },
      "id": "A6697Fq7JojC",
      "execution_count": 6,
      "outputs": [
        {
          "output_type": "stream",
          "name": "stdout",
          "text": [
            "输入索引:\n",
            "tensor([[0, 4, 3, 4],\n",
            "        [4, 1, 2, 0]])\n",
            "\n",
            "直接索引查找结果:\n",
            "tensor([[[ 0.3367,  0.1288,  0.2345],\n",
            "         [ 1.1103, -1.6898, -0.9890],\n",
            "         [ 0.2674,  0.5349,  0.8094],\n",
            "         [ 1.1103, -1.6898, -0.9890]],\n",
            "\n",
            "        [[ 1.1103, -1.6898, -0.9890],\n",
            "         [ 0.2303, -1.1229, -0.1863],\n",
            "         [ 2.2082, -0.6380,  0.4617],\n",
            "         [ 0.3367,  0.1288,  0.2345]]], grad_fn=<EmbeddingBackward0>)\n",
            "\n",
            "One-hot + 矩阵乘法结果:\n",
            "tensor([[[ 0.3367,  0.1288,  0.2345],\n",
            "         [ 1.1103, -1.6898, -0.9890],\n",
            "         [ 0.2674,  0.5349,  0.8094],\n",
            "         [ 1.1103, -1.6898, -0.9890]],\n",
            "\n",
            "        [[ 1.1103, -1.6898, -0.9890],\n",
            "         [ 0.2303, -1.1229, -0.1863],\n",
            "         [ 2.2082, -0.6380,  0.4617],\n",
            "         [ 0.3367,  0.1288,  0.2345]]], grad_fn=<UnsafeViewBackward0>)\n",
            "\n",
            "两种方法结果是否相同: True\n"
          ]
        }
      ]
    },
    {
      "cell_type": "markdown",
      "source": [
        "​执行 scatter_ 操作​：\\\\\\\n",
        "one_hot.scatter_(2, indices.unsqueeze(2), 1)表示：\\\\\\\n",
        "dim=2：沿着第2维（即 vocab_size维度）进行散布操作。\\\\\\\n",
        "index=indices.unsqueeze(2)：使用处理后的索引张量（形状 [2, 4, 1]）来指定位置。\\\\\\\n",
        "src=1：将值1填充到指定的位置。\\\\\\\n",
        "对于每个批次和每个时间步，index中的值指定了在 vocab_size维度上的索引位置，并将该位置设置为1。\\\\\\\n",
        "例如：\\\\\\\n",
        "对于第一个样本的第一个时间步，index[0,0,0]=0，所以将 one_hot[0,0,0]设置为1。\\\\\\\n",
        "对于第一个样本的第二个时间步，index[0,1,0]=4，所以将 one_hot[0,1,4]设置为1。\\\\\\\n",
        "以此类推。\n",
        "\n"
      ],
      "metadata": {
        "id": "6v9rdm8WQ5fz"
      },
      "id": "6v9rdm8WQ5fz"
    },
    {
      "cell_type": "markdown",
      "source": [],
      "metadata": {
        "id": "Wvvtu-7MQ5c9"
      },
      "id": "Wvvtu-7MQ5c9"
    },
    {
      "cell_type": "code",
      "source": [
        "import torch\n",
        "\n",
        "# 假设词汇表大小为4000\n",
        "vocab_size = 4000\n",
        "\n",
        "# 假设单词索引（根据您的词汇表）\n",
        "word_indices = {\n",
        "    \"this\": 300,\n",
        "    \"is\": 100,\n",
        "    \"a\": 0,\n",
        "    \"new\": 200,\n",
        "    \"world\": 400\n",
        "}\n",
        "\n",
        "# 句子单词序列\n",
        "sentence = [\"this\", \"is\", \"a\", \"new\", \"world\"]\n",
        "indices = [word_indices[word] for word in sentence]  # 得到索引列表: [300, 100, 0, 200, 400]\n",
        "\n",
        "# 将索引转换为张量\n",
        "indices_tensor = torch.tensor(indices)  # 形状: [5]\n",
        "\n",
        "# 创建 one-hot 编码\n",
        "one_hot = torch.zeros(len(sentence), vocab_size)  # 创建5x4000的零矩阵\n",
        "one_hot.scatter_(1, indices_tensor.unsqueeze(1), 1)  # 在对应索引位置填充1。第二个1:index=indices_tensor.unsqueeze(1)：索引张量，形状需要匹配。\n",
        "#通过 unsqueeze(1)扩展维度得到，形状变为 [5, 1]。它提供了每个单词在 dim=1维度上的目标列索引。\n",
        "\n",
        "print(one_hot.shape)  # 输出: torch.Size([5, 4000])\n",
        "print(one_hot)"
      ],
      "metadata": {
        "id": "IfIBvSaPN1zx",
        "colab": {
          "base_uri": "https://localhost:8080/"
        },
        "outputId": "770ade66-77f5-4149-8972-841489b9343c"
      },
      "id": "IfIBvSaPN1zx",
      "execution_count": 2,
      "outputs": [
        {
          "output_type": "stream",
          "name": "stdout",
          "text": [
            "torch.Size([5, 4000])\n",
            "tensor([[0., 0., 0.,  ..., 0., 0., 0.],\n",
            "        [0., 0., 0.,  ..., 0., 0., 0.],\n",
            "        [1., 0., 0.,  ..., 0., 0., 0.],\n",
            "        [0., 0., 0.,  ..., 0., 0., 0.],\n",
            "        [0., 0., 0.,  ..., 0., 0., 0.]])\n"
          ]
        }
      ]
    },
    {
      "cell_type": "markdown",
      "id": "9ba9f2c0",
      "metadata": {
        "origin_pos": 10,
        "id": "9ba9f2c0"
      },
      "source": [
        "循环层返回变量的说明可以参考 :numref:`sec_rnn-concise`。\n",
        "\n",
        "下面，我们实例化[**上述编码器的实现**]：\n",
        "我们使用一个两层门控循环单元编码器，其隐藏单元数为$16$。\n",
        "给定一小批量的输入序列`X`（批量大小为$4$，时间步为$7$）。\n",
        "在完成所有时间步后，\n",
        "最后一层的隐状态的输出是一个张量（`output`由编码器的循环层返回），\n",
        "其形状为（时间步数，批量大小，隐藏单元数）。\n"
      ]
    },
    {
      "cell_type": "code",
      "execution_count": 5,
      "id": "1780ca82",
      "metadata": {
        "execution": {
          "iopub.execute_input": "2023-08-18T07:15:33.972667Z",
          "iopub.status.busy": "2023-08-18T07:15:33.972142Z",
          "iopub.status.idle": "2023-08-18T07:15:34.003637Z",
          "shell.execute_reply": "2023-08-18T07:15:34.002907Z"
        },
        "origin_pos": 12,
        "tab": [
          "pytorch"
        ],
        "id": "1780ca82",
        "outputId": "294b41c2-0302-41a9-e87e-ba86d400d9c2",
        "colab": {
          "base_uri": "https://localhost:8080/"
        }
      },
      "outputs": [
        {
          "output_type": "execute_result",
          "data": {
            "text/plain": [
              "torch.Size([7, 4, 16])"
            ]
          },
          "metadata": {},
          "execution_count": 5
        }
      ],
      "source": [
        "encoder = Seq2SeqEncoder(vocab_size=10, embed_size=8, num_hiddens=16,\n",
        "                         num_layers=2)\n",
        "encoder.eval()\n",
        "X = torch.zeros((4, 7), dtype=torch.long)\n",
        "output, state = encoder(X)\n",
        "output.shape"
      ]
    },
    {
      "cell_type": "markdown",
      "id": "b6eea9d1",
      "metadata": {
        "origin_pos": 15,
        "id": "b6eea9d1"
      },
      "source": [
        "由于这里使用的是门控循环单元，\n",
        "所以在最后一个时间步的多层隐状态的形状是\n",
        "（隐藏层的数量，批量大小，隐藏单元的数量）。\n",
        "如果使用长短期记忆网络，`state`中还将包含记忆单元信息。\n"
      ]
    },
    {
      "cell_type": "code",
      "execution_count": 6,
      "id": "32a2c1d8",
      "metadata": {
        "execution": {
          "iopub.execute_input": "2023-08-18T07:15:34.007123Z",
          "iopub.status.busy": "2023-08-18T07:15:34.006595Z",
          "iopub.status.idle": "2023-08-18T07:15:34.011456Z",
          "shell.execute_reply": "2023-08-18T07:15:34.010716Z"
        },
        "origin_pos": 17,
        "tab": [
          "pytorch"
        ],
        "id": "32a2c1d8",
        "outputId": "73e38be9-0c76-4726-f1bb-354f7fbed89a",
        "colab": {
          "base_uri": "https://localhost:8080/"
        }
      },
      "outputs": [
        {
          "output_type": "execute_result",
          "data": {
            "text/plain": [
              "torch.Size([2, 4, 16])"
            ]
          },
          "metadata": {},
          "execution_count": 6
        }
      ],
      "source": [
        "state.shape"
      ]
    },
    {
      "cell_type": "markdown",
      "id": "131eaa96",
      "metadata": {
        "origin_pos": 19,
        "id": "131eaa96"
      },
      "source": [
        "## [**解码器**]\n",
        ":label:`sec_seq2seq_decoder`\n",
        "\n",
        "正如上文提到的，编码器输出的上下文变量$\\mathbf{c}$\n",
        "对整个输入序列$x_1, \\ldots, x_T$进行编码。\n",
        "来自训练数据集的输出序列$y_1, y_2, \\ldots, y_{T'}$，\n",
        "对于每个时间步$t'$（与输入序列或编码器的时间步$t$不同），\n",
        "解码器输出$y_{t'}$的概率取决于先前的输出子序列\n",
        "$y_1, \\ldots, y_{t'-1}$和上下文变量$\\mathbf{c}$，\n",
        "即$P(y_{t'} \\mid y_1, \\ldots, y_{t'-1}, \\mathbf{c})$。\n",
        "\n",
        "为了在序列上模型化这种条件概率，\n",
        "我们可以使用另一个循环神经网络作为解码器。\n",
        "在输出序列上的任意时间步$t^\\prime$，\n",
        "循环神经网络将来自上一时间步的输出$y_{t^\\prime-1}$\n",
        "和上下文变量$\\mathbf{c}$作为其输入，\n",
        "然后在当前时间步将它们和上一隐状态\n",
        "$\\mathbf{s}_{t^\\prime-1}$转换为\n",
        "隐状态$\\mathbf{s}_{t^\\prime}$。\n",
        "因此，可以使用函数$g$来表示解码器的隐藏层的变换：\n",
        "\n",
        "$$\\mathbf{s}_{t^\\prime} = g(y_{t^\\prime-1}, \\mathbf{c}, \\mathbf{s}_{t^\\prime-1}).$$\n",
        ":eqlabel:`eq_seq2seq_s_t`\n",
        "\n",
        "在获得解码器的隐状态之后，\n",
        "我们可以使用输出层和softmax操作\n",
        "来计算在时间步$t^\\prime$时输出$y_{t^\\prime}$的条件概率分布\n",
        "$P(y_{t^\\prime} \\mid y_1, \\ldots, y_{t^\\prime-1}, \\mathbf{c})$。\n",
        "\n",
        "根据 :numref:`fig_seq2seq`，当实现解码器时，\n",
        "我们直接使用编码器最后一个时间步的隐状态来初始化解码器的隐状态。\n",
        "这就要求使用循环神经网络实现的编码器和解码器具有相同数量的层和隐藏单元。\n",
        "为了进一步包含经过编码的输入序列的信息，\n",
        "上下文变量在所有的时间步与解码器的输入进行拼接（concatenate）。\n",
        "为了预测输出词元的概率分布，\n",
        "在循环神经网络解码器的最后一层使用全连接层来变换隐状态。\n"
      ]
    },
    {
      "cell_type": "code",
      "source": [
        "#@save\n",
        "class Seq2SeqEncoder(d2l.Encoder):\n",
        "    \"\"\"用于序列到序列学习的循环神经网络编码器\"\"\"\n",
        "    def __init__(self, vocab_size, embed_size, num_hiddens, num_layers,\n",
        "                 dropout=0, **kwargs):\n",
        "        super(Seq2SeqEncoder, self).__init__(**kwargs)\n",
        "        # 嵌入层\n",
        "        self.embedding = nn.Embedding(vocab_size, embed_size)\n",
        "        self.rnn = nn.GRU(embed_size, num_hiddens, num_layers,\n",
        "                          dropout=dropout)\n",
        "\n",
        "    def forward(self, X, *args):\n",
        "        # 输出'X'的形状：(batch_size,num_steps,embed_size)\n",
        "        X = self.embedding(X)\n",
        "        # 在循环神经网络模型中，第一个轴对应于时间步\n",
        "        #这里输出是(num_steps，batch_sizeembed_size)\n",
        "        X = X.permute(1, 0, 2)\n",
        "        # 如果未提及状态，则默认为0\n",
        "        output, state = self.rnn(X)\n",
        "        # output的形状:(num_steps,batch_size,num_hiddens)\n",
        "        # state的形状:(num_layers,batch_size,num_hiddens) 我知道一维度的state输出就是batchsize num_hiddens\n",
        "        return output, state"
      ],
      "metadata": {
        "id": "0lpRkEuvGf6_"
      },
      "id": "0lpRkEuvGf6_",
      "execution_count": 28,
      "outputs": []
    },
    {
      "cell_type": "code",
      "execution_count": 29,
      "id": "09143bb3",
      "metadata": {
        "execution": {
          "iopub.execute_input": "2023-08-18T07:15:34.014841Z",
          "iopub.status.busy": "2023-08-18T07:15:34.014327Z",
          "iopub.status.idle": "2023-08-18T07:15:34.021372Z",
          "shell.execute_reply": "2023-08-18T07:15:34.020591Z"
        },
        "origin_pos": 21,
        "tab": [
          "pytorch"
        ],
        "id": "09143bb3"
      },
      "outputs": [],
      "source": [
        "class Seq2SeqDecoder(d2l.Decoder):\n",
        "    \"\"\"用于序列到序列学习的循环神经网络解码器\"\"\"\n",
        "    def __init__(self, vocab_size, embed_size, num_hiddens, num_layers,\n",
        "                 dropout=0, **kwargs):\n",
        "        super(Seq2SeqDecoder, self).__init__(**kwargs)\n",
        "        self.embedding = nn.Embedding(vocab_size, embed_size)\n",
        "        self.rnn = nn.GRU(embed_size + num_hiddens, num_hiddens, num_layers,\n",
        "                          dropout=dropout)\n",
        "        self.dense = nn.Linear(num_hiddens, vocab_size)\n",
        "\n",
        "    def init_state(self, enc_outputs, *args):\n",
        "        return enc_outputs[1]\n",
        "\n",
        "    def forward(self, X, state):\n",
        "        # 输出'X'的形状：(batch_size,num_steps,embed_size)\n",
        "        X = self.embedding(X).permute(1, 0, 2)\n",
        "        # 广播context，使其具有与X相同的num_steps\n",
        "\n",
        "        # 在代码中添加调试语句\n",
        "        '''\n",
        "        print(\"state类型:\", type(state))\n",
        "        print(\"state形状:\", state.shape if hasattr(state, 'shape') else \"元组\")\n",
        "        if isinstance(state, tuple):\n",
        "            print(\"state长度:\", len(state))\n",
        "            for i, s in enumerate(state):\n",
        "                print(f\"state[{i}]形状:\", s.shape)\n",
        "        '''\n",
        "        context = state[-1].repeat(X.shape[0], 1, 1)\n",
        "        #这里把最后一个state的(batch_size, num_hiddens) 然后进行不断的repeat到x.shape形式\n",
        "        #最后一层状态被认为是最抽象、最全局的表示，它包含了整个输入序列的压缩信息。\n",
        "        '''\n",
        "        state: num_layers batchsize num_hiddens.\n",
        "        state[-1]:num_hiddens 这个意思是在num_hiddens处 然后\n",
        "        X.shape[0]:num_layers\n",
        "        state = (hidden_states,)  # 这是一个单元素元组\n",
        "        # hidden_states 的形状： [num_layers, batch_size, num_hiddens]\n",
        "        state = (\n",
        "                tensor([num_layers, batch_size, num_hiddens])  # 单个张量包含所有层\n",
        "                )\n",
        "        # 要获取特定层，需要在张量上索引：\n",
        "        last_layer = state[-1][-1]  # 形状: [batch_size, num_hiddens]\n",
        "        first_layer = state[-1][0]   # 形状: [batch_size, num_hiddens]\n",
        "        '''\n",
        "        #\n",
        "        X_and_context = torch.cat((X, context), 2) #x:\n",
        "        output, state = self.rnn(X_and_context, state)\n",
        "        output = self.dense(output).permute(1, 0, 2)\n",
        "        # output的形状:(batch_size,num_steps,vocab_size)\n",
        "        # state的形状:(num_layers,batch_size,num_hiddens)\n",
        "        return output, state"
      ]
    },
    {
      "cell_type": "markdown",
      "source": [
        "在训练良好的RNN中：\\\\\\\n",
        "高层状态已经包含了低层状态的精华信息\\\\\\\n",
        "低层状态包含的细节信息对解码可能不是必需的\\\\\\\n",
        "添加低层信息可能引入噪声而非有用信号\\\\\\"
      ],
      "metadata": {
        "id": "FXAvCW0LdIO2"
      },
      "id": "FXAvCW0LdIO2"
    },
    {
      "cell_type": "markdown",
      "id": "7eb99248",
      "metadata": {
        "origin_pos": 24,
        "id": "7eb99248"
      },
      "source": [
        "下面，我们用与前面提到的编码器中相同的超参数来[**实例化解码器**]。\n",
        "如我们所见，解码器的输出形状变为（批量大小，时间步数，词表大小），\n",
        "其中张量的最后一个维度存储预测的词元分布。\n"
      ]
    },
    {
      "cell_type": "code",
      "execution_count": 11,
      "id": "ad17a24d",
      "metadata": {
        "execution": {
          "iopub.execute_input": "2023-08-18T07:15:34.024844Z",
          "iopub.status.busy": "2023-08-18T07:15:34.024212Z",
          "iopub.status.idle": "2023-08-18T07:15:34.034277Z",
          "shell.execute_reply": "2023-08-18T07:15:34.033517Z"
        },
        "origin_pos": 26,
        "tab": [
          "pytorch"
        ],
        "id": "ad17a24d",
        "outputId": "3385cdae-4aed-42b3-83f3-ddf7b3a4cb31",
        "colab": {
          "base_uri": "https://localhost:8080/"
        }
      },
      "outputs": [
        {
          "output_type": "stream",
          "name": "stdout",
          "text": [
            "state类型: <class 'torch.Tensor'>\n",
            "state形状: torch.Size([2, 4, 16])\n"
          ]
        },
        {
          "output_type": "execute_result",
          "data": {
            "text/plain": [
              "(torch.Size([4, 7, 10]), torch.Size([2, 4, 16]))"
            ]
          },
          "metadata": {},
          "execution_count": 11
        }
      ],
      "source": [
        "decoder = Seq2SeqDecoder(vocab_size=10, embed_size=8, num_hiddens=16,\n",
        "                         num_layers=2)\n",
        "decoder.eval()\n",
        "state = decoder.init_state(encoder(X))\n",
        "output, state = decoder(X, state)\n",
        "output.shape, state.shape"
      ]
    },
    {
      "cell_type": "markdown",
      "id": "eb13a51a",
      "metadata": {
        "origin_pos": 29,
        "id": "eb13a51a"
      },
      "source": [
        "总之，上述循环神经网络“编码器－解码器”模型中的各层如\n",
        " :numref:`fig_seq2seq_details`所示。\n",
        "\n",
        "![循环神经网络编码器-解码器模型中的层](https://github.com/d2l-ai/d2l-zh-pytorch-colab/blob/master/img/seq2seq-details.svg?raw=1)\n",
        ":label:`fig_seq2seq_details`\n",
        "\n",
        "## 损失函数\n",
        "\n",
        "在每个时间步，解码器预测了输出词元的概率分布。\n",
        "类似于语言模型，可以使用softmax来获得分布，\n",
        "并通过计算交叉熵损失函数来进行优化。\n",
        "回想一下 :numref:`sec_machine_translation`中，\n",
        "特定的填充词元被添加到序列的末尾，\n",
        "因此不同长度的序列可以以相同形状的小批量加载。\n",
        "但是，我们应该将填充词元的预测排除在损失函数的计算之外。\n",
        "\n",
        "为此，我们可以使用下面的`sequence_mask`函数\n",
        "[**通过零值化屏蔽不相关的项**]，\n",
        "以便后面任何不相关预测的计算都是与零的乘积，结果都等于零。\n",
        "例如，如果两个序列的有效长度（不包括填充词元）分别为$1$和$2$，\n",
        "则第一个序列的第一项和第二个序列的前两项之后的剩余项将被清除为零。\n"
      ]
    },
    {
      "cell_type": "code",
      "execution_count": 11,
      "id": "57c5a5f4",
      "metadata": {
        "execution": {
          "iopub.execute_input": "2023-08-18T07:15:34.037911Z",
          "iopub.status.busy": "2023-08-18T07:15:34.037256Z",
          "iopub.status.idle": "2023-08-18T07:15:34.044866Z",
          "shell.execute_reply": "2023-08-18T07:15:34.044120Z"
        },
        "origin_pos": 31,
        "tab": [
          "pytorch"
        ],
        "id": "57c5a5f4",
        "outputId": "eb209c8c-893c-4221-d4f1-e0ba79d41574",
        "colab": {
          "base_uri": "https://localhost:8080/"
        }
      },
      "outputs": [
        {
          "output_type": "execute_result",
          "data": {
            "text/plain": [
              "tensor([[1, 0, 0],\n",
              "        [4, 5, 0]])"
            ]
          },
          "metadata": {},
          "execution_count": 11
        }
      ],
      "source": [
        "#@save\n",
        "def sequence_mask(X, valid_len, value=0):\n",
        "    \"\"\"在序列中屏蔽不相关的项\"\"\"\n",
        "    maxlen = X.size(1)\n",
        "    mask = torch.arange((maxlen), dtype=torch.float32,\n",
        "                        device=X.device)[None, :] < valid_len[:, None]\n",
        "    X[~mask] = value\n",
        "    return X\n",
        "\n",
        "X = torch.tensor([[1, 2, 3], [4, 5, 6]])\n",
        "sequence_mask(X, torch.tensor([1, 2]))"
      ]
    },
    {
      "cell_type": "code",
      "source": [
        "# 原始序列（不同长度）\n",
        "'''\n",
        "valid_len = torch.tensor([1, 2])表示：\n",
        "序列1的有效长度 = 1（只有第一个词是真实的）\n",
        "序列2的有效长度 = 2（前两个词是真实的）\n",
        "\n",
        "'''\n",
        "seq1 = [\"hello\"]          # 长度1\n",
        "seq2 = [\"I\", \"love\"]      # 长度2\n",
        "\n",
        "# 填充到相同长度 2*3\n",
        "X_padded = [[1, 0, 0],    # \"hello\" + 填充\n",
        "            [4, 5, 0]]    # \"I love\" + 填充\n",
        "\n",
        "# 使用掩码忽略填充位置 X_padded一般就是取\n",
        "X_masked = sequence_mask(X_padded, torch.tensor([1, 2]))#这个值决定了X中第几行哪个是前几个是真实的。"
      ],
      "metadata": {
        "colab": {
          "base_uri": "https://localhost:8080/",
          "height": 305
        },
        "id": "pcA6BqWNkl2_",
        "outputId": "c4471a5d-2792-420c-8dfa-9212642df680"
      },
      "id": "pcA6BqWNkl2_",
      "execution_count": 13,
      "outputs": [
        {
          "output_type": "error",
          "ename": "AttributeError",
          "evalue": "'list' object has no attribute 'size'",
          "traceback": [
            "\u001b[0;31m---------------------------------------------------------------------------\u001b[0m",
            "\u001b[0;31mAttributeError\u001b[0m                            Traceback (most recent call last)",
            "\u001b[0;32m/tmp/ipython-input-4167176476.py\u001b[0m in \u001b[0;36m<cell line: 0>\u001b[0;34m()\u001b[0m\n\u001b[1;32m     14\u001b[0m \u001b[0;34m\u001b[0m\u001b[0m\n\u001b[1;32m     15\u001b[0m \u001b[0;31m# 使用掩码忽略填充位置 X_padded一般就是取\u001b[0m\u001b[0;34m\u001b[0m\u001b[0;34m\u001b[0m\u001b[0m\n\u001b[0;32m---> 16\u001b[0;31m \u001b[0mX_masked\u001b[0m \u001b[0;34m=\u001b[0m \u001b[0msequence_mask\u001b[0m\u001b[0;34m(\u001b[0m\u001b[0mX_padded\u001b[0m\u001b[0;34m,\u001b[0m \u001b[0mtorch\u001b[0m\u001b[0;34m.\u001b[0m\u001b[0mtensor\u001b[0m\u001b[0;34m(\u001b[0m\u001b[0;34m[\u001b[0m\u001b[0;36m1\u001b[0m\u001b[0;34m,\u001b[0m \u001b[0;36m2\u001b[0m\u001b[0;34m]\u001b[0m\u001b[0;34m)\u001b[0m\u001b[0;34m)\u001b[0m\u001b[0;31m#这个值决定了X中第几行哪个是前几个是真实的。\u001b[0m\u001b[0;34m\u001b[0m\u001b[0;34m\u001b[0m\u001b[0m\n\u001b[0m",
            "\u001b[0;32m/tmp/ipython-input-3896699596.py\u001b[0m in \u001b[0;36msequence_mask\u001b[0;34m(X, valid_len, value)\u001b[0m\n\u001b[1;32m      2\u001b[0m \u001b[0;32mdef\u001b[0m \u001b[0msequence_mask\u001b[0m\u001b[0;34m(\u001b[0m\u001b[0mX\u001b[0m\u001b[0;34m,\u001b[0m \u001b[0mvalid_len\u001b[0m\u001b[0;34m,\u001b[0m \u001b[0mvalue\u001b[0m\u001b[0;34m=\u001b[0m\u001b[0;36m0\u001b[0m\u001b[0;34m)\u001b[0m\u001b[0;34m:\u001b[0m\u001b[0;34m\u001b[0m\u001b[0;34m\u001b[0m\u001b[0m\n\u001b[1;32m      3\u001b[0m     \u001b[0;34m\"\"\"在序列中屏蔽不相关的项\"\"\"\u001b[0m\u001b[0;34m\u001b[0m\u001b[0;34m\u001b[0m\u001b[0m\n\u001b[0;32m----> 4\u001b[0;31m     \u001b[0mmaxlen\u001b[0m \u001b[0;34m=\u001b[0m \u001b[0mX\u001b[0m\u001b[0;34m.\u001b[0m\u001b[0msize\u001b[0m\u001b[0;34m(\u001b[0m\u001b[0;36m1\u001b[0m\u001b[0;34m)\u001b[0m\u001b[0;34m\u001b[0m\u001b[0;34m\u001b[0m\u001b[0m\n\u001b[0m\u001b[1;32m      5\u001b[0m     mask = torch.arange((maxlen), dtype=torch.float32,\n\u001b[1;32m      6\u001b[0m                         device=X.device)[None, :] < valid_len[:, None]\n",
            "\u001b[0;31mAttributeError\u001b[0m: 'list' object has no attribute 'size'"
          ]
        }
      ]
    },
    {
      "cell_type": "code",
      "source": [
        "#mask的解释：\n",
        "import torch\n",
        "\n",
        "# 假设 valid_len = [3, 5, 2] (3个序列的实际长度)\n",
        "valid_len = torch.tensor([3, 5, 2])\n",
        "maxlen = 5\n",
        "\n",
        "# 创建位置索引\n",
        "positions = torch.tensor([1, 2, 3])[None, :]  # 形状: [1, 3]\n",
        "#positions[None, :]形状: [1, 3]\n",
        "#[[1, 2, 3]]\n",
        "#valid_len[:, None]形状: [3, 1]\n",
        "'''\n",
        "[[3],\n",
        " [5],\n",
        " [2]]\n",
        "'''\n",
        "#2. 广播比较过程\n",
        "通过广播机制，这两个张量会扩展为：\n",
        "位置张量扩展:      [[1, 2, 3],\n",
        "                   [1, 2, 3],\n",
        "                   [1, 2, 3]]\n",
        "\n",
        "有效长度张量扩展:  [[3, 3, 3],\n",
        "                   [5, 5, 5],\n",
        "                   [2, 2, 2]]\n",
        "\n",
        "[[1<3, 2<3, 3<3],\n",
        " [1<5, 2<5, 3<5],\n",
        " [1<2, 2<2, 3<2]]\n",
        "tensor([[ True,  True, False],   # 第1个序列：位置1,2有效，3无效\n",
        "        [ True,  True,  True],   # 第2个序列：所有位置有效\n",
        "        [ True, False, False]])  # 第3个序列：只有位置1有效\n"
      ],
      "metadata": {
        "id": "-f46PSpasrTr"
      },
      "id": "-f46PSpasrTr",
      "execution_count": null,
      "outputs": []
    },
    {
      "cell_type": "markdown",
      "id": "f6b25824",
      "metadata": {
        "origin_pos": 34,
        "id": "f6b25824"
      },
      "source": [
        "(**我们还可以使用此函数屏蔽最后几个轴上的所有项。**)如果愿意，也可以使用指定的非零值来替换这些项。\n"
      ]
    },
    {
      "cell_type": "code",
      "execution_count": 30,
      "id": "fbb003c2",
      "metadata": {
        "execution": {
          "iopub.execute_input": "2023-08-18T07:15:34.048373Z",
          "iopub.status.busy": "2023-08-18T07:15:34.047745Z",
          "iopub.status.idle": "2023-08-18T07:15:34.054283Z",
          "shell.execute_reply": "2023-08-18T07:15:34.053539Z"
        },
        "origin_pos": 36,
        "tab": [
          "pytorch"
        ],
        "id": "fbb003c2",
        "outputId": "acd3796c-7d9e-40b6-b003-42f33aae22ba",
        "colab": {
          "base_uri": "https://localhost:8080/"
        }
      },
      "outputs": [
        {
          "output_type": "execute_result",
          "data": {
            "text/plain": [
              "tensor([[[ 1.,  1.,  1.,  1.],\n",
              "         [-1., -1., -1., -1.],\n",
              "         [-1., -1., -1., -1.]],\n",
              "\n",
              "        [[ 1.,  1.,  1.,  1.],\n",
              "         [ 1.,  1.,  1.,  1.],\n",
              "         [-1., -1., -1., -1.]]])"
            ]
          },
          "metadata": {},
          "execution_count": 30
        }
      ],
      "source": [
        "#@save\n",
        "def sequence_mask(X, valid_len, value=0):\n",
        "    \"\"\"在序列中屏蔽不相关的项\"\"\"\n",
        "    maxlen = X.size(1)\n",
        "    '''\n",
        "    X.size(1)返回第1维大小：3（列数）\n",
        "    torch.arange((maxlen), dtype=torch.float32,device=X.device): [0 1 2] 形状: [3]  [None, :]: [1,3]\n",
        "    [1, 2] shape为2 valid_len[:, None]： [2,1]\n",
        "    [1,3]变成[2,3] [[0,1,2] [0,1,2]]\n",
        "    [2,1]变成[2,3] [[1 1 1][2 2 2]]\n",
        "    [[1,2,3] [1,2,3]] < [[1 1 1][2 2 2]]\n",
        "    [[False,  True,  True],\n",
        "    [False, False,  True]]这是(2,3)\n",
        "    '''\n",
        "\n",
        "    mask = torch.arange((maxlen), dtype=torch.float32,\n",
        "                        device=X.device)[None, :] < valid_len[:, None]\n",
        "\n",
        "    X[~mask] = value #~mask 取反\n",
        "    return X\n",
        "X = torch.ones(2, 3, 4)\n",
        "#最终还是把valid_len给扩展到和X一样的维度，然后做好判断。valid length的个数是batch size\n",
        "#X：(batch_size,num_steps,vocab_size) batch size=2就是2句话 num_steps每句话有num_steps个单词\n",
        "#然后val_len: torch.tensor([1, 2]) 这里就是每句话前几个单词是有用的\n",
        "sequence_mask(X, torch.tensor([1, 2]), value=-1)"
      ]
    },
    {
      "cell_type": "code",
      "source": [
        "原始掩码 (~mask):\n",
        "[[False,  True,  True],\n",
        " [False, False,  True]]  形状: [2, 3]\n",
        "\n",
        "广播后掩码:\n",
        "[[[False, False, False, False],  # 第0行第0列扩展\n",
        "  [ True,  True,  True,  True],   # 第0行第1列扩展\n",
        "  [ True,  True,  True,  True]],  # 第0行第2列扩展\n",
        "\n",
        " [[False, False, False, False],  # 第1行第0列扩展\n",
        "  [False, False, False, False],  # 第1行第1列扩展\n",
        "  [ True,  True,  True,  True]]] # 第1行第2列扩展\n",
        "形状: [2, 3, 4] 我不明白为啥扩展后是这样样子\n",
        "具体怎么扩展：\n",
        "mask_2d = torch.tensor([[False,  True,  True],\n",
        "[False, False,  True]])  # 形状: [2, 3]\n",
        "mask_3d = mask_2d.unsqueeze(2)  # 形状: [2, 3, 1]\n",
        "tensor([[[False],\n",
        "     [ True],\n",
        "     [ True]],\n",
        "\n",
        "     [[False],\n",
        "     [False],\n",
        "     [ True]]])\n",
        "扩展后：\n",
        "tensor([[[False, False, False, False],\n",
        "    [ True,  True,  True,  True],\n",
        "    [ True,  True,  True,  True]],\n",
        "\n",
        "    [[False, False, False, False],\n",
        "    [False, False, False, False],\n",
        "    [ True,  True,  True,  True]]])"
      ],
      "metadata": {
        "id": "GGL6eA8r5lw0"
      },
      "id": "GGL6eA8r5lw0",
      "execution_count": null,
      "outputs": []
    },
    {
      "cell_type": "markdown",
      "id": "ecf893af",
      "metadata": {
        "origin_pos": 39,
        "id": "ecf893af"
      },
      "source": [
        "现在，我们可以[**通过扩展softmax交叉熵损失函数来遮蔽不相关的预测**]。\n",
        "最初，所有预测词元的掩码都设置为1。\n",
        "一旦给定了有效长度，与填充词元对应的掩码将被设置为0。\n",
        "最后，将所有词元的损失乘以掩码，以过滤掉损失中填充词元产生的不相关预测。\n"
      ]
    },
    {
      "cell_type": "code",
      "execution_count": 31,
      "id": "0da33ae4",
      "metadata": {
        "execution": {
          "iopub.execute_input": "2023-08-18T07:15:34.057946Z",
          "iopub.status.busy": "2023-08-18T07:15:34.057267Z",
          "iopub.status.idle": "2023-08-18T07:15:34.062428Z",
          "shell.execute_reply": "2023-08-18T07:15:34.061664Z"
        },
        "origin_pos": 41,
        "tab": [
          "pytorch"
        ],
        "id": "0da33ae4"
      },
      "outputs": [],
      "source": [
        "#@save\n",
        "class MaskedSoftmaxCELoss(nn.CrossEntropyLoss):\n",
        "    \"\"\"带遮蔽的softmax交叉熵损失函数\"\"\"\n",
        "    # pred的形状：(batch_size,num_steps,vocab_size)\n",
        "    # label的形状：(batch_size,num_steps) 每句话每个单词给一个label来做ground truth\n",
        "    # label形状: (2, 3)(2个句子，每句3个真实词索引)\n",
        "    # valid_len的形状：(batch_size,) 有效长度\n",
        "    def forward(self, pred, label, valid_len):\n",
        "        weights = torch.ones_like(label)#生成了个两维度的权重 都是1\n",
        "        weights = sequence_mask(weights, valid_len) #这里的weights就是X 这里需要输入\n",
        "        self.reduction='none'\n",
        "        unweighted_loss = super(MaskedSoftmaxCELoss, self).forward( #super：调用父类\n",
        "            pred.permute(0, 2, 1), label)\n",
        "        '''\n",
        "        pred的形状：(batch_size,num_steps,vocab_size)#每句话 每个单词 在vocab_size上给对应的概率。\n",
        "        经过pred.permute(0, 2, 1): #这里是每句话。每个单词在vocab size上对应的概率 ， 对应的单词。\n",
        "        取值的话就是 句子 0 单词 0 概率[五个概率] 找到这个单词对应的label 所在的vocab 的概率。\n",
        "        pred的形状：(batch_size,vocab_size,num_steps)\n",
        "        label的形状：(batch_size,num_steps)\n",
        "\n",
        "        ​input(预测值)​​： 要求形状为 (batch_size, num_classes, ...)，\n",
        "        即类别维度（通常是词汇表大小 vocab_size）必须在第 1 维（从 0 开始算）​\n",
        "        '''\n",
        "        weighted_loss = (unweighted_loss * weights).mean(dim=1)\n",
        "        #沿序列维度求平均 (masked_loss.mean(dim=1)) 每句话一个loss\n",
        "        #unweighted_loss （2，3）\n",
        "        #\n",
        "        return weighted_loss"
      ]
    },
    {
      "cell_type": "markdown",
      "id": "f6b7600c",
      "metadata": {
        "origin_pos": 44,
        "id": "f6b7600c"
      },
      "source": [
        "我们可以创建三个相同的序列来进行[**代码健全性检查**]，\n",
        "然后分别指定这些序列的有效长度为$4$、$2$和$0$。\n",
        "结果就是，第一个序列的损失应为第二个序列的两倍，而第三个序列的损失应为零。\n"
      ]
    },
    {
      "cell_type": "code",
      "execution_count": 26,
      "id": "65239ee5",
      "metadata": {
        "execution": {
          "iopub.execute_input": "2023-08-18T07:15:34.065956Z",
          "iopub.status.busy": "2023-08-18T07:15:34.065339Z",
          "iopub.status.idle": "2023-08-18T07:15:34.073758Z",
          "shell.execute_reply": "2023-08-18T07:15:34.072755Z"
        },
        "origin_pos": 46,
        "tab": [
          "pytorch"
        ],
        "id": "65239ee5",
        "outputId": "80a80e62-860d-4560-f572-af4a2c55a67d",
        "colab": {
          "base_uri": "https://localhost:8080/"
        }
      },
      "outputs": [
        {
          "output_type": "execute_result",
          "data": {
            "text/plain": [
              "tensor([2.3026, 1.1513, 0.0000])"
            ]
          },
          "metadata": {},
          "execution_count": 26
        }
      ],
      "source": [
        "loss = MaskedSoftmaxCELoss()\n",
        "loss(torch.ones(3, 4, 10), torch.ones((3, 4), dtype=torch.long),\n",
        "     torch.tensor([4, 2, 0])) #形状 (batch_size,)​：这表示一个一维张量（1D Tensor）​，或者通俗地说，是一个向量（Vector）"
      ]
    },
    {
      "cell_type": "markdown",
      "source": [
        "​对于第一个句子的第一个词 (位置 [0,0])​:  \n",
        "取出 pred.permute(0,2,1)[0, :, 0]-> 形状 (5,)，这是第一个句子第一个词在所有5个词.  汇上的分数     \n",
        "取出 label[0, 0]-> 一个标量，比如 3，表示正确词是词汇表中的第3个词。    \n",
        "计算 -log(softmax(分数))，但只取第3个词对应的损失值   \n",
        "结果 loss_00是一个标量。    \n",
        "对所有位置重复此操作​：   \n",
        "[0,1]-> loss_01   \n",
        "[0,2]-> loss_02   \n",
        "[1,0]-> loss_10   \n",
        "[1,1]-> loss_11   \n",
        "[1,2]-> loss_12   \n",
        "unweighted_loss = [   \n",
        "    [loss_00, loss_01, loss_02],  # 第一个句子的3个位置损失   \n",
        "    [loss_10, loss_11, loss_12]   # 第二个句子的3个位置损失   \n",
        "]  \n",
        "最后得到的是每个句子的loss\n"
      ],
      "metadata": {
        "id": "saP6jyEuWNuk"
      },
      "id": "saP6jyEuWNuk"
    },
    {
      "cell_type": "markdown",
      "id": "6bdc4e96",
      "metadata": {
        "origin_pos": 49,
        "id": "6bdc4e96"
      },
      "source": [
        "## [**训练**]\n",
        ":label:`sec_seq2seq_training`\n",
        "\n",
        "在下面的循环训练过程中，如 :numref:`fig_seq2seq`所示，\n",
        "特定的序列开始词元（“&lt;bos&gt;”）和\n",
        "原始的输出序列（不包括序列结束词元“&lt;eos&gt;”）\n",
        "拼接在一起作为解码器的输入。\n",
        "这被称为*强制教学*（teacher forcing），\n",
        "因为原始的输出序列（词元的标签）被送入解码器。\n",
        "或者，将来自上一个时间步的*预测*得到的词元作为解码器的当前输入。\n"
      ]
    },
    {
      "cell_type": "code",
      "execution_count": 32,
      "id": "9d7b922e",
      "metadata": {
        "execution": {
          "iopub.execute_input": "2023-08-18T07:15:34.077404Z",
          "iopub.status.busy": "2023-08-18T07:15:34.076756Z",
          "iopub.status.idle": "2023-08-18T07:15:34.087405Z",
          "shell.execute_reply": "2023-08-18T07:15:34.086461Z"
        },
        "origin_pos": 51,
        "tab": [
          "pytorch"
        ],
        "id": "9d7b922e"
      },
      "outputs": [],
      "source": [
        "#@save\n",
        "def train_seq2seq(net, data_iter, lr, num_epochs, tgt_vocab, device):\n",
        "    \"\"\"训练序列到序列模型\"\"\"\n",
        "    def xavier_init_weights(m):\n",
        "        if type(m) == nn.Linear:\n",
        "            nn.init.xavier_uniform_(m.weight)\n",
        "        if type(m) == nn.GRU:\n",
        "            for param in m._flat_weights_names:\n",
        "                if \"weight\" in param:\n",
        "                    nn.init.xavier_uniform_(m._parameters[param])\n",
        "\n",
        "    net.apply(xavier_init_weights)\n",
        "    net.to(device)\n",
        "    optimizer = torch.optim.Adam(net.parameters(), lr=lr)\n",
        "    loss = MaskedSoftmaxCELoss()\n",
        "    net.train()\n",
        "    animator = d2l.Animator(xlabel='epoch', ylabel='loss',\n",
        "                     xlim=[10, num_epochs])\n",
        "    for epoch in range(num_epochs):\n",
        "        timer = d2l.Timer()\n",
        "        metric = d2l.Accumulator(2)  # 训练损失总和，词元数量\n",
        "        for batch in data_iter:\n",
        "            optimizer.zero_grad()\n",
        "            X, X_valid_len, Y, Y_valid_len = [x.to(device) for x in batch]\n",
        "            #batch里面的X 存着 X, X_valid_len, Y, Y_valid_len？四个变量？\n",
        "            bos = torch.tensor([tgt_vocab['<bos>']] * Y.shape[0], #<bos>（Beginning Of Sequence） token。\n",
        "                          device=device).reshape(-1, 1)\n",
        "            '''\n",
        "            [tgt_vocab['<bos>']] * Y.shape[0]: 创建一个列表，\n",
        "            包含batch_size个相同的<bos>索引。Y.shape[0]就是批次大小batch_size。\n",
        "            '''\n",
        "            dec_input = torch.cat([bos, Y[:, :-1]], 1)  # 强制教学\n",
        "            Y_hat, _ = net(X, dec_input, X_valid_len)\n",
        "            l = loss(Y_hat, Y, Y_valid_len)\n",
        "            l.sum().backward()\t# 损失函数的标量进行“反向传播”\n",
        "            d2l.grad_clipping(net, 1)\n",
        "            num_tokens = Y_valid_len.sum()\n",
        "            optimizer.step()\n",
        "            with torch.no_grad():\n",
        "                metric.add(l.sum(), num_tokens)\n",
        "        if (epoch + 1) % 10 == 0:\n",
        "            animator.add(epoch + 1, (metric[0] / metric[1],))\n",
        "    print(f'loss {metric[0] / metric[1]:.3f}, {metric[1] / timer.stop():.1f} '\n",
        "        f'tokens/sec on {str(device)}')"
      ]
    },
    {
      "cell_type": "markdown",
      "source": [
        "动作一：准备完美输入（你正在问的这行代码）​​\\\\\\\n",
        "​目的​：确保解码器在每个时间步的输入都是真实答案（Ground Truth）​，而不是它自己上一步的\\\\\\预测。\n",
        "​方法​：构造 dec_input，其值为 [<bos>, Y1, Y2, ..., Y_{n-1}]。这就是那张“标准字帖”。\\\\\\\n",
        "​<bos>的作用​：只是一个起始信号，告诉解码器：“开始生成序列了！这是第一个词的上下文。” 没有它，解码器就没有开始的依据。\\\\\\"
      ],
      "metadata": {
        "id": "YmmecObOMWy5"
      },
      "id": "YmmecObOMWy5"
    },
    {
      "cell_type": "code",
      "source": [
        "  #bos = torch.tensor([tgt_vocab['<bos>']] * Y.shape[0], #<bos>（Beginning Of Sequence） token。\n",
        "   #                       device=device).reshape(-1, 1) 例子：\n",
        "tgt_vocab = {'<pad>': 0, '<bos>': 1, '<eos>': 2, 'hello': 3, 'world': 4}\n",
        "# 这意味着 <bos> 的索引是 1\n",
        "Y = torch.tensor([[3, 4, 2, 0],  # 序列1: \"hello world <eos> <pad>\"\n",
        "                  [1, 3, 2, 0],  # 序列2: \"<bos> hello <eos> <pad>\" (可能是一个错误序列，仅作示例)\n",
        "                  [3, 4, 0, 0]]) # 序列3: \"hello world <pad> <pad>\"\n",
        "device = torch.device('cuda') # 或者 'cpu'\n",
        "bos = torch.tensor([tgt_vocab['<bos>']] * Y.shape[0], device=device).reshape(-1, 1)\n",
        "#tgt_vocab['<bos>']从词汇表中查找 <bos>对应的索引。 1\n",
        "#​[tgt_vocab['<bos>']] * Y.shape[0]: 结果: [1, 1, 1](一个包含3个数字1的Python列表)\n",
        "'''\n",
        ".reshape(-1, 1):\n",
        "这是最关键的一步，它改变了张量的形状（shape）​但不改变其中的数据。\n",
        "-1的含义是“让PyTorch自动推断这个维度的大小”。因为总元素是3个，且第二个维度指定为1，所以第一个维度自动就是 3 / 1 = 3。\n",
        "​作用: 将形状从 [3]转换为 [3, 1]。\n",
        "​直观理解: 把一行数字变成一列数字。\n",
        "# 最终得到的 bos 张量：\n",
        "tensor([[1],  # 序列1的起始符\n",
        "        [1],  # 序列2的起始符\n",
        "        [1]], device='cuda:0') # 序列3的起始符\n",
        "'''"
      ],
      "metadata": {
        "id": "l9ZkLnEIHVig"
      },
      "id": "l9ZkLnEIHVig",
      "execution_count": null,
      "outputs": []
    },
    {
      "cell_type": "markdown",
      "id": "fe583c85",
      "metadata": {
        "origin_pos": 54,
        "id": "fe583c85"
      },
      "source": [
        "现在，在机器翻译数据集上，我们可以\n",
        "[**创建和训练一个循环神经网络“编码器－解码器”模型**]用于序列到序列的学习。\n"
      ]
    },
    {
      "cell_type": "code",
      "execution_count": 33,
      "id": "79f585d6",
      "metadata": {
        "execution": {
          "iopub.execute_input": "2023-08-18T07:15:34.091791Z",
          "iopub.status.busy": "2023-08-18T07:15:34.090975Z",
          "iopub.status.idle": "2023-08-18T07:16:11.767145Z",
          "shell.execute_reply": "2023-08-18T07:16:11.765998Z"
        },
        "origin_pos": 55,
        "tab": [
          "pytorch"
        ],
        "id": "79f585d6",
        "outputId": "13b02524-c98c-4b52-b470-f28d8e3b284f",
        "colab": {
          "base_uri": "https://localhost:8080/",
          "height": 283
        }
      },
      "outputs": [
        {
          "output_type": "stream",
          "name": "stdout",
          "text": [
            "loss 0.020, 8763.3 tokens/sec on cpu\n"
          ]
        },
        {
          "output_type": "display_data",
          "data": {
            "text/plain": [
              "<Figure size 350x250 with 1 Axes>"
            ],
            "image/svg+xml": "<?xml version=\"1.0\" encoding=\"utf-8\" standalone=\"no\"?>\n<!DOCTYPE svg PUBLIC \"-//W3C//DTD SVG 1.1//EN\"\n  \"http://www.w3.org/Graphics/SVG/1.1/DTD/svg11.dtd\">\n<svg xmlns:xlink=\"http://www.w3.org/1999/xlink\" width=\"262.1875pt\" height=\"183.35625pt\" viewBox=\"0 0 262.1875 183.35625\" xmlns=\"http://www.w3.org/2000/svg\" version=\"1.1\">\n <metadata>\n  <rdf:RDF xmlns:dc=\"http://purl.org/dc/elements/1.1/\" xmlns:cc=\"http://creativecommons.org/ns#\" xmlns:rdf=\"http://www.w3.org/1999/02/22-rdf-syntax-ns#\">\n   <cc:Work>\n    <dc:type rdf:resource=\"http://purl.org/dc/dcmitype/StillImage\"/>\n    <dc:date>2025-09-18T10:49:52.259293</dc:date>\n    <dc:format>image/svg+xml</dc:format>\n    <dc:creator>\n     <cc:Agent>\n      <dc:title>Matplotlib v3.10.0, https://matplotlib.org/</dc:title>\n     </cc:Agent>\n    </dc:creator>\n   </cc:Work>\n  </rdf:RDF>\n </metadata>\n <defs>\n  <style type=\"text/css\">*{stroke-linejoin: round; stroke-linecap: butt}</style>\n </defs>\n <g id=\"figure_1\">\n  <g id=\"patch_1\">\n   <path d=\"M 0 183.35625 \nL 262.1875 183.35625 \nL 262.1875 0 \nL 0 0 \nz\n\" style=\"fill: #ffffff\"/>\n  </g>\n  <g id=\"axes_1\">\n   <g id=\"patch_2\">\n    <path d=\"M 50.14375 145.8 \nL 245.44375 145.8 \nL 245.44375 7.2 \nL 50.14375 7.2 \nz\n\" style=\"fill: #ffffff\"/>\n   </g>\n   <g id=\"matplotlib.axis_1\">\n    <g id=\"xtick_1\">\n     <g id=\"line2d_1\">\n      <path d=\"M 77.081681 145.8 \nL 77.081681 7.2 \n\" clip-path=\"url(#p2f5824c3cc)\" style=\"fill: none; stroke: #b0b0b0; stroke-width: 0.8; stroke-linecap: square\"/>\n     </g>\n     <g id=\"line2d_2\">\n      <defs>\n       <path id=\"meb17666404\" d=\"M 0 0 \nL 0 3.5 \n\" style=\"stroke: #000000; stroke-width: 0.8\"/>\n      </defs>\n      <g>\n       <use xlink:href=\"#meb17666404\" x=\"77.081681\" y=\"145.8\" style=\"stroke: #000000; stroke-width: 0.8\"/>\n      </g>\n     </g>\n     <g id=\"text_1\">\n      <!-- 50 -->\n      <g transform=\"translate(70.719181 160.398438) scale(0.1 -0.1)\">\n       <defs>\n        <path id=\"DejaVuSans-35\" d=\"M 691 4666 \nL 3169 4666 \nL 3169 4134 \nL 1269 4134 \nL 1269 2991 \nQ 1406 3038 1543 3061 \nQ 1681 3084 1819 3084 \nQ 2600 3084 3056 2656 \nQ 3513 2228 3513 1497 \nQ 3513 744 3044 326 \nQ 2575 -91 1722 -91 \nQ 1428 -91 1123 -41 \nQ 819 9 494 109 \nL 494 744 \nQ 775 591 1075 516 \nQ 1375 441 1709 441 \nQ 2250 441 2565 725 \nQ 2881 1009 2881 1497 \nQ 2881 1984 2565 2268 \nQ 2250 2553 1709 2553 \nQ 1456 2553 1204 2497 \nQ 953 2441 691 2322 \nL 691 4666 \nz\n\" transform=\"scale(0.015625)\"/>\n        <path id=\"DejaVuSans-30\" d=\"M 2034 4250 \nQ 1547 4250 1301 3770 \nQ 1056 3291 1056 2328 \nQ 1056 1369 1301 889 \nQ 1547 409 2034 409 \nQ 2525 409 2770 889 \nQ 3016 1369 3016 2328 \nQ 3016 3291 2770 3770 \nQ 2525 4250 2034 4250 \nz\nM 2034 4750 \nQ 2819 4750 3233 4129 \nQ 3647 3509 3647 2328 \nQ 3647 1150 3233 529 \nQ 2819 -91 2034 -91 \nQ 1250 -91 836 529 \nQ 422 1150 422 2328 \nQ 422 3509 836 4129 \nQ 1250 4750 2034 4750 \nz\n\" transform=\"scale(0.015625)\"/>\n       </defs>\n       <use xlink:href=\"#DejaVuSans-35\"/>\n       <use xlink:href=\"#DejaVuSans-30\" transform=\"translate(63.623047 0)\"/>\n      </g>\n     </g>\n    </g>\n    <g id=\"xtick_2\">\n     <g id=\"line2d_3\">\n      <path d=\"M 110.754095 145.8 \nL 110.754095 7.2 \n\" clip-path=\"url(#p2f5824c3cc)\" style=\"fill: none; stroke: #b0b0b0; stroke-width: 0.8; stroke-linecap: square\"/>\n     </g>\n     <g id=\"line2d_4\">\n      <g>\n       <use xlink:href=\"#meb17666404\" x=\"110.754095\" y=\"145.8\" style=\"stroke: #000000; stroke-width: 0.8\"/>\n      </g>\n     </g>\n     <g id=\"text_2\">\n      <!-- 100 -->\n      <g transform=\"translate(101.210345 160.398438) scale(0.1 -0.1)\">\n       <defs>\n        <path id=\"DejaVuSans-31\" d=\"M 794 531 \nL 1825 531 \nL 1825 4091 \nL 703 3866 \nL 703 4441 \nL 1819 4666 \nL 2450 4666 \nL 2450 531 \nL 3481 531 \nL 3481 0 \nL 794 0 \nL 794 531 \nz\n\" transform=\"scale(0.015625)\"/>\n       </defs>\n       <use xlink:href=\"#DejaVuSans-31\"/>\n       <use xlink:href=\"#DejaVuSans-30\" transform=\"translate(63.623047 0)\"/>\n       <use xlink:href=\"#DejaVuSans-30\" transform=\"translate(127.246094 0)\"/>\n      </g>\n     </g>\n    </g>\n    <g id=\"xtick_3\">\n     <g id=\"line2d_5\">\n      <path d=\"M 144.426509 145.8 \nL 144.426509 7.2 \n\" clip-path=\"url(#p2f5824c3cc)\" style=\"fill: none; stroke: #b0b0b0; stroke-width: 0.8; stroke-linecap: square\"/>\n     </g>\n     <g id=\"line2d_6\">\n      <g>\n       <use xlink:href=\"#meb17666404\" x=\"144.426509\" y=\"145.8\" style=\"stroke: #000000; stroke-width: 0.8\"/>\n      </g>\n     </g>\n     <g id=\"text_3\">\n      <!-- 150 -->\n      <g transform=\"translate(134.882759 160.398438) scale(0.1 -0.1)\">\n       <use xlink:href=\"#DejaVuSans-31\"/>\n       <use xlink:href=\"#DejaVuSans-35\" transform=\"translate(63.623047 0)\"/>\n       <use xlink:href=\"#DejaVuSans-30\" transform=\"translate(127.246094 0)\"/>\n      </g>\n     </g>\n    </g>\n    <g id=\"xtick_4\">\n     <g id=\"line2d_7\">\n      <path d=\"M 178.098922 145.8 \nL 178.098922 7.2 \n\" clip-path=\"url(#p2f5824c3cc)\" style=\"fill: none; stroke: #b0b0b0; stroke-width: 0.8; stroke-linecap: square\"/>\n     </g>\n     <g id=\"line2d_8\">\n      <g>\n       <use xlink:href=\"#meb17666404\" x=\"178.098922\" y=\"145.8\" style=\"stroke: #000000; stroke-width: 0.8\"/>\n      </g>\n     </g>\n     <g id=\"text_4\">\n      <!-- 200 -->\n      <g transform=\"translate(168.555172 160.398438) scale(0.1 -0.1)\">\n       <defs>\n        <path id=\"DejaVuSans-32\" d=\"M 1228 531 \nL 3431 531 \nL 3431 0 \nL 469 0 \nL 469 531 \nQ 828 903 1448 1529 \nQ 2069 2156 2228 2338 \nQ 2531 2678 2651 2914 \nQ 2772 3150 2772 3378 \nQ 2772 3750 2511 3984 \nQ 2250 4219 1831 4219 \nQ 1534 4219 1204 4116 \nQ 875 4013 500 3803 \nL 500 4441 \nQ 881 4594 1212 4672 \nQ 1544 4750 1819 4750 \nQ 2544 4750 2975 4387 \nQ 3406 4025 3406 3419 \nQ 3406 3131 3298 2873 \nQ 3191 2616 2906 2266 \nQ 2828 2175 2409 1742 \nQ 1991 1309 1228 531 \nz\n\" transform=\"scale(0.015625)\"/>\n       </defs>\n       <use xlink:href=\"#DejaVuSans-32\"/>\n       <use xlink:href=\"#DejaVuSans-30\" transform=\"translate(63.623047 0)\"/>\n       <use xlink:href=\"#DejaVuSans-30\" transform=\"translate(127.246094 0)\"/>\n      </g>\n     </g>\n    </g>\n    <g id=\"xtick_5\">\n     <g id=\"line2d_9\">\n      <path d=\"M 211.771336 145.8 \nL 211.771336 7.2 \n\" clip-path=\"url(#p2f5824c3cc)\" style=\"fill: none; stroke: #b0b0b0; stroke-width: 0.8; stroke-linecap: square\"/>\n     </g>\n     <g id=\"line2d_10\">\n      <g>\n       <use xlink:href=\"#meb17666404\" x=\"211.771336\" y=\"145.8\" style=\"stroke: #000000; stroke-width: 0.8\"/>\n      </g>\n     </g>\n     <g id=\"text_5\">\n      <!-- 250 -->\n      <g transform=\"translate(202.227586 160.398438) scale(0.1 -0.1)\">\n       <use xlink:href=\"#DejaVuSans-32\"/>\n       <use xlink:href=\"#DejaVuSans-35\" transform=\"translate(63.623047 0)\"/>\n       <use xlink:href=\"#DejaVuSans-30\" transform=\"translate(127.246094 0)\"/>\n      </g>\n     </g>\n    </g>\n    <g id=\"xtick_6\">\n     <g id=\"line2d_11\">\n      <path d=\"M 245.44375 145.8 \nL 245.44375 7.2 \n\" clip-path=\"url(#p2f5824c3cc)\" style=\"fill: none; stroke: #b0b0b0; stroke-width: 0.8; stroke-linecap: square\"/>\n     </g>\n     <g id=\"line2d_12\">\n      <g>\n       <use xlink:href=\"#meb17666404\" x=\"245.44375\" y=\"145.8\" style=\"stroke: #000000; stroke-width: 0.8\"/>\n      </g>\n     </g>\n     <g id=\"text_6\">\n      <!-- 300 -->\n      <g transform=\"translate(235.9 160.398438) scale(0.1 -0.1)\">\n       <defs>\n        <path id=\"DejaVuSans-33\" d=\"M 2597 2516 \nQ 3050 2419 3304 2112 \nQ 3559 1806 3559 1356 \nQ 3559 666 3084 287 \nQ 2609 -91 1734 -91 \nQ 1441 -91 1130 -33 \nQ 819 25 488 141 \nL 488 750 \nQ 750 597 1062 519 \nQ 1375 441 1716 441 \nQ 2309 441 2620 675 \nQ 2931 909 2931 1356 \nQ 2931 1769 2642 2001 \nQ 2353 2234 1838 2234 \nL 1294 2234 \nL 1294 2753 \nL 1863 2753 \nQ 2328 2753 2575 2939 \nQ 2822 3125 2822 3475 \nQ 2822 3834 2567 4026 \nQ 2313 4219 1838 4219 \nQ 1578 4219 1281 4162 \nQ 984 4106 628 3988 \nL 628 4550 \nQ 988 4650 1302 4700 \nQ 1616 4750 1894 4750 \nQ 2613 4750 3031 4423 \nQ 3450 4097 3450 3541 \nQ 3450 3153 3228 2886 \nQ 3006 2619 2597 2516 \nz\n\" transform=\"scale(0.015625)\"/>\n       </defs>\n       <use xlink:href=\"#DejaVuSans-33\"/>\n       <use xlink:href=\"#DejaVuSans-30\" transform=\"translate(63.623047 0)\"/>\n       <use xlink:href=\"#DejaVuSans-30\" transform=\"translate(127.246094 0)\"/>\n      </g>\n     </g>\n    </g>\n    <g id=\"text_7\">\n     <!-- epoch -->\n     <g transform=\"translate(132.565625 174.076563) scale(0.1 -0.1)\">\n      <defs>\n       <path id=\"DejaVuSans-65\" d=\"M 3597 1894 \nL 3597 1613 \nL 953 1613 \nQ 991 1019 1311 708 \nQ 1631 397 2203 397 \nQ 2534 397 2845 478 \nQ 3156 559 3463 722 \nL 3463 178 \nQ 3153 47 2828 -22 \nQ 2503 -91 2169 -91 \nQ 1331 -91 842 396 \nQ 353 884 353 1716 \nQ 353 2575 817 3079 \nQ 1281 3584 2069 3584 \nQ 2775 3584 3186 3129 \nQ 3597 2675 3597 1894 \nz\nM 3022 2063 \nQ 3016 2534 2758 2815 \nQ 2500 3097 2075 3097 \nQ 1594 3097 1305 2825 \nQ 1016 2553 972 2059 \nL 3022 2063 \nz\n\" transform=\"scale(0.015625)\"/>\n       <path id=\"DejaVuSans-70\" d=\"M 1159 525 \nL 1159 -1331 \nL 581 -1331 \nL 581 3500 \nL 1159 3500 \nL 1159 2969 \nQ 1341 3281 1617 3432 \nQ 1894 3584 2278 3584 \nQ 2916 3584 3314 3078 \nQ 3713 2572 3713 1747 \nQ 3713 922 3314 415 \nQ 2916 -91 2278 -91 \nQ 1894 -91 1617 61 \nQ 1341 213 1159 525 \nz\nM 3116 1747 \nQ 3116 2381 2855 2742 \nQ 2594 3103 2138 3103 \nQ 1681 3103 1420 2742 \nQ 1159 2381 1159 1747 \nQ 1159 1113 1420 752 \nQ 1681 391 2138 391 \nQ 2594 391 2855 752 \nQ 3116 1113 3116 1747 \nz\n\" transform=\"scale(0.015625)\"/>\n       <path id=\"DejaVuSans-6f\" d=\"M 1959 3097 \nQ 1497 3097 1228 2736 \nQ 959 2375 959 1747 \nQ 959 1119 1226 758 \nQ 1494 397 1959 397 \nQ 2419 397 2687 759 \nQ 2956 1122 2956 1747 \nQ 2956 2369 2687 2733 \nQ 2419 3097 1959 3097 \nz\nM 1959 3584 \nQ 2709 3584 3137 3096 \nQ 3566 2609 3566 1747 \nQ 3566 888 3137 398 \nQ 2709 -91 1959 -91 \nQ 1206 -91 779 398 \nQ 353 888 353 1747 \nQ 353 2609 779 3096 \nQ 1206 3584 1959 3584 \nz\n\" transform=\"scale(0.015625)\"/>\n       <path id=\"DejaVuSans-63\" d=\"M 3122 3366 \nL 3122 2828 \nQ 2878 2963 2633 3030 \nQ 2388 3097 2138 3097 \nQ 1578 3097 1268 2742 \nQ 959 2388 959 1747 \nQ 959 1106 1268 751 \nQ 1578 397 2138 397 \nQ 2388 397 2633 464 \nQ 2878 531 3122 666 \nL 3122 134 \nQ 2881 22 2623 -34 \nQ 2366 -91 2075 -91 \nQ 1284 -91 818 406 \nQ 353 903 353 1747 \nQ 353 2603 823 3093 \nQ 1294 3584 2113 3584 \nQ 2378 3584 2631 3529 \nQ 2884 3475 3122 3366 \nz\n\" transform=\"scale(0.015625)\"/>\n       <path id=\"DejaVuSans-68\" d=\"M 3513 2113 \nL 3513 0 \nL 2938 0 \nL 2938 2094 \nQ 2938 2591 2744 2837 \nQ 2550 3084 2163 3084 \nQ 1697 3084 1428 2787 \nQ 1159 2491 1159 1978 \nL 1159 0 \nL 581 0 \nL 581 4863 \nL 1159 4863 \nL 1159 2956 \nQ 1366 3272 1645 3428 \nQ 1925 3584 2291 3584 \nQ 2894 3584 3203 3211 \nQ 3513 2838 3513 2113 \nz\n\" transform=\"scale(0.015625)\"/>\n      </defs>\n      <use xlink:href=\"#DejaVuSans-65\"/>\n      <use xlink:href=\"#DejaVuSans-70\" transform=\"translate(61.523438 0)\"/>\n      <use xlink:href=\"#DejaVuSans-6f\" transform=\"translate(125 0)\"/>\n      <use xlink:href=\"#DejaVuSans-63\" transform=\"translate(186.181641 0)\"/>\n      <use xlink:href=\"#DejaVuSans-68\" transform=\"translate(241.162109 0)\"/>\n     </g>\n    </g>\n   </g>\n   <g id=\"matplotlib.axis_2\">\n    <g id=\"ytick_1\">\n     <g id=\"line2d_13\">\n      <path d=\"M 50.14375 118.068327 \nL 245.44375 118.068327 \n\" clip-path=\"url(#p2f5824c3cc)\" style=\"fill: none; stroke: #b0b0b0; stroke-width: 0.8; stroke-linecap: square\"/>\n     </g>\n     <g id=\"line2d_14\">\n      <defs>\n       <path id=\"mbd16205637\" d=\"M 0 0 \nL -3.5 0 \n\" style=\"stroke: #000000; stroke-width: 0.8\"/>\n      </defs>\n      <g>\n       <use xlink:href=\"#mbd16205637\" x=\"50.14375\" y=\"118.068327\" style=\"stroke: #000000; stroke-width: 0.8\"/>\n      </g>\n     </g>\n     <g id=\"text_8\">\n      <!-- 0.05 -->\n      <g transform=\"translate(20.878125 121.867546) scale(0.1 -0.1)\">\n       <defs>\n        <path id=\"DejaVuSans-2e\" d=\"M 684 794 \nL 1344 794 \nL 1344 0 \nL 684 0 \nL 684 794 \nz\n\" transform=\"scale(0.015625)\"/>\n       </defs>\n       <use xlink:href=\"#DejaVuSans-30\"/>\n       <use xlink:href=\"#DejaVuSans-2e\" transform=\"translate(63.623047 0)\"/>\n       <use xlink:href=\"#DejaVuSans-30\" transform=\"translate(95.410156 0)\"/>\n       <use xlink:href=\"#DejaVuSans-35\" transform=\"translate(159.033203 0)\"/>\n      </g>\n     </g>\n    </g>\n    <g id=\"ytick_2\">\n     <g id=\"line2d_15\">\n      <path d=\"M 50.14375 83.628516 \nL 245.44375 83.628516 \n\" clip-path=\"url(#p2f5824c3cc)\" style=\"fill: none; stroke: #b0b0b0; stroke-width: 0.8; stroke-linecap: square\"/>\n     </g>\n     <g id=\"line2d_16\">\n      <g>\n       <use xlink:href=\"#mbd16205637\" x=\"50.14375\" y=\"83.628516\" style=\"stroke: #000000; stroke-width: 0.8\"/>\n      </g>\n     </g>\n     <g id=\"text_9\">\n      <!-- 0.10 -->\n      <g transform=\"translate(20.878125 87.427735) scale(0.1 -0.1)\">\n       <use xlink:href=\"#DejaVuSans-30\"/>\n       <use xlink:href=\"#DejaVuSans-2e\" transform=\"translate(63.623047 0)\"/>\n       <use xlink:href=\"#DejaVuSans-31\" transform=\"translate(95.410156 0)\"/>\n       <use xlink:href=\"#DejaVuSans-30\" transform=\"translate(159.033203 0)\"/>\n      </g>\n     </g>\n    </g>\n    <g id=\"ytick_3\">\n     <g id=\"line2d_17\">\n      <path d=\"M 50.14375 49.188705 \nL 245.44375 49.188705 \n\" clip-path=\"url(#p2f5824c3cc)\" style=\"fill: none; stroke: #b0b0b0; stroke-width: 0.8; stroke-linecap: square\"/>\n     </g>\n     <g id=\"line2d_18\">\n      <g>\n       <use xlink:href=\"#mbd16205637\" x=\"50.14375\" y=\"49.188705\" style=\"stroke: #000000; stroke-width: 0.8\"/>\n      </g>\n     </g>\n     <g id=\"text_10\">\n      <!-- 0.15 -->\n      <g transform=\"translate(20.878125 52.987924) scale(0.1 -0.1)\">\n       <use xlink:href=\"#DejaVuSans-30\"/>\n       <use xlink:href=\"#DejaVuSans-2e\" transform=\"translate(63.623047 0)\"/>\n       <use xlink:href=\"#DejaVuSans-31\" transform=\"translate(95.410156 0)\"/>\n       <use xlink:href=\"#DejaVuSans-35\" transform=\"translate(159.033203 0)\"/>\n      </g>\n     </g>\n    </g>\n    <g id=\"ytick_4\">\n     <g id=\"line2d_19\">\n      <path d=\"M 50.14375 14.748895 \nL 245.44375 14.748895 \n\" clip-path=\"url(#p2f5824c3cc)\" style=\"fill: none; stroke: #b0b0b0; stroke-width: 0.8; stroke-linecap: square\"/>\n     </g>\n     <g id=\"line2d_20\">\n      <g>\n       <use xlink:href=\"#mbd16205637\" x=\"50.14375\" y=\"14.748895\" style=\"stroke: #000000; stroke-width: 0.8\"/>\n      </g>\n     </g>\n     <g id=\"text_11\">\n      <!-- 0.20 -->\n      <g transform=\"translate(20.878125 18.548113) scale(0.1 -0.1)\">\n       <use xlink:href=\"#DejaVuSans-30\"/>\n       <use xlink:href=\"#DejaVuSans-2e\" transform=\"translate(63.623047 0)\"/>\n       <use xlink:href=\"#DejaVuSans-32\" transform=\"translate(95.410156 0)\"/>\n       <use xlink:href=\"#DejaVuSans-30\" transform=\"translate(159.033203 0)\"/>\n      </g>\n     </g>\n    </g>\n    <g id=\"text_12\">\n     <!-- loss -->\n     <g transform=\"translate(14.798437 86.157813) rotate(-90) scale(0.1 -0.1)\">\n      <defs>\n       <path id=\"DejaVuSans-6c\" d=\"M 603 4863 \nL 1178 4863 \nL 1178 0 \nL 603 0 \nL 603 4863 \nz\n\" transform=\"scale(0.015625)\"/>\n       <path id=\"DejaVuSans-73\" d=\"M 2834 3397 \nL 2834 2853 \nQ 2591 2978 2328 3040 \nQ 2066 3103 1784 3103 \nQ 1356 3103 1142 2972 \nQ 928 2841 928 2578 \nQ 928 2378 1081 2264 \nQ 1234 2150 1697 2047 \nL 1894 2003 \nQ 2506 1872 2764 1633 \nQ 3022 1394 3022 966 \nQ 3022 478 2636 193 \nQ 2250 -91 1575 -91 \nQ 1294 -91 989 -36 \nQ 684 19 347 128 \nL 347 722 \nQ 666 556 975 473 \nQ 1284 391 1588 391 \nQ 1994 391 2212 530 \nQ 2431 669 2431 922 \nQ 2431 1156 2273 1281 \nQ 2116 1406 1581 1522 \nL 1381 1569 \nQ 847 1681 609 1914 \nQ 372 2147 372 2553 \nQ 372 3047 722 3315 \nQ 1072 3584 1716 3584 \nQ 2034 3584 2315 3537 \nQ 2597 3491 2834 3397 \nz\n\" transform=\"scale(0.015625)\"/>\n      </defs>\n      <use xlink:href=\"#DejaVuSans-6c\"/>\n      <use xlink:href=\"#DejaVuSans-6f\" transform=\"translate(27.783203 0)\"/>\n      <use xlink:href=\"#DejaVuSans-73\" transform=\"translate(88.964844 0)\"/>\n      <use xlink:href=\"#DejaVuSans-73\" transform=\"translate(141.064453 0)\"/>\n     </g>\n    </g>\n   </g>\n   <g id=\"line2d_21\">\n    <path d=\"M 50.14375 13.5 \nL 56.878233 57.281001 \nL 63.612716 80.431825 \nL 70.347198 96.820606 \nL 77.081681 107.177046 \nL 83.816164 115.48341 \nL 90.550647 120.773412 \nL 97.285129 124.694118 \nL 104.019612 128.158587 \nL 110.754095 129.912979 \nL 117.488578 132.014583 \nL 124.22306 133.623266 \nL 130.957543 134.434108 \nL 137.692026 135.376088 \nL 144.426509 135.39517 \nL 151.160991 135.813134 \nL 157.895474 137.133961 \nL 164.629957 137.259743 \nL 171.36444 137.858602 \nL 178.098922 137.736441 \nL 184.833405 138.182942 \nL 191.567888 138.398735 \nL 198.302371 138.448492 \nL 205.036853 138.686168 \nL 211.771336 137.932204 \nL 218.505819 138.859531 \nL 225.240302 138.92932 \nL 231.974784 139.248354 \nL 238.709267 139.5 \nL 245.44375 138.892849 \n\" clip-path=\"url(#p2f5824c3cc)\" style=\"fill: none; stroke: #1f77b4; stroke-width: 1.5; stroke-linecap: square\"/>\n   </g>\n   <g id=\"patch_3\">\n    <path d=\"M 50.14375 145.8 \nL 50.14375 7.2 \n\" style=\"fill: none; stroke: #000000; stroke-width: 0.8; stroke-linejoin: miter; stroke-linecap: square\"/>\n   </g>\n   <g id=\"patch_4\">\n    <path d=\"M 245.44375 145.8 \nL 245.44375 7.2 \n\" style=\"fill: none; stroke: #000000; stroke-width: 0.8; stroke-linejoin: miter; stroke-linecap: square\"/>\n   </g>\n   <g id=\"patch_5\">\n    <path d=\"M 50.14375 145.8 \nL 245.44375 145.8 \n\" style=\"fill: none; stroke: #000000; stroke-width: 0.8; stroke-linejoin: miter; stroke-linecap: square\"/>\n   </g>\n   <g id=\"patch_6\">\n    <path d=\"M 50.14375 7.2 \nL 245.44375 7.2 \n\" style=\"fill: none; stroke: #000000; stroke-width: 0.8; stroke-linejoin: miter; stroke-linecap: square\"/>\n   </g>\n  </g>\n </g>\n <defs>\n  <clipPath id=\"p2f5824c3cc\">\n   <rect x=\"50.14375\" y=\"7.2\" width=\"195.3\" height=\"138.6\"/>\n  </clipPath>\n </defs>\n</svg>\n"
          },
          "metadata": {}
        }
      ],
      "source": [
        "embed_size, num_hiddens, num_layers, dropout = 32, 32, 2, 0.1\n",
        "batch_size, num_steps = 64, 10\n",
        "lr, num_epochs, device = 0.005, 300, d2l.try_gpu()\n",
        "\n",
        "train_iter, src_vocab, tgt_vocab = d2l.load_data_nmt(batch_size, num_steps)\n",
        "encoder = Seq2SeqEncoder(len(src_vocab), embed_size, num_hiddens, num_layers,\n",
        "                        dropout)\n",
        "decoder = Seq2SeqDecoder(len(tgt_vocab), embed_size, num_hiddens, num_layers,\n",
        "                        dropout)\n",
        "net = d2l.EncoderDecoder(encoder, decoder)\n",
        "train_seq2seq(net, train_iter, lr, num_epochs, tgt_vocab, device)"
      ]
    },
    {
      "cell_type": "markdown",
      "id": "b24c26df",
      "metadata": {
        "origin_pos": 56,
        "id": "b24c26df"
      },
      "source": [
        "## [**预测**]\n",
        "\n",
        "为了采用一个接着一个词元的方式预测输出序列，\n",
        "每个解码器当前时间步的输入都将来自于前一时间步的预测词元。\n",
        "与训练类似，序列开始词元（“&lt;bos&gt;”）\n",
        "在初始时间步被输入到解码器中。\n",
        "该预测过程如 :numref:`fig_seq2seq_predict`所示，\n",
        "当输出序列的预测遇到序列结束词元（“&lt;eos&gt;”）时，预测就结束了。\n",
        "\n",
        "![使用循环神经网络编码器-解码器逐词元地预测输出序列。](https://github.com/d2l-ai/d2l-zh-pytorch-colab/blob/master/img/seq2seq-predict.svg?raw=1)\n",
        ":label:`fig_seq2seq_predict`\n",
        "\n",
        "我们将在 :numref:`sec_beam-search`中介绍不同的序列生成策略。\n"
      ]
    },
    {
      "cell_type": "code",
      "execution_count": 35,
      "id": "7510bee7",
      "metadata": {
        "execution": {
          "iopub.execute_input": "2023-08-18T07:16:11.771151Z",
          "iopub.status.busy": "2023-08-18T07:16:11.770496Z",
          "iopub.status.idle": "2023-08-18T07:16:11.779631Z",
          "shell.execute_reply": "2023-08-18T07:16:11.778678Z"
        },
        "origin_pos": 58,
        "tab": [
          "pytorch"
        ],
        "id": "7510bee7"
      },
      "outputs": [],
      "source": [
        "#@save\n",
        "def predict_seq2seq(net, src_sentence, src_vocab, tgt_vocab, num_steps,\n",
        "                    device, save_attention_weights=False):\n",
        "    \"\"\"序列到序列模型的预测\"\"\"\n",
        "    # 在预测时将net设置为评估模式\n",
        "    net.eval()\n",
        "    src_tokens = src_vocab[src_sentence.lower().split(' ')] + [\n",
        "        src_vocab['<eos>']]\n",
        "    #src_sentence = \"The Quick Brown Fox jumps over the lazy DOG.\"\n",
        "    #['the', 'quick', 'brown', 'fox', 'jumps', 'over', 'the', 'lazy', 'dog.']\n",
        "    enc_valid_len = torch.tensor([len(src_tokens)], device=device)\n",
        "    src_tokens = d2l.truncate_pad(src_tokens, num_steps, src_vocab['<pad>'])\n",
        "    #根据num_steps进行截断 使得每句话长度一样。\n",
        "    # 添加批量轴\n",
        "    enc_X = torch.unsqueeze(\n",
        "        torch.tensor(src_tokens, dtype=torch.long, device=device), dim=0)\n",
        "    enc_outputs = net.encoder(enc_X, enc_valid_len)\n",
        "    dec_state = net.decoder.init_state(enc_outputs, enc_valid_len)\n",
        "    # 添加批量轴\n",
        "    dec_X = torch.unsqueeze(torch.tensor(\n",
        "        [tgt_vocab['<bos>']], dtype=torch.long, device=device), dim=0)\n",
        "    output_seq, attention_weight_seq = [], []\n",
        "    for _ in range(num_steps): #解码器是一个词一个词往外面蹦的\n",
        "        Y, dec_state = net.decoder(dec_X, dec_state)\n",
        "        # 我们使用具有预测最高可能性的词元，作为解码器在下一时间步的输入\n",
        "        dec_X = Y.argmax(dim=2) #在最后一个维度vocab size选择概率所在的最大的索引\n",
        "        pred = dec_X.squeeze(dim=0).type(torch.int32).item()\n",
        "        #squeeze是去掉batch size这个维度\n",
        "        '''\n",
        "        1. 模型输出 (Y): tensor([[[0.01, 0.02, ..., 0.9, ...]]])  # 形状: [1, 1, 10000]\n",
        "        2. argmax(dim=2):    tensor([[25]])                       # 形状: [1, 1]\n",
        "        3. squeeze(dim=0):   tensor([25])                         # 形状: [1]\n",
        "        4. item():           25                                   # 类型: Python int\n",
        "        '''\n",
        "        # 保存注意力权重（稍后讨论）\n",
        "        if save_attention_weights:\n",
        "            attention_weight_seq.append(net.decoder.attention_weights)\n",
        "        # 一旦序列结束词元被预测，输出序列的生成就完成了\n",
        "        if pred == tgt_vocab['<eos>']:\n",
        "            break\n",
        "        output_seq.append(pred)\n",
        "    return ' '.join(tgt_vocab.to_tokens(output_seq)), attention_weight_seq"
      ]
    },
    {
      "cell_type": "code",
      "source": [
        "# 在 init_state 方法内部可能发生的操作\n",
        "def init_state(enc_outputs, enc_valid_lens):\n",
        "    # 1. 存储编码器输出，用于后续注意力计算\n",
        "    self.enc_outputs = enc_outputs\n",
        "\n",
        "    # 2. 关键：利用 enc_valid_lens 生成注意力掩码！\n",
        "    # 假设 max_len = enc_outputs 的长度\n",
        "    self.attention_mask = (torch.arange(max_len, device=device)[None, :] < enc_valid_lens[:, None])\n",
        "    # attention_mask 形状: (batch_size, max_len)\n",
        "    # 有效位置为True，填充位置为False\n",
        "\n",
        "    # 3. 初始化RNN的隐藏状态（通常直接使用编码器的最终隐藏状态）\n",
        "    # ...\n",
        "    return state"
      ],
      "metadata": {
        "id": "u-UL4b7Qhb2D"
      },
      "id": "u-UL4b7Qhb2D",
      "execution_count": null,
      "outputs": []
    },
    {
      "cell_type": "markdown",
      "id": "71773ad1",
      "metadata": {
        "origin_pos": 61,
        "id": "71773ad1"
      },
      "source": [
        "## 预测序列的评估\n",
        "\n",
        "我们可以通过与真实的标签序列进行比较来评估预测序列。\n",
        "虽然 :cite:`Papineni.Roukos.Ward.ea.2002`\n",
        "提出的BLEU（bilingual evaluation understudy）\n",
        "最先是用于评估机器翻译的结果，\n",
        "但现在它已经被广泛用于测量许多应用的输出序列的质量。\n",
        "原则上说，对于预测序列中的任意$n$元语法（n-grams），\n",
        "BLEU的评估都是这个$n$元语法是否出现在标签序列中。\n",
        "\n",
        "我们将BLEU定义为：\n",
        "\n",
        "$$ \\exp\\left(\\min\\left(0, 1 - \\frac{\\mathrm{len}_{\\text{label}}}{\\mathrm{len}_{\\text{pred}}}\\right)\\right) \\prod_{n=1}^k p_n^{1/2^n},$$\n",
        ":eqlabel:`eq_bleu`\n",
        "\n",
        "其中$\\mathrm{len}_{\\text{label}}$表示标签序列中的词元数和\n",
        "$\\mathrm{len}_{\\text{pred}}$表示预测序列中的词元数，\n",
        "$k$是用于匹配的最长的$n$元语法。\n",
        "另外，用$p_n$表示$n$元语法的精确度，它是两个数量的比值：\n",
        "第一个是预测序列与标签序列中匹配的$n$元语法的数量，\n",
        "第二个是预测序列中$n$元语法的数量的比率。\n",
        "具体地说，给定标签序列$A$、$B$、$C$、$D$、$E$、$F$\n",
        "和预测序列$A$、$B$、$B$、$C$、$D$，\n",
        "我们有$p_1 = 4/5$、$p_2 = 3/4$、$p_3 = 1/3$和$p_4 = 0$。\n",
        "\n",
        "根据 :eqref:`eq_bleu`中BLEU的定义，\n",
        "当预测序列与标签序列完全相同时，BLEU为$1$。\n",
        "此外，由于$n$元语法越长则匹配难度越大，\n",
        "所以BLEU为更长的$n$元语法的精确度分配更大的权重。\n",
        "具体来说，当$p_n$固定时，$p_n^{1/2^n}$\n",
        "会随着$n$的增长而增加（原始论文使用$p_n^{1/n}$）。\n",
        "而且，由于预测的序列越短获得的$p_n$值越高，\n",
        "所以 :eqref:`eq_bleu`中乘法项之前的系数用于惩罚较短的预测序列。\n",
        "例如，当$k=2$时，给定标签序列$A$、$B$、$C$、$D$、$E$、$F$\n",
        "和预测序列$A$、$B$，尽管$p_1 = p_2 = 1$，\n",
        "惩罚因子$\\exp(1-6/2) \\approx 0.14$会降低BLEU。\n",
        "\n",
        "[**BLEU的代码实现**]如下。\n"
      ]
    },
    {
      "cell_type": "code",
      "execution_count": 37,
      "id": "9135ade0",
      "metadata": {
        "execution": {
          "iopub.execute_input": "2023-08-18T07:16:11.784109Z",
          "iopub.status.busy": "2023-08-18T07:16:11.783827Z",
          "iopub.status.idle": "2023-08-18T07:16:11.791568Z",
          "shell.execute_reply": "2023-08-18T07:16:11.790396Z"
        },
        "origin_pos": 62,
        "tab": [
          "pytorch"
        ],
        "id": "9135ade0"
      },
      "outputs": [],
      "source": [
        "def bleu(pred_seq, label_seq, k):  #@save\n",
        "    \"\"\"计算BLEU\"\"\"\n",
        "    pred_tokens, label_tokens = pred_seq.split(' '), label_seq.split(' ')\n",
        "    len_pred, len_label = len(pred_tokens), len(label_tokens)\n",
        "    score = math.exp(min(0, 1 - len_label / len_pred))\n",
        "    for n in range(1, k + 1):\n",
        "        num_matches, label_subs = 0, collections.defaultdict(int)\n",
        "        for i in range(len_label - n + 1):\n",
        "            label_subs[' '.join(label_tokens[i: i + n])] += 1\n",
        "        for i in range(len_pred - n + 1):\n",
        "            if label_subs[' '.join(pred_tokens[i: i + n])] > 0:\n",
        "                num_matches += 1\n",
        "                label_subs[' '.join(pred_tokens[i: i + n])] -= 1\n",
        "        score *= math.pow(num_matches / (len_pred - n + 1), math.pow(0.5, n))\n",
        "    return score"
      ]
    },
    {
      "cell_type": "markdown",
      "id": "16c57898",
      "metadata": {
        "origin_pos": 63,
        "id": "16c57898"
      },
      "source": [
        "最后，利用训练好的循环神经网络“编码器－解码器”模型，\n",
        "[**将几个英语句子翻译成法语**]，并计算BLEU的最终结果。\n"
      ]
    },
    {
      "cell_type": "code",
      "execution_count": 38,
      "id": "653f0dd4",
      "metadata": {
        "execution": {
          "iopub.execute_input": "2023-08-18T07:16:11.796025Z",
          "iopub.status.busy": "2023-08-18T07:16:11.795107Z",
          "iopub.status.idle": "2023-08-18T07:16:11.818936Z",
          "shell.execute_reply": "2023-08-18T07:16:11.817788Z"
        },
        "origin_pos": 64,
        "tab": [
          "pytorch"
        ],
        "id": "653f0dd4",
        "outputId": "02f09d2b-c2ab-4333-e730-a352a32ec95d",
        "colab": {
          "base_uri": "https://localhost:8080/"
        }
      },
      "outputs": [
        {
          "output_type": "stream",
          "name": "stdout",
          "text": [
            "go . => va au lit !, bleu 0.000\n",
            "i lost . => j'ai perdu ., bleu 1.000\n",
            "he's calm . => il est riche perdu ., bleu 0.548\n",
            "i'm home . => je suis ici ., bleu 0.512\n"
          ]
        }
      ],
      "source": [
        "engs = ['go .', \"i lost .\", 'he\\'s calm .', 'i\\'m home .']\n",
        "fras = ['va !', 'j\\'ai perdu .', 'il est calme .', 'je suis chez moi .']\n",
        "for eng, fra in zip(engs, fras):\n",
        "    translation, attention_weight_seq = predict_seq2seq(\n",
        "        net, eng, src_vocab, tgt_vocab, num_steps, device)\n",
        "    print(f'{eng} => {translation}, bleu {bleu(translation, fra, k=2):.3f}')"
      ]
    },
    {
      "cell_type": "markdown",
      "id": "2448f426",
      "metadata": {
        "origin_pos": 66,
        "id": "2448f426"
      },
      "source": [
        "## 小结\n",
        "\n",
        "* 根据“编码器-解码器”架构的设计，\n",
        "  我们可以使用两个循环神经网络来设计一个序列到序列学习的模型。\n",
        "* 在实现编码器和解码器时，我们可以使用多层循环神经网络。\n",
        "* 我们可以使用遮蔽来过滤不相关的计算，例如在计算损失时。\n",
        "* 在“编码器－解码器”训练中，强制教学方法将原始输出序列（而非预测结果）输入解码器。\n",
        "* BLEU是一种常用的评估方法，它通过测量预测序列和标签序列之间的$n$元语法的匹配度来评估预测。\n",
        "\n",
        "## 练习\n",
        "\n",
        "1. 试着通过调整超参数来改善翻译效果。\n",
        "1. 重新运行实验并在计算损失时不使用遮蔽，可以观察到什么结果？为什么会有这个结果？\n",
        "1. 如果编码器和解码器的层数或者隐藏单元数不同，那么如何初始化解码器的隐状态？\n",
        "1. 在训练中，如果用前一时间步的预测输入到解码器来代替强制教学，对性能有何影响？\n",
        "1. 用长短期记忆网络替换门控循环单元重新运行实验。\n",
        "1. 有没有其他方法来设计解码器的输出层？\n"
      ]
    },
    {
      "cell_type": "markdown",
      "id": "89b706ef",
      "metadata": {
        "origin_pos": 68,
        "tab": [
          "pytorch"
        ],
        "id": "89b706ef"
      },
      "source": [
        "[Discussions](https://discuss.d2l.ai/t/2782)\n"
      ]
    }
  ],
  "metadata": {
    "accelerator": "GPU",
    "kernelspec": {
      "display_name": "Python 3",
      "name": "python3"
    },
    "language_info": {
      "name": "python"
    },
    "required_libs": [],
    "colab": {
      "provenance": []
    }
  },
  "nbformat": 4,
  "nbformat_minor": 5
}