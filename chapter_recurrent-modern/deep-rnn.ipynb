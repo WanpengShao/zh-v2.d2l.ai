{
  "cells": [
    {
      "cell_type": "markdown",
      "id": "3b74f432",
      "metadata": {
        "id": "3b74f432"
      },
      "source": [
        "The following additional libraries are needed to run this\n",
        "notebook. Note that running on Colab is experimental, please report a Github\n",
        "issue if you have any problem."
      ]
    },
    {
      "cell_type": "code",
      "execution_count": 1,
      "id": "967901a0",
      "metadata": {
        "id": "967901a0",
        "outputId": "e6a0b3d4-c4d6-4ed4-97a7-2ffd62d71a8b",
        "colab": {
          "base_uri": "https://localhost:8080/"
        }
      },
      "outputs": [
        {
          "output_type": "stream",
          "name": "stdout",
          "text": [
            "Collecting git+https://github.com/d2l-ai/d2l-zh@release\n",
            "  Cloning https://github.com/d2l-ai/d2l-zh (to revision release) to /tmp/pip-req-build-y72b7h92\n",
            "  Running command git clone --filter=blob:none --quiet https://github.com/d2l-ai/d2l-zh /tmp/pip-req-build-y72b7h92\n",
            "  Running command git checkout -b release --track origin/release\n",
            "  Switched to a new branch 'release'\n",
            "  Branch 'release' set up to track remote branch 'release' from 'origin'.\n",
            "  Resolved https://github.com/d2l-ai/d2l-zh to commit 843d3d41dca48d8df65f4b324dd171d8bfe9c067\n",
            "  Running command git submodule update --init --recursive -q\n",
            "  Preparing metadata (setup.py) ... \u001b[?25l\u001b[?25hdone\n",
            "Building wheels for collected packages: d2l\n",
            "  Building wheel for d2l (setup.py) ... \u001b[?25l\u001b[?25hdone\n",
            "  Created wheel for d2l: filename=d2l-2.0.0-py3-none-any.whl size=110800 sha256=95096103129e46a1b55441283d2b93feeeaf282ef55151ab6ef2aa85b7bbdc83\n",
            "  Stored in directory: /tmp/pip-ephem-wheel-cache-j0ikgcji/wheels/3e/87/36/53b013ece7da539a59fcc56da2d329d7afb08eef9a9a5ae1d1\n",
            "Successfully built d2l\n",
            "Installing collected packages: d2l\n",
            "Successfully installed d2l-2.0.0\n"
          ]
        }
      ],
      "source": [
        "!pip install git+https://github.com/d2l-ai/d2l-zh@release --no-deps --force-reinstall\n",
        "!pip install numpy>=1.20"
      ]
    },
    {
      "cell_type": "markdown",
      "id": "6570c16f",
      "metadata": {
        "origin_pos": 0,
        "id": "6570c16f"
      },
      "source": [
        "# 深度循环神经网络\n",
        "\n",
        ":label:`sec_deep_rnn`\n",
        "\n",
        "到目前为止，我们只讨论了具有一个单向隐藏层的循环神经网络。\n",
        "其中，隐变量和观测值与具体的函数形式的交互方式是相当随意的。\n",
        "只要交互类型建模具有足够的灵活性，这就不是一个大问题。\n",
        "然而，对一个单层来说，这可能具有相当的挑战性。\n",
        "之前在线性模型中，我们通过添加更多的层来解决这个问题。\n",
        "而在循环神经网络中，我们首先需要确定如何添加更多的层，\n",
        "以及在哪里添加额外的非线性，因此这个问题有点棘手。\n",
        "\n",
        "事实上，我们可以将多层循环神经网络堆叠在一起，\n",
        "通过对几个简单层的组合，产生了一个灵活的机制。\n",
        "特别是，数据可能与不同层的堆叠有关。\n",
        "例如，我们可能希望保持有关金融市场状况\n",
        "（熊市或牛市）的宏观数据可用，\n",
        "而微观数据只记录较短期的时间动态。\n",
        "\n",
        " :numref:`fig_deep_rnn`描述了一个具有$L$个隐藏层的深度循环神经网络，\n",
        "每个隐状态都连续地传递到当前层的下一个时间步和下一层的当前时间步。\n",
        "\n",
        "![深度循环神经网络结构](https://github.com/d2l-ai/d2l-zh-pytorch-colab/blob/master/img/deep-rnn.svg?raw=1)\n",
        ":label:`fig_deep_rnn`\n",
        "\n",
        "## 函数依赖关系\n",
        "\n",
        "我们可以将深度架构中的函数依赖关系形式化，\n",
        "这个架构是由 :numref:`fig_deep_rnn`中描述了$L$个隐藏层构成。\n",
        "后续的讨论主要集中在经典的循环神经网络模型上，\n",
        "但是这些讨论也适应于其他序列模型。\n",
        "\n",
        "假设在时间步$t$有一个小批量的输入数据\n",
        "$\\mathbf{X}_t \\in \\mathbb{R}^{n \\times d}$\n",
        "（样本数：$n$，每个样本中的输入数：$d$）。\n",
        "同时，将$l^\\mathrm{th}$隐藏层（$l=1,\\ldots,L$）\n",
        "的隐状态设为$\\mathbf{H}_t^{(l)}  \\in \\mathbb{R}^{n \\times h}$\n",
        "（隐藏单元数：$h$），\n",
        "输出层变量设为$\\mathbf{O}_t \\in \\mathbb{R}^{n \\times q}$\n",
        "（输出数：$q$）。\n",
        "设置$\\mathbf{H}_t^{(0)} = \\mathbf{X}_t$，\n",
        "第$l$个隐藏层的隐状态使用激活函数$\\phi_l$，则：\n",
        "\n",
        "$$\\mathbf{H}_t^{(l)} = \\phi_l(\\mathbf{H}_t^{(l-1)} \\mathbf{W}_{xh}^{(l)} + \\mathbf{H}_{t-1}^{(l)} \\mathbf{W}_{hh}^{(l)}  + \\mathbf{b}_h^{(l)}),$$\n",
        ":eqlabel:`eq_deep_rnn_H`\n",
        "\n",
        "其中，权重$\\mathbf{W}_{xh}^{(l)} \\in \\mathbb{R}^{h \\times h}$，\n",
        "$\\mathbf{W}_{hh}^{(l)} \\in \\mathbb{R}^{h \\times h}$和\n",
        "偏置$\\mathbf{b}_h^{(l)} \\in \\mathbb{R}^{1 \\times h}$\n",
        "都是第$l$个隐藏层的模型参数。\n",
        "\n",
        "最后，输出层的计算仅基于第$l$个隐藏层最终的隐状态：\n",
        "\n",
        "$$\\mathbf{O}_t = \\mathbf{H}_t^{(L)} \\mathbf{W}_{hq} + \\mathbf{b}_q,$$\n",
        "\n",
        "其中，权重$\\mathbf{W}_{hq} \\in \\mathbb{R}^{h \\times q}$和偏置$\\mathbf{b}_q \\in \\mathbb{R}^{1 \\times q}$都是输出层的模型参数。\n",
        "\n",
        "与多层感知机一样，隐藏层数目$L$和隐藏单元数目$h$都是超参数。\n",
        "也就是说，它们可以由我们调整的。\n",
        "另外，用门控循环单元或长短期记忆网络的隐状态\n",
        "来代替 :eqref:`eq_deep_rnn_H`中的隐状态进行计算，\n",
        "可以很容易地得到深度门控循环神经网络或深度长短期记忆神经网络。\n",
        "\n",
        "## 简洁实现\n",
        "\n",
        "实现多层循环神经网络所需的许多逻辑细节在高级API中都是现成的。\n",
        "简单起见，我们仅示范使用此类内置函数的实现方式。\n",
        "以长短期记忆网络模型为例，\n",
        "该代码与之前在 :numref:`sec_lstm`中使用的代码非常相似，\n",
        "实际上唯一的区别是我们指定了层的数量，\n",
        "而不是使用单一层这个默认值。\n",
        "像往常一样，我们从加载数据集开始。\n"
      ]
    },
    {
      "cell_type": "code",
      "execution_count": 2,
      "id": "0c3000b3",
      "metadata": {
        "execution": {
          "iopub.execute_input": "2023-08-18T07:24:40.256397Z",
          "iopub.status.busy": "2023-08-18T07:24:40.255737Z",
          "iopub.status.idle": "2023-08-18T07:24:43.344661Z",
          "shell.execute_reply": "2023-08-18T07:24:43.343759Z"
        },
        "origin_pos": 2,
        "tab": [
          "pytorch"
        ],
        "id": "0c3000b3",
        "outputId": "e4cab561-2218-4194-911f-be46b94acc5f",
        "colab": {
          "base_uri": "https://localhost:8080/"
        }
      },
      "outputs": [
        {
          "output_type": "stream",
          "name": "stdout",
          "text": [
            "正在从http://d2l-data.s3-accelerate.amazonaws.com/timemachine.txt下载../data/timemachine.txt...\n"
          ]
        }
      ],
      "source": [
        "import torch\n",
        "from torch import nn\n",
        "from d2l import torch as d2l\n",
        "\n",
        "batch_size, num_steps = 32, 35\n",
        "train_iter, vocab = d2l.load_data_time_machine(batch_size, num_steps)"
      ]
    },
    {
      "cell_type": "markdown",
      "id": "f83fd896",
      "metadata": {
        "origin_pos": 4,
        "id": "f83fd896"
      },
      "source": [
        "像选择超参数这类架构决策也跟 :numref:`sec_lstm`中的决策非常相似。\n",
        "因为我们有不同的词元，所以输入和输出都选择相同数量，即`vocab_size`。\n",
        "隐藏单元的数量仍然是$256$。\n",
        "唯一的区别是，我们现在(**通过`num_layers`的值来设定隐藏层数**)。\n"
      ]
    },
    {
      "cell_type": "code",
      "execution_count": 3,
      "id": "d9ce730c",
      "metadata": {
        "execution": {
          "iopub.execute_input": "2023-08-18T07:24:43.348714Z",
          "iopub.status.busy": "2023-08-18T07:24:43.348349Z",
          "iopub.status.idle": "2023-08-18T07:24:45.383961Z",
          "shell.execute_reply": "2023-08-18T07:24:45.383098Z"
        },
        "origin_pos": 6,
        "tab": [
          "pytorch"
        ],
        "id": "d9ce730c"
      },
      "outputs": [],
      "source": [
        "vocab_size, num_hiddens, num_layers = len(vocab), 256, 2\n",
        "num_inputs = vocab_size\n",
        "device = d2l.try_gpu()\n",
        "lstm_layer = nn.LSTM(num_inputs, num_hiddens, num_layers) #这里就是多了一个num_layers\n",
        "model = d2l.RNNModel(lstm_layer, len(vocab))\n",
        "model = model.to(device)"
      ]
    },
    {
      "cell_type": "markdown",
      "id": "bc7a543d",
      "metadata": {
        "origin_pos": 8,
        "id": "bc7a543d"
      },
      "source": [
        "## [**训练**]与预测\n",
        "\n",
        "由于使用了长短期记忆网络模型来实例化两个层，因此训练速度被大大降低了。\n"
      ]
    },
    {
      "cell_type": "code",
      "execution_count": 4,
      "id": "97524e5b",
      "metadata": {
        "execution": {
          "iopub.execute_input": "2023-08-18T07:24:45.388179Z",
          "iopub.status.busy": "2023-08-18T07:24:45.387601Z",
          "iopub.status.idle": "2023-08-18T07:25:17.829775Z",
          "shell.execute_reply": "2023-08-18T07:25:17.828890Z"
        },
        "origin_pos": 9,
        "tab": [
          "pytorch"
        ],
        "id": "97524e5b",
        "outputId": "647ddf7f-7b4e-4776-cad3-f9eaeb1873b5",
        "colab": {
          "base_uri": "https://localhost:8080/",
          "height": 319
        }
      },
      "outputs": [
        {
          "output_type": "stream",
          "name": "stdout",
          "text": [
            "困惑度 1.0, 239824.4 词元/秒 cuda:0\n",
            "time traveller for so it will be convenient to speak of himwas e\n",
            "traveller with a slight accession ofcheerfulness really thi\n"
          ]
        },
        {
          "output_type": "display_data",
          "data": {
            "text/plain": [
              "<Figure size 350x250 with 1 Axes>"
            ],
            "image/svg+xml": "<?xml version=\"1.0\" encoding=\"utf-8\" standalone=\"no\"?>\n<!DOCTYPE svg PUBLIC \"-//W3C//DTD SVG 1.1//EN\"\n  \"http://www.w3.org/Graphics/SVG/1.1/DTD/svg11.dtd\">\n<svg xmlns:xlink=\"http://www.w3.org/1999/xlink\" width=\"252.646875pt\" height=\"183.35625pt\" viewBox=\"0 0 252.646875 183.35625\" xmlns=\"http://www.w3.org/2000/svg\" version=\"1.1\">\n <metadata>\n  <rdf:RDF xmlns:dc=\"http://purl.org/dc/elements/1.1/\" xmlns:cc=\"http://creativecommons.org/ns#\" xmlns:rdf=\"http://www.w3.org/1999/02/22-rdf-syntax-ns#\">\n   <cc:Work>\n    <dc:type rdf:resource=\"http://purl.org/dc/dcmitype/StillImage\"/>\n    <dc:date>2025-09-14T03:58:19.647853</dc:date>\n    <dc:format>image/svg+xml</dc:format>\n    <dc:creator>\n     <cc:Agent>\n      <dc:title>Matplotlib v3.10.0, https://matplotlib.org/</dc:title>\n     </cc:Agent>\n    </dc:creator>\n   </cc:Work>\n  </rdf:RDF>\n </metadata>\n <defs>\n  <style type=\"text/css\">*{stroke-linejoin: round; stroke-linecap: butt}</style>\n </defs>\n <g id=\"figure_1\">\n  <g id=\"patch_1\">\n   <path d=\"M 0 183.35625 \nL 252.646875 183.35625 \nL 252.646875 0 \nL 0 0 \nz\n\" style=\"fill: #ffffff\"/>\n  </g>\n  <g id=\"axes_1\">\n   <g id=\"patch_2\">\n    <path d=\"M 40.603125 145.8 \nL 235.903125 145.8 \nL 235.903125 7.2 \nL 40.603125 7.2 \nz\n\" style=\"fill: #ffffff\"/>\n   </g>\n   <g id=\"matplotlib.axis_1\">\n    <g id=\"xtick_1\">\n     <g id=\"line2d_1\">\n      <path d=\"M 76.474554 145.8 \nL 76.474554 7.2 \n\" clip-path=\"url(#p83df4f3049)\" style=\"fill: none; stroke: #b0b0b0; stroke-width: 0.8; stroke-linecap: square\"/>\n     </g>\n     <g id=\"line2d_2\">\n      <defs>\n       <path id=\"mc22641a6d6\" d=\"M 0 0 \nL 0 3.5 \n\" style=\"stroke: #000000; stroke-width: 0.8\"/>\n      </defs>\n      <g>\n       <use xlink:href=\"#mc22641a6d6\" x=\"76.474554\" y=\"145.8\" style=\"stroke: #000000; stroke-width: 0.8\"/>\n      </g>\n     </g>\n     <g id=\"text_1\">\n      <!-- 100 -->\n      <g transform=\"translate(66.930804 160.398438) scale(0.1 -0.1)\">\n       <defs>\n        <path id=\"DejaVuSans-31\" d=\"M 794 531 \nL 1825 531 \nL 1825 4091 \nL 703 3866 \nL 703 4441 \nL 1819 4666 \nL 2450 4666 \nL 2450 531 \nL 3481 531 \nL 3481 0 \nL 794 0 \nL 794 531 \nz\n\" transform=\"scale(0.015625)\"/>\n        <path id=\"DejaVuSans-30\" d=\"M 2034 4250 \nQ 1547 4250 1301 3770 \nQ 1056 3291 1056 2328 \nQ 1056 1369 1301 889 \nQ 1547 409 2034 409 \nQ 2525 409 2770 889 \nQ 3016 1369 3016 2328 \nQ 3016 3291 2770 3770 \nQ 2525 4250 2034 4250 \nz\nM 2034 4750 \nQ 2819 4750 3233 4129 \nQ 3647 3509 3647 2328 \nQ 3647 1150 3233 529 \nQ 2819 -91 2034 -91 \nQ 1250 -91 836 529 \nQ 422 1150 422 2328 \nQ 422 3509 836 4129 \nQ 1250 4750 2034 4750 \nz\n\" transform=\"scale(0.015625)\"/>\n       </defs>\n       <use xlink:href=\"#DejaVuSans-31\"/>\n       <use xlink:href=\"#DejaVuSans-30\" transform=\"translate(63.623047 0)\"/>\n       <use xlink:href=\"#DejaVuSans-30\" transform=\"translate(127.246094 0)\"/>\n      </g>\n     </g>\n    </g>\n    <g id=\"xtick_2\">\n     <g id=\"line2d_3\">\n      <path d=\"M 116.331696 145.8 \nL 116.331696 7.2 \n\" clip-path=\"url(#p83df4f3049)\" style=\"fill: none; stroke: #b0b0b0; stroke-width: 0.8; stroke-linecap: square\"/>\n     </g>\n     <g id=\"line2d_4\">\n      <g>\n       <use xlink:href=\"#mc22641a6d6\" x=\"116.331696\" y=\"145.8\" style=\"stroke: #000000; stroke-width: 0.8\"/>\n      </g>\n     </g>\n     <g id=\"text_2\">\n      <!-- 200 -->\n      <g transform=\"translate(106.787946 160.398438) scale(0.1 -0.1)\">\n       <defs>\n        <path id=\"DejaVuSans-32\" d=\"M 1228 531 \nL 3431 531 \nL 3431 0 \nL 469 0 \nL 469 531 \nQ 828 903 1448 1529 \nQ 2069 2156 2228 2338 \nQ 2531 2678 2651 2914 \nQ 2772 3150 2772 3378 \nQ 2772 3750 2511 3984 \nQ 2250 4219 1831 4219 \nQ 1534 4219 1204 4116 \nQ 875 4013 500 3803 \nL 500 4441 \nQ 881 4594 1212 4672 \nQ 1544 4750 1819 4750 \nQ 2544 4750 2975 4387 \nQ 3406 4025 3406 3419 \nQ 3406 3131 3298 2873 \nQ 3191 2616 2906 2266 \nQ 2828 2175 2409 1742 \nQ 1991 1309 1228 531 \nz\n\" transform=\"scale(0.015625)\"/>\n       </defs>\n       <use xlink:href=\"#DejaVuSans-32\"/>\n       <use xlink:href=\"#DejaVuSans-30\" transform=\"translate(63.623047 0)\"/>\n       <use xlink:href=\"#DejaVuSans-30\" transform=\"translate(127.246094 0)\"/>\n      </g>\n     </g>\n    </g>\n    <g id=\"xtick_3\">\n     <g id=\"line2d_5\">\n      <path d=\"M 156.188839 145.8 \nL 156.188839 7.2 \n\" clip-path=\"url(#p83df4f3049)\" style=\"fill: none; stroke: #b0b0b0; stroke-width: 0.8; stroke-linecap: square\"/>\n     </g>\n     <g id=\"line2d_6\">\n      <g>\n       <use xlink:href=\"#mc22641a6d6\" x=\"156.188839\" y=\"145.8\" style=\"stroke: #000000; stroke-width: 0.8\"/>\n      </g>\n     </g>\n     <g id=\"text_3\">\n      <!-- 300 -->\n      <g transform=\"translate(146.645089 160.398438) scale(0.1 -0.1)\">\n       <defs>\n        <path id=\"DejaVuSans-33\" d=\"M 2597 2516 \nQ 3050 2419 3304 2112 \nQ 3559 1806 3559 1356 \nQ 3559 666 3084 287 \nQ 2609 -91 1734 -91 \nQ 1441 -91 1130 -33 \nQ 819 25 488 141 \nL 488 750 \nQ 750 597 1062 519 \nQ 1375 441 1716 441 \nQ 2309 441 2620 675 \nQ 2931 909 2931 1356 \nQ 2931 1769 2642 2001 \nQ 2353 2234 1838 2234 \nL 1294 2234 \nL 1294 2753 \nL 1863 2753 \nQ 2328 2753 2575 2939 \nQ 2822 3125 2822 3475 \nQ 2822 3834 2567 4026 \nQ 2313 4219 1838 4219 \nQ 1578 4219 1281 4162 \nQ 984 4106 628 3988 \nL 628 4550 \nQ 988 4650 1302 4700 \nQ 1616 4750 1894 4750 \nQ 2613 4750 3031 4423 \nQ 3450 4097 3450 3541 \nQ 3450 3153 3228 2886 \nQ 3006 2619 2597 2516 \nz\n\" transform=\"scale(0.015625)\"/>\n       </defs>\n       <use xlink:href=\"#DejaVuSans-33\"/>\n       <use xlink:href=\"#DejaVuSans-30\" transform=\"translate(63.623047 0)\"/>\n       <use xlink:href=\"#DejaVuSans-30\" transform=\"translate(127.246094 0)\"/>\n      </g>\n     </g>\n    </g>\n    <g id=\"xtick_4\">\n     <g id=\"line2d_7\">\n      <path d=\"M 196.045982 145.8 \nL 196.045982 7.2 \n\" clip-path=\"url(#p83df4f3049)\" style=\"fill: none; stroke: #b0b0b0; stroke-width: 0.8; stroke-linecap: square\"/>\n     </g>\n     <g id=\"line2d_8\">\n      <g>\n       <use xlink:href=\"#mc22641a6d6\" x=\"196.045982\" y=\"145.8\" style=\"stroke: #000000; stroke-width: 0.8\"/>\n      </g>\n     </g>\n     <g id=\"text_4\">\n      <!-- 400 -->\n      <g transform=\"translate(186.502232 160.398438) scale(0.1 -0.1)\">\n       <defs>\n        <path id=\"DejaVuSans-34\" d=\"M 2419 4116 \nL 825 1625 \nL 2419 1625 \nL 2419 4116 \nz\nM 2253 4666 \nL 3047 4666 \nL 3047 1625 \nL 3713 1625 \nL 3713 1100 \nL 3047 1100 \nL 3047 0 \nL 2419 0 \nL 2419 1100 \nL 313 1100 \nL 313 1709 \nL 2253 4666 \nz\n\" transform=\"scale(0.015625)\"/>\n       </defs>\n       <use xlink:href=\"#DejaVuSans-34\"/>\n       <use xlink:href=\"#DejaVuSans-30\" transform=\"translate(63.623047 0)\"/>\n       <use xlink:href=\"#DejaVuSans-30\" transform=\"translate(127.246094 0)\"/>\n      </g>\n     </g>\n    </g>\n    <g id=\"xtick_5\">\n     <g id=\"line2d_9\">\n      <path d=\"M 235.903125 145.8 \nL 235.903125 7.2 \n\" clip-path=\"url(#p83df4f3049)\" style=\"fill: none; stroke: #b0b0b0; stroke-width: 0.8; stroke-linecap: square\"/>\n     </g>\n     <g id=\"line2d_10\">\n      <g>\n       <use xlink:href=\"#mc22641a6d6\" x=\"235.903125\" y=\"145.8\" style=\"stroke: #000000; stroke-width: 0.8\"/>\n      </g>\n     </g>\n     <g id=\"text_5\">\n      <!-- 500 -->\n      <g transform=\"translate(226.359375 160.398438) scale(0.1 -0.1)\">\n       <defs>\n        <path id=\"DejaVuSans-35\" d=\"M 691 4666 \nL 3169 4666 \nL 3169 4134 \nL 1269 4134 \nL 1269 2991 \nQ 1406 3038 1543 3061 \nQ 1681 3084 1819 3084 \nQ 2600 3084 3056 2656 \nQ 3513 2228 3513 1497 \nQ 3513 744 3044 326 \nQ 2575 -91 1722 -91 \nQ 1428 -91 1123 -41 \nQ 819 9 494 109 \nL 494 744 \nQ 775 591 1075 516 \nQ 1375 441 1709 441 \nQ 2250 441 2565 725 \nQ 2881 1009 2881 1497 \nQ 2881 1984 2565 2268 \nQ 2250 2553 1709 2553 \nQ 1456 2553 1204 2497 \nQ 953 2441 691 2322 \nL 691 4666 \nz\n\" transform=\"scale(0.015625)\"/>\n       </defs>\n       <use xlink:href=\"#DejaVuSans-35\"/>\n       <use xlink:href=\"#DejaVuSans-30\" transform=\"translate(63.623047 0)\"/>\n       <use xlink:href=\"#DejaVuSans-30\" transform=\"translate(127.246094 0)\"/>\n      </g>\n     </g>\n    </g>\n    <g id=\"text_6\">\n     <!-- epoch -->\n     <g transform=\"translate(123.025 174.076563) scale(0.1 -0.1)\">\n      <defs>\n       <path id=\"DejaVuSans-65\" d=\"M 3597 1894 \nL 3597 1613 \nL 953 1613 \nQ 991 1019 1311 708 \nQ 1631 397 2203 397 \nQ 2534 397 2845 478 \nQ 3156 559 3463 722 \nL 3463 178 \nQ 3153 47 2828 -22 \nQ 2503 -91 2169 -91 \nQ 1331 -91 842 396 \nQ 353 884 353 1716 \nQ 353 2575 817 3079 \nQ 1281 3584 2069 3584 \nQ 2775 3584 3186 3129 \nQ 3597 2675 3597 1894 \nz\nM 3022 2063 \nQ 3016 2534 2758 2815 \nQ 2500 3097 2075 3097 \nQ 1594 3097 1305 2825 \nQ 1016 2553 972 2059 \nL 3022 2063 \nz\n\" transform=\"scale(0.015625)\"/>\n       <path id=\"DejaVuSans-70\" d=\"M 1159 525 \nL 1159 -1331 \nL 581 -1331 \nL 581 3500 \nL 1159 3500 \nL 1159 2969 \nQ 1341 3281 1617 3432 \nQ 1894 3584 2278 3584 \nQ 2916 3584 3314 3078 \nQ 3713 2572 3713 1747 \nQ 3713 922 3314 415 \nQ 2916 -91 2278 -91 \nQ 1894 -91 1617 61 \nQ 1341 213 1159 525 \nz\nM 3116 1747 \nQ 3116 2381 2855 2742 \nQ 2594 3103 2138 3103 \nQ 1681 3103 1420 2742 \nQ 1159 2381 1159 1747 \nQ 1159 1113 1420 752 \nQ 1681 391 2138 391 \nQ 2594 391 2855 752 \nQ 3116 1113 3116 1747 \nz\n\" transform=\"scale(0.015625)\"/>\n       <path id=\"DejaVuSans-6f\" d=\"M 1959 3097 \nQ 1497 3097 1228 2736 \nQ 959 2375 959 1747 \nQ 959 1119 1226 758 \nQ 1494 397 1959 397 \nQ 2419 397 2687 759 \nQ 2956 1122 2956 1747 \nQ 2956 2369 2687 2733 \nQ 2419 3097 1959 3097 \nz\nM 1959 3584 \nQ 2709 3584 3137 3096 \nQ 3566 2609 3566 1747 \nQ 3566 888 3137 398 \nQ 2709 -91 1959 -91 \nQ 1206 -91 779 398 \nQ 353 888 353 1747 \nQ 353 2609 779 3096 \nQ 1206 3584 1959 3584 \nz\n\" transform=\"scale(0.015625)\"/>\n       <path id=\"DejaVuSans-63\" d=\"M 3122 3366 \nL 3122 2828 \nQ 2878 2963 2633 3030 \nQ 2388 3097 2138 3097 \nQ 1578 3097 1268 2742 \nQ 959 2388 959 1747 \nQ 959 1106 1268 751 \nQ 1578 397 2138 397 \nQ 2388 397 2633 464 \nQ 2878 531 3122 666 \nL 3122 134 \nQ 2881 22 2623 -34 \nQ 2366 -91 2075 -91 \nQ 1284 -91 818 406 \nQ 353 903 353 1747 \nQ 353 2603 823 3093 \nQ 1294 3584 2113 3584 \nQ 2378 3584 2631 3529 \nQ 2884 3475 3122 3366 \nz\n\" transform=\"scale(0.015625)\"/>\n       <path id=\"DejaVuSans-68\" d=\"M 3513 2113 \nL 3513 0 \nL 2938 0 \nL 2938 2094 \nQ 2938 2591 2744 2837 \nQ 2550 3084 2163 3084 \nQ 1697 3084 1428 2787 \nQ 1159 2491 1159 1978 \nL 1159 0 \nL 581 0 \nL 581 4863 \nL 1159 4863 \nL 1159 2956 \nQ 1366 3272 1645 3428 \nQ 1925 3584 2291 3584 \nQ 2894 3584 3203 3211 \nQ 3513 2838 3513 2113 \nz\n\" transform=\"scale(0.015625)\"/>\n      </defs>\n      <use xlink:href=\"#DejaVuSans-65\"/>\n      <use xlink:href=\"#DejaVuSans-70\" transform=\"translate(61.523438 0)\"/>\n      <use xlink:href=\"#DejaVuSans-6f\" transform=\"translate(125 0)\"/>\n      <use xlink:href=\"#DejaVuSans-63\" transform=\"translate(186.181641 0)\"/>\n      <use xlink:href=\"#DejaVuSans-68\" transform=\"translate(241.162109 0)\"/>\n     </g>\n    </g>\n   </g>\n   <g id=\"matplotlib.axis_2\">\n    <g id=\"ytick_1\">\n     <g id=\"line2d_11\">\n      <path d=\"M 40.603125 109.08402 \nL 235.903125 109.08402 \n\" clip-path=\"url(#p83df4f3049)\" style=\"fill: none; stroke: #b0b0b0; stroke-width: 0.8; stroke-linecap: square\"/>\n     </g>\n     <g id=\"line2d_12\">\n      <defs>\n       <path id=\"mb3103d1be0\" d=\"M 0 0 \nL -3.5 0 \n\" style=\"stroke: #000000; stroke-width: 0.8\"/>\n      </defs>\n      <g>\n       <use xlink:href=\"#mb3103d1be0\" x=\"40.603125\" y=\"109.08402\" style=\"stroke: #000000; stroke-width: 0.8\"/>\n      </g>\n     </g>\n     <g id=\"text_7\">\n      <!-- 5 -->\n      <g transform=\"translate(27.240625 112.883239) scale(0.1 -0.1)\">\n       <use xlink:href=\"#DejaVuSans-35\"/>\n      </g>\n     </g>\n    </g>\n    <g id=\"ytick_2\">\n     <g id=\"line2d_13\">\n      <path d=\"M 40.603125 70.863378 \nL 235.903125 70.863378 \n\" clip-path=\"url(#p83df4f3049)\" style=\"fill: none; stroke: #b0b0b0; stroke-width: 0.8; stroke-linecap: square\"/>\n     </g>\n     <g id=\"line2d_14\">\n      <g>\n       <use xlink:href=\"#mb3103d1be0\" x=\"40.603125\" y=\"70.863378\" style=\"stroke: #000000; stroke-width: 0.8\"/>\n      </g>\n     </g>\n     <g id=\"text_8\">\n      <!-- 10 -->\n      <g transform=\"translate(20.878125 74.662597) scale(0.1 -0.1)\">\n       <use xlink:href=\"#DejaVuSans-31\"/>\n       <use xlink:href=\"#DejaVuSans-30\" transform=\"translate(63.623047 0)\"/>\n      </g>\n     </g>\n    </g>\n    <g id=\"ytick_3\">\n     <g id=\"line2d_15\">\n      <path d=\"M 40.603125 32.642735 \nL 235.903125 32.642735 \n\" clip-path=\"url(#p83df4f3049)\" style=\"fill: none; stroke: #b0b0b0; stroke-width: 0.8; stroke-linecap: square\"/>\n     </g>\n     <g id=\"line2d_16\">\n      <g>\n       <use xlink:href=\"#mb3103d1be0\" x=\"40.603125\" y=\"32.642735\" style=\"stroke: #000000; stroke-width: 0.8\"/>\n      </g>\n     </g>\n     <g id=\"text_9\">\n      <!-- 15 -->\n      <g transform=\"translate(20.878125 36.441954) scale(0.1 -0.1)\">\n       <use xlink:href=\"#DejaVuSans-31\"/>\n       <use xlink:href=\"#DejaVuSans-35\" transform=\"translate(63.623047 0)\"/>\n      </g>\n     </g>\n    </g>\n    <g id=\"text_10\">\n     <!-- perplexity -->\n     <g transform=\"translate(14.798437 101.626563) rotate(-90) scale(0.1 -0.1)\">\n      <defs>\n       <path id=\"DejaVuSans-72\" d=\"M 2631 2963 \nQ 2534 3019 2420 3045 \nQ 2306 3072 2169 3072 \nQ 1681 3072 1420 2755 \nQ 1159 2438 1159 1844 \nL 1159 0 \nL 581 0 \nL 581 3500 \nL 1159 3500 \nL 1159 2956 \nQ 1341 3275 1631 3429 \nQ 1922 3584 2338 3584 \nQ 2397 3584 2469 3576 \nQ 2541 3569 2628 3553 \nL 2631 2963 \nz\n\" transform=\"scale(0.015625)\"/>\n       <path id=\"DejaVuSans-6c\" d=\"M 603 4863 \nL 1178 4863 \nL 1178 0 \nL 603 0 \nL 603 4863 \nz\n\" transform=\"scale(0.015625)\"/>\n       <path id=\"DejaVuSans-78\" d=\"M 3513 3500 \nL 2247 1797 \nL 3578 0 \nL 2900 0 \nL 1881 1375 \nL 863 0 \nL 184 0 \nL 1544 1831 \nL 300 3500 \nL 978 3500 \nL 1906 2253 \nL 2834 3500 \nL 3513 3500 \nz\n\" transform=\"scale(0.015625)\"/>\n       <path id=\"DejaVuSans-69\" d=\"M 603 3500 \nL 1178 3500 \nL 1178 0 \nL 603 0 \nL 603 3500 \nz\nM 603 4863 \nL 1178 4863 \nL 1178 4134 \nL 603 4134 \nL 603 4863 \nz\n\" transform=\"scale(0.015625)\"/>\n       <path id=\"DejaVuSans-74\" d=\"M 1172 4494 \nL 1172 3500 \nL 2356 3500 \nL 2356 3053 \nL 1172 3053 \nL 1172 1153 \nQ 1172 725 1289 603 \nQ 1406 481 1766 481 \nL 2356 481 \nL 2356 0 \nL 1766 0 \nQ 1100 0 847 248 \nQ 594 497 594 1153 \nL 594 3053 \nL 172 3053 \nL 172 3500 \nL 594 3500 \nL 594 4494 \nL 1172 4494 \nz\n\" transform=\"scale(0.015625)\"/>\n       <path id=\"DejaVuSans-79\" d=\"M 2059 -325 \nQ 1816 -950 1584 -1140 \nQ 1353 -1331 966 -1331 \nL 506 -1331 \nL 506 -850 \nL 844 -850 \nQ 1081 -850 1212 -737 \nQ 1344 -625 1503 -206 \nL 1606 56 \nL 191 3500 \nL 800 3500 \nL 1894 763 \nL 2988 3500 \nL 3597 3500 \nL 2059 -325 \nz\n\" transform=\"scale(0.015625)\"/>\n      </defs>\n      <use xlink:href=\"#DejaVuSans-70\"/>\n      <use xlink:href=\"#DejaVuSans-65\" transform=\"translate(63.476562 0)\"/>\n      <use xlink:href=\"#DejaVuSans-72\" transform=\"translate(125 0)\"/>\n      <use xlink:href=\"#DejaVuSans-70\" transform=\"translate(166.113281 0)\"/>\n      <use xlink:href=\"#DejaVuSans-6c\" transform=\"translate(229.589844 0)\"/>\n      <use xlink:href=\"#DejaVuSans-65\" transform=\"translate(257.373047 0)\"/>\n      <use xlink:href=\"#DejaVuSans-78\" transform=\"translate(317.146484 0)\"/>\n      <use xlink:href=\"#DejaVuSans-69\" transform=\"translate(376.326172 0)\"/>\n      <use xlink:href=\"#DejaVuSans-74\" transform=\"translate(404.109375 0)\"/>\n      <use xlink:href=\"#DejaVuSans-79\" transform=\"translate(443.318359 0)\"/>\n     </g>\n    </g>\n   </g>\n   <g id=\"line2d_17\">\n    <path d=\"M 40.603125 13.5 \nL 44.588839 13.802692 \nL 48.574554 15.165886 \nL 52.560268 27.986051 \nL 56.545982 34.794552 \nL 60.531696 50.401447 \nL 64.517411 61.130692 \nL 68.503125 66.479491 \nL 72.488839 72.487776 \nL 76.474554 77.827627 \nL 80.460268 83.097056 \nL 84.445982 86.933087 \nL 88.431696 93.146289 \nL 92.417411 98.454332 \nL 96.403125 104.362239 \nL 100.388839 110.81295 \nL 104.374554 117.860198 \nL 108.360268 122.650581 \nL 112.345982 129.070609 \nL 116.331696 133.556537 \nL 120.317411 134.500047 \nL 124.303125 138.228811 \nL 128.288839 138.52168 \nL 132.274554 138.904152 \nL 136.260268 139.14358 \nL 140.245982 139.164406 \nL 144.231696 139.301334 \nL 148.217411 139.144293 \nL 152.203125 139.245001 \nL 156.188839 139.335382 \nL 160.174554 139.38315 \nL 164.160268 139.327817 \nL 168.145982 139.380382 \nL 172.131696 139.426259 \nL 176.117411 139.363731 \nL 180.103125 139.391658 \nL 184.088839 139.391734 \nL 188.074554 139.347593 \nL 192.060268 139.419417 \nL 196.045982 139.452023 \nL 200.031696 139.421568 \nL 204.017411 139.443762 \nL 208.003125 139.434985 \nL 211.988839 139.467866 \nL 215.974554 139.494304 \nL 219.960268 139.44713 \nL 223.945982 139.451337 \nL 227.931696 139.463078 \nL 231.917411 139.5 \nL 235.903125 139.483933 \n\" clip-path=\"url(#p83df4f3049)\" style=\"fill: none; stroke: #1f77b4; stroke-width: 1.5; stroke-linecap: square\"/>\n   </g>\n   <g id=\"patch_3\">\n    <path d=\"M 40.603125 145.8 \nL 40.603125 7.2 \n\" style=\"fill: none; stroke: #000000; stroke-width: 0.8; stroke-linejoin: miter; stroke-linecap: square\"/>\n   </g>\n   <g id=\"patch_4\">\n    <path d=\"M 235.903125 145.8 \nL 235.903125 7.2 \n\" style=\"fill: none; stroke: #000000; stroke-width: 0.8; stroke-linejoin: miter; stroke-linecap: square\"/>\n   </g>\n   <g id=\"patch_5\">\n    <path d=\"M 40.603125 145.8 \nL 235.903125 145.8 \n\" style=\"fill: none; stroke: #000000; stroke-width: 0.8; stroke-linejoin: miter; stroke-linecap: square\"/>\n   </g>\n   <g id=\"patch_6\">\n    <path d=\"M 40.603125 7.2 \nL 235.903125 7.2 \n\" style=\"fill: none; stroke: #000000; stroke-width: 0.8; stroke-linejoin: miter; stroke-linecap: square\"/>\n   </g>\n   <g id=\"legend_1\">\n    <g id=\"patch_7\">\n     <path d=\"M 173.628125 29.878125 \nL 228.903125 29.878125 \nQ 230.903125 29.878125 230.903125 27.878125 \nL 230.903125 14.2 \nQ 230.903125 12.2 228.903125 12.2 \nL 173.628125 12.2 \nQ 171.628125 12.2 171.628125 14.2 \nL 171.628125 27.878125 \nQ 171.628125 29.878125 173.628125 29.878125 \nz\n\" style=\"fill: #ffffff; opacity: 0.8; stroke: #cccccc; stroke-linejoin: miter\"/>\n    </g>\n    <g id=\"line2d_18\">\n     <path d=\"M 175.628125 20.298438 \nL 185.628125 20.298438 \nL 195.628125 20.298438 \n\" style=\"fill: none; stroke: #1f77b4; stroke-width: 1.5; stroke-linecap: square\"/>\n    </g>\n    <g id=\"text_11\">\n     <!-- train -->\n     <g transform=\"translate(203.628125 23.798438) scale(0.1 -0.1)\">\n      <defs>\n       <path id=\"DejaVuSans-61\" d=\"M 2194 1759 \nQ 1497 1759 1228 1600 \nQ 959 1441 959 1056 \nQ 959 750 1161 570 \nQ 1363 391 1709 391 \nQ 2188 391 2477 730 \nQ 2766 1069 2766 1631 \nL 2766 1759 \nL 2194 1759 \nz\nM 3341 1997 \nL 3341 0 \nL 2766 0 \nL 2766 531 \nQ 2569 213 2275 61 \nQ 1981 -91 1556 -91 \nQ 1019 -91 701 211 \nQ 384 513 384 1019 \nQ 384 1609 779 1909 \nQ 1175 2209 1959 2209 \nL 2766 2209 \nL 2766 2266 \nQ 2766 2663 2505 2880 \nQ 2244 3097 1772 3097 \nQ 1472 3097 1187 3025 \nQ 903 2953 641 2809 \nL 641 3341 \nQ 956 3463 1253 3523 \nQ 1550 3584 1831 3584 \nQ 2591 3584 2966 3190 \nQ 3341 2797 3341 1997 \nz\n\" transform=\"scale(0.015625)\"/>\n       <path id=\"DejaVuSans-6e\" d=\"M 3513 2113 \nL 3513 0 \nL 2938 0 \nL 2938 2094 \nQ 2938 2591 2744 2837 \nQ 2550 3084 2163 3084 \nQ 1697 3084 1428 2787 \nQ 1159 2491 1159 1978 \nL 1159 0 \nL 581 0 \nL 581 3500 \nL 1159 3500 \nL 1159 2956 \nQ 1366 3272 1645 3428 \nQ 1925 3584 2291 3584 \nQ 2894 3584 3203 3211 \nQ 3513 2838 3513 2113 \nz\n\" transform=\"scale(0.015625)\"/>\n      </defs>\n      <use xlink:href=\"#DejaVuSans-74\"/>\n      <use xlink:href=\"#DejaVuSans-72\" transform=\"translate(39.208984 0)\"/>\n      <use xlink:href=\"#DejaVuSans-61\" transform=\"translate(80.322266 0)\"/>\n      <use xlink:href=\"#DejaVuSans-69\" transform=\"translate(141.601562 0)\"/>\n      <use xlink:href=\"#DejaVuSans-6e\" transform=\"translate(169.384766 0)\"/>\n     </g>\n    </g>\n   </g>\n  </g>\n </g>\n <defs>\n  <clipPath id=\"p83df4f3049\">\n   <rect x=\"40.603125\" y=\"7.2\" width=\"195.3\" height=\"138.6\"/>\n  </clipPath>\n </defs>\n</svg>\n"
          },
          "metadata": {}
        }
      ],
      "source": [
        "num_epochs, lr = 500, 2\n",
        "d2l.train_ch8(model, train_iter, vocab, lr*1.0, num_epochs, device) #原来300到1 现在200都到1了overfiting更强了  RNN和MLP用的特别深的不多 一般就是两层。"
      ]
    },
    {
      "cell_type": "markdown",
      "id": "95f552d9",
      "metadata": {
        "origin_pos": 10,
        "id": "95f552d9"
      },
      "source": [
        "## 小结\n",
        "\n",
        "* 在深度循环神经网络中，隐状态的信息被传递到当前层的下一时间步和下一层的当前时间步。\n",
        "* 有许多不同风格的深度循环神经网络，\n",
        "  如长短期记忆网络、门控循环单元、或经典循环神经网络。\n",
        "  这些模型在深度学习框架的高级API中都有涵盖。\n",
        "* 总体而言，深度循环神经网络需要大量的调参（如学习率和修剪）\n",
        "  来确保合适的收敛，模型的初始化也需要谨慎。\n",
        "\n",
        "## 练习\n",
        "\n",
        "1. 基于我们在 :numref:`sec_rnn_scratch`中讨论的单层实现，\n",
        "   尝试从零开始实现两层循环神经网络。\n",
        "1. 在本节训练模型中，比较使用门控循环单元替换长短期记忆网络后模型的精确度和训练速度。\n",
        "1. 如果增加训练数据，能够将困惑度降到多低？\n",
        "1. 在为文本建模时，是否可以将不同作者的源数据合并？有何优劣呢？\n"
      ]
    },
    {
      "cell_type": "code",
      "source": [
        "import torch\n",
        "import torch.nn as nn\n",
        "\n",
        "def get_deep_rnn_params(vocab_size, num_hiddens, num_layers, device):\n",
        "    num_inputs = num_outputs = vocab_size\n",
        "\n",
        "    def normal(shape):\n",
        "        return torch.randn(size=shape, device=device) * 0.01\n",
        "\n",
        "    params = []\n",
        "\n",
        "    # 第一层参数\n",
        "    W_xh1 = normal((num_inputs, num_hiddens))\n",
        "    W_hh1 = normal((num_hiddens, num_hiddens))\n",
        "    b_h1 = torch.zeros(num_hiddens, device=device)\n",
        "\n",
        "    params.extend([W_xh1, W_hh1, b_h1])#这个用\n",
        "\n",
        "    # 中间层参数（如果有更多层）\n",
        "    for i in range(1, num_layers):\n",
        "        W_xh = normal((num_hiddens, num_hiddens))  # 输入是前一层的隐藏状态 这一层如何输入到下一个数据的作为它的上一个state呢？这里应该WHH1 是接受上一层的隐藏状态和这个相乘\n",
        "        W_hh = normal((num_hiddens, num_hiddens)) #是接受上一个第二层的隐藏状态和WHH相乘！！\n",
        "        b_h = torch.zeros(num_hiddens, device=device)\n",
        "\n",
        "        params.extend([W_xh, W_hh, b_h])\n",
        "\n",
        "    # 输出层参数（最后一层隐藏状态到输出）\n",
        "    W_hq = normal((num_hiddens, num_outputs))\n",
        "    b_q = torch.zeros(num_outputs, device=device)\n",
        "\n",
        "    params.extend([W_hq, b_q]) #三个list\n",
        "\n",
        "    # 附加梯度\n",
        "    for param in params:\n",
        "        param.requires_grad_(True)\n",
        "\n",
        "    return params\n",
        "\n",
        "def deep_rnn(inputs, state, params, num_layers=2):\n",
        "    # inputs的形状：(时间步数量，批量大小，词表大小)\n",
        "    # state: 包含各层隐藏状态的元组，每层一个隐藏状态\n",
        "\n",
        "    # 提取参数\n",
        "    layer_params = []\n",
        "    for i in range(num_layers):#哦 i是层数 第一层 是0!\n",
        "        W_xh = params[i*3]\n",
        "        W_hh = params[i*3+1]\n",
        "        b_h = params[i*3+2]\n",
        "        layer_params.append((W_xh, W_hh, b_h))\n",
        "\n",
        "    W_hq, b_q = params[-2], params[-1]  # 输出层参数\n",
        "\n",
        "    # 初始化各层隐藏状态\n",
        "    H_list = list(state)  # 将元组转换为列表以便修改 这里存储了两个隐藏状态一个是第0层的上个隐藏状态 第二个是 一个是第1层的上个隐藏状态\n",
        "\n",
        "    outputs = []\n",
        "    # X的形状：(批量大小，词表大小)\n",
        "    for X in inputs:\n",
        "        # 第一层\n",
        "        H_list[0] = torch.tanh(torch.mm(X, layer_params[0][0]) + #这里是W_xh\n",
        "                              torch.mm(H_list[0], layer_params[0][1]) + #Whh 这个已经是和上一个hidden相乘了\n",
        "                              layer_params[0][2]) #b_h 这里也更新了当前的隐藏状态\n",
        "\n",
        "        # 后续层（如果有多层）\n",
        "        for layer in range(1, num_layers):\n",
        "            H_list[layer] = torch.tanh(torch.mm(H_list[layer-1], layer_params[layer][0]) + # 上一层的隐藏状态 往上边走 原来是乘以 不是是 Whh! ？\n",
        "                                      torch.mm(H_list[layer], layer_params[layer][1]) + #这个其实就是第二层的上一个hidden 和 W_hh 相乘\n",
        "\n",
        "                                      layer_params[layer][2])\n",
        "        #layer=1: 第一层 =\n",
        "        # 使用最后一层的隐藏状态计算输出\n",
        "        Y = torch.mm(H_list[-1], W_hq) + b_q\n",
        "        outputs.append(Y)\n",
        "\n",
        "    return torch.cat(outputs, dim=0), tuple(H_list)  # 返回所有时间步的输出和各层最终隐藏状态\n",
        "\n",
        "# 使用示例\n",
        "vocab_size = 1000\n",
        "num_hiddens = 256\n",
        "num_layers = 2\n",
        "device = torch.device('cuda' if torch.cuda.is_available() else 'cpu')\n",
        "\n",
        "# 获取参数\n",
        "params = get_deep_rnn_params(vocab_size, num_hiddens, num_layers, device)\n",
        "\n",
        "# 初始化状态（每层一个隐藏状态）\n",
        "batch_size = 32\n",
        "state = tuple(torch.zeros((batch_size, num_hiddens), device=device) for _ in range(num_layers))\n",
        "#有几层就有几个state 每个state都是batch_size * num_hiddens\n",
        "\n",
        "# 创建输入数据（假设有10个时间步）\n",
        "num_steps = 10\n",
        "inputs = torch.randn((num_steps, batch_size, vocab_size), device=device)\n",
        "\n",
        "# 前向传播\n",
        "outputs, new_state = deep_rnn(inputs, state, params, num_layers)\n",
        "\n",
        "print(f\"输出形状: {outputs.shape}\")  # 应该是 (num_steps * batch_size, vocab_size)\n",
        "print(f\"新状态包含 {len(new_state)} 个隐藏状态\")\n",
        "for i, h in enumerate(new_state):\n",
        "    print(f\"第{i+1}层隐藏状态形状: {h.shape}\")  # 每个应该是 (batch_size, num_hiddens)"
      ],
      "metadata": {
        "id": "9w1lVrHjY8VA",
        "outputId": "7f7695fb-176d-4679-dfd4-1bb86a9a9214",
        "colab": {
          "base_uri": "https://localhost:8080/"
        }
      },
      "id": "9w1lVrHjY8VA",
      "execution_count": 6,
      "outputs": [
        {
          "output_type": "stream",
          "name": "stdout",
          "text": [
            "输出形状: torch.Size([320, 1000])\n",
            "新状态包含 2 个隐藏状态\n",
            "第1层隐藏状态形状: torch.Size([32, 256])\n",
            "第2层隐藏状态形状: torch.Size([32, 256])\n"
          ]
        }
      ]
    },
    {
      "cell_type": "markdown",
      "id": "1affbed5",
      "metadata": {
        "origin_pos": 12,
        "tab": [
          "pytorch"
        ],
        "id": "1affbed5"
      },
      "source": [
        "[Discussions](https://discuss.d2l.ai/t/2770)\n"
      ]
    }
  ],
  "metadata": {
    "accelerator": "GPU",
    "kernelspec": {
      "display_name": "Python 3",
      "name": "python3"
    },
    "language_info": {
      "name": "python"
    },
    "required_libs": [],
    "colab": {
      "provenance": []
    }
  },
  "nbformat": 4,
  "nbformat_minor": 5
}