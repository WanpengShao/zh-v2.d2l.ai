{
  "cells": [
    {
      "cell_type": "markdown",
      "id": "7671b4ca",
      "metadata": {
        "id": "7671b4ca"
      },
      "source": [
        "The following additional libraries are needed to run this\n",
        "notebook. Note that running on Colab is experimental, please report a Github\n",
        "issue if you have any problem."
      ]
    },
    {
      "cell_type": "code",
      "execution_count": null,
      "id": "c065e77e",
      "metadata": {
        "id": "c065e77e",
        "outputId": "a9125ff8-e9d2-4380-9822-9b70297bc0ac",
        "colab": {
          "base_uri": "https://localhost:8080/",
          "height": 510
        }
      },
      "outputs": [
        {
          "output_type": "stream",
          "name": "stdout",
          "text": [
            "Collecting git+https://github.com/d2l-ai/d2l-zh@release\n",
            "  Cloning https://github.com/d2l-ai/d2l-zh (to revision release) to /tmp/pip-req-build-9ffxs_dx\n",
            "  Running command git clone --filter=blob:none --quiet https://github.com/d2l-ai/d2l-zh /tmp/pip-req-build-9ffxs_dx\n",
            "  Running command git checkout -b release --track origin/release\n",
            "  Switched to a new branch 'release'\n",
            "  Branch 'release' set up to track remote branch 'release' from 'origin'.\n",
            "  Resolved https://github.com/d2l-ai/d2l-zh to commit 843d3d41dca48d8df65f4b324dd171d8bfe9c067\n",
            "  Running command git submodule update --init --recursive -q\n",
            "  Preparing metadata (setup.py) ... \u001b[?25l\u001b[?25hdone\n",
            "Building wheels for collected packages: d2l\n",
            "  Building wheel for d2l (setup.py) ... \u001b[?25l\u001b[?25hdone\n",
            "  Created wheel for d2l: filename=d2l-2.0.0-py3-none-any.whl size=110800 sha256=2c057f1c86f167e9857bd46374083f4c445b51d98b11dd677b7143f8acc049ce\n",
            "  Stored in directory: /tmp/pip-ephem-wheel-cache-z99dobfq/wheels/3e/87/36/53b013ece7da539a59fcc56da2d329d7afb08eef9a9a5ae1d1\n",
            "Successfully built d2l\n",
            "Installing collected packages: d2l\n",
            "  Attempting uninstall: d2l\n",
            "    Found existing installation: d2l 2.0.0\n",
            "    Uninstalling d2l-2.0.0:\n",
            "      Successfully uninstalled d2l-2.0.0\n",
            "Successfully installed d2l-2.0.0\n"
          ]
        },
        {
          "output_type": "display_data",
          "data": {
            "application/vnd.colab-display-data+json": {
              "pip_warning": {
                "packages": [
                  "d2l"
                ]
              },
              "id": "c4c8fd97d46e4b1ba88bf4def863caa5"
            }
          },
          "metadata": {}
        },
        {
          "output_type": "stream",
          "name": "stdout",
          "text": [
            "\u001b[31mERROR: Operation cancelled by user\u001b[0m\u001b[31m\n",
            "\u001b[0m^C\n"
          ]
        }
      ],
      "source": [
        "!pip install git+https://github.com/d2l-ai/d2l-zh@release --no-deps --force-reinstall\n",
        "!pip install numpy>=1.20"
      ]
    },
    {
      "cell_type": "markdown",
      "id": "12605036",
      "metadata": {
        "origin_pos": 0,
        "id": "12605036"
      },
      "source": [
        "# 注意力汇聚：Nadaraya-Watson 核回归\n",
        ":label:`sec_nadaraya-watson`\n",
        "\n",
        "上节介绍了框架下的注意力机制的主要成分 :numref:`fig_qkv`：\n",
        "查询（自主提示）和键（非自主提示）之间的交互形成了注意力汇聚；\n",
        "注意力汇聚有选择地聚合了值（感官输入）以生成最终的输出。\n",
        "本节将介绍注意力汇聚的更多细节，\n",
        "以便从宏观上了解注意力机制在实践中的运作方式。\n",
        "具体来说，1964年提出的Nadaraya-Watson核回归模型\n",
        "是一个简单但完整的例子，可以用于演示具有注意力机制的机器学习。\n"
      ]
    },
    {
      "cell_type": "code",
      "execution_count": 2,
      "id": "47b48700",
      "metadata": {
        "execution": {
          "iopub.execute_input": "2023-08-18T07:07:14.699824Z",
          "iopub.status.busy": "2023-08-18T07:07:14.699278Z",
          "iopub.status.idle": "2023-08-18T07:07:16.694044Z",
          "shell.execute_reply": "2023-08-18T07:07:16.693186Z"
        },
        "origin_pos": 2,
        "tab": [
          "pytorch"
        ],
        "id": "47b48700"
      },
      "outputs": [],
      "source": [
        "import torch\n",
        "from torch import nn\n",
        "from d2l import torch as d2l"
      ]
    },
    {
      "cell_type": "markdown",
      "id": "45448f28",
      "metadata": {
        "origin_pos": 5,
        "id": "45448f28"
      },
      "source": [
        "## [**生成数据集**]\n",
        "\n",
        "简单起见，考虑下面这个回归问题：\n",
        "给定的成对的“输入－输出”数据集\n",
        "$\\{(x_1, y_1), \\ldots, (x_n, y_n)\\}$，\n",
        "如何学习$f$来预测任意新输入$x$的输出$\\hat{y} = f(x)$？\n",
        "\n",
        "根据下面的非线性函数生成一个人工数据集，\n",
        "其中加入的噪声项为$\\epsilon$：\n",
        "\n",
        "$$y_i = 2\\sin(x_i) + x_i^{0.8} + \\epsilon,$$\n",
        "\n",
        "其中$\\epsilon$服从均值为$0$和标准差为$0.5$的正态分布。\n",
        "在这里生成了$50$个训练样本和$50$个测试样本。\n",
        "为了更好地可视化之后的注意力模式，需要将训练样本进行排序。\n"
      ]
    },
    {
      "cell_type": "code",
      "execution_count": 3,
      "id": "77ea63dd",
      "metadata": {
        "execution": {
          "iopub.execute_input": "2023-08-18T07:07:16.698617Z",
          "iopub.status.busy": "2023-08-18T07:07:16.697928Z",
          "iopub.status.idle": "2023-08-18T07:07:16.720614Z",
          "shell.execute_reply": "2023-08-18T07:07:16.719799Z"
        },
        "origin_pos": 7,
        "tab": [
          "pytorch"
        ],
        "id": "77ea63dd"
      },
      "outputs": [],
      "source": [
        "n_train = 50  # 训练样本数\n",
        "x_train, _ = torch.sort(torch.rand(n_train) * 5)   # 排序后的训练样本"
      ]
    },
    {
      "cell_type": "code",
      "execution_count": 4,
      "id": "2b36fd68",
      "metadata": {
        "execution": {
          "iopub.execute_input": "2023-08-18T07:07:16.724389Z",
          "iopub.status.busy": "2023-08-18T07:07:16.723850Z",
          "iopub.status.idle": "2023-08-18T07:07:16.734529Z",
          "shell.execute_reply": "2023-08-18T07:07:16.733732Z"
        },
        "origin_pos": 11,
        "tab": [
          "pytorch"
        ],
        "id": "2b36fd68",
        "outputId": "d01bd5a3-f094-42e5-806b-31b760dc8bdd",
        "colab": {
          "base_uri": "https://localhost:8080/"
        }
      },
      "outputs": [
        {
          "output_type": "execute_result",
          "data": {
            "text/plain": [
              "50"
            ]
          },
          "metadata": {},
          "execution_count": 4
        }
      ],
      "source": [
        "def f(x):\n",
        "    return 2 * torch.sin(x) + x**0.8\n",
        "\n",
        "y_train = f(x_train) + torch.normal(0.0, 0.5, (n_train,))  # 训练样本的输出\n",
        "x_test = torch.arange(0, 5, 0.1)  # 测试样本\n",
        "y_truth = f(x_test)  # 测试样本的真实输出\n",
        "n_test = len(x_test)  # 测试样本数\n",
        "n_test"
      ]
    },
    {
      "cell_type": "markdown",
      "id": "a8cd762c",
      "metadata": {
        "origin_pos": 14,
        "id": "a8cd762c"
      },
      "source": [
        "下面的函数将绘制所有的训练样本（样本由圆圈表示），\n",
        "不带噪声项的真实数据生成函数$f$（标记为“Truth”），\n",
        "以及学习得到的预测函数（标记为“Pred”）。\n"
      ]
    },
    {
      "cell_type": "code",
      "execution_count": 5,
      "id": "84166e26",
      "metadata": {
        "execution": {
          "iopub.execute_input": "2023-08-18T07:07:16.738117Z",
          "iopub.status.busy": "2023-08-18T07:07:16.737614Z",
          "iopub.status.idle": "2023-08-18T07:07:16.742118Z",
          "shell.execute_reply": "2023-08-18T07:07:16.741332Z"
        },
        "origin_pos": 15,
        "tab": [
          "pytorch"
        ],
        "id": "84166e26"
      },
      "outputs": [],
      "source": [
        "def plot_kernel_reg(y_hat):\n",
        "    d2l.plot(x_test, [y_truth, y_hat], 'x', 'y', legend=['Truth', 'Pred'],\n",
        "             xlim=[0, 5], ylim=[-1, 5])\n",
        "    d2l.plt.plot(x_train, y_train, 'o', alpha=0.5);"
      ]
    },
    {
      "cell_type": "markdown",
      "id": "83acd3e5",
      "metadata": {
        "origin_pos": 16,
        "id": "83acd3e5"
      },
      "source": [
        "## 平均汇聚\n",
        "\n",
        "先使用最简单的估计器来解决回归问题。\n",
        "基于平均汇聚来计算所有训练样本输出值的平均值：\n",
        "\n",
        "$$f(x) = \\frac{1}{n}\\sum_{i=1}^n y_i,$$\n",
        ":eqlabel:`eq_avg-pooling`\n",
        "\n",
        "如下图所示，这个估计器确实不够聪明。\n",
        "真实函数$f$（“Truth”）和预测函数（“Pred”）相差很大。\n"
      ]
    },
    {
      "cell_type": "code",
      "execution_count": 6,
      "id": "b5227412",
      "metadata": {
        "execution": {
          "iopub.execute_input": "2023-08-18T07:07:16.745659Z",
          "iopub.status.busy": "2023-08-18T07:07:16.745145Z",
          "iopub.status.idle": "2023-08-18T07:07:16.921666Z",
          "shell.execute_reply": "2023-08-18T07:07:16.920767Z"
        },
        "origin_pos": 18,
        "tab": [
          "pytorch"
        ],
        "id": "b5227412",
        "outputId": "49193ade-082d-4e18-dc11-004c68f7d6ba",
        "colab": {
          "base_uri": "https://localhost:8080/",
          "height": 306
        }
      },
      "outputs": [
        {
          "output_type": "stream",
          "name": "stdout",
          "text": [
            "y_train.mean():  tensor(2.6687)\n",
            "n_test:  50\n"
          ]
        },
        {
          "output_type": "display_data",
          "data": {
            "text/plain": [
              "<Figure size 350x250 with 1 Axes>"
            ],
            "image/svg+xml": "<?xml version=\"1.0\" encoding=\"utf-8\" standalone=\"no\"?>\n<!DOCTYPE svg PUBLIC \"-//W3C//DTD SVG 1.1//EN\"\n  \"http://www.w3.org/Graphics/SVG/1.1/DTD/svg11.dtd\">\n<svg xmlns:xlink=\"http://www.w3.org/1999/xlink\" width=\"248.301563pt\" height=\"187.155469pt\" viewBox=\"0 0 248.301563 187.155469\" xmlns=\"http://www.w3.org/2000/svg\" version=\"1.1\">\n <metadata>\n  <rdf:RDF xmlns:dc=\"http://purl.org/dc/elements/1.1/\" xmlns:cc=\"http://creativecommons.org/ns#\" xmlns:rdf=\"http://www.w3.org/1999/02/22-rdf-syntax-ns#\">\n   <cc:Work>\n    <dc:type rdf:resource=\"http://purl.org/dc/dcmitype/StillImage\"/>\n    <dc:date>2025-09-26T02:35:54.127817</dc:date>\n    <dc:format>image/svg+xml</dc:format>\n    <dc:creator>\n     <cc:Agent>\n      <dc:title>Matplotlib v3.10.0, https://matplotlib.org/</dc:title>\n     </cc:Agent>\n    </dc:creator>\n   </cc:Work>\n  </rdf:RDF>\n </metadata>\n <defs>\n  <style type=\"text/css\">*{stroke-linejoin: round; stroke-linecap: butt}</style>\n </defs>\n <g id=\"figure_1\">\n  <g id=\"patch_1\">\n   <path d=\"M 0 187.155469 \nL 248.301563 187.155469 \nL 248.301563 0 \nL 0 0 \nz\n\" style=\"fill: #ffffff\"/>\n  </g>\n  <g id=\"axes_1\">\n   <g id=\"patch_2\">\n    <path d=\"M 42.620312 149.599219 \nL 237.920313 149.599219 \nL 237.920313 10.999219 \nL 42.620312 10.999219 \nz\n\" style=\"fill: #ffffff\"/>\n   </g>\n   <g id=\"matplotlib.axis_1\">\n    <g id=\"xtick_1\">\n     <g id=\"line2d_1\">\n      <path d=\"M 42.620312 149.599219 \nL 42.620312 10.999219 \n\" clip-path=\"url(#p3677f2f3c6)\" style=\"fill: none; stroke: #b0b0b0; stroke-width: 0.8; stroke-linecap: square\"/>\n     </g>\n     <g id=\"line2d_2\">\n      <defs>\n       <path id=\"me382842d9d\" d=\"M 0 0 \nL 0 3.5 \n\" style=\"stroke: #000000; stroke-width: 0.8\"/>\n      </defs>\n      <g>\n       <use xlink:href=\"#me382842d9d\" x=\"42.620312\" y=\"149.599219\" style=\"stroke: #000000; stroke-width: 0.8\"/>\n      </g>\n     </g>\n     <g id=\"text_1\">\n      <!-- 0 -->\n      <g transform=\"translate(39.439062 164.197656) scale(0.1 -0.1)\">\n       <defs>\n        <path id=\"DejaVuSans-30\" d=\"M 2034 4250 \nQ 1547 4250 1301 3770 \nQ 1056 3291 1056 2328 \nQ 1056 1369 1301 889 \nQ 1547 409 2034 409 \nQ 2525 409 2770 889 \nQ 3016 1369 3016 2328 \nQ 3016 3291 2770 3770 \nQ 2525 4250 2034 4250 \nz\nM 2034 4750 \nQ 2819 4750 3233 4129 \nQ 3647 3509 3647 2328 \nQ 3647 1150 3233 529 \nQ 2819 -91 2034 -91 \nQ 1250 -91 836 529 \nQ 422 1150 422 2328 \nQ 422 3509 836 4129 \nQ 1250 4750 2034 4750 \nz\n\" transform=\"scale(0.015625)\"/>\n       </defs>\n       <use xlink:href=\"#DejaVuSans-30\"/>\n      </g>\n     </g>\n    </g>\n    <g id=\"xtick_2\">\n     <g id=\"line2d_3\">\n      <path d=\"M 81.680312 149.599219 \nL 81.680312 10.999219 \n\" clip-path=\"url(#p3677f2f3c6)\" style=\"fill: none; stroke: #b0b0b0; stroke-width: 0.8; stroke-linecap: square\"/>\n     </g>\n     <g id=\"line2d_4\">\n      <g>\n       <use xlink:href=\"#me382842d9d\" x=\"81.680312\" y=\"149.599219\" style=\"stroke: #000000; stroke-width: 0.8\"/>\n      </g>\n     </g>\n     <g id=\"text_2\">\n      <!-- 1 -->\n      <g transform=\"translate(78.499062 164.197656) scale(0.1 -0.1)\">\n       <defs>\n        <path id=\"DejaVuSans-31\" d=\"M 794 531 \nL 1825 531 \nL 1825 4091 \nL 703 3866 \nL 703 4441 \nL 1819 4666 \nL 2450 4666 \nL 2450 531 \nL 3481 531 \nL 3481 0 \nL 794 0 \nL 794 531 \nz\n\" transform=\"scale(0.015625)\"/>\n       </defs>\n       <use xlink:href=\"#DejaVuSans-31\"/>\n      </g>\n     </g>\n    </g>\n    <g id=\"xtick_3\">\n     <g id=\"line2d_5\">\n      <path d=\"M 120.740313 149.599219 \nL 120.740313 10.999219 \n\" clip-path=\"url(#p3677f2f3c6)\" style=\"fill: none; stroke: #b0b0b0; stroke-width: 0.8; stroke-linecap: square\"/>\n     </g>\n     <g id=\"line2d_6\">\n      <g>\n       <use xlink:href=\"#me382842d9d\" x=\"120.740313\" y=\"149.599219\" style=\"stroke: #000000; stroke-width: 0.8\"/>\n      </g>\n     </g>\n     <g id=\"text_3\">\n      <!-- 2 -->\n      <g transform=\"translate(117.559062 164.197656) scale(0.1 -0.1)\">\n       <defs>\n        <path id=\"DejaVuSans-32\" d=\"M 1228 531 \nL 3431 531 \nL 3431 0 \nL 469 0 \nL 469 531 \nQ 828 903 1448 1529 \nQ 2069 2156 2228 2338 \nQ 2531 2678 2651 2914 \nQ 2772 3150 2772 3378 \nQ 2772 3750 2511 3984 \nQ 2250 4219 1831 4219 \nQ 1534 4219 1204 4116 \nQ 875 4013 500 3803 \nL 500 4441 \nQ 881 4594 1212 4672 \nQ 1544 4750 1819 4750 \nQ 2544 4750 2975 4387 \nQ 3406 4025 3406 3419 \nQ 3406 3131 3298 2873 \nQ 3191 2616 2906 2266 \nQ 2828 2175 2409 1742 \nQ 1991 1309 1228 531 \nz\n\" transform=\"scale(0.015625)\"/>\n       </defs>\n       <use xlink:href=\"#DejaVuSans-32\"/>\n      </g>\n     </g>\n    </g>\n    <g id=\"xtick_4\">\n     <g id=\"line2d_7\">\n      <path d=\"M 159.800313 149.599219 \nL 159.800313 10.999219 \n\" clip-path=\"url(#p3677f2f3c6)\" style=\"fill: none; stroke: #b0b0b0; stroke-width: 0.8; stroke-linecap: square\"/>\n     </g>\n     <g id=\"line2d_8\">\n      <g>\n       <use xlink:href=\"#me382842d9d\" x=\"159.800313\" y=\"149.599219\" style=\"stroke: #000000; stroke-width: 0.8\"/>\n      </g>\n     </g>\n     <g id=\"text_4\">\n      <!-- 3 -->\n      <g transform=\"translate(156.619063 164.197656) scale(0.1 -0.1)\">\n       <defs>\n        <path id=\"DejaVuSans-33\" d=\"M 2597 2516 \nQ 3050 2419 3304 2112 \nQ 3559 1806 3559 1356 \nQ 3559 666 3084 287 \nQ 2609 -91 1734 -91 \nQ 1441 -91 1130 -33 \nQ 819 25 488 141 \nL 488 750 \nQ 750 597 1062 519 \nQ 1375 441 1716 441 \nQ 2309 441 2620 675 \nQ 2931 909 2931 1356 \nQ 2931 1769 2642 2001 \nQ 2353 2234 1838 2234 \nL 1294 2234 \nL 1294 2753 \nL 1863 2753 \nQ 2328 2753 2575 2939 \nQ 2822 3125 2822 3475 \nQ 2822 3834 2567 4026 \nQ 2313 4219 1838 4219 \nQ 1578 4219 1281 4162 \nQ 984 4106 628 3988 \nL 628 4550 \nQ 988 4650 1302 4700 \nQ 1616 4750 1894 4750 \nQ 2613 4750 3031 4423 \nQ 3450 4097 3450 3541 \nQ 3450 3153 3228 2886 \nQ 3006 2619 2597 2516 \nz\n\" transform=\"scale(0.015625)\"/>\n       </defs>\n       <use xlink:href=\"#DejaVuSans-33\"/>\n      </g>\n     </g>\n    </g>\n    <g id=\"xtick_5\">\n     <g id=\"line2d_9\">\n      <path d=\"M 198.860313 149.599219 \nL 198.860313 10.999219 \n\" clip-path=\"url(#p3677f2f3c6)\" style=\"fill: none; stroke: #b0b0b0; stroke-width: 0.8; stroke-linecap: square\"/>\n     </g>\n     <g id=\"line2d_10\">\n      <g>\n       <use xlink:href=\"#me382842d9d\" x=\"198.860313\" y=\"149.599219\" style=\"stroke: #000000; stroke-width: 0.8\"/>\n      </g>\n     </g>\n     <g id=\"text_5\">\n      <!-- 4 -->\n      <g transform=\"translate(195.679063 164.197656) scale(0.1 -0.1)\">\n       <defs>\n        <path id=\"DejaVuSans-34\" d=\"M 2419 4116 \nL 825 1625 \nL 2419 1625 \nL 2419 4116 \nz\nM 2253 4666 \nL 3047 4666 \nL 3047 1625 \nL 3713 1625 \nL 3713 1100 \nL 3047 1100 \nL 3047 0 \nL 2419 0 \nL 2419 1100 \nL 313 1100 \nL 313 1709 \nL 2253 4666 \nz\n\" transform=\"scale(0.015625)\"/>\n       </defs>\n       <use xlink:href=\"#DejaVuSans-34\"/>\n      </g>\n     </g>\n    </g>\n    <g id=\"xtick_6\">\n     <g id=\"line2d_11\">\n      <path d=\"M 237.920313 149.599219 \nL 237.920313 10.999219 \n\" clip-path=\"url(#p3677f2f3c6)\" style=\"fill: none; stroke: #b0b0b0; stroke-width: 0.8; stroke-linecap: square\"/>\n     </g>\n     <g id=\"line2d_12\">\n      <g>\n       <use xlink:href=\"#me382842d9d\" x=\"237.920313\" y=\"149.599219\" style=\"stroke: #000000; stroke-width: 0.8\"/>\n      </g>\n     </g>\n     <g id=\"text_6\">\n      <!-- 5 -->\n      <g transform=\"translate(234.739063 164.197656) scale(0.1 -0.1)\">\n       <defs>\n        <path id=\"DejaVuSans-35\" d=\"M 691 4666 \nL 3169 4666 \nL 3169 4134 \nL 1269 4134 \nL 1269 2991 \nQ 1406 3038 1543 3061 \nQ 1681 3084 1819 3084 \nQ 2600 3084 3056 2656 \nQ 3513 2228 3513 1497 \nQ 3513 744 3044 326 \nQ 2575 -91 1722 -91 \nQ 1428 -91 1123 -41 \nQ 819 9 494 109 \nL 494 744 \nQ 775 591 1075 516 \nQ 1375 441 1709 441 \nQ 2250 441 2565 725 \nQ 2881 1009 2881 1497 \nQ 2881 1984 2565 2268 \nQ 2250 2553 1709 2553 \nQ 1456 2553 1204 2497 \nQ 953 2441 691 2322 \nL 691 4666 \nz\n\" transform=\"scale(0.015625)\"/>\n       </defs>\n       <use xlink:href=\"#DejaVuSans-35\"/>\n      </g>\n     </g>\n    </g>\n    <g id=\"text_7\">\n     <!-- x -->\n     <g transform=\"translate(137.310937 177.875781) scale(0.1 -0.1)\">\n      <defs>\n       <path id=\"DejaVuSans-78\" d=\"M 3513 3500 \nL 2247 1797 \nL 3578 0 \nL 2900 0 \nL 1881 1375 \nL 863 0 \nL 184 0 \nL 1544 1831 \nL 300 3500 \nL 978 3500 \nL 1906 2253 \nL 2834 3500 \nL 3513 3500 \nz\n\" transform=\"scale(0.015625)\"/>\n      </defs>\n      <use xlink:href=\"#DejaVuSans-78\"/>\n     </g>\n    </g>\n   </g>\n   <g id=\"matplotlib.axis_2\">\n    <g id=\"ytick_1\">\n     <g id=\"line2d_13\">\n      <path d=\"M 42.620312 149.599219 \nL 237.920313 149.599219 \n\" clip-path=\"url(#p3677f2f3c6)\" style=\"fill: none; stroke: #b0b0b0; stroke-width: 0.8; stroke-linecap: square\"/>\n     </g>\n     <g id=\"line2d_14\">\n      <defs>\n       <path id=\"m13aec417f2\" d=\"M 0 0 \nL -3.5 0 \n\" style=\"stroke: #000000; stroke-width: 0.8\"/>\n      </defs>\n      <g>\n       <use xlink:href=\"#m13aec417f2\" x=\"42.620312\" y=\"149.599219\" style=\"stroke: #000000; stroke-width: 0.8\"/>\n      </g>\n     </g>\n     <g id=\"text_8\">\n      <!-- −1 -->\n      <g transform=\"translate(20.878125 153.398437) scale(0.1 -0.1)\">\n       <defs>\n        <path id=\"DejaVuSans-2212\" d=\"M 678 2272 \nL 4684 2272 \nL 4684 1741 \nL 678 1741 \nL 678 2272 \nz\n\" transform=\"scale(0.015625)\"/>\n       </defs>\n       <use xlink:href=\"#DejaVuSans-2212\"/>\n       <use xlink:href=\"#DejaVuSans-31\" transform=\"translate(83.789062 0)\"/>\n      </g>\n     </g>\n    </g>\n    <g id=\"ytick_2\">\n     <g id=\"line2d_15\">\n      <path d=\"M 42.620312 126.499219 \nL 237.920313 126.499219 \n\" clip-path=\"url(#p3677f2f3c6)\" style=\"fill: none; stroke: #b0b0b0; stroke-width: 0.8; stroke-linecap: square\"/>\n     </g>\n     <g id=\"line2d_16\">\n      <g>\n       <use xlink:href=\"#m13aec417f2\" x=\"42.620312\" y=\"126.499219\" style=\"stroke: #000000; stroke-width: 0.8\"/>\n      </g>\n     </g>\n     <g id=\"text_9\">\n      <!-- 0 -->\n      <g transform=\"translate(29.257812 130.298437) scale(0.1 -0.1)\">\n       <use xlink:href=\"#DejaVuSans-30\"/>\n      </g>\n     </g>\n    </g>\n    <g id=\"ytick_3\">\n     <g id=\"line2d_17\">\n      <path d=\"M 42.620312 103.399219 \nL 237.920313 103.399219 \n\" clip-path=\"url(#p3677f2f3c6)\" style=\"fill: none; stroke: #b0b0b0; stroke-width: 0.8; stroke-linecap: square\"/>\n     </g>\n     <g id=\"line2d_18\">\n      <g>\n       <use xlink:href=\"#m13aec417f2\" x=\"42.620312\" y=\"103.399219\" style=\"stroke: #000000; stroke-width: 0.8\"/>\n      </g>\n     </g>\n     <g id=\"text_10\">\n      <!-- 1 -->\n      <g transform=\"translate(29.257812 107.198437) scale(0.1 -0.1)\">\n       <use xlink:href=\"#DejaVuSans-31\"/>\n      </g>\n     </g>\n    </g>\n    <g id=\"ytick_4\">\n     <g id=\"line2d_19\">\n      <path d=\"M 42.620312 80.299219 \nL 237.920313 80.299219 \n\" clip-path=\"url(#p3677f2f3c6)\" style=\"fill: none; stroke: #b0b0b0; stroke-width: 0.8; stroke-linecap: square\"/>\n     </g>\n     <g id=\"line2d_20\">\n      <g>\n       <use xlink:href=\"#m13aec417f2\" x=\"42.620312\" y=\"80.299219\" style=\"stroke: #000000; stroke-width: 0.8\"/>\n      </g>\n     </g>\n     <g id=\"text_11\">\n      <!-- 2 -->\n      <g transform=\"translate(29.257812 84.098437) scale(0.1 -0.1)\">\n       <use xlink:href=\"#DejaVuSans-32\"/>\n      </g>\n     </g>\n    </g>\n    <g id=\"ytick_5\">\n     <g id=\"line2d_21\">\n      <path d=\"M 42.620312 57.199219 \nL 237.920313 57.199219 \n\" clip-path=\"url(#p3677f2f3c6)\" style=\"fill: none; stroke: #b0b0b0; stroke-width: 0.8; stroke-linecap: square\"/>\n     </g>\n     <g id=\"line2d_22\">\n      <g>\n       <use xlink:href=\"#m13aec417f2\" x=\"42.620312\" y=\"57.199219\" style=\"stroke: #000000; stroke-width: 0.8\"/>\n      </g>\n     </g>\n     <g id=\"text_12\">\n      <!-- 3 -->\n      <g transform=\"translate(29.257812 60.998437) scale(0.1 -0.1)\">\n       <use xlink:href=\"#DejaVuSans-33\"/>\n      </g>\n     </g>\n    </g>\n    <g id=\"ytick_6\">\n     <g id=\"line2d_23\">\n      <path d=\"M 42.620312 34.099219 \nL 237.920313 34.099219 \n\" clip-path=\"url(#p3677f2f3c6)\" style=\"fill: none; stroke: #b0b0b0; stroke-width: 0.8; stroke-linecap: square\"/>\n     </g>\n     <g id=\"line2d_24\">\n      <g>\n       <use xlink:href=\"#m13aec417f2\" x=\"42.620312\" y=\"34.099219\" style=\"stroke: #000000; stroke-width: 0.8\"/>\n      </g>\n     </g>\n     <g id=\"text_13\">\n      <!-- 4 -->\n      <g transform=\"translate(29.257812 37.898438) scale(0.1 -0.1)\">\n       <use xlink:href=\"#DejaVuSans-34\"/>\n      </g>\n     </g>\n    </g>\n    <g id=\"ytick_7\">\n     <g id=\"line2d_25\">\n      <path d=\"M 42.620312 10.999219 \nL 237.920313 10.999219 \n\" clip-path=\"url(#p3677f2f3c6)\" style=\"fill: none; stroke: #b0b0b0; stroke-width: 0.8; stroke-linecap: square\"/>\n     </g>\n     <g id=\"line2d_26\">\n      <g>\n       <use xlink:href=\"#m13aec417f2\" x=\"42.620312\" y=\"10.999219\" style=\"stroke: #000000; stroke-width: 0.8\"/>\n      </g>\n     </g>\n     <g id=\"text_14\">\n      <!-- 5 -->\n      <g transform=\"translate(29.257812 14.798437) scale(0.1 -0.1)\">\n       <use xlink:href=\"#DejaVuSans-35\"/>\n      </g>\n     </g>\n    </g>\n    <g id=\"text_15\">\n     <!-- y -->\n     <g transform=\"translate(14.798437 83.258594) rotate(-90) scale(0.1 -0.1)\">\n      <defs>\n       <path id=\"DejaVuSans-79\" d=\"M 2059 -325 \nQ 1816 -950 1584 -1140 \nQ 1353 -1331 966 -1331 \nL 506 -1331 \nL 506 -850 \nL 844 -850 \nQ 1081 -850 1212 -737 \nQ 1344 -625 1503 -206 \nL 1606 56 \nL 191 3500 \nL 800 3500 \nL 1894 763 \nL 2988 3500 \nL 3597 3500 \nL 2059 -325 \nz\n\" transform=\"scale(0.015625)\"/>\n      </defs>\n      <use xlink:href=\"#DejaVuSans-79\"/>\n     </g>\n    </g>\n   </g>\n   <g id=\"line2d_27\">\n    <path d=\"M 42.620312 126.499219 \nL 46.526313 118.225812 \nL 50.432313 110.946345 \nL 54.338313 104.029425 \nL 58.244313 97.4097 \nL 62.150312 91.082293 \nL 66.056313 85.061866 \nL 69.962312 79.370737 \nL 73.868313 74.033949 \nL 77.774314 69.076775 \nL 81.680312 64.523261 \nL 85.586313 60.395214 \nL 89.492314 56.711598 \nL 93.398311 53.487961 \nL 97.304312 50.736132 \nL 101.210313 48.46391 \nL 105.116313 46.674891 \nL 109.022314 45.368338 \nL 112.928315 44.539111 \nL 116.834312 44.177706 \nL 120.740313 44.270242 \nL 124.646309 44.798618 \nL 128.552314 45.740654 \nL 132.458311 47.070245 \nL 136.364316 48.757689 \nL 140.270312 50.76986 \nL 144.176318 53.070611 \nL 148.082314 55.621064 \nL 151.98832 58.380042 \nL 155.894316 61.304393 \nL 159.800313 64.349483 \nL 163.706318 67.469619 \nL 167.612314 70.618454 \nL 171.518311 73.749494 \nL 175.424316 76.816549 \nL 179.330312 79.774142 \nL 183.236318 82.578044 \nL 187.142314 85.185605 \nL 191.048311 87.556281 \nL 194.954316 89.651973 \nL 198.860313 91.437389 \nL 202.766309 92.880457 \nL 206.672305 93.952601 \nL 210.57832 94.629017 \nL 214.484316 94.888934 \nL 218.390312 94.715829 \nL 222.296309 94.097555 \nL 226.202305 93.026506 \nL 230.10832 91.499643 \nL 234.014316 89.518571 \n\" clip-path=\"url(#p3677f2f3c6)\" style=\"fill: none; stroke: #1f77b4; stroke-width: 1.5; stroke-linecap: square\"/>\n   </g>\n   <g id=\"line2d_28\">\n    <path d=\"M 42.620312 64.851274 \nL 46.526313 64.851274 \nL 50.432313 64.851274 \nL 54.338313 64.851274 \nL 58.244313 64.851274 \nL 62.150312 64.851274 \nL 66.056313 64.851274 \nL 69.962312 64.851274 \nL 73.868313 64.851274 \nL 77.774314 64.851274 \nL 81.680312 64.851274 \nL 85.586313 64.851274 \nL 89.492314 64.851274 \nL 93.398311 64.851274 \nL 97.304312 64.851274 \nL 101.210313 64.851274 \nL 105.116313 64.851274 \nL 109.022314 64.851274 \nL 112.928315 64.851274 \nL 116.834312 64.851274 \nL 120.740313 64.851274 \nL 124.646309 64.851274 \nL 128.552314 64.851274 \nL 132.458311 64.851274 \nL 136.364316 64.851274 \nL 140.270312 64.851274 \nL 144.176318 64.851274 \nL 148.082314 64.851274 \nL 151.98832 64.851274 \nL 155.894316 64.851274 \nL 159.800313 64.851274 \nL 163.706318 64.851274 \nL 167.612314 64.851274 \nL 171.518311 64.851274 \nL 175.424316 64.851274 \nL 179.330312 64.851274 \nL 183.236318 64.851274 \nL 187.142314 64.851274 \nL 191.048311 64.851274 \nL 194.954316 64.851274 \nL 198.860313 64.851274 \nL 202.766309 64.851274 \nL 206.672305 64.851274 \nL 210.57832 64.851274 \nL 214.484316 64.851274 \nL 218.390312 64.851274 \nL 222.296309 64.851274 \nL 226.202305 64.851274 \nL 230.10832 64.851274 \nL 234.014316 64.851274 \n\" clip-path=\"url(#p3677f2f3c6)\" style=\"fill: none; stroke-dasharray: 5.55,2.4; stroke-dashoffset: 0; stroke: #bf00bf; stroke-width: 1.5\"/>\n   </g>\n   <g id=\"line2d_29\">\n    <defs>\n     <path id=\"md57917ee9c\" d=\"M 0 3 \nC 0.795609 3 1.55874 2.683901 2.12132 2.12132 \nC 2.683901 1.55874 3 0.795609 3 0 \nC 3 -0.795609 2.683901 -1.55874 2.12132 -2.12132 \nC 1.55874 -2.683901 0.795609 -3 0 -3 \nC -0.795609 -3 -1.55874 -2.683901 -2.12132 -2.12132 \nC -2.683901 -1.55874 -3 -0.795609 -3 0 \nC -3 0.795609 -2.683901 1.55874 -2.12132 2.12132 \nC -1.55874 2.683901 -0.795609 3 0 3 \nz\n\" style=\"stroke: #ff7f0e; stroke-opacity: 0.5\"/>\n    </defs>\n    <g clip-path=\"url(#p3677f2f3c6)\">\n     <use xlink:href=\"#md57917ee9c\" x=\"51.623518\" y=\"105.785021\" style=\"fill: #ff7f0e; fill-opacity: 0.5; stroke: #ff7f0e; stroke-opacity: 0.5\"/>\n     <use xlink:href=\"#md57917ee9c\" x=\"56.495304\" y=\"103.261138\" style=\"fill: #ff7f0e; fill-opacity: 0.5; stroke: #ff7f0e; stroke-opacity: 0.5\"/>\n     <use xlink:href=\"#md57917ee9c\" x=\"58.800716\" y=\"89.636422\" style=\"fill: #ff7f0e; fill-opacity: 0.5; stroke: #ff7f0e; stroke-opacity: 0.5\"/>\n     <use xlink:href=\"#md57917ee9c\" x=\"73.91069\" y=\"78.60022\" style=\"fill: #ff7f0e; fill-opacity: 0.5; stroke: #ff7f0e; stroke-opacity: 0.5\"/>\n     <use xlink:href=\"#md57917ee9c\" x=\"74.223175\" y=\"63.863967\" style=\"fill: #ff7f0e; fill-opacity: 0.5; stroke: #ff7f0e; stroke-opacity: 0.5\"/>\n     <use xlink:href=\"#md57917ee9c\" x=\"78.183103\" y=\"38.706608\" style=\"fill: #ff7f0e; fill-opacity: 0.5; stroke: #ff7f0e; stroke-opacity: 0.5\"/>\n     <use xlink:href=\"#md57917ee9c\" x=\"85.37305\" y=\"55.404032\" style=\"fill: #ff7f0e; fill-opacity: 0.5; stroke: #ff7f0e; stroke-opacity: 0.5\"/>\n     <use xlink:href=\"#md57917ee9c\" x=\"90.009733\" y=\"69.57236\" style=\"fill: #ff7f0e; fill-opacity: 0.5; stroke: #ff7f0e; stroke-opacity: 0.5\"/>\n     <use xlink:href=\"#md57917ee9c\" x=\"91.644472\" y=\"39.663481\" style=\"fill: #ff7f0e; fill-opacity: 0.5; stroke: #ff7f0e; stroke-opacity: 0.5\"/>\n     <use xlink:href=\"#md57917ee9c\" x=\"95.321127\" y=\"41.372355\" style=\"fill: #ff7f0e; fill-opacity: 0.5; stroke: #ff7f0e; stroke-opacity: 0.5\"/>\n     <use xlink:href=\"#md57917ee9c\" x=\"100.395858\" y=\"56.323735\" style=\"fill: #ff7f0e; fill-opacity: 0.5; stroke: #ff7f0e; stroke-opacity: 0.5\"/>\n     <use xlink:href=\"#md57917ee9c\" x=\"108.373727\" y=\"37.021223\" style=\"fill: #ff7f0e; fill-opacity: 0.5; stroke: #ff7f0e; stroke-opacity: 0.5\"/>\n     <use xlink:href=\"#md57917ee9c\" x=\"111.88077\" y=\"34.152074\" style=\"fill: #ff7f0e; fill-opacity: 0.5; stroke: #ff7f0e; stroke-opacity: 0.5\"/>\n     <use xlink:href=\"#md57917ee9c\" x=\"112.991967\" y=\"30.690294\" style=\"fill: #ff7f0e; fill-opacity: 0.5; stroke: #ff7f0e; stroke-opacity: 0.5\"/>\n     <use xlink:href=\"#md57917ee9c\" x=\"114.089819\" y=\"25.25332\" style=\"fill: #ff7f0e; fill-opacity: 0.5; stroke: #ff7f0e; stroke-opacity: 0.5\"/>\n     <use xlink:href=\"#md57917ee9c\" x=\"124.010414\" y=\"46.235968\" style=\"fill: #ff7f0e; fill-opacity: 0.5; stroke: #ff7f0e; stroke-opacity: 0.5\"/>\n     <use xlink:href=\"#md57917ee9c\" x=\"124.449877\" y=\"59.815063\" style=\"fill: #ff7f0e; fill-opacity: 0.5; stroke: #ff7f0e; stroke-opacity: 0.5\"/>\n     <use xlink:href=\"#md57917ee9c\" x=\"128.341765\" y=\"34.635867\" style=\"fill: #ff7f0e; fill-opacity: 0.5; stroke: #ff7f0e; stroke-opacity: 0.5\"/>\n     <use xlink:href=\"#md57917ee9c\" x=\"128.605257\" y=\"33.338329\" style=\"fill: #ff7f0e; fill-opacity: 0.5; stroke: #ff7f0e; stroke-opacity: 0.5\"/>\n     <use xlink:href=\"#md57917ee9c\" x=\"133.031931\" y=\"38.19791\" style=\"fill: #ff7f0e; fill-opacity: 0.5; stroke: #ff7f0e; stroke-opacity: 0.5\"/>\n     <use xlink:href=\"#md57917ee9c\" x=\"136.09926\" y=\"46.257144\" style=\"fill: #ff7f0e; fill-opacity: 0.5; stroke: #ff7f0e; stroke-opacity: 0.5\"/>\n     <use xlink:href=\"#md57917ee9c\" x=\"137.425472\" y=\"35.723773\" style=\"fill: #ff7f0e; fill-opacity: 0.5; stroke: #ff7f0e; stroke-opacity: 0.5\"/>\n     <use xlink:href=\"#md57917ee9c\" x=\"137.831288\" y=\"39.522622\" style=\"fill: #ff7f0e; fill-opacity: 0.5; stroke: #ff7f0e; stroke-opacity: 0.5\"/>\n     <use xlink:href=\"#md57917ee9c\" x=\"139.020567\" y=\"47.098955\" style=\"fill: #ff7f0e; fill-opacity: 0.5; stroke: #ff7f0e; stroke-opacity: 0.5\"/>\n     <use xlink:href=\"#md57917ee9c\" x=\"144.452102\" y=\"69.243734\" style=\"fill: #ff7f0e; fill-opacity: 0.5; stroke: #ff7f0e; stroke-opacity: 0.5\"/>\n     <use xlink:href=\"#md57917ee9c\" x=\"147.419888\" y=\"33.085569\" style=\"fill: #ff7f0e; fill-opacity: 0.5; stroke: #ff7f0e; stroke-opacity: 0.5\"/>\n     <use xlink:href=\"#md57917ee9c\" x=\"150.30022\" y=\"55.222092\" style=\"fill: #ff7f0e; fill-opacity: 0.5; stroke: #ff7f0e; stroke-opacity: 0.5\"/>\n     <use xlink:href=\"#md57917ee9c\" x=\"150.638436\" y=\"74.741769\" style=\"fill: #ff7f0e; fill-opacity: 0.5; stroke: #ff7f0e; stroke-opacity: 0.5\"/>\n     <use xlink:href=\"#md57917ee9c\" x=\"151.738164\" y=\"57.545159\" style=\"fill: #ff7f0e; fill-opacity: 0.5; stroke: #ff7f0e; stroke-opacity: 0.5\"/>\n     <use xlink:href=\"#md57917ee9c\" x=\"160.971245\" y=\"88.683173\" style=\"fill: #ff7f0e; fill-opacity: 0.5; stroke: #ff7f0e; stroke-opacity: 0.5\"/>\n     <use xlink:href=\"#md57917ee9c\" x=\"162.354469\" y=\"55.207266\" style=\"fill: #ff7f0e; fill-opacity: 0.5; stroke: #ff7f0e; stroke-opacity: 0.5\"/>\n     <use xlink:href=\"#md57917ee9c\" x=\"164.37164\" y=\"51.144538\" style=\"fill: #ff7f0e; fill-opacity: 0.5; stroke: #ff7f0e; stroke-opacity: 0.5\"/>\n     <use xlink:href=\"#md57917ee9c\" x=\"167.432087\" y=\"97.229352\" style=\"fill: #ff7f0e; fill-opacity: 0.5; stroke: #ff7f0e; stroke-opacity: 0.5\"/>\n     <use xlink:href=\"#md57917ee9c\" x=\"177.553575\" y=\"61.562357\" style=\"fill: #ff7f0e; fill-opacity: 0.5; stroke: #ff7f0e; stroke-opacity: 0.5\"/>\n     <use xlink:href=\"#md57917ee9c\" x=\"177.955135\" y=\"59.809087\" style=\"fill: #ff7f0e; fill-opacity: 0.5; stroke: #ff7f0e; stroke-opacity: 0.5\"/>\n     <use xlink:href=\"#md57917ee9c\" x=\"181.990484\" y=\"77.087863\" style=\"fill: #ff7f0e; fill-opacity: 0.5; stroke: #ff7f0e; stroke-opacity: 0.5\"/>\n     <use xlink:href=\"#md57917ee9c\" x=\"182.017146\" y=\"78.650563\" style=\"fill: #ff7f0e; fill-opacity: 0.5; stroke: #ff7f0e; stroke-opacity: 0.5\"/>\n     <use xlink:href=\"#md57917ee9c\" x=\"182.116614\" y=\"62.642118\" style=\"fill: #ff7f0e; fill-opacity: 0.5; stroke: #ff7f0e; stroke-opacity: 0.5\"/>\n     <use xlink:href=\"#md57917ee9c\" x=\"188.425744\" y=\"99.205782\" style=\"fill: #ff7f0e; fill-opacity: 0.5; stroke: #ff7f0e; stroke-opacity: 0.5\"/>\n     <use xlink:href=\"#md57917ee9c\" x=\"194.144881\" y=\"84.793793\" style=\"fill: #ff7f0e; fill-opacity: 0.5; stroke: #ff7f0e; stroke-opacity: 0.5\"/>\n     <use xlink:href=\"#md57917ee9c\" x=\"194.911338\" y=\"54.920498\" style=\"fill: #ff7f0e; fill-opacity: 0.5; stroke: #ff7f0e; stroke-opacity: 0.5\"/>\n     <use xlink:href=\"#md57917ee9c\" x=\"195.891167\" y=\"108.254901\" style=\"fill: #ff7f0e; fill-opacity: 0.5; stroke: #ff7f0e; stroke-opacity: 0.5\"/>\n     <use xlink:href=\"#md57917ee9c\" x=\"203.849237\" y=\"113.681489\" style=\"fill: #ff7f0e; fill-opacity: 0.5; stroke: #ff7f0e; stroke-opacity: 0.5\"/>\n     <use xlink:href=\"#md57917ee9c\" x=\"207.786133\" y=\"99.534501\" style=\"fill: #ff7f0e; fill-opacity: 0.5; stroke: #ff7f0e; stroke-opacity: 0.5\"/>\n     <use xlink:href=\"#md57917ee9c\" x=\"208.656547\" y=\"77.931938\" style=\"fill: #ff7f0e; fill-opacity: 0.5; stroke: #ff7f0e; stroke-opacity: 0.5\"/>\n     <use xlink:href=\"#md57917ee9c\" x=\"222.805561\" y=\"82.151012\" style=\"fill: #ff7f0e; fill-opacity: 0.5; stroke: #ff7f0e; stroke-opacity: 0.5\"/>\n     <use xlink:href=\"#md57917ee9c\" x=\"225.159458\" y=\"70.116211\" style=\"fill: #ff7f0e; fill-opacity: 0.5; stroke: #ff7f0e; stroke-opacity: 0.5\"/>\n     <use xlink:href=\"#md57917ee9c\" x=\"229.543081\" y=\"88.098068\" style=\"fill: #ff7f0e; fill-opacity: 0.5; stroke: #ff7f0e; stroke-opacity: 0.5\"/>\n     <use xlink:href=\"#md57917ee9c\" x=\"229.577034\" y=\"101.392\" style=\"fill: #ff7f0e; fill-opacity: 0.5; stroke: #ff7f0e; stroke-opacity: 0.5\"/>\n     <use xlink:href=\"#md57917ee9c\" x=\"230.616827\" y=\"90.497008\" style=\"fill: #ff7f0e; fill-opacity: 0.5; stroke: #ff7f0e; stroke-opacity: 0.5\"/>\n    </g>\n   </g>\n   <g id=\"patch_3\">\n    <path d=\"M 42.620312 149.599219 \nL 42.620312 10.999219 \n\" style=\"fill: none; stroke: #000000; stroke-width: 0.8; stroke-linejoin: miter; stroke-linecap: square\"/>\n   </g>\n   <g id=\"patch_4\">\n    <path d=\"M 237.920313 149.599219 \nL 237.920313 10.999219 \n\" style=\"fill: none; stroke: #000000; stroke-width: 0.8; stroke-linejoin: miter; stroke-linecap: square\"/>\n   </g>\n   <g id=\"patch_5\">\n    <path d=\"M 42.620312 149.599219 \nL 237.920313 149.599219 \n\" style=\"fill: none; stroke: #000000; stroke-width: 0.8; stroke-linejoin: miter; stroke-linecap: square\"/>\n   </g>\n   <g id=\"patch_6\">\n    <path d=\"M 42.620312 10.999219 \nL 237.920313 10.999219 \n\" style=\"fill: none; stroke: #000000; stroke-width: 0.8; stroke-linejoin: miter; stroke-linecap: square\"/>\n   </g>\n   <g id=\"legend_1\">\n    <g id=\"patch_7\">\n     <path d=\"M 173.58125 48.355469 \nL 230.920313 48.355469 \nQ 232.920313 48.355469 232.920313 46.355469 \nL 232.920313 17.999219 \nQ 232.920313 15.999219 230.920313 15.999219 \nL 173.58125 15.999219 \nQ 171.58125 15.999219 171.58125 17.999219 \nL 171.58125 46.355469 \nQ 171.58125 48.355469 173.58125 48.355469 \nz\n\" style=\"fill: #ffffff; opacity: 0.8; stroke: #cccccc; stroke-linejoin: miter\"/>\n    </g>\n    <g id=\"line2d_30\">\n     <path d=\"M 175.58125 24.097656 \nL 185.58125 24.097656 \nL 195.58125 24.097656 \n\" style=\"fill: none; stroke: #1f77b4; stroke-width: 1.5; stroke-linecap: square\"/>\n    </g>\n    <g id=\"text_16\">\n     <!-- Truth -->\n     <g transform=\"translate(203.58125 27.597656) scale(0.1 -0.1)\">\n      <defs>\n       <path id=\"DejaVuSans-54\" d=\"M -19 4666 \nL 3928 4666 \nL 3928 4134 \nL 2272 4134 \nL 2272 0 \nL 1638 0 \nL 1638 4134 \nL -19 4134 \nL -19 4666 \nz\n\" transform=\"scale(0.015625)\"/>\n       <path id=\"DejaVuSans-72\" d=\"M 2631 2963 \nQ 2534 3019 2420 3045 \nQ 2306 3072 2169 3072 \nQ 1681 3072 1420 2755 \nQ 1159 2438 1159 1844 \nL 1159 0 \nL 581 0 \nL 581 3500 \nL 1159 3500 \nL 1159 2956 \nQ 1341 3275 1631 3429 \nQ 1922 3584 2338 3584 \nQ 2397 3584 2469 3576 \nQ 2541 3569 2628 3553 \nL 2631 2963 \nz\n\" transform=\"scale(0.015625)\"/>\n       <path id=\"DejaVuSans-75\" d=\"M 544 1381 \nL 544 3500 \nL 1119 3500 \nL 1119 1403 \nQ 1119 906 1312 657 \nQ 1506 409 1894 409 \nQ 2359 409 2629 706 \nQ 2900 1003 2900 1516 \nL 2900 3500 \nL 3475 3500 \nL 3475 0 \nL 2900 0 \nL 2900 538 \nQ 2691 219 2414 64 \nQ 2138 -91 1772 -91 \nQ 1169 -91 856 284 \nQ 544 659 544 1381 \nz\nM 1991 3584 \nL 1991 3584 \nz\n\" transform=\"scale(0.015625)\"/>\n       <path id=\"DejaVuSans-74\" d=\"M 1172 4494 \nL 1172 3500 \nL 2356 3500 \nL 2356 3053 \nL 1172 3053 \nL 1172 1153 \nQ 1172 725 1289 603 \nQ 1406 481 1766 481 \nL 2356 481 \nL 2356 0 \nL 1766 0 \nQ 1100 0 847 248 \nQ 594 497 594 1153 \nL 594 3053 \nL 172 3053 \nL 172 3500 \nL 594 3500 \nL 594 4494 \nL 1172 4494 \nz\n\" transform=\"scale(0.015625)\"/>\n       <path id=\"DejaVuSans-68\" d=\"M 3513 2113 \nL 3513 0 \nL 2938 0 \nL 2938 2094 \nQ 2938 2591 2744 2837 \nQ 2550 3084 2163 3084 \nQ 1697 3084 1428 2787 \nQ 1159 2491 1159 1978 \nL 1159 0 \nL 581 0 \nL 581 4863 \nL 1159 4863 \nL 1159 2956 \nQ 1366 3272 1645 3428 \nQ 1925 3584 2291 3584 \nQ 2894 3584 3203 3211 \nQ 3513 2838 3513 2113 \nz\n\" transform=\"scale(0.015625)\"/>\n      </defs>\n      <use xlink:href=\"#DejaVuSans-54\"/>\n      <use xlink:href=\"#DejaVuSans-72\" transform=\"translate(46.333984 0)\"/>\n      <use xlink:href=\"#DejaVuSans-75\" transform=\"translate(87.447266 0)\"/>\n      <use xlink:href=\"#DejaVuSans-74\" transform=\"translate(150.826172 0)\"/>\n      <use xlink:href=\"#DejaVuSans-68\" transform=\"translate(190.035156 0)\"/>\n     </g>\n    </g>\n    <g id=\"line2d_31\">\n     <path d=\"M 175.58125 38.775781 \nL 185.58125 38.775781 \nL 195.58125 38.775781 \n\" style=\"fill: none; stroke-dasharray: 5.55,2.4; stroke-dashoffset: 0; stroke: #bf00bf; stroke-width: 1.5\"/>\n    </g>\n    <g id=\"text_17\">\n     <!-- Pred -->\n     <g transform=\"translate(203.58125 42.275781) scale(0.1 -0.1)\">\n      <defs>\n       <path id=\"DejaVuSans-50\" d=\"M 1259 4147 \nL 1259 2394 \nL 2053 2394 \nQ 2494 2394 2734 2622 \nQ 2975 2850 2975 3272 \nQ 2975 3691 2734 3919 \nQ 2494 4147 2053 4147 \nL 1259 4147 \nz\nM 628 4666 \nL 2053 4666 \nQ 2838 4666 3239 4311 \nQ 3641 3956 3641 3272 \nQ 3641 2581 3239 2228 \nQ 2838 1875 2053 1875 \nL 1259 1875 \nL 1259 0 \nL 628 0 \nL 628 4666 \nz\n\" transform=\"scale(0.015625)\"/>\n       <path id=\"DejaVuSans-65\" d=\"M 3597 1894 \nL 3597 1613 \nL 953 1613 \nQ 991 1019 1311 708 \nQ 1631 397 2203 397 \nQ 2534 397 2845 478 \nQ 3156 559 3463 722 \nL 3463 178 \nQ 3153 47 2828 -22 \nQ 2503 -91 2169 -91 \nQ 1331 -91 842 396 \nQ 353 884 353 1716 \nQ 353 2575 817 3079 \nQ 1281 3584 2069 3584 \nQ 2775 3584 3186 3129 \nQ 3597 2675 3597 1894 \nz\nM 3022 2063 \nQ 3016 2534 2758 2815 \nQ 2500 3097 2075 3097 \nQ 1594 3097 1305 2825 \nQ 1016 2553 972 2059 \nL 3022 2063 \nz\n\" transform=\"scale(0.015625)\"/>\n       <path id=\"DejaVuSans-64\" d=\"M 2906 2969 \nL 2906 4863 \nL 3481 4863 \nL 3481 0 \nL 2906 0 \nL 2906 525 \nQ 2725 213 2448 61 \nQ 2172 -91 1784 -91 \nQ 1150 -91 751 415 \nQ 353 922 353 1747 \nQ 353 2572 751 3078 \nQ 1150 3584 1784 3584 \nQ 2172 3584 2448 3432 \nQ 2725 3281 2906 2969 \nz\nM 947 1747 \nQ 947 1113 1208 752 \nQ 1469 391 1925 391 \nQ 2381 391 2643 752 \nQ 2906 1113 2906 1747 \nQ 2906 2381 2643 2742 \nQ 2381 3103 1925 3103 \nQ 1469 3103 1208 2742 \nQ 947 2381 947 1747 \nz\n\" transform=\"scale(0.015625)\"/>\n      </defs>\n      <use xlink:href=\"#DejaVuSans-50\"/>\n      <use xlink:href=\"#DejaVuSans-72\" transform=\"translate(58.552734 0)\"/>\n      <use xlink:href=\"#DejaVuSans-65\" transform=\"translate(97.416016 0)\"/>\n      <use xlink:href=\"#DejaVuSans-64\" transform=\"translate(158.939453 0)\"/>\n     </g>\n    </g>\n   </g>\n  </g>\n </g>\n <defs>\n  <clipPath id=\"p3677f2f3c6\">\n   <rect x=\"42.620312\" y=\"10.999219\" width=\"195.3\" height=\"138.6\"/>\n  </clipPath>\n </defs>\n</svg>\n"
          },
          "metadata": {}
        }
      ],
      "source": [
        "print(\"y_train.mean(): \",y_train.mean())\n",
        "print(\"n_test: \", n_test)\n",
        "y_hat = torch.repeat_interleave(y_train.mean(), n_test)\n",
        "plot_kernel_reg(y_hat)"
      ]
    },
    {
      "cell_type": "markdown",
      "id": "2d4155fa",
      "metadata": {
        "origin_pos": 21,
        "id": "2d4155fa"
      },
      "source": [
        "## [**非参数注意力汇聚**]\n",
        "\n",
        "显然，平均汇聚忽略了输入$x_i$。\n",
        "于是Nadaraya :cite:`Nadaraya.1964`和\n",
        "Watson :cite:`Watson.1964`提出了一个更好的想法，\n",
        "根据输入的位置对输出$y_i$进行加权：\n",
        "\n",
        "$$f(x) = \\sum_{i=1}^n \\frac{K(x - x_i)}{\\sum_{j=1}^n K(x - x_j)} y_i,$$\n",
        ":eqlabel:`eq_nadaraya-watson`\n",
        "\n",
        "其中$K$是*核*（kernel）。\n",
        "公式 :eqref:`eq_nadaraya-watson`所描述的估计器被称为\n",
        "*Nadaraya-Watson核回归*（Nadaraya-Watson kernel regression）。\n",
        "这里不会深入讨论核函数的细节，\n",
        "但受此启发，\n",
        "我们可以从 :numref:`fig_qkv`中的注意力机制框架的角度\n",
        "重写 :eqref:`eq_nadaraya-watson`，\n",
        "成为一个更加通用的*注意力汇聚*（attention pooling）公式：\n",
        "\n",
        "$$f(x) = \\sum_{i=1}^n \\alpha(x, x_i) y_i,$$\n",
        ":eqlabel:`eq_attn-pooling`\n",
        "\n",
        "其中$x$是查询，$(x_i, y_i)$是键值对。\n",
        "比较 :eqref:`eq_attn-pooling`和 :eqref:`eq_avg-pooling`，\n",
        "注意力汇聚是$y_i$的加权平均。\n",
        "将查询$x$和键$x_i$之间的关系建模为\n",
        "*注意力权重*（attention weight）$\\alpha(x, x_i)$，\n",
        "如 :eqref:`eq_attn-pooling`所示，\n",
        "这个权重将被分配给每一个对应值$y_i$。\n",
        "对于任何查询，模型在所有键值对注意力权重都是一个有效的概率分布：\n",
        "它们是非负的，并且总和为1。\n",
        "\n",
        "为了更好地理解注意力汇聚，\n",
        "下面考虑一个*高斯核*（Gaussian kernel），其定义为：\n",
        "\n",
        "$$K(u) = \\frac{1}{\\sqrt{2\\pi}} \\exp(-\\frac{u^2}{2}).$$\n",
        "\n",
        "将高斯核代入 :eqref:`eq_attn-pooling`和\n",
        " :eqref:`eq_nadaraya-watson`可以得到：\n",
        "\n",
        "$$\\begin{aligned} f(x) &=\\sum_{i=1}^n \\alpha(x, x_i) y_i\\\\ &= \\sum_{i=1}^n \\frac{\\exp\\left(-\\frac{1}{2}(x - x_i)^2\\right)}{\\sum_{j=1}^n \\exp\\left(-\\frac{1}{2}(x - x_j)^2\\right)} y_i \\\\&= \\sum_{i=1}^n \\mathrm{softmax}\\left(-\\frac{1}{2}(x - x_i)^2\\right) y_i. \\end{aligned}$$\n",
        ":eqlabel:`eq_nadaraya-watson-gaussian`\n",
        "\n",
        "在 :eqref:`eq_nadaraya-watson-gaussian`中，\n",
        "如果一个键$x_i$越是接近给定的查询$x$，\n",
        "那么分配给这个键对应值$y_i$的注意力权重就会越大，\n",
        "也就“获得了更多的注意力”。\n",
        "\n",
        "值得注意的是，Nadaraya-Watson核回归是一个非参数模型。\n",
        "因此， :eqref:`eq_nadaraya-watson-gaussian`是\n",
        "*非参数的注意力汇聚*（nonparametric attention pooling）模型。\n",
        "接下来，我们将基于这个非参数的注意力汇聚模型来绘制预测结果。\n",
        "从绘制的结果会发现新的模型预测线是平滑的，并且比平均汇聚的预测更接近真实。\n"
      ]
    },
    {
      "cell_type": "code",
      "execution_count": 21,
      "id": "892e92a9",
      "metadata": {
        "execution": {
          "iopub.execute_input": "2023-08-18T07:07:16.925532Z",
          "iopub.status.busy": "2023-08-18T07:07:16.924886Z",
          "iopub.status.idle": "2023-08-18T07:07:17.137585Z",
          "shell.execute_reply": "2023-08-18T07:07:17.136490Z"
        },
        "origin_pos": 23,
        "tab": [
          "pytorch"
        ],
        "id": "892e92a9",
        "outputId": "df9dec55-5474-46bd-baa5-1dce48fe79d7",
        "colab": {
          "base_uri": "https://localhost:8080/",
          "height": 626
        }
      },
      "outputs": [
        {
          "output_type": "stream",
          "name": "stdout",
          "text": [
            "x_test.shape:  torch.Size([50])\n",
            "x_test:  tensor([0.0000, 0.1000, 0.2000, 0.3000, 0.4000, 0.5000, 0.6000, 0.7000, 0.8000,\n",
            "        0.9000, 1.0000, 1.1000, 1.2000, 1.3000, 1.4000, 1.5000, 1.6000, 1.7000,\n",
            "        1.8000, 1.9000, 2.0000, 2.1000, 2.2000, 2.3000, 2.4000, 2.5000, 2.6000,\n",
            "        2.7000, 2.8000, 2.9000, 3.0000, 3.1000, 3.2000, 3.3000, 3.4000, 3.5000,\n",
            "        3.6000, 3.7000, 3.8000, 3.9000, 4.0000, 4.1000, 4.2000, 4.3000, 4.4000,\n",
            "        4.5000, 4.6000, 4.7000, 4.8000, 4.9000])\n",
            "n_train:  50\n",
            "X_repeat.shape:  torch.Size([50, 50])\n",
            "attention_weights:  tensor([[1.1009e-01, 1.0614e-01, 1.0375e-01,  ..., 1.2031e-06, 1.1982e-06,\n",
            "         1.0544e-06],\n",
            "        [1.0155e-01, 9.9139e-02, 9.7487e-02,  ..., 1.7502e-06, 1.7431e-06,\n",
            "         1.5381e-06],\n",
            "        [9.3271e-02, 9.2197e-02, 9.1198e-02,  ..., 2.5350e-06, 2.5249e-06,\n",
            "         2.2339e-06],\n",
            "        ...,\n",
            "        [2.9895e-06, 5.1800e-06, 6.6825e-06,  ..., 6.4840e-02, 6.4836e-02,\n",
            "         6.4664e-02],\n",
            "        [2.0499e-06, 3.5964e-06, 4.6670e-06,  ..., 7.0112e-02, 7.0113e-02,\n",
            "         7.0113e-02],\n",
            "        [1.3992e-06, 2.4856e-06, 3.2446e-06,  ..., 7.5467e-02, 7.5474e-02,\n",
            "         7.5676e-02]])\n",
            "attention_weights.shape:  torch.Size([50, 50])\n",
            "y_train.shape:  torch.Size([3])\n"
          ]
        },
        {
          "output_type": "error",
          "ename": "RuntimeError",
          "evalue": "size mismatch, got input (50), mat (50x50), vec (3)",
          "traceback": [
            "\u001b[0;31m---------------------------------------------------------------------------\u001b[0m",
            "\u001b[0;31mRuntimeError\u001b[0m                              Traceback (most recent call last)",
            "\u001b[0;32m/tmp/ipython-input-166913891.py\u001b[0m in \u001b[0;36m<cell line: 0>\u001b[0;34m()\u001b[0m\n\u001b[1;32m     15\u001b[0m \u001b[0;31m# y_hat的每个元素都是值的加权平均值，其中的权重是注意力权重\u001b[0m\u001b[0;34m\u001b[0m\u001b[0;34m\u001b[0m\u001b[0m\n\u001b[1;32m     16\u001b[0m \u001b[0mprint\u001b[0m\u001b[0;34m(\u001b[0m\u001b[0;34m\"y_train.shape: \"\u001b[0m\u001b[0;34m,\u001b[0m\u001b[0my_train\u001b[0m\u001b[0;34m.\u001b[0m\u001b[0mshape\u001b[0m\u001b[0;34m)\u001b[0m\u001b[0;34m\u001b[0m\u001b[0;34m\u001b[0m\u001b[0m\n\u001b[0;32m---> 17\u001b[0;31m \u001b[0my_hat\u001b[0m \u001b[0;34m=\u001b[0m \u001b[0mtorch\u001b[0m\u001b[0;34m.\u001b[0m\u001b[0mmatmul\u001b[0m\u001b[0;34m(\u001b[0m\u001b[0mattention_weights\u001b[0m\u001b[0;34m,\u001b[0m \u001b[0my_train\u001b[0m\u001b[0;34m)\u001b[0m\u001b[0;31m#得到就是50个样本 这50个样本是加权平均得到\u001b[0m\u001b[0;34m\u001b[0m\u001b[0;34m\u001b[0m\u001b[0m\n\u001b[0m\u001b[1;32m     18\u001b[0m \u001b[0mplot_kernel_reg\u001b[0m\u001b[0;34m(\u001b[0m\u001b[0my_hat\u001b[0m\u001b[0;34m)\u001b[0m \u001b[0;31m#因为有负号 所以离得越近 权重越大。\u001b[0m\u001b[0;34m\u001b[0m\u001b[0;34m\u001b[0m\u001b[0m\n",
            "\u001b[0;31mRuntimeError\u001b[0m: size mismatch, got input (50), mat (50x50), vec (3)"
          ]
        }
      ],
      "source": [
        "# X_repeat的形状:(n_test,n_train),\n",
        "# 每一行都包含着相同的测试输入（例如：同样的查询）\n",
        "print(\"x_test.shape: \",x_test.shape)\n",
        "print(\"x_test: \",x_test)\n",
        "print(\"n_train: \",n_train)#将50个数每一行复制了50个\n",
        "X_repeat = x_test.repeat_interleave(n_train).reshape((-1, n_train))\n",
        "print(\"X_repeat.shape: \",X_repeat.shape)\n",
        "# x_train包含着键。attention_weights的形状：(n_test,n_train),\n",
        "# 每一行都包含着要在给定的每个查询的值（y_train）之间分配的注意力权重\n",
        "#X_repeat - x_train是50*50 - 50*1  每个数都-一个数 dim=1是消掉\n",
        "attention_weights = nn.functional.softmax(-(X_repeat - x_train)**2 / 2, dim=1)#每一个测试样本-所有的训练样本 计算每一个测试样本和训练样本的相似度 [50,50] 然后dim=1是计算其概率 得到的还是[50,50]\n",
        "\n",
        "print(\"attention_weights: \",attention_weights)\n",
        "print(\"attention_weights.shape: \",attention_weights.shape)\n",
        "# y_hat的每个元素都是值的加权平均值，其中的权重是注意力权重\n",
        "print(\"y_train.shape: \",y_train.shape)\n",
        "y_hat = torch.matmul(attention_weights, y_train)#得到就是50个样本 这50个样本是加权平均得到\n",
        "plot_kernel_reg(y_hat) #因为有负号 所以离得越近 权重越大。"
      ]
    },
    {
      "cell_type": "code",
      "source": [
        "# 假设数据\n",
        "y_train = torch.tensor([10.0, 20.0, 30.0])  # 3个训练样本的真实值\n",
        "attention_weights = torch.tensor([\n",
        "    [0.2, 0.5, 0.3],  # 测试样本0的注意力权重：与训练样本0相似度0.2，样本1相似度0.5，样本2相似度0.3\n",
        "    [0.1, 0.1, 0.8]   # 测试样本1的注意力权重：与训练样本0相似度0.1，样本1相似度0.1，样本2相似度0.8\n",
        "])\n",
        "\n",
        "# 计算预测\n",
        "y_hat = torch.matmul(attention_weights, y_train)\n",
        "# y_hat[0] = 0.2 * 10 + 0.5 * 20 + 0.3 * 30 = 2 + 10 + 9 = 21.0\n",
        "# y_hat[1] = 0.1 * 10 + 0.1 * 20 + 0.8 * 30 = 1 + 2 + 24 = 27.0"
      ],
      "metadata": {
        "id": "GrILipzc92kS"
      },
      "id": "GrILipzc92kS",
      "execution_count": 19,
      "outputs": []
    },
    {
      "cell_type": "markdown",
      "id": "60a40ebc",
      "metadata": {
        "origin_pos": 26,
        "id": "60a40ebc"
      },
      "source": [
        "现在来观察注意力的权重。\n",
        "这里测试数据的输入相当于查询，而训练数据的输入相当于键。\n",
        "因为两个输入都是经过排序的，因此由观察可知“查询-键”对越接近，\n",
        "注意力汇聚的[**注意力权重**]就越高。\n"
      ]
    },
    {
      "cell_type": "code",
      "execution_count": 22,
      "id": "5068c7e7",
      "metadata": {
        "execution": {
          "iopub.execute_input": "2023-08-18T07:07:17.141869Z",
          "iopub.status.busy": "2023-08-18T07:07:17.141398Z",
          "iopub.status.idle": "2023-08-18T07:07:17.325925Z",
          "shell.execute_reply": "2023-08-18T07:07:17.325070Z"
        },
        "origin_pos": 28,
        "tab": [
          "pytorch"
        ],
        "id": "5068c7e7",
        "outputId": "064375ec-bd53-4595-da73-af24cf415cd6",
        "colab": {
          "base_uri": "https://localhost:8080/",
          "height": 233
        }
      },
      "outputs": [
        {
          "output_type": "display_data",
          "data": {
            "text/plain": [
              "<Figure size 250x250 with 2 Axes>"
            ],
            "image/svg+xml": "<?xml version=\"1.0\" encoding=\"utf-8\" standalone=\"no\"?>\n<!DOCTYPE svg PUBLIC \"-//W3C//DTD SVG 1.1//EN\"\n  \"http://www.w3.org/Graphics/SVG/1.1/DTD/svg11.dtd\">\n<svg xmlns:xlink=\"http://www.w3.org/1999/xlink\" width=\"199.80175pt\" height=\"159.039469pt\" viewBox=\"0 0 199.80175 159.039469\" xmlns=\"http://www.w3.org/2000/svg\" version=\"1.1\">\n <metadata>\n  <rdf:RDF xmlns:dc=\"http://purl.org/dc/elements/1.1/\" xmlns:cc=\"http://creativecommons.org/ns#\" xmlns:rdf=\"http://www.w3.org/1999/02/22-rdf-syntax-ns#\">\n   <cc:Work>\n    <dc:type rdf:resource=\"http://purl.org/dc/dcmitype/StillImage\"/>\n    <dc:date>2025-09-26T03:27:14.977601</dc:date>\n    <dc:format>image/svg+xml</dc:format>\n    <dc:creator>\n     <cc:Agent>\n      <dc:title>Matplotlib v3.10.0, https://matplotlib.org/</dc:title>\n     </cc:Agent>\n    </dc:creator>\n   </cc:Work>\n  </rdf:RDF>\n </metadata>\n <defs>\n  <style type=\"text/css\">*{stroke-linejoin: round; stroke-linecap: butt}</style>\n </defs>\n <g id=\"figure_1\">\n  <g id=\"patch_1\">\n   <path d=\"M 0 159.039469 \nL 199.80175 159.039469 \nL 199.80175 0 \nL 0 0 \nz\n\" style=\"fill: #ffffff\"/>\n  </g>\n  <g id=\"axes_1\">\n   <g id=\"patch_2\">\n    <path d=\"M 40.603125 121.483219 \nL 152.203125 121.483219 \nL 152.203125 9.883219 \nL 40.603125 9.883219 \nz\n\" style=\"fill: #ffffff\"/>\n   </g>\n   <g clip-path=\"url(#p0ff6922181)\">\n    <image xlink:href=\"data:image/png;base64,\niVBORw0KGgoAAAANSUhEUgAAAJsAAACbCAYAAAB1YemMAAAOt0lEQVR4nO2d247byBVFSYl98WWCTD4gf5D//5kkCBAEmMTx2GO73TdJzENsc58SV/Wh5C7Jg72eKHaRouxCbZ5r9ePN+7E7M8Yx8UjjrnaDp6/RMfh9cn63nT/uuq7b6fVw3/sbeQx5js3DdPxwN4355R/z97/5AM9afN+bX6bTb/8r37eR+07Psfvnv74dbz/Kc2ym3/rub3Kfrus22+n7tpvK/8cXVk+OMOY74clmmjGc+gG+kpLOeMHyvwXphGWfrlXp2xVjSlmdbjYdbR7nx6usPT7Mn9dn1TE19PqtfJ/+Pjnfr/rpeD2/Br18GadLuFX5bzKDVzbTDE8204yzkdHAUknduyYjowut0WDJFhJMVq5evwVZ29xPo7cgqcF6lTF7j0vWMz2fINLZD6vZ88MfXuD3XfR99xRe2UwzPNlMM04qo2NKysIVlfGJe5EUZqzXYI2WTl2w9vSZHie5DONVLuk4LaPTuHELFjJIar8SGb2cpkUvY9aFjPb90xas4pXNNMOTzTTjPK1RsibDkFpslBy2KoU6JiOjtdhoQkaDk3Vy8I7BqStSG5zA4/z56vMmXhOUYZoKKxmvrzqlNRocwcN6/r4itV7ZTDM82UwzPNlMM5q/s3HAPfHelDlf/g3fY/QYnoMC98U7W/D8KzJu1Lw1fe+S97eQ2xYC8fDuV0N/K3n39by8s+l5dX30L4r3Mr3+8vLJ7/DKZprhyWaa8WwymkvtXhgwD2OSrg+UwkwEQcaoVJaujy3knul9NSIQpPNxfgzls2HuXAEG3NfzYy4upuMBpkUplRJ16K6v56+xjJpT4MlmmnE+EQSUzqw1Ct5+/A6KJnQwRi3Lwouv8kfBfgrEkwUaUrkTz9p1LJ0qdzRGJZLGvHoVP4vc9iSjq0m2vbKZZniymWZ8VxldboEmHKh0bc0qo0ofCqYnZHQkq7HrQmp3YAtymcln24GMVp3Z8DvWECTXe6mDVo81z+2nn+L1g1iwV0XK+LfrbY2aE+DJZprxfNZoqmKJqpcy1mjFKiOJ1fNbiD3S86mMlrIJhcMjySUVKYeYKVnUT/fU6LqO4570/6JO3RWsQS9fF9eIBXsNMrq2NWpOgCebacZRMrq4P8f+DeA4YY2W352xVCG+OZI1Ss7XQjZH6r9BchnOP86PycoloRYoyaKiVmdIN5JrX1es0Rcv5+8r13tlM83wZDPNSMloWi4XxzSTvTTmri2lMiOjFN9E2Z23JvdkcwMyugW5zMirEpyvufVBi45TMqqW5QVk3ZbWqMrotWXUnBGebKYZ39mpm8mwzRSUQAHxQTIK3R+DkzVRsBKyaAvZzFij1DKLjhWKW9ZQiaPYqKKxTU030u8rZXSdiI3aqWtOgSebacZxMnpQE2WwOpfWdFKtZlep4wxSKPFNbC813yFyr9/GFvpy6O+g3h3UJ4SszoQi7l2vMkoyrJm2V3Ks46+LTF2R0d4yas4JTzbTjJyMZlsmpLJwE+0QsKZTLMuKjKKTVaVQnbQLnbppa5QsTdiLIPwbrMjqTOqoFJoEJ606eFUiX7yaHy8yuCeVwREMBS+WUXMKPNlMMzzZTDO+bwQhs6lFxvWRaRtavrNRQbBCwfRMGnklnw3bWNF7WqaXyYrahibXB40CaMp3D+9smtZ9eTU/vnR96DOC66N3rw9zCjzZTDOCjB7dFTKzqQXKKAStyYUiuw7vQdVO5L5IRRA288ddxx28My4fQgPpSiao3nVROrGAeDU/hmT0snBvrKXXBz1vZxk1J8CTzTRjOK5DZLkVIkkF7QGV6Oyo/Taok2P5WKGvhhYaJ/pqKBhBKAPxZHUmW119RSWLuj+SlVpymQis9ySj1zJcmjmX6eL6LCt4Xluj5hR4splmsFM31UT5AGuUnLeagp2R1DIYrt9Hliq1p8pYzrU+HOF3LCzcpvwyktHS6qPrr8SiJOsy7GMg0knj1+V3698so+aM8GQzzYhr39I9B8rz1NlxhDEil0E6yeEa4p8VGSVLNSOj4Z6Qd7a3D0Jib4JMobDKGhUK0/mSYI2KpRlkVPp7gDUanqmUSr0X/T7LqDkFnmymGcNhew58oXRUZlK7tSBYpVMtyA1InMpVLTZKaeHkmM28Puwgxbt2vZIpNF5DKrdSnqeUowu1RlUWRTrBGu0GKFIuHcq1v82M8cpmmuHJZprxna1RyraFbXnIAhWJHNHJeoA1Ghyz6jheaI0e0nEzxBEhPkkyqmMOsEZ7rXyi7xbZ7dfzG93uWZxg2cYxllFzAjzZTDOGVJurTEFI+ZmybTPSmdlWp+bU3YBEUtsqek3YJf5tslC/jdBoWY7LrNhv56/mzxf0ej05abVps0pncN7WLM6KxM6M8cpmmuHJZprBTt3MVj+lFRcsPIl77sCKVOl80D4cckwdJUsZJblUqG3VsXsOZLpB0t4CKqM65gIcqySvJSq3dC9KEQpyCeNr94IxXtlMMzzZTDOGVONkjHOWqTYindT3X2OadEyxUZW+SsEL1nEe65j9SimbJCHqQNUMW7JGEy2o+iHp1FUnLTqCwdLE4pUDZFTwymaa4clmmuHJZprBro+MK6E4Hyqe1JWhOWxyPro75J3tEYqMqdpp77ko4nGEi2NVCTpT/w3azVjfj4LrY3q36o91fei7XaKAGBMFUlGCLuX+8cpmmuHJZpoxYOrzCMFzpdzzSWXx/vPsfUOQXcfcw6YWmM9W6RaeSWPPVDsp5PUvP5M7IHTshuC7jqGAezKfraeIAKWnhy0jqZ9I6fJZtqeWVzbTDE8204wh1ThZ5VLOj6VFSIF1jCDcz59XiaQgea0wmGQ0u33i3Pg1WJBdx30uVJoGkNFgjWrwHGQ0G0FYLKM65umg+v5ny6g5IzzZTDOG2J9jPig/UkFwcX68v50+gDUaLVYZHwqI52U7QKnqNfqE85XOBxktZDPTbPkCnKyDNkGWMVAo3JNkl5DFG5QPLOesjC7EK5tphiebacaAMdBMJ0eVwa6L0vkgf9uSjMp978F6VWqp3KF9U2K5r8U65+6j8lXKJqV8h3w2sS51W8X1fCo4yuVBMpqQRepImbU47dQ154Qnm2nGgC2sVKZELkPvjVJe7z7P/432E3iY39l4cQuq8nlpt2GSzlSKkEhn2VyZ+nLQHgIrqqi6mh+TaU1VEmKduqYkLO/szn8LrVOvbKYZnmymGUNsIzUdazur8e5m/uo9a1Q+34E1GrpNkiM3kVFbS7VB6xK261mRJQbjy++meKXKM+0tEORZ7oPx1qyMQqwTHdiZMcudut7c1pwETzbTjCFIZ0jzEXlVK1O5K2T0VuSWnLRhk9jKFj1PQXupdl2uQTK1qqLxFxC37DpOBwpZuCqj6iyefkifeaaalB0T61yYdbt/Kzt1zRnhyWaaMQTp1Nimyp3Kozpc7wun7i0UsNBeBlRIk2rFVJwPcUyQoGD5yXGqubKML2UTLON+BWlJcr4PzlewkJVDnLoZiVyYdfv/S+zUNWeKJ5tpxqDSOX7+NP1FrNROz2uaj8Y2uy7KaGihIFm/1H4rNBNWqQAHL0ll17EsQjrPYmu0kE1sY6WpRKFlFliKqaKT7PpwQKzzqTs6U9f8KHiymWZ4splmDOE97Rbe2T59nL+6eGcbb8F1EgZBrlpIrYYeFFTtVLtXOA85afSuBH049t7RKCkAK5wS72zo+kiuD/TvhhwXQcjglc00w5PNNGPoPn+YPqmkqgzqee318Vj0+ri7mx2HHR9pwwmFogm17QipMzcF00m+1NM/sOsjJ6PwmrDU9ZH07i+WxWeSTsUrm2mGJ5tpxtDdiKV5I3IpEYDxRgLxu0r3x0foGKnUrMivUBUUVTuVfyNZoygASRzmsxXfvZ6X7eBxx7ZVUNScSW2vgbL4/HJJeGUzzfBkM80Yuo+/TZ/UeauB9E8ir0opoyqxtIxnxlD+FclaCfXeCFIIvTdI+jSHrXDqYl8OKhROdX88UgYPyE+bLrVT1/zgeLKZZgzd+1+/fRg/i9WpluUNFCnXKqLWiTifWqwkJ1QRVTqBSS6Dsxe266H8t9CTo9LOauk+A+hwXXq+xrJrnks6Fa9sphmebKYZw/jb++mTyqVYmuMnkNGCfq1SBvFJkNRQZaROUyrcLa1RkMuQbo5O3af7YlQLiDMyir00KJ3qeZoonxKvbKYZnmymGUP37t306VY6TIo1uv1UVFEBq+vJSluRM3ZputEhMkp9NSjFiOK1lCL0PWU0VZB9gIP2DOXWK5tphiebacawezvJ6O7zFA/dbWRD2rv5/dj7i1JOxHq7nOQyLOjkyKU+HLSNT1l0spp36gZnpcZDqdeHWqC04WtNRhX94Rmn7pFtq4gWDtsMXtlMMzzZTDOGh39PKUY7lcvt03sR9Jfr4rPI3BZSicjBqxYoHlfaVqn8BaeuyqjugAe9NxRKEdqT0Uw6UEYuE1bnmUjiIXhlM83wZDPNGG7/M2Xnbh6ltZVYjdfX85mo6zEWfoxbbY01XY8Lf7A0VSLV+UoyWmTLkvMWY6aJfQIo7amUzYwzFgtVft8WqOKVzTTDk800w5PNNGN4+3bqz7GT9yx9Z/v5j/MXvyhfC7YQZKegfNjbCXLN4J1tr23VCt7Z9DFSLawy3v1Kn5FwfqEr45kiCOeCVzbTDE8204zhzYf5XDWdhS/E9aEm9TBE2bxUd8cKzH49DkXHx7k+cIMMdF8k2lNR1GBvw48j3BoL5fIcXRpZvLKZZniymWYMbyT9eyXL/lpW6z89TLltuoxfXRVzlXLVwBrtSTqvJMi+SkQZCrj3BskoBcz1dKXr5VJLE/lxJTKDVzbTDE8204zh77eTjL6WIuNrsSb//DBZnWpkbrYgV+VAzFsTWby8lvPQ5ZEktevY6gzPRPsdJPLRag7abDdIun7mO35kq5Pwymaa4clmmjH8VVLBfx4mmXkp0vKXjVRKyfKusdQvf5wOKbWbLFA6Xs9XWqHF2XUVGU10glRSvTq6LmdF/v5kcSle2UwzPNlMM/4Hy4mEdEJFk5MAAAAASUVORK5CYII=\" id=\"image8251410537\" transform=\"scale(1 -1) translate(0 -111.6)\" x=\"40.603125\" y=\"-9.883219\" width=\"111.6\" height=\"111.6\"/>\n   </g>\n   <g id=\"matplotlib.axis_1\">\n    <g id=\"xtick_1\">\n     <g id=\"line2d_1\">\n      <defs>\n       <path id=\"mf4866286fe\" d=\"M 0 0 \nL 0 3.5 \n\" style=\"stroke: #000000; stroke-width: 0.8\"/>\n      </defs>\n      <g>\n       <use xlink:href=\"#mf4866286fe\" x=\"41.719125\" y=\"121.483219\" style=\"stroke: #000000; stroke-width: 0.8\"/>\n      </g>\n     </g>\n     <g id=\"text_1\">\n      <!-- 0 -->\n      <g transform=\"translate(38.537875 136.081656) scale(0.1 -0.1)\">\n       <defs>\n        <path id=\"DejaVuSans-30\" d=\"M 2034 4250 \nQ 1547 4250 1301 3770 \nQ 1056 3291 1056 2328 \nQ 1056 1369 1301 889 \nQ 1547 409 2034 409 \nQ 2525 409 2770 889 \nQ 3016 1369 3016 2328 \nQ 3016 3291 2770 3770 \nQ 2525 4250 2034 4250 \nz\nM 2034 4750 \nQ 2819 4750 3233 4129 \nQ 3647 3509 3647 2328 \nQ 3647 1150 3233 529 \nQ 2819 -91 2034 -91 \nQ 1250 -91 836 529 \nQ 422 1150 422 2328 \nQ 422 3509 836 4129 \nQ 1250 4750 2034 4750 \nz\n\" transform=\"scale(0.015625)\"/>\n       </defs>\n       <use xlink:href=\"#DejaVuSans-30\"/>\n      </g>\n     </g>\n    </g>\n    <g id=\"xtick_2\">\n     <g id=\"line2d_2\">\n      <g>\n       <use xlink:href=\"#mf4866286fe\" x=\"86.359125\" y=\"121.483219\" style=\"stroke: #000000; stroke-width: 0.8\"/>\n      </g>\n     </g>\n     <g id=\"text_2\">\n      <!-- 20 -->\n      <g transform=\"translate(79.996625 136.081656) scale(0.1 -0.1)\">\n       <defs>\n        <path id=\"DejaVuSans-32\" d=\"M 1228 531 \nL 3431 531 \nL 3431 0 \nL 469 0 \nL 469 531 \nQ 828 903 1448 1529 \nQ 2069 2156 2228 2338 \nQ 2531 2678 2651 2914 \nQ 2772 3150 2772 3378 \nQ 2772 3750 2511 3984 \nQ 2250 4219 1831 4219 \nQ 1534 4219 1204 4116 \nQ 875 4013 500 3803 \nL 500 4441 \nQ 881 4594 1212 4672 \nQ 1544 4750 1819 4750 \nQ 2544 4750 2975 4387 \nQ 3406 4025 3406 3419 \nQ 3406 3131 3298 2873 \nQ 3191 2616 2906 2266 \nQ 2828 2175 2409 1742 \nQ 1991 1309 1228 531 \nz\n\" transform=\"scale(0.015625)\"/>\n       </defs>\n       <use xlink:href=\"#DejaVuSans-32\"/>\n       <use xlink:href=\"#DejaVuSans-30\" transform=\"translate(63.623047 0)\"/>\n      </g>\n     </g>\n    </g>\n    <g id=\"xtick_3\">\n     <g id=\"line2d_3\">\n      <g>\n       <use xlink:href=\"#mf4866286fe\" x=\"130.999125\" y=\"121.483219\" style=\"stroke: #000000; stroke-width: 0.8\"/>\n      </g>\n     </g>\n     <g id=\"text_3\">\n      <!-- 40 -->\n      <g transform=\"translate(124.636625 136.081656) scale(0.1 -0.1)\">\n       <defs>\n        <path id=\"DejaVuSans-34\" d=\"M 2419 4116 \nL 825 1625 \nL 2419 1625 \nL 2419 4116 \nz\nM 2253 4666 \nL 3047 4666 \nL 3047 1625 \nL 3713 1625 \nL 3713 1100 \nL 3047 1100 \nL 3047 0 \nL 2419 0 \nL 2419 1100 \nL 313 1100 \nL 313 1709 \nL 2253 4666 \nz\n\" transform=\"scale(0.015625)\"/>\n       </defs>\n       <use xlink:href=\"#DejaVuSans-34\"/>\n       <use xlink:href=\"#DejaVuSans-30\" transform=\"translate(63.623047 0)\"/>\n      </g>\n     </g>\n    </g>\n    <g id=\"text_4\">\n     <!-- Sorted training inputs -->\n     <g transform=\"translate(41.889844 149.759781) scale(0.1 -0.1)\">\n      <defs>\n       <path id=\"DejaVuSans-53\" d=\"M 3425 4513 \nL 3425 3897 \nQ 3066 4069 2747 4153 \nQ 2428 4238 2131 4238 \nQ 1616 4238 1336 4038 \nQ 1056 3838 1056 3469 \nQ 1056 3159 1242 3001 \nQ 1428 2844 1947 2747 \nL 2328 2669 \nQ 3034 2534 3370 2195 \nQ 3706 1856 3706 1288 \nQ 3706 609 3251 259 \nQ 2797 -91 1919 -91 \nQ 1588 -91 1214 -16 \nQ 841 59 441 206 \nL 441 856 \nQ 825 641 1194 531 \nQ 1563 422 1919 422 \nQ 2459 422 2753 634 \nQ 3047 847 3047 1241 \nQ 3047 1584 2836 1778 \nQ 2625 1972 2144 2069 \nL 1759 2144 \nQ 1053 2284 737 2584 \nQ 422 2884 422 3419 \nQ 422 4038 858 4394 \nQ 1294 4750 2059 4750 \nQ 2388 4750 2728 4690 \nQ 3069 4631 3425 4513 \nz\n\" transform=\"scale(0.015625)\"/>\n       <path id=\"DejaVuSans-6f\" d=\"M 1959 3097 \nQ 1497 3097 1228 2736 \nQ 959 2375 959 1747 \nQ 959 1119 1226 758 \nQ 1494 397 1959 397 \nQ 2419 397 2687 759 \nQ 2956 1122 2956 1747 \nQ 2956 2369 2687 2733 \nQ 2419 3097 1959 3097 \nz\nM 1959 3584 \nQ 2709 3584 3137 3096 \nQ 3566 2609 3566 1747 \nQ 3566 888 3137 398 \nQ 2709 -91 1959 -91 \nQ 1206 -91 779 398 \nQ 353 888 353 1747 \nQ 353 2609 779 3096 \nQ 1206 3584 1959 3584 \nz\n\" transform=\"scale(0.015625)\"/>\n       <path id=\"DejaVuSans-72\" d=\"M 2631 2963 \nQ 2534 3019 2420 3045 \nQ 2306 3072 2169 3072 \nQ 1681 3072 1420 2755 \nQ 1159 2438 1159 1844 \nL 1159 0 \nL 581 0 \nL 581 3500 \nL 1159 3500 \nL 1159 2956 \nQ 1341 3275 1631 3429 \nQ 1922 3584 2338 3584 \nQ 2397 3584 2469 3576 \nQ 2541 3569 2628 3553 \nL 2631 2963 \nz\n\" transform=\"scale(0.015625)\"/>\n       <path id=\"DejaVuSans-74\" d=\"M 1172 4494 \nL 1172 3500 \nL 2356 3500 \nL 2356 3053 \nL 1172 3053 \nL 1172 1153 \nQ 1172 725 1289 603 \nQ 1406 481 1766 481 \nL 2356 481 \nL 2356 0 \nL 1766 0 \nQ 1100 0 847 248 \nQ 594 497 594 1153 \nL 594 3053 \nL 172 3053 \nL 172 3500 \nL 594 3500 \nL 594 4494 \nL 1172 4494 \nz\n\" transform=\"scale(0.015625)\"/>\n       <path id=\"DejaVuSans-65\" d=\"M 3597 1894 \nL 3597 1613 \nL 953 1613 \nQ 991 1019 1311 708 \nQ 1631 397 2203 397 \nQ 2534 397 2845 478 \nQ 3156 559 3463 722 \nL 3463 178 \nQ 3153 47 2828 -22 \nQ 2503 -91 2169 -91 \nQ 1331 -91 842 396 \nQ 353 884 353 1716 \nQ 353 2575 817 3079 \nQ 1281 3584 2069 3584 \nQ 2775 3584 3186 3129 \nQ 3597 2675 3597 1894 \nz\nM 3022 2063 \nQ 3016 2534 2758 2815 \nQ 2500 3097 2075 3097 \nQ 1594 3097 1305 2825 \nQ 1016 2553 972 2059 \nL 3022 2063 \nz\n\" transform=\"scale(0.015625)\"/>\n       <path id=\"DejaVuSans-64\" d=\"M 2906 2969 \nL 2906 4863 \nL 3481 4863 \nL 3481 0 \nL 2906 0 \nL 2906 525 \nQ 2725 213 2448 61 \nQ 2172 -91 1784 -91 \nQ 1150 -91 751 415 \nQ 353 922 353 1747 \nQ 353 2572 751 3078 \nQ 1150 3584 1784 3584 \nQ 2172 3584 2448 3432 \nQ 2725 3281 2906 2969 \nz\nM 947 1747 \nQ 947 1113 1208 752 \nQ 1469 391 1925 391 \nQ 2381 391 2643 752 \nQ 2906 1113 2906 1747 \nQ 2906 2381 2643 2742 \nQ 2381 3103 1925 3103 \nQ 1469 3103 1208 2742 \nQ 947 2381 947 1747 \nz\n\" transform=\"scale(0.015625)\"/>\n       <path id=\"DejaVuSans-20\" transform=\"scale(0.015625)\"/>\n       <path id=\"DejaVuSans-61\" d=\"M 2194 1759 \nQ 1497 1759 1228 1600 \nQ 959 1441 959 1056 \nQ 959 750 1161 570 \nQ 1363 391 1709 391 \nQ 2188 391 2477 730 \nQ 2766 1069 2766 1631 \nL 2766 1759 \nL 2194 1759 \nz\nM 3341 1997 \nL 3341 0 \nL 2766 0 \nL 2766 531 \nQ 2569 213 2275 61 \nQ 1981 -91 1556 -91 \nQ 1019 -91 701 211 \nQ 384 513 384 1019 \nQ 384 1609 779 1909 \nQ 1175 2209 1959 2209 \nL 2766 2209 \nL 2766 2266 \nQ 2766 2663 2505 2880 \nQ 2244 3097 1772 3097 \nQ 1472 3097 1187 3025 \nQ 903 2953 641 2809 \nL 641 3341 \nQ 956 3463 1253 3523 \nQ 1550 3584 1831 3584 \nQ 2591 3584 2966 3190 \nQ 3341 2797 3341 1997 \nz\n\" transform=\"scale(0.015625)\"/>\n       <path id=\"DejaVuSans-69\" d=\"M 603 3500 \nL 1178 3500 \nL 1178 0 \nL 603 0 \nL 603 3500 \nz\nM 603 4863 \nL 1178 4863 \nL 1178 4134 \nL 603 4134 \nL 603 4863 \nz\n\" transform=\"scale(0.015625)\"/>\n       <path id=\"DejaVuSans-6e\" d=\"M 3513 2113 \nL 3513 0 \nL 2938 0 \nL 2938 2094 \nQ 2938 2591 2744 2837 \nQ 2550 3084 2163 3084 \nQ 1697 3084 1428 2787 \nQ 1159 2491 1159 1978 \nL 1159 0 \nL 581 0 \nL 581 3500 \nL 1159 3500 \nL 1159 2956 \nQ 1366 3272 1645 3428 \nQ 1925 3584 2291 3584 \nQ 2894 3584 3203 3211 \nQ 3513 2838 3513 2113 \nz\n\" transform=\"scale(0.015625)\"/>\n       <path id=\"DejaVuSans-67\" d=\"M 2906 1791 \nQ 2906 2416 2648 2759 \nQ 2391 3103 1925 3103 \nQ 1463 3103 1205 2759 \nQ 947 2416 947 1791 \nQ 947 1169 1205 825 \nQ 1463 481 1925 481 \nQ 2391 481 2648 825 \nQ 2906 1169 2906 1791 \nz\nM 3481 434 \nQ 3481 -459 3084 -895 \nQ 2688 -1331 1869 -1331 \nQ 1566 -1331 1297 -1286 \nQ 1028 -1241 775 -1147 \nL 775 -588 \nQ 1028 -725 1275 -790 \nQ 1522 -856 1778 -856 \nQ 2344 -856 2625 -561 \nQ 2906 -266 2906 331 \nL 2906 616 \nQ 2728 306 2450 153 \nQ 2172 0 1784 0 \nQ 1141 0 747 490 \nQ 353 981 353 1791 \nQ 353 2603 747 3093 \nQ 1141 3584 1784 3584 \nQ 2172 3584 2450 3431 \nQ 2728 3278 2906 2969 \nL 2906 3500 \nL 3481 3500 \nL 3481 434 \nz\n\" transform=\"scale(0.015625)\"/>\n       <path id=\"DejaVuSans-70\" d=\"M 1159 525 \nL 1159 -1331 \nL 581 -1331 \nL 581 3500 \nL 1159 3500 \nL 1159 2969 \nQ 1341 3281 1617 3432 \nQ 1894 3584 2278 3584 \nQ 2916 3584 3314 3078 \nQ 3713 2572 3713 1747 \nQ 3713 922 3314 415 \nQ 2916 -91 2278 -91 \nQ 1894 -91 1617 61 \nQ 1341 213 1159 525 \nz\nM 3116 1747 \nQ 3116 2381 2855 2742 \nQ 2594 3103 2138 3103 \nQ 1681 3103 1420 2742 \nQ 1159 2381 1159 1747 \nQ 1159 1113 1420 752 \nQ 1681 391 2138 391 \nQ 2594 391 2855 752 \nQ 3116 1113 3116 1747 \nz\n\" transform=\"scale(0.015625)\"/>\n       <path id=\"DejaVuSans-75\" d=\"M 544 1381 \nL 544 3500 \nL 1119 3500 \nL 1119 1403 \nQ 1119 906 1312 657 \nQ 1506 409 1894 409 \nQ 2359 409 2629 706 \nQ 2900 1003 2900 1516 \nL 2900 3500 \nL 3475 3500 \nL 3475 0 \nL 2900 0 \nL 2900 538 \nQ 2691 219 2414 64 \nQ 2138 -91 1772 -91 \nQ 1169 -91 856 284 \nQ 544 659 544 1381 \nz\nM 1991 3584 \nL 1991 3584 \nz\n\" transform=\"scale(0.015625)\"/>\n       <path id=\"DejaVuSans-73\" d=\"M 2834 3397 \nL 2834 2853 \nQ 2591 2978 2328 3040 \nQ 2066 3103 1784 3103 \nQ 1356 3103 1142 2972 \nQ 928 2841 928 2578 \nQ 928 2378 1081 2264 \nQ 1234 2150 1697 2047 \nL 1894 2003 \nQ 2506 1872 2764 1633 \nQ 3022 1394 3022 966 \nQ 3022 478 2636 193 \nQ 2250 -91 1575 -91 \nQ 1294 -91 989 -36 \nQ 684 19 347 128 \nL 347 722 \nQ 666 556 975 473 \nQ 1284 391 1588 391 \nQ 1994 391 2212 530 \nQ 2431 669 2431 922 \nQ 2431 1156 2273 1281 \nQ 2116 1406 1581 1522 \nL 1381 1569 \nQ 847 1681 609 1914 \nQ 372 2147 372 2553 \nQ 372 3047 722 3315 \nQ 1072 3584 1716 3584 \nQ 2034 3584 2315 3537 \nQ 2597 3491 2834 3397 \nz\n\" transform=\"scale(0.015625)\"/>\n      </defs>\n      <use xlink:href=\"#DejaVuSans-53\"/>\n      <use xlink:href=\"#DejaVuSans-6f\" transform=\"translate(63.476562 0)\"/>\n      <use xlink:href=\"#DejaVuSans-72\" transform=\"translate(124.658203 0)\"/>\n      <use xlink:href=\"#DejaVuSans-74\" transform=\"translate(165.771484 0)\"/>\n      <use xlink:href=\"#DejaVuSans-65\" transform=\"translate(204.980469 0)\"/>\n      <use xlink:href=\"#DejaVuSans-64\" transform=\"translate(266.503906 0)\"/>\n      <use xlink:href=\"#DejaVuSans-20\" transform=\"translate(329.980469 0)\"/>\n      <use xlink:href=\"#DejaVuSans-74\" transform=\"translate(361.767578 0)\"/>\n      <use xlink:href=\"#DejaVuSans-72\" transform=\"translate(400.976562 0)\"/>\n      <use xlink:href=\"#DejaVuSans-61\" transform=\"translate(442.089844 0)\"/>\n      <use xlink:href=\"#DejaVuSans-69\" transform=\"translate(503.369141 0)\"/>\n      <use xlink:href=\"#DejaVuSans-6e\" transform=\"translate(531.152344 0)\"/>\n      <use xlink:href=\"#DejaVuSans-69\" transform=\"translate(594.53125 0)\"/>\n      <use xlink:href=\"#DejaVuSans-6e\" transform=\"translate(622.314453 0)\"/>\n      <use xlink:href=\"#DejaVuSans-67\" transform=\"translate(685.693359 0)\"/>\n      <use xlink:href=\"#DejaVuSans-20\" transform=\"translate(749.169922 0)\"/>\n      <use xlink:href=\"#DejaVuSans-69\" transform=\"translate(780.957031 0)\"/>\n      <use xlink:href=\"#DejaVuSans-6e\" transform=\"translate(808.740234 0)\"/>\n      <use xlink:href=\"#DejaVuSans-70\" transform=\"translate(872.119141 0)\"/>\n      <use xlink:href=\"#DejaVuSans-75\" transform=\"translate(935.595703 0)\"/>\n      <use xlink:href=\"#DejaVuSans-74\" transform=\"translate(998.974609 0)\"/>\n      <use xlink:href=\"#DejaVuSans-73\" transform=\"translate(1038.183594 0)\"/>\n     </g>\n    </g>\n   </g>\n   <g id=\"matplotlib.axis_2\">\n    <g id=\"ytick_1\">\n     <g id=\"line2d_4\">\n      <defs>\n       <path id=\"m85930a594d\" d=\"M 0 0 \nL -3.5 0 \n\" style=\"stroke: #000000; stroke-width: 0.8\"/>\n      </defs>\n      <g>\n       <use xlink:href=\"#m85930a594d\" x=\"40.603125\" y=\"10.999219\" style=\"stroke: #000000; stroke-width: 0.8\"/>\n      </g>\n     </g>\n     <g id=\"text_5\">\n      <!-- 0 -->\n      <g transform=\"translate(27.240625 14.798438) scale(0.1 -0.1)\">\n       <use xlink:href=\"#DejaVuSans-30\"/>\n      </g>\n     </g>\n    </g>\n    <g id=\"ytick_2\">\n     <g id=\"line2d_5\">\n      <g>\n       <use xlink:href=\"#m85930a594d\" x=\"40.603125\" y=\"33.319219\" style=\"stroke: #000000; stroke-width: 0.8\"/>\n      </g>\n     </g>\n     <g id=\"text_6\">\n      <!-- 10 -->\n      <g transform=\"translate(20.878125 37.118438) scale(0.1 -0.1)\">\n       <defs>\n        <path id=\"DejaVuSans-31\" d=\"M 794 531 \nL 1825 531 \nL 1825 4091 \nL 703 3866 \nL 703 4441 \nL 1819 4666 \nL 2450 4666 \nL 2450 531 \nL 3481 531 \nL 3481 0 \nL 794 0 \nL 794 531 \nz\n\" transform=\"scale(0.015625)\"/>\n       </defs>\n       <use xlink:href=\"#DejaVuSans-31\"/>\n       <use xlink:href=\"#DejaVuSans-30\" transform=\"translate(63.623047 0)\"/>\n      </g>\n     </g>\n    </g>\n    <g id=\"ytick_3\">\n     <g id=\"line2d_6\">\n      <g>\n       <use xlink:href=\"#m85930a594d\" x=\"40.603125\" y=\"55.639219\" style=\"stroke: #000000; stroke-width: 0.8\"/>\n      </g>\n     </g>\n     <g id=\"text_7\">\n      <!-- 20 -->\n      <g transform=\"translate(20.878125 59.438438) scale(0.1 -0.1)\">\n       <use xlink:href=\"#DejaVuSans-32\"/>\n       <use xlink:href=\"#DejaVuSans-30\" transform=\"translate(63.623047 0)\"/>\n      </g>\n     </g>\n    </g>\n    <g id=\"ytick_4\">\n     <g id=\"line2d_7\">\n      <g>\n       <use xlink:href=\"#m85930a594d\" x=\"40.603125\" y=\"77.959219\" style=\"stroke: #000000; stroke-width: 0.8\"/>\n      </g>\n     </g>\n     <g id=\"text_8\">\n      <!-- 30 -->\n      <g transform=\"translate(20.878125 81.758438) scale(0.1 -0.1)\">\n       <defs>\n        <path id=\"DejaVuSans-33\" d=\"M 2597 2516 \nQ 3050 2419 3304 2112 \nQ 3559 1806 3559 1356 \nQ 3559 666 3084 287 \nQ 2609 -91 1734 -91 \nQ 1441 -91 1130 -33 \nQ 819 25 488 141 \nL 488 750 \nQ 750 597 1062 519 \nQ 1375 441 1716 441 \nQ 2309 441 2620 675 \nQ 2931 909 2931 1356 \nQ 2931 1769 2642 2001 \nQ 2353 2234 1838 2234 \nL 1294 2234 \nL 1294 2753 \nL 1863 2753 \nQ 2328 2753 2575 2939 \nQ 2822 3125 2822 3475 \nQ 2822 3834 2567 4026 \nQ 2313 4219 1838 4219 \nQ 1578 4219 1281 4162 \nQ 984 4106 628 3988 \nL 628 4550 \nQ 988 4650 1302 4700 \nQ 1616 4750 1894 4750 \nQ 2613 4750 3031 4423 \nQ 3450 4097 3450 3541 \nQ 3450 3153 3228 2886 \nQ 3006 2619 2597 2516 \nz\n\" transform=\"scale(0.015625)\"/>\n       </defs>\n       <use xlink:href=\"#DejaVuSans-33\"/>\n       <use xlink:href=\"#DejaVuSans-30\" transform=\"translate(63.623047 0)\"/>\n      </g>\n     </g>\n    </g>\n    <g id=\"ytick_5\">\n     <g id=\"line2d_8\">\n      <g>\n       <use xlink:href=\"#m85930a594d\" x=\"40.603125\" y=\"100.279219\" style=\"stroke: #000000; stroke-width: 0.8\"/>\n      </g>\n     </g>\n     <g id=\"text_9\">\n      <!-- 40 -->\n      <g transform=\"translate(20.878125 104.078438) scale(0.1 -0.1)\">\n       <use xlink:href=\"#DejaVuSans-34\"/>\n       <use xlink:href=\"#DejaVuSans-30\" transform=\"translate(63.623047 0)\"/>\n      </g>\n     </g>\n    </g>\n    <g id=\"text_10\">\n     <!-- Sorted testing inputs -->\n     <g transform=\"translate(14.798438 118.160563) rotate(-90) scale(0.1 -0.1)\">\n      <use xlink:href=\"#DejaVuSans-53\"/>\n      <use xlink:href=\"#DejaVuSans-6f\" transform=\"translate(63.476562 0)\"/>\n      <use xlink:href=\"#DejaVuSans-72\" transform=\"translate(124.658203 0)\"/>\n      <use xlink:href=\"#DejaVuSans-74\" transform=\"translate(165.771484 0)\"/>\n      <use xlink:href=\"#DejaVuSans-65\" transform=\"translate(204.980469 0)\"/>\n      <use xlink:href=\"#DejaVuSans-64\" transform=\"translate(266.503906 0)\"/>\n      <use xlink:href=\"#DejaVuSans-20\" transform=\"translate(329.980469 0)\"/>\n      <use xlink:href=\"#DejaVuSans-74\" transform=\"translate(361.767578 0)\"/>\n      <use xlink:href=\"#DejaVuSans-65\" transform=\"translate(400.976562 0)\"/>\n      <use xlink:href=\"#DejaVuSans-73\" transform=\"translate(462.5 0)\"/>\n      <use xlink:href=\"#DejaVuSans-74\" transform=\"translate(514.599609 0)\"/>\n      <use xlink:href=\"#DejaVuSans-69\" transform=\"translate(553.808594 0)\"/>\n      <use xlink:href=\"#DejaVuSans-6e\" transform=\"translate(581.591797 0)\"/>\n      <use xlink:href=\"#DejaVuSans-67\" transform=\"translate(644.970703 0)\"/>\n      <use xlink:href=\"#DejaVuSans-20\" transform=\"translate(708.447266 0)\"/>\n      <use xlink:href=\"#DejaVuSans-69\" transform=\"translate(740.234375 0)\"/>\n      <use xlink:href=\"#DejaVuSans-6e\" transform=\"translate(768.017578 0)\"/>\n      <use xlink:href=\"#DejaVuSans-70\" transform=\"translate(831.396484 0)\"/>\n      <use xlink:href=\"#DejaVuSans-75\" transform=\"translate(894.873047 0)\"/>\n      <use xlink:href=\"#DejaVuSans-74\" transform=\"translate(958.251953 0)\"/>\n      <use xlink:href=\"#DejaVuSans-73\" transform=\"translate(997.460938 0)\"/>\n     </g>\n    </g>\n   </g>\n   <g id=\"patch_3\">\n    <path d=\"M 40.603125 121.483219 \nL 40.603125 9.883219 \n\" style=\"fill: none; stroke: #000000; stroke-width: 0.8; stroke-linejoin: miter; stroke-linecap: square\"/>\n   </g>\n   <g id=\"patch_4\">\n    <path d=\"M 152.203125 121.483219 \nL 152.203125 9.883219 \n\" style=\"fill: none; stroke: #000000; stroke-width: 0.8; stroke-linejoin: miter; stroke-linecap: square\"/>\n   </g>\n   <g id=\"patch_5\">\n    <path d=\"M 40.603125 121.483219 \nL 152.203125 121.483219 \n\" style=\"fill: none; stroke: #000000; stroke-width: 0.8; stroke-linejoin: miter; stroke-linecap: square\"/>\n   </g>\n   <g id=\"patch_6\">\n    <path d=\"M 40.603125 9.883219 \nL 152.203125 9.883219 \n\" style=\"fill: none; stroke: #000000; stroke-width: 0.8; stroke-linejoin: miter; stroke-linecap: square\"/>\n   </g>\n  </g>\n  <g id=\"axes_2\">\n   <g id=\"patch_7\">\n    <path d=\"M 159.178125 107.263219 \nL 163.336125 107.263219 \nL 163.336125 24.103219 \nL 159.178125 24.103219 \nz\n\" style=\"fill: #ffffff\"/>\n   </g>\n   <image xlink:href=\"data:image/png;base64,\niVBORw0KGgoAAAANSUhEUgAAAAYAAABzCAYAAAC7I3M6AAAAv0lEQVR4nNWVQQrDQAwDXfD/v9pLT1l71Q/sBBQMpTmukMbWhuSlz1txeDK0T+d3wrYFmyFm9BTjZsFjVY/g6GgSyKFaLsOHt82gKPlT+QvaJUbVWNS/waldjqKXGh24oB9lO/RL+AOBGGoSFjLsqDm4mj6W/lSFDDcK4ZvGbXTQ36BJQAa0Hlk2nAWCF081xsBKWiQcjyNykwM6jCx0nM8jO2wH74GbQ5S/IMIXMbASnAodFwllR/mOy76Puam+t3oOUronbv0AAAAASUVORK5CYII=\" id=\"imageabb912339e\" transform=\"scale(1 -1) translate(0 -82.8)\" x=\"159.12\" y=\"-23.76\" width=\"4.32\" height=\"82.8\"/>\n   <g id=\"matplotlib.axis_3\"/>\n   <g id=\"matplotlib.axis_4\">\n    <g id=\"ytick_6\">\n     <g id=\"line2d_9\">\n      <defs>\n       <path id=\"m65997487a5\" d=\"M 0 0 \nL 3.5 0 \n\" style=\"stroke: #000000; stroke-width: 0.8\"/>\n      </defs>\n      <g>\n       <use xlink:href=\"#m65997487a5\" x=\"163.336125\" y=\"69.493278\" style=\"stroke: #000000; stroke-width: 0.8\"/>\n      </g>\n     </g>\n     <g id=\"text_11\">\n      <!-- 0.05 -->\n      <g transform=\"translate(170.336125 73.292497) scale(0.1 -0.1)\">\n       <defs>\n        <path id=\"DejaVuSans-2e\" d=\"M 684 794 \nL 1344 794 \nL 1344 0 \nL 684 0 \nL 684 794 \nz\n\" transform=\"scale(0.015625)\"/>\n        <path id=\"DejaVuSans-35\" d=\"M 691 4666 \nL 3169 4666 \nL 3169 4134 \nL 1269 4134 \nL 1269 2991 \nQ 1406 3038 1543 3061 \nQ 1681 3084 1819 3084 \nQ 2600 3084 3056 2656 \nQ 3513 2228 3513 1497 \nQ 3513 744 3044 326 \nQ 2575 -91 1722 -91 \nQ 1428 -91 1123 -41 \nQ 819 9 494 109 \nL 494 744 \nQ 775 591 1075 516 \nQ 1375 441 1709 441 \nQ 2250 441 2565 725 \nQ 2881 1009 2881 1497 \nQ 2881 1984 2565 2268 \nQ 2250 2553 1709 2553 \nQ 1456 2553 1204 2497 \nQ 953 2441 691 2322 \nL 691 4666 \nz\n\" transform=\"scale(0.015625)\"/>\n       </defs>\n       <use xlink:href=\"#DejaVuSans-30\"/>\n       <use xlink:href=\"#DejaVuSans-2e\" transform=\"translate(63.623047 0)\"/>\n       <use xlink:href=\"#DejaVuSans-30\" transform=\"translate(95.410156 0)\"/>\n       <use xlink:href=\"#DejaVuSans-35\" transform=\"translate(159.033203 0)\"/>\n      </g>\n     </g>\n    </g>\n    <g id=\"ytick_7\">\n     <g id=\"line2d_10\">\n      <g>\n       <use xlink:href=\"#m65997487a5\" x=\"163.336125\" y=\"31.722541\" style=\"stroke: #000000; stroke-width: 0.8\"/>\n      </g>\n     </g>\n     <g id=\"text_12\">\n      <!-- 0.10 -->\n      <g transform=\"translate(170.336125 35.52176) scale(0.1 -0.1)\">\n       <use xlink:href=\"#DejaVuSans-30\"/>\n       <use xlink:href=\"#DejaVuSans-2e\" transform=\"translate(63.623047 0)\"/>\n       <use xlink:href=\"#DejaVuSans-31\" transform=\"translate(95.410156 0)\"/>\n       <use xlink:href=\"#DejaVuSans-30\" transform=\"translate(159.033203 0)\"/>\n      </g>\n     </g>\n    </g>\n   </g>\n   <g id=\"LineCollection_1\"/>\n   <g id=\"patch_8\">\n    <path d=\"M 159.178125 107.263219 \nL 161.257125 107.263219 \nL 163.336125 107.263219 \nL 163.336125 24.103219 \nL 161.257125 24.103219 \nL 159.178125 24.103219 \nL 159.178125 107.263219 \nz\n\" style=\"fill: none; stroke: #000000; stroke-width: 0.8; stroke-linejoin: miter; stroke-linecap: square\"/>\n   </g>\n  </g>\n </g>\n <defs>\n  <clipPath id=\"p0ff6922181\">\n   <rect x=\"40.603125\" y=\"9.883219\" width=\"111.6\" height=\"111.6\"/>\n  </clipPath>\n </defs>\n</svg>\n"
          },
          "metadata": {}
        }
      ],
      "source": [
        "d2l.show_heatmaps(attention_weights.unsqueeze(0).unsqueeze(0), #最终形状: [1, 1, 50, 50] (批次大小=1, 通道数=1, 高度=50, 宽度=50)\n",
        "                  xlabel='Sorted training inputs',\n",
        "                  ylabel='Sorted testing inputs')"
      ]
    },
    {
      "cell_type": "markdown",
      "id": "73a72797",
      "metadata": {
        "origin_pos": 31,
        "id": "73a72797"
      },
      "source": [
        "## [**带参数注意力汇聚**]\n",
        "\n",
        "非参数的Nadaraya-Watson核回归具有*一致性*（consistency）的优点：\n",
        "如果有足够的数据，此模型会收敛到最优结果。\n",
        "尽管如此，我们还是可以轻松地将可学习的参数集成到注意力汇聚中。\n",
        "\n",
        "例如，与 :eqref:`eq_nadaraya-watson-gaussian`略有不同，\n",
        "在下面的查询$x$和键$x_i$之间的距离乘以可学习参数$w$：\n",
        "\n",
        "$$\\begin{aligned}f(x) &= \\sum_{i=1}^n \\alpha(x, x_i) y_i \\\\&= \\sum_{i=1}^n \\frac{\\exp\\left(-\\frac{1}{2}((x - x_i)w)^2\\right)}{\\sum_{j=1}^n \\exp\\left(-\\frac{1}{2}((x - x_j)w)^2\\right)} y_i \\\\&= \\sum_{i=1}^n \\mathrm{softmax}\\left(-\\frac{1}{2}((x - x_i)w)^2\\right) y_i.\\end{aligned}$$\n",
        ":eqlabel:`eq_nadaraya-watson-gaussian-para`\n",
        "\n",
        "本节的余下部分将通过训练这个模型\n",
        " :eqref:`eq_nadaraya-watson-gaussian-para`来学习注意力汇聚的参数。\n",
        "\n",
        "### 批量矩阵乘法\n",
        "\n",
        ":label:`subsec_batch_dot`\n",
        "\n",
        "为了更有效地计算小批量数据的注意力，\n",
        "我们可以利用深度学习开发框架中提供的批量矩阵乘法。\n",
        "\n",
        "假设第一个小批量数据包含$n$个矩阵$\\mathbf{X}_1,\\ldots, \\mathbf{X}_n$，\n",
        "形状为$a\\times b$，\n",
        "第二个小批量包含$n$个矩阵$\\mathbf{Y}_1, \\ldots, \\mathbf{Y}_n$，\n",
        "形状为$b\\times c$。\n",
        "它们的批量矩阵乘法得到$n$个矩阵\n",
        "$\\mathbf{X}_1\\mathbf{Y}_1, \\ldots, \\mathbf{X}_n\\mathbf{Y}_n$，\n",
        "形状为$a\\times c$。\n",
        "因此，[**假定两个张量的形状分别是$(n,a,b)$和$(n,b,c)$，\n",
        "它们的批量矩阵乘法输出的形状为$(n,a,c)$**]。\n"
      ]
    },
    {
      "cell_type": "code",
      "execution_count": 23,
      "id": "c5a4dc9e",
      "metadata": {
        "execution": {
          "iopub.execute_input": "2023-08-18T07:07:17.329873Z",
          "iopub.status.busy": "2023-08-18T07:07:17.329293Z",
          "iopub.status.idle": "2023-08-18T07:07:17.336079Z",
          "shell.execute_reply": "2023-08-18T07:07:17.335148Z"
        },
        "origin_pos": 33,
        "tab": [
          "pytorch"
        ],
        "id": "c5a4dc9e",
        "outputId": "a13b910b-6dbe-4166-eeab-06861d4f3613",
        "colab": {
          "base_uri": "https://localhost:8080/"
        }
      },
      "outputs": [
        {
          "output_type": "execute_result",
          "data": {
            "text/plain": [
              "torch.Size([2, 1, 6])"
            ]
          },
          "metadata": {},
          "execution_count": 23
        }
      ],
      "source": [
        "X = torch.ones((2, 1, 4))\n",
        "Y = torch.ones((2, 4, 6))\n",
        "torch.bmm(X, Y).shape"
      ]
    },
    {
      "cell_type": "markdown",
      "id": "acac0804",
      "metadata": {
        "origin_pos": 36,
        "id": "acac0804"
      },
      "source": [
        "在注意力机制的背景中，我们可以[**使用小批量矩阵乘法来计算小批量数据中的加权平均值**]。\n"
      ]
    },
    {
      "cell_type": "code",
      "execution_count": null,
      "id": "7161cf35",
      "metadata": {
        "execution": {
          "iopub.execute_input": "2023-08-18T07:07:17.341257Z",
          "iopub.status.busy": "2023-08-18T07:07:17.340341Z",
          "iopub.status.idle": "2023-08-18T07:07:17.348773Z",
          "shell.execute_reply": "2023-08-18T07:07:17.347847Z"
        },
        "origin_pos": 38,
        "tab": [
          "pytorch"
        ],
        "id": "7161cf35"
      },
      "outputs": [],
      "source": [
        "weights = torch.ones((2, 10)) * 0.1\n",
        "values = torch.arange(20.0).reshape((2, 10))\n",
        "torch.bmm(weights.unsqueeze(1), values.unsqueeze(-1))"
      ]
    },
    {
      "cell_type": "markdown",
      "id": "f31cb449",
      "metadata": {
        "origin_pos": 41,
        "id": "f31cb449"
      },
      "source": [
        "### 定义模型\n",
        "\n",
        "基于 :eqref:`eq_nadaraya-watson-gaussian-para`中的\n",
        "[**带参数的注意力汇聚**]，使用小批量矩阵乘法，\n",
        "定义Nadaraya-Watson核回归的带参数版本为：\n"
      ]
    },
    {
      "cell_type": "code",
      "execution_count": null,
      "id": "e7aee504",
      "metadata": {
        "execution": {
          "iopub.execute_input": "2023-08-18T07:07:17.353382Z",
          "iopub.status.busy": "2023-08-18T07:07:17.353094Z",
          "iopub.status.idle": "2023-08-18T07:07:17.359677Z",
          "shell.execute_reply": "2023-08-18T07:07:17.358720Z"
        },
        "origin_pos": 43,
        "tab": [
          "pytorch"
        ],
        "id": "e7aee504"
      },
      "outputs": [],
      "source": [
        "class NWKernelRegression(nn.Module):\n",
        "    def __init__(self, **kwargs):\n",
        "        super().__init__(**kwargs)\n",
        "        self.w = nn.Parameter(torch.rand((1,), requires_grad=True))\n",
        "\n",
        "    def forward(self, queries, keys, values):\n",
        "        # queries和attention_weights的形状为(查询个数，“键－值”对个数)\n",
        "        queries = queries.repeat_interleave(keys.shape[1]).reshape((-1, keys.shape[1]))\n",
        "        self.attention_weights = nn.functional.softmax(\n",
        "            -((queries - keys) * self.w)**2 / 2, dim=1)\n",
        "        # values的形状为(查询个数，“键－值”对个数)\n",
        "        return torch.bmm(self.attention_weights.unsqueeze(1),\n",
        "                         values.unsqueeze(-1)).reshape(-1)"
      ]
    },
    {
      "cell_type": "markdown",
      "id": "192a922f",
      "metadata": {
        "origin_pos": 46,
        "id": "192a922f"
      },
      "source": [
        "### 训练\n",
        "\n",
        "接下来，[**将训练数据集变换为键和值**]用于训练注意力模型。\n",
        "在带参数的注意力汇聚模型中，\n",
        "任何一个训练样本的输入都会和除自己以外的所有训练样本的“键－值”对进行计算，\n",
        "从而得到其对应的预测输出。\n"
      ]
    },
    {
      "cell_type": "code",
      "execution_count": null,
      "id": "c738e178",
      "metadata": {
        "execution": {
          "iopub.execute_input": "2023-08-18T07:07:17.363589Z",
          "iopub.status.busy": "2023-08-18T07:07:17.362749Z",
          "iopub.status.idle": "2023-08-18T07:07:17.369359Z",
          "shell.execute_reply": "2023-08-18T07:07:17.368357Z"
        },
        "origin_pos": 48,
        "tab": [
          "pytorch"
        ],
        "id": "c738e178"
      },
      "outputs": [],
      "source": [
        "# X_tile的形状:(n_train，n_train)，每一行都包含着相同的训练输入\n",
        "X_tile = x_train.repeat((n_train, 1))\n",
        "# Y_tile的形状:(n_train，n_train)，每一行都包含着相同的训练输出\n",
        "Y_tile = y_train.repeat((n_train, 1))\n",
        "# keys的形状:('n_train'，'n_train'-1)\n",
        "keys = X_tile[(1 - torch.eye(n_train)).type(torch.bool)].reshape((n_train, -1))\n",
        "# values的形状:('n_train'，'n_train'-1)\n",
        "values = Y_tile[(1 - torch.eye(n_train)).type(torch.bool)].reshape((n_train, -1))"
      ]
    },
    {
      "cell_type": "markdown",
      "id": "245d8e27",
      "metadata": {
        "origin_pos": 51,
        "id": "245d8e27"
      },
      "source": [
        "[**训练带参数的注意力汇聚模型**]时，使用平方损失函数和随机梯度下降。\n"
      ]
    },
    {
      "cell_type": "code",
      "execution_count": null,
      "id": "37b732ff",
      "metadata": {
        "execution": {
          "iopub.execute_input": "2023-08-18T07:07:17.373285Z",
          "iopub.status.busy": "2023-08-18T07:07:17.372386Z",
          "iopub.status.idle": "2023-08-18T07:07:18.050395Z",
          "shell.execute_reply": "2023-08-18T07:07:18.049441Z"
        },
        "origin_pos": 53,
        "tab": [
          "pytorch"
        ],
        "id": "37b732ff"
      },
      "outputs": [],
      "source": [
        "net = NWKernelRegression()\n",
        "loss = nn.MSELoss(reduction='none')\n",
        "trainer = torch.optim.SGD(net.parameters(), lr=0.5)\n",
        "animator = d2l.Animator(xlabel='epoch', ylabel='loss', xlim=[1, 5])\n",
        "\n",
        "for epoch in range(5):\n",
        "    trainer.zero_grad()\n",
        "    l = loss(net(x_train, keys, values), y_train)\n",
        "    l.sum().backward()\n",
        "    trainer.step()\n",
        "    print(f'epoch {epoch + 1}, loss {float(l.sum()):.6f}')\n",
        "    animator.add(epoch + 1, float(l.sum()))"
      ]
    },
    {
      "cell_type": "markdown",
      "id": "bcd73f8a",
      "metadata": {
        "origin_pos": 56,
        "id": "bcd73f8a"
      },
      "source": [
        "如下所示，训练完带参数的注意力汇聚模型后可以发现：\n",
        "在尝试拟合带噪声的训练数据时，\n",
        "[**预测结果绘制**]的线不如之前非参数模型的平滑。\n"
      ]
    },
    {
      "cell_type": "code",
      "execution_count": null,
      "id": "79e57e0d",
      "metadata": {
        "execution": {
          "iopub.execute_input": "2023-08-18T07:07:18.054215Z",
          "iopub.status.busy": "2023-08-18T07:07:18.053635Z",
          "iopub.status.idle": "2023-08-18T07:07:18.224763Z",
          "shell.execute_reply": "2023-08-18T07:07:18.223767Z"
        },
        "origin_pos": 58,
        "tab": [
          "pytorch"
        ],
        "id": "79e57e0d"
      },
      "outputs": [],
      "source": [
        "# keys的形状:(n_test，n_train)，每一行包含着相同的训练输入（例如，相同的键）\n",
        "keys = x_train.repeat((n_test, 1))\n",
        "# value的形状:(n_test，n_train)\n",
        "values = y_train.repeat((n_test, 1))\n",
        "y_hat = net(x_test, keys, values).unsqueeze(1).detach()\n",
        "plot_kernel_reg(y_hat)"
      ]
    },
    {
      "cell_type": "markdown",
      "id": "962bf3fe",
      "metadata": {
        "origin_pos": 61,
        "id": "962bf3fe"
      },
      "source": [
        "为什么新的模型更不平滑了呢？\n",
        "下面看一下输出结果的绘制图：\n",
        "与非参数的注意力汇聚模型相比，\n",
        "带参数的模型加入可学习的参数后，\n",
        "[**曲线在注意力权重较大的区域变得更不平滑**]。\n"
      ]
    },
    {
      "cell_type": "code",
      "execution_count": null,
      "id": "15949408",
      "metadata": {
        "execution": {
          "iopub.execute_input": "2023-08-18T07:07:18.228629Z",
          "iopub.status.busy": "2023-08-18T07:07:18.227958Z",
          "iopub.status.idle": "2023-08-18T07:07:18.391875Z",
          "shell.execute_reply": "2023-08-18T07:07:18.391062Z"
        },
        "origin_pos": 63,
        "tab": [
          "pytorch"
        ],
        "id": "15949408"
      },
      "outputs": [],
      "source": [
        "d2l.show_heatmaps(net.attention_weights.unsqueeze(0).unsqueeze(0),\n",
        "                  xlabel='Sorted training inputs',\n",
        "                  ylabel='Sorted testing inputs')"
      ]
    },
    {
      "cell_type": "markdown",
      "id": "0e4f7d57",
      "metadata": {
        "origin_pos": 66,
        "id": "0e4f7d57"
      },
      "source": [
        "## 小结\n",
        "\n",
        "* Nadaraya-Watson核回归是具有注意力机制的机器学习范例。\n",
        "* Nadaraya-Watson核回归的注意力汇聚是对训练数据中输出的加权平均。从注意力的角度来看，分配给每个值的注意力权重取决于将值所对应的键和查询作为输入的函数。\n",
        "* 注意力汇聚可以分为非参数型和带参数型。\n",
        "\n",
        "## 练习\n",
        "\n",
        "1. 增加训练数据的样本数量，能否得到更好的非参数的Nadaraya-Watson核回归模型？\n",
        "1. 在带参数的注意力汇聚的实验中学习得到的参数$w$的价值是什么？为什么在可视化注意力权重时，它会使加权区域更加尖锐？\n",
        "1. 如何将超参数添加到非参数的Nadaraya-Watson核回归中以实现更好地预测结果？\n",
        "1. 为本节的核回归设计一个新的带参数的注意力汇聚模型。训练这个新模型并可视化其注意力权重。\n"
      ]
    },
    {
      "cell_type": "markdown",
      "id": "72ded07b",
      "metadata": {
        "origin_pos": 68,
        "tab": [
          "pytorch"
        ],
        "id": "72ded07b"
      },
      "source": [
        "[Discussions](https://discuss.d2l.ai/t/5760)\n"
      ]
    }
  ],
  "metadata": {
    "kernelspec": {
      "display_name": "Python 3",
      "name": "python3"
    },
    "language_info": {
      "name": "python"
    },
    "required_libs": [],
    "colab": {
      "provenance": []
    }
  },
  "nbformat": 4,
  "nbformat_minor": 5
}