{
  "cells": [
    {
      "cell_type": "markdown",
      "id": "7671b4ca",
      "metadata": {
        "id": "7671b4ca"
      },
      "source": [
        "The following additional libraries are needed to run this\n",
        "notebook. Note that running on Colab is experimental, please report a Github\n",
        "issue if you have any problem."
      ]
    },
    {
      "cell_type": "code",
      "execution_count": 1,
      "id": "c065e77e",
      "metadata": {
        "id": "c065e77e",
        "outputId": "d21b93dc-32b8-40d2-eee4-dbd4a43674b7",
        "colab": {
          "base_uri": "https://localhost:8080/"
        }
      },
      "outputs": [
        {
          "output_type": "stream",
          "name": "stdout",
          "text": [
            "Collecting git+https://github.com/d2l-ai/d2l-zh@release\n",
            "  Cloning https://github.com/d2l-ai/d2l-zh (to revision release) to /tmp/pip-req-build-9_to5k5h\n",
            "  Running command git clone --filter=blob:none --quiet https://github.com/d2l-ai/d2l-zh /tmp/pip-req-build-9_to5k5h\n",
            "  Running command git checkout -b release --track origin/release\n",
            "  Switched to a new branch 'release'\n",
            "  Branch 'release' set up to track remote branch 'release' from 'origin'.\n",
            "  Resolved https://github.com/d2l-ai/d2l-zh to commit 843d3d41dca48d8df65f4b324dd171d8bfe9c067\n",
            "  Running command git submodule update --init --recursive -q\n",
            "  Preparing metadata (setup.py) ... \u001b[?25l\u001b[?25hdone\n",
            "Building wheels for collected packages: d2l\n",
            "  Building wheel for d2l (setup.py) ... \u001b[?25l\u001b[?25hdone\n",
            "  Created wheel for d2l: filename=d2l-2.0.0-py3-none-any.whl size=110800 sha256=d4048966c6a44f9e9922e5622711be12b40c8b37b11c72641cc1ec3720f96c31\n",
            "  Stored in directory: /tmp/pip-ephem-wheel-cache-3b0c__33/wheels/3e/87/36/53b013ece7da539a59fcc56da2d329d7afb08eef9a9a5ae1d1\n",
            "Successfully built d2l\n",
            "Installing collected packages: d2l\n",
            "  Attempting uninstall: d2l\n",
            "    Found existing installation: d2l 2.0.0\n",
            "    Uninstalling d2l-2.0.0:\n",
            "      Successfully uninstalled d2l-2.0.0\n",
            "Successfully installed d2l-2.0.0\n"
          ]
        }
      ],
      "source": [
        "!pip install git+https://github.com/d2l-ai/d2l-zh@release --no-deps --force-reinstall\n",
        "!pip install numpy>=1.20"
      ]
    },
    {
      "cell_type": "markdown",
      "id": "12605036",
      "metadata": {
        "origin_pos": 0,
        "id": "12605036"
      },
      "source": [
        "# 注意力汇聚：Nadaraya-Watson 核回归\n",
        ":label:`sec_nadaraya-watson`\n",
        "\n",
        "上节介绍了框架下的注意力机制的主要成分 :numref:`fig_qkv`：\n",
        "查询（自主提示）和键（非自主提示）之间的交互形成了注意力汇聚；\n",
        "注意力汇聚有选择地聚合了值（感官输入）以生成最终的输出。\n",
        "本节将介绍注意力汇聚的更多细节，\n",
        "以便从宏观上了解注意力机制在实践中的运作方式。\n",
        "具体来说，1964年提出的Nadaraya-Watson核回归模型\n",
        "是一个简单但完整的例子，可以用于演示具有注意力机制的机器学习。\n"
      ]
    },
    {
      "cell_type": "code",
      "execution_count": 2,
      "id": "47b48700",
      "metadata": {
        "execution": {
          "iopub.execute_input": "2023-08-18T07:07:14.699824Z",
          "iopub.status.busy": "2023-08-18T07:07:14.699278Z",
          "iopub.status.idle": "2023-08-18T07:07:16.694044Z",
          "shell.execute_reply": "2023-08-18T07:07:16.693186Z"
        },
        "origin_pos": 2,
        "tab": [
          "pytorch"
        ],
        "id": "47b48700"
      },
      "outputs": [],
      "source": [
        "import torch\n",
        "from torch import nn\n",
        "from d2l import torch as d2l"
      ]
    },
    {
      "cell_type": "markdown",
      "id": "45448f28",
      "metadata": {
        "origin_pos": 5,
        "id": "45448f28"
      },
      "source": [
        "## [**生成数据集**]\n",
        "\n",
        "简单起见，考虑下面这个回归问题：\n",
        "给定的成对的“输入－输出”数据集\n",
        "$\\{(x_1, y_1), \\ldots, (x_n, y_n)\\}$，\n",
        "如何学习$f$来预测任意新输入$x$的输出$\\hat{y} = f(x)$？\n",
        "\n",
        "根据下面的非线性函数生成一个人工数据集，\n",
        "其中加入的噪声项为$\\epsilon$：\n",
        "\n",
        "$$y_i = 2\\sin(x_i) + x_i^{0.8} + \\epsilon,$$\n",
        "\n",
        "其中$\\epsilon$服从均值为$0$和标准差为$0.5$的正态分布。\n",
        "在这里生成了$50$个训练样本和$50$个测试样本。\n",
        "为了更好地可视化之后的注意力模式，需要将训练样本进行排序。\n"
      ]
    },
    {
      "cell_type": "code",
      "execution_count": 3,
      "id": "77ea63dd",
      "metadata": {
        "execution": {
          "iopub.execute_input": "2023-08-18T07:07:16.698617Z",
          "iopub.status.busy": "2023-08-18T07:07:16.697928Z",
          "iopub.status.idle": "2023-08-18T07:07:16.720614Z",
          "shell.execute_reply": "2023-08-18T07:07:16.719799Z"
        },
        "origin_pos": 7,
        "tab": [
          "pytorch"
        ],
        "id": "77ea63dd"
      },
      "outputs": [],
      "source": [
        "n_train = 50  # 训练样本数\n",
        "x_train, _ = torch.sort(torch.rand(n_train) * 5)   # 排序后的训练样本"
      ]
    },
    {
      "cell_type": "code",
      "execution_count": 4,
      "id": "2b36fd68",
      "metadata": {
        "execution": {
          "iopub.execute_input": "2023-08-18T07:07:16.724389Z",
          "iopub.status.busy": "2023-08-18T07:07:16.723850Z",
          "iopub.status.idle": "2023-08-18T07:07:16.734529Z",
          "shell.execute_reply": "2023-08-18T07:07:16.733732Z"
        },
        "origin_pos": 11,
        "tab": [
          "pytorch"
        ],
        "id": "2b36fd68",
        "outputId": "af93b694-9486-42b2-cf78-3eb473cef57a",
        "colab": {
          "base_uri": "https://localhost:8080/"
        }
      },
      "outputs": [
        {
          "output_type": "execute_result",
          "data": {
            "text/plain": [
              "50"
            ]
          },
          "metadata": {},
          "execution_count": 4
        }
      ],
      "source": [
        "def f(x):\n",
        "  return 2 * torch.sin(x) + x**0.8\n",
        "\n",
        "y_train = f(x_train) + torch.normal(0.0, 0.5, (n_train,))  # 训练样本的输出\n",
        "x_test = torch.arange(0, 5, 0.1)  # 测试样本\n",
        "y_truth = f(x_test)  # 测试样本的真实输出\n",
        "n_test = len(x_test)  # 测试样本数\n",
        "n_test"
      ]
    },
    {
      "cell_type": "markdown",
      "id": "a8cd762c",
      "metadata": {
        "origin_pos": 14,
        "id": "a8cd762c"
      },
      "source": [
        "下面的函数将绘制所有的训练样本（样本由圆圈表示），\n",
        "不带噪声项的真实数据生成函数$f$（标记为“Truth”），\n",
        "以及学习得到的预测函数（标记为“Pred”）。\n"
      ]
    },
    {
      "cell_type": "code",
      "execution_count": 5,
      "id": "84166e26",
      "metadata": {
        "execution": {
          "iopub.execute_input": "2023-08-18T07:07:16.738117Z",
          "iopub.status.busy": "2023-08-18T07:07:16.737614Z",
          "iopub.status.idle": "2023-08-18T07:07:16.742118Z",
          "shell.execute_reply": "2023-08-18T07:07:16.741332Z"
        },
        "origin_pos": 15,
        "tab": [
          "pytorch"
        ],
        "id": "84166e26"
      },
      "outputs": [],
      "source": [
        "def plot_kernel_reg(y_hat):\n",
        "    d2l.plot(x_test, [y_truth, y_hat], 'x', 'y', legend=['Truth', 'Pred'],\n",
        "             xlim=[0, 5], ylim=[-1, 5])\n",
        "    d2l.plt.plot(x_train, y_train, 'o', alpha=0.5);"
      ]
    },
    {
      "cell_type": "markdown",
      "id": "83acd3e5",
      "metadata": {
        "origin_pos": 16,
        "id": "83acd3e5"
      },
      "source": [
        "## 平均汇聚\n",
        "\n",
        "先使用最简单的估计器来解决回归问题。\n",
        "基于平均汇聚来计算所有训练样本输出值的平均值：\n",
        "\n",
        "$$f(x) = \\frac{1}{n}\\sum_{i=1}^n y_i,$$\n",
        ":eqlabel:`eq_avg-pooling`\n",
        "\n",
        "如下图所示，这个估计器确实不够聪明。\n",
        "真实函数$f$（“Truth”）和预测函数（“Pred”）相差很大。\n"
      ]
    },
    {
      "cell_type": "code",
      "execution_count": 6,
      "id": "b5227412",
      "metadata": {
        "execution": {
          "iopub.execute_input": "2023-08-18T07:07:16.745659Z",
          "iopub.status.busy": "2023-08-18T07:07:16.745145Z",
          "iopub.status.idle": "2023-08-18T07:07:16.921666Z",
          "shell.execute_reply": "2023-08-18T07:07:16.920767Z"
        },
        "origin_pos": 18,
        "tab": [
          "pytorch"
        ],
        "id": "b5227412",
        "outputId": "8885d9a6-42db-4f0e-b927-ae507f71e1ff",
        "colab": {
          "base_uri": "https://localhost:8080/",
          "height": 306
        }
      },
      "outputs": [
        {
          "output_type": "stream",
          "name": "stdout",
          "text": [
            "y_train.mean():  tensor(2.1639)\n",
            "n_test:  50\n"
          ]
        },
        {
          "output_type": "display_data",
          "data": {
            "text/plain": [
              "<Figure size 350x250 with 1 Axes>"
            ],
            "image/svg+xml": "<?xml version=\"1.0\" encoding=\"utf-8\" standalone=\"no\"?>\n<!DOCTYPE svg PUBLIC \"-//W3C//DTD SVG 1.1//EN\"\n  \"http://www.w3.org/Graphics/SVG/1.1/DTD/svg11.dtd\">\n<svg xmlns:xlink=\"http://www.w3.org/1999/xlink\" width=\"248.301563pt\" height=\"187.155469pt\" viewBox=\"0 0 248.301563 187.155469\" xmlns=\"http://www.w3.org/2000/svg\" version=\"1.1\">\n <metadata>\n  <rdf:RDF xmlns:dc=\"http://purl.org/dc/elements/1.1/\" xmlns:cc=\"http://creativecommons.org/ns#\" xmlns:rdf=\"http://www.w3.org/1999/02/22-rdf-syntax-ns#\">\n   <cc:Work>\n    <dc:type rdf:resource=\"http://purl.org/dc/dcmitype/StillImage\"/>\n    <dc:date>2025-09-27T03:00:28.438588</dc:date>\n    <dc:format>image/svg+xml</dc:format>\n    <dc:creator>\n     <cc:Agent>\n      <dc:title>Matplotlib v3.10.0, https://matplotlib.org/</dc:title>\n     </cc:Agent>\n    </dc:creator>\n   </cc:Work>\n  </rdf:RDF>\n </metadata>\n <defs>\n  <style type=\"text/css\">*{stroke-linejoin: round; stroke-linecap: butt}</style>\n </defs>\n <g id=\"figure_1\">\n  <g id=\"patch_1\">\n   <path d=\"M 0 187.155469 \nL 248.301563 187.155469 \nL 248.301563 0 \nL 0 0 \nz\n\" style=\"fill: #ffffff\"/>\n  </g>\n  <g id=\"axes_1\">\n   <g id=\"patch_2\">\n    <path d=\"M 42.620312 149.599219 \nL 237.920313 149.599219 \nL 237.920313 10.999219 \nL 42.620312 10.999219 \nz\n\" style=\"fill: #ffffff\"/>\n   </g>\n   <g id=\"matplotlib.axis_1\">\n    <g id=\"xtick_1\">\n     <g id=\"line2d_1\">\n      <path d=\"M 42.620312 149.599219 \nL 42.620312 10.999219 \n\" clip-path=\"url(#p6119fee59b)\" style=\"fill: none; stroke: #b0b0b0; stroke-width: 0.8; stroke-linecap: square\"/>\n     </g>\n     <g id=\"line2d_2\">\n      <defs>\n       <path id=\"m06ca63c78f\" d=\"M 0 0 \nL 0 3.5 \n\" style=\"stroke: #000000; stroke-width: 0.8\"/>\n      </defs>\n      <g>\n       <use xlink:href=\"#m06ca63c78f\" x=\"42.620312\" y=\"149.599219\" style=\"stroke: #000000; stroke-width: 0.8\"/>\n      </g>\n     </g>\n     <g id=\"text_1\">\n      <!-- 0 -->\n      <g transform=\"translate(39.439062 164.197656) scale(0.1 -0.1)\">\n       <defs>\n        <path id=\"DejaVuSans-30\" d=\"M 2034 4250 \nQ 1547 4250 1301 3770 \nQ 1056 3291 1056 2328 \nQ 1056 1369 1301 889 \nQ 1547 409 2034 409 \nQ 2525 409 2770 889 \nQ 3016 1369 3016 2328 \nQ 3016 3291 2770 3770 \nQ 2525 4250 2034 4250 \nz\nM 2034 4750 \nQ 2819 4750 3233 4129 \nQ 3647 3509 3647 2328 \nQ 3647 1150 3233 529 \nQ 2819 -91 2034 -91 \nQ 1250 -91 836 529 \nQ 422 1150 422 2328 \nQ 422 3509 836 4129 \nQ 1250 4750 2034 4750 \nz\n\" transform=\"scale(0.015625)\"/>\n       </defs>\n       <use xlink:href=\"#DejaVuSans-30\"/>\n      </g>\n     </g>\n    </g>\n    <g id=\"xtick_2\">\n     <g id=\"line2d_3\">\n      <path d=\"M 81.680312 149.599219 \nL 81.680312 10.999219 \n\" clip-path=\"url(#p6119fee59b)\" style=\"fill: none; stroke: #b0b0b0; stroke-width: 0.8; stroke-linecap: square\"/>\n     </g>\n     <g id=\"line2d_4\">\n      <g>\n       <use xlink:href=\"#m06ca63c78f\" x=\"81.680312\" y=\"149.599219\" style=\"stroke: #000000; stroke-width: 0.8\"/>\n      </g>\n     </g>\n     <g id=\"text_2\">\n      <!-- 1 -->\n      <g transform=\"translate(78.499062 164.197656) scale(0.1 -0.1)\">\n       <defs>\n        <path id=\"DejaVuSans-31\" d=\"M 794 531 \nL 1825 531 \nL 1825 4091 \nL 703 3866 \nL 703 4441 \nL 1819 4666 \nL 2450 4666 \nL 2450 531 \nL 3481 531 \nL 3481 0 \nL 794 0 \nL 794 531 \nz\n\" transform=\"scale(0.015625)\"/>\n       </defs>\n       <use xlink:href=\"#DejaVuSans-31\"/>\n      </g>\n     </g>\n    </g>\n    <g id=\"xtick_3\">\n     <g id=\"line2d_5\">\n      <path d=\"M 120.740313 149.599219 \nL 120.740313 10.999219 \n\" clip-path=\"url(#p6119fee59b)\" style=\"fill: none; stroke: #b0b0b0; stroke-width: 0.8; stroke-linecap: square\"/>\n     </g>\n     <g id=\"line2d_6\">\n      <g>\n       <use xlink:href=\"#m06ca63c78f\" x=\"120.740313\" y=\"149.599219\" style=\"stroke: #000000; stroke-width: 0.8\"/>\n      </g>\n     </g>\n     <g id=\"text_3\">\n      <!-- 2 -->\n      <g transform=\"translate(117.559062 164.197656) scale(0.1 -0.1)\">\n       <defs>\n        <path id=\"DejaVuSans-32\" d=\"M 1228 531 \nL 3431 531 \nL 3431 0 \nL 469 0 \nL 469 531 \nQ 828 903 1448 1529 \nQ 2069 2156 2228 2338 \nQ 2531 2678 2651 2914 \nQ 2772 3150 2772 3378 \nQ 2772 3750 2511 3984 \nQ 2250 4219 1831 4219 \nQ 1534 4219 1204 4116 \nQ 875 4013 500 3803 \nL 500 4441 \nQ 881 4594 1212 4672 \nQ 1544 4750 1819 4750 \nQ 2544 4750 2975 4387 \nQ 3406 4025 3406 3419 \nQ 3406 3131 3298 2873 \nQ 3191 2616 2906 2266 \nQ 2828 2175 2409 1742 \nQ 1991 1309 1228 531 \nz\n\" transform=\"scale(0.015625)\"/>\n       </defs>\n       <use xlink:href=\"#DejaVuSans-32\"/>\n      </g>\n     </g>\n    </g>\n    <g id=\"xtick_4\">\n     <g id=\"line2d_7\">\n      <path d=\"M 159.800313 149.599219 \nL 159.800313 10.999219 \n\" clip-path=\"url(#p6119fee59b)\" style=\"fill: none; stroke: #b0b0b0; stroke-width: 0.8; stroke-linecap: square\"/>\n     </g>\n     <g id=\"line2d_8\">\n      <g>\n       <use xlink:href=\"#m06ca63c78f\" x=\"159.800313\" y=\"149.599219\" style=\"stroke: #000000; stroke-width: 0.8\"/>\n      </g>\n     </g>\n     <g id=\"text_4\">\n      <!-- 3 -->\n      <g transform=\"translate(156.619063 164.197656) scale(0.1 -0.1)\">\n       <defs>\n        <path id=\"DejaVuSans-33\" d=\"M 2597 2516 \nQ 3050 2419 3304 2112 \nQ 3559 1806 3559 1356 \nQ 3559 666 3084 287 \nQ 2609 -91 1734 -91 \nQ 1441 -91 1130 -33 \nQ 819 25 488 141 \nL 488 750 \nQ 750 597 1062 519 \nQ 1375 441 1716 441 \nQ 2309 441 2620 675 \nQ 2931 909 2931 1356 \nQ 2931 1769 2642 2001 \nQ 2353 2234 1838 2234 \nL 1294 2234 \nL 1294 2753 \nL 1863 2753 \nQ 2328 2753 2575 2939 \nQ 2822 3125 2822 3475 \nQ 2822 3834 2567 4026 \nQ 2313 4219 1838 4219 \nQ 1578 4219 1281 4162 \nQ 984 4106 628 3988 \nL 628 4550 \nQ 988 4650 1302 4700 \nQ 1616 4750 1894 4750 \nQ 2613 4750 3031 4423 \nQ 3450 4097 3450 3541 \nQ 3450 3153 3228 2886 \nQ 3006 2619 2597 2516 \nz\n\" transform=\"scale(0.015625)\"/>\n       </defs>\n       <use xlink:href=\"#DejaVuSans-33\"/>\n      </g>\n     </g>\n    </g>\n    <g id=\"xtick_5\">\n     <g id=\"line2d_9\">\n      <path d=\"M 198.860313 149.599219 \nL 198.860313 10.999219 \n\" clip-path=\"url(#p6119fee59b)\" style=\"fill: none; stroke: #b0b0b0; stroke-width: 0.8; stroke-linecap: square\"/>\n     </g>\n     <g id=\"line2d_10\">\n      <g>\n       <use xlink:href=\"#m06ca63c78f\" x=\"198.860313\" y=\"149.599219\" style=\"stroke: #000000; stroke-width: 0.8\"/>\n      </g>\n     </g>\n     <g id=\"text_5\">\n      <!-- 4 -->\n      <g transform=\"translate(195.679063 164.197656) scale(0.1 -0.1)\">\n       <defs>\n        <path id=\"DejaVuSans-34\" d=\"M 2419 4116 \nL 825 1625 \nL 2419 1625 \nL 2419 4116 \nz\nM 2253 4666 \nL 3047 4666 \nL 3047 1625 \nL 3713 1625 \nL 3713 1100 \nL 3047 1100 \nL 3047 0 \nL 2419 0 \nL 2419 1100 \nL 313 1100 \nL 313 1709 \nL 2253 4666 \nz\n\" transform=\"scale(0.015625)\"/>\n       </defs>\n       <use xlink:href=\"#DejaVuSans-34\"/>\n      </g>\n     </g>\n    </g>\n    <g id=\"xtick_6\">\n     <g id=\"line2d_11\">\n      <path d=\"M 237.920313 149.599219 \nL 237.920313 10.999219 \n\" clip-path=\"url(#p6119fee59b)\" style=\"fill: none; stroke: #b0b0b0; stroke-width: 0.8; stroke-linecap: square\"/>\n     </g>\n     <g id=\"line2d_12\">\n      <g>\n       <use xlink:href=\"#m06ca63c78f\" x=\"237.920313\" y=\"149.599219\" style=\"stroke: #000000; stroke-width: 0.8\"/>\n      </g>\n     </g>\n     <g id=\"text_6\">\n      <!-- 5 -->\n      <g transform=\"translate(234.739063 164.197656) scale(0.1 -0.1)\">\n       <defs>\n        <path id=\"DejaVuSans-35\" d=\"M 691 4666 \nL 3169 4666 \nL 3169 4134 \nL 1269 4134 \nL 1269 2991 \nQ 1406 3038 1543 3061 \nQ 1681 3084 1819 3084 \nQ 2600 3084 3056 2656 \nQ 3513 2228 3513 1497 \nQ 3513 744 3044 326 \nQ 2575 -91 1722 -91 \nQ 1428 -91 1123 -41 \nQ 819 9 494 109 \nL 494 744 \nQ 775 591 1075 516 \nQ 1375 441 1709 441 \nQ 2250 441 2565 725 \nQ 2881 1009 2881 1497 \nQ 2881 1984 2565 2268 \nQ 2250 2553 1709 2553 \nQ 1456 2553 1204 2497 \nQ 953 2441 691 2322 \nL 691 4666 \nz\n\" transform=\"scale(0.015625)\"/>\n       </defs>\n       <use xlink:href=\"#DejaVuSans-35\"/>\n      </g>\n     </g>\n    </g>\n    <g id=\"text_7\">\n     <!-- x -->\n     <g transform=\"translate(137.310937 177.875781) scale(0.1 -0.1)\">\n      <defs>\n       <path id=\"DejaVuSans-78\" d=\"M 3513 3500 \nL 2247 1797 \nL 3578 0 \nL 2900 0 \nL 1881 1375 \nL 863 0 \nL 184 0 \nL 1544 1831 \nL 300 3500 \nL 978 3500 \nL 1906 2253 \nL 2834 3500 \nL 3513 3500 \nz\n\" transform=\"scale(0.015625)\"/>\n      </defs>\n      <use xlink:href=\"#DejaVuSans-78\"/>\n     </g>\n    </g>\n   </g>\n   <g id=\"matplotlib.axis_2\">\n    <g id=\"ytick_1\">\n     <g id=\"line2d_13\">\n      <path d=\"M 42.620312 149.599219 \nL 237.920313 149.599219 \n\" clip-path=\"url(#p6119fee59b)\" style=\"fill: none; stroke: #b0b0b0; stroke-width: 0.8; stroke-linecap: square\"/>\n     </g>\n     <g id=\"line2d_14\">\n      <defs>\n       <path id=\"mfe4e6c6ec9\" d=\"M 0 0 \nL -3.5 0 \n\" style=\"stroke: #000000; stroke-width: 0.8\"/>\n      </defs>\n      <g>\n       <use xlink:href=\"#mfe4e6c6ec9\" x=\"42.620312\" y=\"149.599219\" style=\"stroke: #000000; stroke-width: 0.8\"/>\n      </g>\n     </g>\n     <g id=\"text_8\">\n      <!-- −1 -->\n      <g transform=\"translate(20.878125 153.398437) scale(0.1 -0.1)\">\n       <defs>\n        <path id=\"DejaVuSans-2212\" d=\"M 678 2272 \nL 4684 2272 \nL 4684 1741 \nL 678 1741 \nL 678 2272 \nz\n\" transform=\"scale(0.015625)\"/>\n       </defs>\n       <use xlink:href=\"#DejaVuSans-2212\"/>\n       <use xlink:href=\"#DejaVuSans-31\" transform=\"translate(83.789062 0)\"/>\n      </g>\n     </g>\n    </g>\n    <g id=\"ytick_2\">\n     <g id=\"line2d_15\">\n      <path d=\"M 42.620312 126.499219 \nL 237.920313 126.499219 \n\" clip-path=\"url(#p6119fee59b)\" style=\"fill: none; stroke: #b0b0b0; stroke-width: 0.8; stroke-linecap: square\"/>\n     </g>\n     <g id=\"line2d_16\">\n      <g>\n       <use xlink:href=\"#mfe4e6c6ec9\" x=\"42.620312\" y=\"126.499219\" style=\"stroke: #000000; stroke-width: 0.8\"/>\n      </g>\n     </g>\n     <g id=\"text_9\">\n      <!-- 0 -->\n      <g transform=\"translate(29.257812 130.298437) scale(0.1 -0.1)\">\n       <use xlink:href=\"#DejaVuSans-30\"/>\n      </g>\n     </g>\n    </g>\n    <g id=\"ytick_3\">\n     <g id=\"line2d_17\">\n      <path d=\"M 42.620312 103.399219 \nL 237.920313 103.399219 \n\" clip-path=\"url(#p6119fee59b)\" style=\"fill: none; stroke: #b0b0b0; stroke-width: 0.8; stroke-linecap: square\"/>\n     </g>\n     <g id=\"line2d_18\">\n      <g>\n       <use xlink:href=\"#mfe4e6c6ec9\" x=\"42.620312\" y=\"103.399219\" style=\"stroke: #000000; stroke-width: 0.8\"/>\n      </g>\n     </g>\n     <g id=\"text_10\">\n      <!-- 1 -->\n      <g transform=\"translate(29.257812 107.198437) scale(0.1 -0.1)\">\n       <use xlink:href=\"#DejaVuSans-31\"/>\n      </g>\n     </g>\n    </g>\n    <g id=\"ytick_4\">\n     <g id=\"line2d_19\">\n      <path d=\"M 42.620312 80.299219 \nL 237.920313 80.299219 \n\" clip-path=\"url(#p6119fee59b)\" style=\"fill: none; stroke: #b0b0b0; stroke-width: 0.8; stroke-linecap: square\"/>\n     </g>\n     <g id=\"line2d_20\">\n      <g>\n       <use xlink:href=\"#mfe4e6c6ec9\" x=\"42.620312\" y=\"80.299219\" style=\"stroke: #000000; stroke-width: 0.8\"/>\n      </g>\n     </g>\n     <g id=\"text_11\">\n      <!-- 2 -->\n      <g transform=\"translate(29.257812 84.098437) scale(0.1 -0.1)\">\n       <use xlink:href=\"#DejaVuSans-32\"/>\n      </g>\n     </g>\n    </g>\n    <g id=\"ytick_5\">\n     <g id=\"line2d_21\">\n      <path d=\"M 42.620312 57.199219 \nL 237.920313 57.199219 \n\" clip-path=\"url(#p6119fee59b)\" style=\"fill: none; stroke: #b0b0b0; stroke-width: 0.8; stroke-linecap: square\"/>\n     </g>\n     <g id=\"line2d_22\">\n      <g>\n       <use xlink:href=\"#mfe4e6c6ec9\" x=\"42.620312\" y=\"57.199219\" style=\"stroke: #000000; stroke-width: 0.8\"/>\n      </g>\n     </g>\n     <g id=\"text_12\">\n      <!-- 3 -->\n      <g transform=\"translate(29.257812 60.998437) scale(0.1 -0.1)\">\n       <use xlink:href=\"#DejaVuSans-33\"/>\n      </g>\n     </g>\n    </g>\n    <g id=\"ytick_6\">\n     <g id=\"line2d_23\">\n      <path d=\"M 42.620312 34.099219 \nL 237.920313 34.099219 \n\" clip-path=\"url(#p6119fee59b)\" style=\"fill: none; stroke: #b0b0b0; stroke-width: 0.8; stroke-linecap: square\"/>\n     </g>\n     <g id=\"line2d_24\">\n      <g>\n       <use xlink:href=\"#mfe4e6c6ec9\" x=\"42.620312\" y=\"34.099219\" style=\"stroke: #000000; stroke-width: 0.8\"/>\n      </g>\n     </g>\n     <g id=\"text_13\">\n      <!-- 4 -->\n      <g transform=\"translate(29.257812 37.898438) scale(0.1 -0.1)\">\n       <use xlink:href=\"#DejaVuSans-34\"/>\n      </g>\n     </g>\n    </g>\n    <g id=\"ytick_7\">\n     <g id=\"line2d_25\">\n      <path d=\"M 42.620312 10.999219 \nL 237.920313 10.999219 \n\" clip-path=\"url(#p6119fee59b)\" style=\"fill: none; stroke: #b0b0b0; stroke-width: 0.8; stroke-linecap: square\"/>\n     </g>\n     <g id=\"line2d_26\">\n      <g>\n       <use xlink:href=\"#mfe4e6c6ec9\" x=\"42.620312\" y=\"10.999219\" style=\"stroke: #000000; stroke-width: 0.8\"/>\n      </g>\n     </g>\n     <g id=\"text_14\">\n      <!-- 5 -->\n      <g transform=\"translate(29.257812 14.798437) scale(0.1 -0.1)\">\n       <use xlink:href=\"#DejaVuSans-35\"/>\n      </g>\n     </g>\n    </g>\n    <g id=\"text_15\">\n     <!-- y -->\n     <g transform=\"translate(14.798437 83.258594) rotate(-90) scale(0.1 -0.1)\">\n      <defs>\n       <path id=\"DejaVuSans-79\" d=\"M 2059 -325 \nQ 1816 -950 1584 -1140 \nQ 1353 -1331 966 -1331 \nL 506 -1331 \nL 506 -850 \nL 844 -850 \nQ 1081 -850 1212 -737 \nQ 1344 -625 1503 -206 \nL 1606 56 \nL 191 3500 \nL 800 3500 \nL 1894 763 \nL 2988 3500 \nL 3597 3500 \nL 2059 -325 \nz\n\" transform=\"scale(0.015625)\"/>\n      </defs>\n      <use xlink:href=\"#DejaVuSans-79\"/>\n     </g>\n    </g>\n   </g>\n   <g id=\"line2d_27\">\n    <path d=\"M 42.620312 126.499219 \nL 46.526313 118.225812 \nL 50.432313 110.946345 \nL 54.338313 104.029425 \nL 58.244313 97.4097 \nL 62.150312 91.082293 \nL 66.056313 85.061866 \nL 69.962312 79.370737 \nL 73.868313 74.033949 \nL 77.774314 69.076775 \nL 81.680312 64.523261 \nL 85.586313 60.395214 \nL 89.492314 56.711598 \nL 93.398311 53.487961 \nL 97.304312 50.736132 \nL 101.210313 48.46391 \nL 105.116313 46.674891 \nL 109.022314 45.368338 \nL 112.928315 44.539111 \nL 116.834312 44.177706 \nL 120.740313 44.270242 \nL 124.646309 44.798618 \nL 128.552314 45.740654 \nL 132.458311 47.070245 \nL 136.364316 48.757689 \nL 140.270312 50.76986 \nL 144.176318 53.070611 \nL 148.082314 55.621064 \nL 151.98832 58.380042 \nL 155.894316 61.304393 \nL 159.800313 64.349483 \nL 163.706318 67.469619 \nL 167.612314 70.618454 \nL 171.518311 73.749494 \nL 175.424316 76.816549 \nL 179.330312 79.774142 \nL 183.236318 82.578044 \nL 187.142314 85.185605 \nL 191.048311 87.556281 \nL 194.954316 89.651973 \nL 198.860313 91.437389 \nL 202.766309 92.880457 \nL 206.672305 93.952601 \nL 210.57832 94.629017 \nL 214.484316 94.888934 \nL 218.390312 94.715829 \nL 222.296309 94.097555 \nL 226.202305 93.026506 \nL 230.10832 91.499643 \nL 234.014316 89.518571 \n\" clip-path=\"url(#p6119fee59b)\" style=\"fill: none; stroke: #1f77b4; stroke-width: 1.5; stroke-linecap: square\"/>\n   </g>\n   <g id=\"line2d_28\">\n    <path d=\"M 42.620312 76.51415 \nL 46.526313 76.51415 \nL 50.432313 76.51415 \nL 54.338313 76.51415 \nL 58.244313 76.51415 \nL 62.150312 76.51415 \nL 66.056313 76.51415 \nL 69.962312 76.51415 \nL 73.868313 76.51415 \nL 77.774314 76.51415 \nL 81.680312 76.51415 \nL 85.586313 76.51415 \nL 89.492314 76.51415 \nL 93.398311 76.51415 \nL 97.304312 76.51415 \nL 101.210313 76.51415 \nL 105.116313 76.51415 \nL 109.022314 76.51415 \nL 112.928315 76.51415 \nL 116.834312 76.51415 \nL 120.740313 76.51415 \nL 124.646309 76.51415 \nL 128.552314 76.51415 \nL 132.458311 76.51415 \nL 136.364316 76.51415 \nL 140.270312 76.51415 \nL 144.176318 76.51415 \nL 148.082314 76.51415 \nL 151.98832 76.51415 \nL 155.894316 76.51415 \nL 159.800313 76.51415 \nL 163.706318 76.51415 \nL 167.612314 76.51415 \nL 171.518311 76.51415 \nL 175.424316 76.51415 \nL 179.330312 76.51415 \nL 183.236318 76.51415 \nL 187.142314 76.51415 \nL 191.048311 76.51415 \nL 194.954316 76.51415 \nL 198.860313 76.51415 \nL 202.766309 76.51415 \nL 206.672305 76.51415 \nL 210.57832 76.51415 \nL 214.484316 76.51415 \nL 218.390312 76.51415 \nL 222.296309 76.51415 \nL 226.202305 76.51415 \nL 230.10832 76.51415 \nL 234.014316 76.51415 \n\" clip-path=\"url(#p6119fee59b)\" style=\"fill: none; stroke-dasharray: 5.55,2.4; stroke-dashoffset: 0; stroke: #bf00bf; stroke-width: 1.5\"/>\n   </g>\n   <g id=\"line2d_29\">\n    <defs>\n     <path id=\"mfe609eb2e8\" d=\"M 0 3 \nC 0.795609 3 1.55874 2.683901 2.12132 2.12132 \nC 2.683901 1.55874 3 0.795609 3 0 \nC 3 -0.795609 2.683901 -1.55874 2.12132 -2.12132 \nC 1.55874 -2.683901 0.795609 -3 0 -3 \nC -0.795609 -3 -1.55874 -2.683901 -2.12132 -2.12132 \nC -2.683901 -1.55874 -3 -0.795609 -3 0 \nC -3 0.795609 -2.683901 1.55874 -2.12132 2.12132 \nC -1.55874 2.683901 -0.795609 3 0 3 \nz\n\" style=\"stroke: #ff7f0e; stroke-opacity: 0.5\"/>\n    </defs>\n    <g clip-path=\"url(#p6119fee59b)\">\n     <use xlink:href=\"#mfe609eb2e8\" x=\"45.696938\" y=\"109.239588\" style=\"fill: #ff7f0e; fill-opacity: 0.5; stroke: #ff7f0e; stroke-opacity: 0.5\"/>\n     <use xlink:href=\"#mfe609eb2e8\" x=\"50.132287\" y=\"111.258801\" style=\"fill: #ff7f0e; fill-opacity: 0.5; stroke: #ff7f0e; stroke-opacity: 0.5\"/>\n     <use xlink:href=\"#mfe609eb2e8\" x=\"52.893971\" y=\"129.479854\" style=\"fill: #ff7f0e; fill-opacity: 0.5; stroke: #ff7f0e; stroke-opacity: 0.5\"/>\n     <use xlink:href=\"#mfe609eb2e8\" x=\"53.289327\" y=\"114.307048\" style=\"fill: #ff7f0e; fill-opacity: 0.5; stroke: #ff7f0e; stroke-opacity: 0.5\"/>\n     <use xlink:href=\"#mfe609eb2e8\" x=\"55.087223\" y=\"89.549481\" style=\"fill: #ff7f0e; fill-opacity: 0.5; stroke: #ff7f0e; stroke-opacity: 0.5\"/>\n     <use xlink:href=\"#mfe609eb2e8\" x=\"56.336233\" y=\"104.899674\" style=\"fill: #ff7f0e; fill-opacity: 0.5; stroke: #ff7f0e; stroke-opacity: 0.5\"/>\n     <use xlink:href=\"#mfe609eb2e8\" x=\"56.71088\" y=\"82.797272\" style=\"fill: #ff7f0e; fill-opacity: 0.5; stroke: #ff7f0e; stroke-opacity: 0.5\"/>\n     <use xlink:href=\"#mfe609eb2e8\" x=\"59.051167\" y=\"91.098859\" style=\"fill: #ff7f0e; fill-opacity: 0.5; stroke: #ff7f0e; stroke-opacity: 0.5\"/>\n     <use xlink:href=\"#mfe609eb2e8\" x=\"64.919323\" y=\"86.798721\" style=\"fill: #ff7f0e; fill-opacity: 0.5; stroke: #ff7f0e; stroke-opacity: 0.5\"/>\n     <use xlink:href=\"#mfe609eb2e8\" x=\"67.011277\" y=\"100.443839\" style=\"fill: #ff7f0e; fill-opacity: 0.5; stroke: #ff7f0e; stroke-opacity: 0.5\"/>\n     <use xlink:href=\"#mfe609eb2e8\" x=\"68.350096\" y=\"66.160868\" style=\"fill: #ff7f0e; fill-opacity: 0.5; stroke: #ff7f0e; stroke-opacity: 0.5\"/>\n     <use xlink:href=\"#mfe609eb2e8\" x=\"78.796561\" y=\"57.967841\" style=\"fill: #ff7f0e; fill-opacity: 0.5; stroke: #ff7f0e; stroke-opacity: 0.5\"/>\n     <use xlink:href=\"#mfe609eb2e8\" x=\"84.85184\" y=\"36.980143\" style=\"fill: #ff7f0e; fill-opacity: 0.5; stroke: #ff7f0e; stroke-opacity: 0.5\"/>\n     <use xlink:href=\"#mfe609eb2e8\" x=\"90.634276\" y=\"40.991541\" style=\"fill: #ff7f0e; fill-opacity: 0.5; stroke: #ff7f0e; stroke-opacity: 0.5\"/>\n     <use xlink:href=\"#mfe609eb2e8\" x=\"112.71141\" y=\"24.558696\" style=\"fill: #ff7f0e; fill-opacity: 0.5; stroke: #ff7f0e; stroke-opacity: 0.5\"/>\n     <use xlink:href=\"#mfe609eb2e8\" x=\"112.869725\" y=\"34.528559\" style=\"fill: #ff7f0e; fill-opacity: 0.5; stroke: #ff7f0e; stroke-opacity: 0.5\"/>\n     <use xlink:href=\"#mfe609eb2e8\" x=\"115.700685\" y=\"60.77079\" style=\"fill: #ff7f0e; fill-opacity: 0.5; stroke: #ff7f0e; stroke-opacity: 0.5\"/>\n     <use xlink:href=\"#mfe609eb2e8\" x=\"118.0782\" y=\"53.692613\" style=\"fill: #ff7f0e; fill-opacity: 0.5; stroke: #ff7f0e; stroke-opacity: 0.5\"/>\n     <use xlink:href=\"#mfe609eb2e8\" x=\"120.462768\" y=\"62.240189\" style=\"fill: #ff7f0e; fill-opacity: 0.5; stroke: #ff7f0e; stroke-opacity: 0.5\"/>\n     <use xlink:href=\"#mfe609eb2e8\" x=\"129.82224\" y=\"36.541203\" style=\"fill: #ff7f0e; fill-opacity: 0.5; stroke: #ff7f0e; stroke-opacity: 0.5\"/>\n     <use xlink:href=\"#mfe609eb2e8\" x=\"130.875964\" y=\"73.312355\" style=\"fill: #ff7f0e; fill-opacity: 0.5; stroke: #ff7f0e; stroke-opacity: 0.5\"/>\n     <use xlink:href=\"#mfe609eb2e8\" x=\"144.144422\" y=\"46.813531\" style=\"fill: #ff7f0e; fill-opacity: 0.5; stroke: #ff7f0e; stroke-opacity: 0.5\"/>\n     <use xlink:href=\"#mfe609eb2e8\" x=\"144.259769\" y=\"55.423076\" style=\"fill: #ff7f0e; fill-opacity: 0.5; stroke: #ff7f0e; stroke-opacity: 0.5\"/>\n     <use xlink:href=\"#mfe609eb2e8\" x=\"145.640487\" y=\"70.205212\" style=\"fill: #ff7f0e; fill-opacity: 0.5; stroke: #ff7f0e; stroke-opacity: 0.5\"/>\n     <use xlink:href=\"#mfe609eb2e8\" x=\"148.262495\" y=\"64.693105\" style=\"fill: #ff7f0e; fill-opacity: 0.5; stroke: #ff7f0e; stroke-opacity: 0.5\"/>\n     <use xlink:href=\"#mfe609eb2e8\" x=\"151.449547\" y=\"51.751395\" style=\"fill: #ff7f0e; fill-opacity: 0.5; stroke: #ff7f0e; stroke-opacity: 0.5\"/>\n     <use xlink:href=\"#mfe609eb2e8\" x=\"156.526551\" y=\"57.986451\" style=\"fill: #ff7f0e; fill-opacity: 0.5; stroke: #ff7f0e; stroke-opacity: 0.5\"/>\n     <use xlink:href=\"#mfe609eb2e8\" x=\"156.599226\" y=\"72.071704\" style=\"fill: #ff7f0e; fill-opacity: 0.5; stroke: #ff7f0e; stroke-opacity: 0.5\"/>\n     <use xlink:href=\"#mfe609eb2e8\" x=\"156.647931\" y=\"72.913559\" style=\"fill: #ff7f0e; fill-opacity: 0.5; stroke: #ff7f0e; stroke-opacity: 0.5\"/>\n     <use xlink:href=\"#mfe609eb2e8\" x=\"156.923958\" y=\"51.686639\" style=\"fill: #ff7f0e; fill-opacity: 0.5; stroke: #ff7f0e; stroke-opacity: 0.5\"/>\n     <use xlink:href=\"#mfe609eb2e8\" x=\"163.97373\" y=\"70.549886\" style=\"fill: #ff7f0e; fill-opacity: 0.5; stroke: #ff7f0e; stroke-opacity: 0.5\"/>\n     <use xlink:href=\"#mfe609eb2e8\" x=\"169.435653\" y=\"87.008652\" style=\"fill: #ff7f0e; fill-opacity: 0.5; stroke: #ff7f0e; stroke-opacity: 0.5\"/>\n     <use xlink:href=\"#mfe609eb2e8\" x=\"176.748554\" y=\"71.272031\" style=\"fill: #ff7f0e; fill-opacity: 0.5; stroke: #ff7f0e; stroke-opacity: 0.5\"/>\n     <use xlink:href=\"#mfe609eb2e8\" x=\"178.108942\" y=\"70.844673\" style=\"fill: #ff7f0e; fill-opacity: 0.5; stroke: #ff7f0e; stroke-opacity: 0.5\"/>\n     <use xlink:href=\"#mfe609eb2e8\" x=\"180.697509\" y=\"88.841491\" style=\"fill: #ff7f0e; fill-opacity: 0.5; stroke: #ff7f0e; stroke-opacity: 0.5\"/>\n     <use xlink:href=\"#mfe609eb2e8\" x=\"185.272478\" y=\"95.666203\" style=\"fill: #ff7f0e; fill-opacity: 0.5; stroke: #ff7f0e; stroke-opacity: 0.5\"/>\n     <use xlink:href=\"#mfe609eb2e8\" x=\"188.90404\" y=\"80.739202\" style=\"fill: #ff7f0e; fill-opacity: 0.5; stroke: #ff7f0e; stroke-opacity: 0.5\"/>\n     <use xlink:href=\"#mfe609eb2e8\" x=\"191.121554\" y=\"74.966248\" style=\"fill: #ff7f0e; fill-opacity: 0.5; stroke: #ff7f0e; stroke-opacity: 0.5\"/>\n     <use xlink:href=\"#mfe609eb2e8\" x=\"193.549096\" y=\"94.284363\" style=\"fill: #ff7f0e; fill-opacity: 0.5; stroke: #ff7f0e; stroke-opacity: 0.5\"/>\n     <use xlink:href=\"#mfe609eb2e8\" x=\"206.692905\" y=\"95.72773\" style=\"fill: #ff7f0e; fill-opacity: 0.5; stroke: #ff7f0e; stroke-opacity: 0.5\"/>\n     <use xlink:href=\"#mfe609eb2e8\" x=\"207.565219\" y=\"76.427666\" style=\"fill: #ff7f0e; fill-opacity: 0.5; stroke: #ff7f0e; stroke-opacity: 0.5\"/>\n     <use xlink:href=\"#mfe609eb2e8\" x=\"207.682018\" y=\"86.229529\" style=\"fill: #ff7f0e; fill-opacity: 0.5; stroke: #ff7f0e; stroke-opacity: 0.5\"/>\n     <use xlink:href=\"#mfe609eb2e8\" x=\"213.161681\" y=\"107.287517\" style=\"fill: #ff7f0e; fill-opacity: 0.5; stroke: #ff7f0e; stroke-opacity: 0.5\"/>\n     <use xlink:href=\"#mfe609eb2e8\" x=\"215.741558\" y=\"85.541971\" style=\"fill: #ff7f0e; fill-opacity: 0.5; stroke: #ff7f0e; stroke-opacity: 0.5\"/>\n     <use xlink:href=\"#mfe609eb2e8\" x=\"221.011073\" y=\"97.223002\" style=\"fill: #ff7f0e; fill-opacity: 0.5; stroke: #ff7f0e; stroke-opacity: 0.5\"/>\n     <use xlink:href=\"#mfe609eb2e8\" x=\"221.285516\" y=\"80.427785\" style=\"fill: #ff7f0e; fill-opacity: 0.5; stroke: #ff7f0e; stroke-opacity: 0.5\"/>\n     <use xlink:href=\"#mfe609eb2e8\" x=\"223.899776\" y=\"87.243788\" style=\"fill: #ff7f0e; fill-opacity: 0.5; stroke: #ff7f0e; stroke-opacity: 0.5\"/>\n     <use xlink:href=\"#mfe609eb2e8\" x=\"230.375108\" y=\"91.256249\" style=\"fill: #ff7f0e; fill-opacity: 0.5; stroke: #ff7f0e; stroke-opacity: 0.5\"/>\n     <use xlink:href=\"#mfe609eb2e8\" x=\"237.828695\" y=\"80.192253\" style=\"fill: #ff7f0e; fill-opacity: 0.5; stroke: #ff7f0e; stroke-opacity: 0.5\"/>\n     <use xlink:href=\"#mfe609eb2e8\" x=\"237.897646\" y=\"92.814618\" style=\"fill: #ff7f0e; fill-opacity: 0.5; stroke: #ff7f0e; stroke-opacity: 0.5\"/>\n    </g>\n   </g>\n   <g id=\"patch_3\">\n    <path d=\"M 42.620312 149.599219 \nL 42.620312 10.999219 \n\" style=\"fill: none; stroke: #000000; stroke-width: 0.8; stroke-linejoin: miter; stroke-linecap: square\"/>\n   </g>\n   <g id=\"patch_4\">\n    <path d=\"M 237.920313 149.599219 \nL 237.920313 10.999219 \n\" style=\"fill: none; stroke: #000000; stroke-width: 0.8; stroke-linejoin: miter; stroke-linecap: square\"/>\n   </g>\n   <g id=\"patch_5\">\n    <path d=\"M 42.620312 149.599219 \nL 237.920313 149.599219 \n\" style=\"fill: none; stroke: #000000; stroke-width: 0.8; stroke-linejoin: miter; stroke-linecap: square\"/>\n   </g>\n   <g id=\"patch_6\">\n    <path d=\"M 42.620312 10.999219 \nL 237.920313 10.999219 \n\" style=\"fill: none; stroke: #000000; stroke-width: 0.8; stroke-linejoin: miter; stroke-linecap: square\"/>\n   </g>\n   <g id=\"legend_1\">\n    <g id=\"patch_7\">\n     <path d=\"M 173.58125 48.355469 \nL 230.920313 48.355469 \nQ 232.920313 48.355469 232.920313 46.355469 \nL 232.920313 17.999219 \nQ 232.920313 15.999219 230.920313 15.999219 \nL 173.58125 15.999219 \nQ 171.58125 15.999219 171.58125 17.999219 \nL 171.58125 46.355469 \nQ 171.58125 48.355469 173.58125 48.355469 \nz\n\" style=\"fill: #ffffff; opacity: 0.8; stroke: #cccccc; stroke-linejoin: miter\"/>\n    </g>\n    <g id=\"line2d_30\">\n     <path d=\"M 175.58125 24.097656 \nL 185.58125 24.097656 \nL 195.58125 24.097656 \n\" style=\"fill: none; stroke: #1f77b4; stroke-width: 1.5; stroke-linecap: square\"/>\n    </g>\n    <g id=\"text_16\">\n     <!-- Truth -->\n     <g transform=\"translate(203.58125 27.597656) scale(0.1 -0.1)\">\n      <defs>\n       <path id=\"DejaVuSans-54\" d=\"M -19 4666 \nL 3928 4666 \nL 3928 4134 \nL 2272 4134 \nL 2272 0 \nL 1638 0 \nL 1638 4134 \nL -19 4134 \nL -19 4666 \nz\n\" transform=\"scale(0.015625)\"/>\n       <path id=\"DejaVuSans-72\" d=\"M 2631 2963 \nQ 2534 3019 2420 3045 \nQ 2306 3072 2169 3072 \nQ 1681 3072 1420 2755 \nQ 1159 2438 1159 1844 \nL 1159 0 \nL 581 0 \nL 581 3500 \nL 1159 3500 \nL 1159 2956 \nQ 1341 3275 1631 3429 \nQ 1922 3584 2338 3584 \nQ 2397 3584 2469 3576 \nQ 2541 3569 2628 3553 \nL 2631 2963 \nz\n\" transform=\"scale(0.015625)\"/>\n       <path id=\"DejaVuSans-75\" d=\"M 544 1381 \nL 544 3500 \nL 1119 3500 \nL 1119 1403 \nQ 1119 906 1312 657 \nQ 1506 409 1894 409 \nQ 2359 409 2629 706 \nQ 2900 1003 2900 1516 \nL 2900 3500 \nL 3475 3500 \nL 3475 0 \nL 2900 0 \nL 2900 538 \nQ 2691 219 2414 64 \nQ 2138 -91 1772 -91 \nQ 1169 -91 856 284 \nQ 544 659 544 1381 \nz\nM 1991 3584 \nL 1991 3584 \nz\n\" transform=\"scale(0.015625)\"/>\n       <path id=\"DejaVuSans-74\" d=\"M 1172 4494 \nL 1172 3500 \nL 2356 3500 \nL 2356 3053 \nL 1172 3053 \nL 1172 1153 \nQ 1172 725 1289 603 \nQ 1406 481 1766 481 \nL 2356 481 \nL 2356 0 \nL 1766 0 \nQ 1100 0 847 248 \nQ 594 497 594 1153 \nL 594 3053 \nL 172 3053 \nL 172 3500 \nL 594 3500 \nL 594 4494 \nL 1172 4494 \nz\n\" transform=\"scale(0.015625)\"/>\n       <path id=\"DejaVuSans-68\" d=\"M 3513 2113 \nL 3513 0 \nL 2938 0 \nL 2938 2094 \nQ 2938 2591 2744 2837 \nQ 2550 3084 2163 3084 \nQ 1697 3084 1428 2787 \nQ 1159 2491 1159 1978 \nL 1159 0 \nL 581 0 \nL 581 4863 \nL 1159 4863 \nL 1159 2956 \nQ 1366 3272 1645 3428 \nQ 1925 3584 2291 3584 \nQ 2894 3584 3203 3211 \nQ 3513 2838 3513 2113 \nz\n\" transform=\"scale(0.015625)\"/>\n      </defs>\n      <use xlink:href=\"#DejaVuSans-54\"/>\n      <use xlink:href=\"#DejaVuSans-72\" transform=\"translate(46.333984 0)\"/>\n      <use xlink:href=\"#DejaVuSans-75\" transform=\"translate(87.447266 0)\"/>\n      <use xlink:href=\"#DejaVuSans-74\" transform=\"translate(150.826172 0)\"/>\n      <use xlink:href=\"#DejaVuSans-68\" transform=\"translate(190.035156 0)\"/>\n     </g>\n    </g>\n    <g id=\"line2d_31\">\n     <path d=\"M 175.58125 38.775781 \nL 185.58125 38.775781 \nL 195.58125 38.775781 \n\" style=\"fill: none; stroke-dasharray: 5.55,2.4; stroke-dashoffset: 0; stroke: #bf00bf; stroke-width: 1.5\"/>\n    </g>\n    <g id=\"text_17\">\n     <!-- Pred -->\n     <g transform=\"translate(203.58125 42.275781) scale(0.1 -0.1)\">\n      <defs>\n       <path id=\"DejaVuSans-50\" d=\"M 1259 4147 \nL 1259 2394 \nL 2053 2394 \nQ 2494 2394 2734 2622 \nQ 2975 2850 2975 3272 \nQ 2975 3691 2734 3919 \nQ 2494 4147 2053 4147 \nL 1259 4147 \nz\nM 628 4666 \nL 2053 4666 \nQ 2838 4666 3239 4311 \nQ 3641 3956 3641 3272 \nQ 3641 2581 3239 2228 \nQ 2838 1875 2053 1875 \nL 1259 1875 \nL 1259 0 \nL 628 0 \nL 628 4666 \nz\n\" transform=\"scale(0.015625)\"/>\n       <path id=\"DejaVuSans-65\" d=\"M 3597 1894 \nL 3597 1613 \nL 953 1613 \nQ 991 1019 1311 708 \nQ 1631 397 2203 397 \nQ 2534 397 2845 478 \nQ 3156 559 3463 722 \nL 3463 178 \nQ 3153 47 2828 -22 \nQ 2503 -91 2169 -91 \nQ 1331 -91 842 396 \nQ 353 884 353 1716 \nQ 353 2575 817 3079 \nQ 1281 3584 2069 3584 \nQ 2775 3584 3186 3129 \nQ 3597 2675 3597 1894 \nz\nM 3022 2063 \nQ 3016 2534 2758 2815 \nQ 2500 3097 2075 3097 \nQ 1594 3097 1305 2825 \nQ 1016 2553 972 2059 \nL 3022 2063 \nz\n\" transform=\"scale(0.015625)\"/>\n       <path id=\"DejaVuSans-64\" d=\"M 2906 2969 \nL 2906 4863 \nL 3481 4863 \nL 3481 0 \nL 2906 0 \nL 2906 525 \nQ 2725 213 2448 61 \nQ 2172 -91 1784 -91 \nQ 1150 -91 751 415 \nQ 353 922 353 1747 \nQ 353 2572 751 3078 \nQ 1150 3584 1784 3584 \nQ 2172 3584 2448 3432 \nQ 2725 3281 2906 2969 \nz\nM 947 1747 \nQ 947 1113 1208 752 \nQ 1469 391 1925 391 \nQ 2381 391 2643 752 \nQ 2906 1113 2906 1747 \nQ 2906 2381 2643 2742 \nQ 2381 3103 1925 3103 \nQ 1469 3103 1208 2742 \nQ 947 2381 947 1747 \nz\n\" transform=\"scale(0.015625)\"/>\n      </defs>\n      <use xlink:href=\"#DejaVuSans-50\"/>\n      <use xlink:href=\"#DejaVuSans-72\" transform=\"translate(58.552734 0)\"/>\n      <use xlink:href=\"#DejaVuSans-65\" transform=\"translate(97.416016 0)\"/>\n      <use xlink:href=\"#DejaVuSans-64\" transform=\"translate(158.939453 0)\"/>\n     </g>\n    </g>\n   </g>\n  </g>\n </g>\n <defs>\n  <clipPath id=\"p6119fee59b\">\n   <rect x=\"42.620312\" y=\"10.999219\" width=\"195.3\" height=\"138.6\"/>\n  </clipPath>\n </defs>\n</svg>\n"
          },
          "metadata": {}
        }
      ],
      "source": [
        "print(\"y_train.mean(): \",y_train.mean())\n",
        "print(\"n_test: \", n_test)\n",
        "y_hat = torch.repeat_interleave(y_train.mean(), n_test)\n",
        "plot_kernel_reg(y_hat)"
      ]
    },
    {
      "cell_type": "markdown",
      "id": "2d4155fa",
      "metadata": {
        "origin_pos": 21,
        "id": "2d4155fa"
      },
      "source": [
        "## [**非参数注意力汇聚**]\n",
        "\n",
        "显然，平均汇聚忽略了输入$x_i$。\n",
        "于是Nadaraya :cite:`Nadaraya.1964`和\n",
        "Watson :cite:`Watson.1964`提出了一个更好的想法，\n",
        "根据输入的位置对输出$y_i$进行加权：\n",
        "\n",
        "$$f(x) = \\sum_{i=1}^n \\frac{K(x - x_i)}{\\sum_{j=1}^n K(x - x_j)} y_i,$$\n",
        ":eqlabel:`eq_nadaraya-watson`\n",
        "\n",
        "其中$K$是*核*（kernel）。\n",
        "公式 :eqref:`eq_nadaraya-watson`所描述的估计器被称为\n",
        "*Nadaraya-Watson核回归*（Nadaraya-Watson kernel regression）。\n",
        "这里不会深入讨论核函数的细节，\n",
        "但受此启发，\n",
        "我们可以从 :numref:`fig_qkv`中的注意力机制框架的角度\n",
        "重写 :eqref:`eq_nadaraya-watson`，\n",
        "成为一个更加通用的*注意力汇聚*（attention pooling）公式：\n",
        "\n",
        "$$f(x) = \\sum_{i=1}^n \\alpha(x, x_i) y_i,$$\n",
        ":eqlabel:`eq_attn-pooling`\n",
        "\n",
        "其中$x$是查询，$(x_i, y_i)$是键值对。\n",
        "比较 :eqref:`eq_attn-pooling`和 :eqref:`eq_avg-pooling`，\n",
        "注意力汇聚是$y_i$的加权平均。\n",
        "将查询$x$和键$x_i$之间的关系建模为\n",
        "*注意力权重*（attention weight）$\\alpha(x, x_i)$，\n",
        "如 :eqref:`eq_attn-pooling`所示，\n",
        "这个权重将被分配给每一个对应值$y_i$。\n",
        "对于任何查询，模型在所有键值对注意力权重都是一个有效的概率分布：\n",
        "它们是非负的，并且总和为1。\n",
        "\n",
        "为了更好地理解注意力汇聚，\n",
        "下面考虑一个*高斯核*（Gaussian kernel），其定义为：\n",
        "\n",
        "$$K(u) = \\frac{1}{\\sqrt{2\\pi}} \\exp(-\\frac{u^2}{2}).$$\n",
        "\n",
        "将高斯核代入 :eqref:`eq_attn-pooling`和\n",
        " :eqref:`eq_nadaraya-watson`可以得到：\n",
        "\n",
        "$$\\begin{aligned} f(x) &=\\sum_{i=1}^n \\alpha(x, x_i) y_i\\\\ &= \\sum_{i=1}^n \\frac{\\exp\\left(-\\frac{1}{2}(x - x_i)^2\\right)}{\\sum_{j=1}^n \\exp\\left(-\\frac{1}{2}(x - x_j)^2\\right)} y_i \\\\&= \\sum_{i=1}^n \\mathrm{softmax}\\left(-\\frac{1}{2}(x - x_i)^2\\right) y_i. \\end{aligned}$$\n",
        ":eqlabel:`eq_nadaraya-watson-gaussian`\n",
        "\n",
        "在 :eqref:`eq_nadaraya-watson-gaussian`中，\n",
        "如果一个键$x_i$越是接近给定的查询$x$，\n",
        "那么分配给这个键对应值$y_i$的注意力权重就会越大，\n",
        "也就“获得了更多的注意力”。\n",
        "\n",
        "值得注意的是，Nadaraya-Watson核回归是一个非参数模型。\n",
        "因此， :eqref:`eq_nadaraya-watson-gaussian`是\n",
        "*非参数的注意力汇聚*（nonparametric attention pooling）模型。\n",
        "接下来，我们将基于这个非参数的注意力汇聚模型来绘制预测结果。\n",
        "从绘制的结果会发现新的模型预测线是平滑的，并且比平均汇聚的预测更接近真实。\n"
      ]
    },
    {
      "cell_type": "code",
      "execution_count": 7,
      "id": "892e92a9",
      "metadata": {
        "execution": {
          "iopub.execute_input": "2023-08-18T07:07:16.925532Z",
          "iopub.status.busy": "2023-08-18T07:07:16.924886Z",
          "iopub.status.idle": "2023-08-18T07:07:17.137585Z",
          "shell.execute_reply": "2023-08-18T07:07:17.136490Z"
        },
        "origin_pos": 23,
        "tab": [
          "pytorch"
        ],
        "id": "892e92a9",
        "outputId": "be3c017c-6368-4da0-a636-d0ec3c6bff78",
        "colab": {
          "base_uri": "https://localhost:8080/",
          "height": 705
        }
      },
      "outputs": [
        {
          "output_type": "stream",
          "name": "stdout",
          "text": [
            "x_test.shape:  torch.Size([50])\n",
            "x_test:  tensor([0.0000, 0.1000, 0.2000, 0.3000, 0.4000, 0.5000, 0.6000, 0.7000, 0.8000,\n",
            "        0.9000, 1.0000, 1.1000, 1.2000, 1.3000, 1.4000, 1.5000, 1.6000, 1.7000,\n",
            "        1.8000, 1.9000, 2.0000, 2.1000, 2.2000, 2.3000, 2.4000, 2.5000, 2.6000,\n",
            "        2.7000, 2.8000, 2.9000, 3.0000, 3.1000, 3.2000, 3.3000, 3.4000, 3.5000,\n",
            "        3.6000, 3.7000, 3.8000, 3.9000, 4.0000, 4.1000, 4.2000, 4.3000, 4.4000,\n",
            "        4.5000, 4.6000, 4.7000, 4.8000, 4.9000])\n",
            "n_train:  50\n",
            "X_repeat.shape:  torch.Size([50, 50])\n",
            "attention_weights:  tensor([[7.6348e-02, 7.5182e-02, 7.3982e-02,  ..., 7.3591e-07, 2.8877e-07,\n",
            "         2.8624e-07],\n",
            "        [7.2226e-02, 7.1935e-02, 7.1289e-02,  ..., 1.1170e-06, 4.4676e-07,\n",
            "         4.4291e-07],\n",
            "        [6.8082e-02, 6.8582e-02, 6.8448e-02,  ..., 1.6894e-06, 6.8872e-07,\n",
            "         6.8291e-07],\n",
            "        ...,\n",
            "        [1.3750e-06, 2.3088e-06, 3.1675e-06,  ..., 5.9316e-02, 5.7070e-02,\n",
            "         5.7040e-02],\n",
            "        [9.1664e-07, 1.5568e-06, 2.1509e-06,  ..., 6.3447e-02, 6.2221e-02,\n",
            "         6.2200e-02],\n",
            "        [6.0846e-07, 1.0452e-06, 1.4543e-06,  ..., 6.7574e-02, 6.7545e-02,\n",
            "         6.7533e-02]])\n",
            "attention_weights.shape:  torch.Size([50, 50])\n",
            "y_train.shape:  torch.Size([50])\n"
          ]
        },
        {
          "output_type": "display_data",
          "data": {
            "text/plain": [
              "<Figure size 350x250 with 1 Axes>"
            ],
            "image/svg+xml": "<?xml version=\"1.0\" encoding=\"utf-8\" standalone=\"no\"?>\n<!DOCTYPE svg PUBLIC \"-//W3C//DTD SVG 1.1//EN\"\n  \"http://www.w3.org/Graphics/SVG/1.1/DTD/svg11.dtd\">\n<svg xmlns:xlink=\"http://www.w3.org/1999/xlink\" width=\"248.301563pt\" height=\"187.155469pt\" viewBox=\"0 0 248.301563 187.155469\" xmlns=\"http://www.w3.org/2000/svg\" version=\"1.1\">\n <metadata>\n  <rdf:RDF xmlns:dc=\"http://purl.org/dc/elements/1.1/\" xmlns:cc=\"http://creativecommons.org/ns#\" xmlns:rdf=\"http://www.w3.org/1999/02/22-rdf-syntax-ns#\">\n   <cc:Work>\n    <dc:type rdf:resource=\"http://purl.org/dc/dcmitype/StillImage\"/>\n    <dc:date>2025-09-27T03:00:34.194770</dc:date>\n    <dc:format>image/svg+xml</dc:format>\n    <dc:creator>\n     <cc:Agent>\n      <dc:title>Matplotlib v3.10.0, https://matplotlib.org/</dc:title>\n     </cc:Agent>\n    </dc:creator>\n   </cc:Work>\n  </rdf:RDF>\n </metadata>\n <defs>\n  <style type=\"text/css\">*{stroke-linejoin: round; stroke-linecap: butt}</style>\n </defs>\n <g id=\"figure_1\">\n  <g id=\"patch_1\">\n   <path d=\"M 0 187.155469 \nL 248.301563 187.155469 \nL 248.301563 0 \nL 0 0 \nz\n\" style=\"fill: #ffffff\"/>\n  </g>\n  <g id=\"axes_1\">\n   <g id=\"patch_2\">\n    <path d=\"M 42.620312 149.599219 \nL 237.920313 149.599219 \nL 237.920313 10.999219 \nL 42.620312 10.999219 \nz\n\" style=\"fill: #ffffff\"/>\n   </g>\n   <g id=\"matplotlib.axis_1\">\n    <g id=\"xtick_1\">\n     <g id=\"line2d_1\">\n      <path d=\"M 42.620312 149.599219 \nL 42.620312 10.999219 \n\" clip-path=\"url(#p2a4830e489)\" style=\"fill: none; stroke: #b0b0b0; stroke-width: 0.8; stroke-linecap: square\"/>\n     </g>\n     <g id=\"line2d_2\">\n      <defs>\n       <path id=\"ma36f52e622\" d=\"M 0 0 \nL 0 3.5 \n\" style=\"stroke: #000000; stroke-width: 0.8\"/>\n      </defs>\n      <g>\n       <use xlink:href=\"#ma36f52e622\" x=\"42.620312\" y=\"149.599219\" style=\"stroke: #000000; stroke-width: 0.8\"/>\n      </g>\n     </g>\n     <g id=\"text_1\">\n      <!-- 0 -->\n      <g transform=\"translate(39.439062 164.197656) scale(0.1 -0.1)\">\n       <defs>\n        <path id=\"DejaVuSans-30\" d=\"M 2034 4250 \nQ 1547 4250 1301 3770 \nQ 1056 3291 1056 2328 \nQ 1056 1369 1301 889 \nQ 1547 409 2034 409 \nQ 2525 409 2770 889 \nQ 3016 1369 3016 2328 \nQ 3016 3291 2770 3770 \nQ 2525 4250 2034 4250 \nz\nM 2034 4750 \nQ 2819 4750 3233 4129 \nQ 3647 3509 3647 2328 \nQ 3647 1150 3233 529 \nQ 2819 -91 2034 -91 \nQ 1250 -91 836 529 \nQ 422 1150 422 2328 \nQ 422 3509 836 4129 \nQ 1250 4750 2034 4750 \nz\n\" transform=\"scale(0.015625)\"/>\n       </defs>\n       <use xlink:href=\"#DejaVuSans-30\"/>\n      </g>\n     </g>\n    </g>\n    <g id=\"xtick_2\">\n     <g id=\"line2d_3\">\n      <path d=\"M 81.680312 149.599219 \nL 81.680312 10.999219 \n\" clip-path=\"url(#p2a4830e489)\" style=\"fill: none; stroke: #b0b0b0; stroke-width: 0.8; stroke-linecap: square\"/>\n     </g>\n     <g id=\"line2d_4\">\n      <g>\n       <use xlink:href=\"#ma36f52e622\" x=\"81.680312\" y=\"149.599219\" style=\"stroke: #000000; stroke-width: 0.8\"/>\n      </g>\n     </g>\n     <g id=\"text_2\">\n      <!-- 1 -->\n      <g transform=\"translate(78.499062 164.197656) scale(0.1 -0.1)\">\n       <defs>\n        <path id=\"DejaVuSans-31\" d=\"M 794 531 \nL 1825 531 \nL 1825 4091 \nL 703 3866 \nL 703 4441 \nL 1819 4666 \nL 2450 4666 \nL 2450 531 \nL 3481 531 \nL 3481 0 \nL 794 0 \nL 794 531 \nz\n\" transform=\"scale(0.015625)\"/>\n       </defs>\n       <use xlink:href=\"#DejaVuSans-31\"/>\n      </g>\n     </g>\n    </g>\n    <g id=\"xtick_3\">\n     <g id=\"line2d_5\">\n      <path d=\"M 120.740313 149.599219 \nL 120.740313 10.999219 \n\" clip-path=\"url(#p2a4830e489)\" style=\"fill: none; stroke: #b0b0b0; stroke-width: 0.8; stroke-linecap: square\"/>\n     </g>\n     <g id=\"line2d_6\">\n      <g>\n       <use xlink:href=\"#ma36f52e622\" x=\"120.740313\" y=\"149.599219\" style=\"stroke: #000000; stroke-width: 0.8\"/>\n      </g>\n     </g>\n     <g id=\"text_3\">\n      <!-- 2 -->\n      <g transform=\"translate(117.559062 164.197656) scale(0.1 -0.1)\">\n       <defs>\n        <path id=\"DejaVuSans-32\" d=\"M 1228 531 \nL 3431 531 \nL 3431 0 \nL 469 0 \nL 469 531 \nQ 828 903 1448 1529 \nQ 2069 2156 2228 2338 \nQ 2531 2678 2651 2914 \nQ 2772 3150 2772 3378 \nQ 2772 3750 2511 3984 \nQ 2250 4219 1831 4219 \nQ 1534 4219 1204 4116 \nQ 875 4013 500 3803 \nL 500 4441 \nQ 881 4594 1212 4672 \nQ 1544 4750 1819 4750 \nQ 2544 4750 2975 4387 \nQ 3406 4025 3406 3419 \nQ 3406 3131 3298 2873 \nQ 3191 2616 2906 2266 \nQ 2828 2175 2409 1742 \nQ 1991 1309 1228 531 \nz\n\" transform=\"scale(0.015625)\"/>\n       </defs>\n       <use xlink:href=\"#DejaVuSans-32\"/>\n      </g>\n     </g>\n    </g>\n    <g id=\"xtick_4\">\n     <g id=\"line2d_7\">\n      <path d=\"M 159.800313 149.599219 \nL 159.800313 10.999219 \n\" clip-path=\"url(#p2a4830e489)\" style=\"fill: none; stroke: #b0b0b0; stroke-width: 0.8; stroke-linecap: square\"/>\n     </g>\n     <g id=\"line2d_8\">\n      <g>\n       <use xlink:href=\"#ma36f52e622\" x=\"159.800313\" y=\"149.599219\" style=\"stroke: #000000; stroke-width: 0.8\"/>\n      </g>\n     </g>\n     <g id=\"text_4\">\n      <!-- 3 -->\n      <g transform=\"translate(156.619063 164.197656) scale(0.1 -0.1)\">\n       <defs>\n        <path id=\"DejaVuSans-33\" d=\"M 2597 2516 \nQ 3050 2419 3304 2112 \nQ 3559 1806 3559 1356 \nQ 3559 666 3084 287 \nQ 2609 -91 1734 -91 \nQ 1441 -91 1130 -33 \nQ 819 25 488 141 \nL 488 750 \nQ 750 597 1062 519 \nQ 1375 441 1716 441 \nQ 2309 441 2620 675 \nQ 2931 909 2931 1356 \nQ 2931 1769 2642 2001 \nQ 2353 2234 1838 2234 \nL 1294 2234 \nL 1294 2753 \nL 1863 2753 \nQ 2328 2753 2575 2939 \nQ 2822 3125 2822 3475 \nQ 2822 3834 2567 4026 \nQ 2313 4219 1838 4219 \nQ 1578 4219 1281 4162 \nQ 984 4106 628 3988 \nL 628 4550 \nQ 988 4650 1302 4700 \nQ 1616 4750 1894 4750 \nQ 2613 4750 3031 4423 \nQ 3450 4097 3450 3541 \nQ 3450 3153 3228 2886 \nQ 3006 2619 2597 2516 \nz\n\" transform=\"scale(0.015625)\"/>\n       </defs>\n       <use xlink:href=\"#DejaVuSans-33\"/>\n      </g>\n     </g>\n    </g>\n    <g id=\"xtick_5\">\n     <g id=\"line2d_9\">\n      <path d=\"M 198.860313 149.599219 \nL 198.860313 10.999219 \n\" clip-path=\"url(#p2a4830e489)\" style=\"fill: none; stroke: #b0b0b0; stroke-width: 0.8; stroke-linecap: square\"/>\n     </g>\n     <g id=\"line2d_10\">\n      <g>\n       <use xlink:href=\"#ma36f52e622\" x=\"198.860313\" y=\"149.599219\" style=\"stroke: #000000; stroke-width: 0.8\"/>\n      </g>\n     </g>\n     <g id=\"text_5\">\n      <!-- 4 -->\n      <g transform=\"translate(195.679063 164.197656) scale(0.1 -0.1)\">\n       <defs>\n        <path id=\"DejaVuSans-34\" d=\"M 2419 4116 \nL 825 1625 \nL 2419 1625 \nL 2419 4116 \nz\nM 2253 4666 \nL 3047 4666 \nL 3047 1625 \nL 3713 1625 \nL 3713 1100 \nL 3047 1100 \nL 3047 0 \nL 2419 0 \nL 2419 1100 \nL 313 1100 \nL 313 1709 \nL 2253 4666 \nz\n\" transform=\"scale(0.015625)\"/>\n       </defs>\n       <use xlink:href=\"#DejaVuSans-34\"/>\n      </g>\n     </g>\n    </g>\n    <g id=\"xtick_6\">\n     <g id=\"line2d_11\">\n      <path d=\"M 237.920313 149.599219 \nL 237.920313 10.999219 \n\" clip-path=\"url(#p2a4830e489)\" style=\"fill: none; stroke: #b0b0b0; stroke-width: 0.8; stroke-linecap: square\"/>\n     </g>\n     <g id=\"line2d_12\">\n      <g>\n       <use xlink:href=\"#ma36f52e622\" x=\"237.920313\" y=\"149.599219\" style=\"stroke: #000000; stroke-width: 0.8\"/>\n      </g>\n     </g>\n     <g id=\"text_6\">\n      <!-- 5 -->\n      <g transform=\"translate(234.739063 164.197656) scale(0.1 -0.1)\">\n       <defs>\n        <path id=\"DejaVuSans-35\" d=\"M 691 4666 \nL 3169 4666 \nL 3169 4134 \nL 1269 4134 \nL 1269 2991 \nQ 1406 3038 1543 3061 \nQ 1681 3084 1819 3084 \nQ 2600 3084 3056 2656 \nQ 3513 2228 3513 1497 \nQ 3513 744 3044 326 \nQ 2575 -91 1722 -91 \nQ 1428 -91 1123 -41 \nQ 819 9 494 109 \nL 494 744 \nQ 775 591 1075 516 \nQ 1375 441 1709 441 \nQ 2250 441 2565 725 \nQ 2881 1009 2881 1497 \nQ 2881 1984 2565 2268 \nQ 2250 2553 1709 2553 \nQ 1456 2553 1204 2497 \nQ 953 2441 691 2322 \nL 691 4666 \nz\n\" transform=\"scale(0.015625)\"/>\n       </defs>\n       <use xlink:href=\"#DejaVuSans-35\"/>\n      </g>\n     </g>\n    </g>\n    <g id=\"text_7\">\n     <!-- x -->\n     <g transform=\"translate(137.310937 177.875781) scale(0.1 -0.1)\">\n      <defs>\n       <path id=\"DejaVuSans-78\" d=\"M 3513 3500 \nL 2247 1797 \nL 3578 0 \nL 2900 0 \nL 1881 1375 \nL 863 0 \nL 184 0 \nL 1544 1831 \nL 300 3500 \nL 978 3500 \nL 1906 2253 \nL 2834 3500 \nL 3513 3500 \nz\n\" transform=\"scale(0.015625)\"/>\n      </defs>\n      <use xlink:href=\"#DejaVuSans-78\"/>\n     </g>\n    </g>\n   </g>\n   <g id=\"matplotlib.axis_2\">\n    <g id=\"ytick_1\">\n     <g id=\"line2d_13\">\n      <path d=\"M 42.620312 149.599219 \nL 237.920313 149.599219 \n\" clip-path=\"url(#p2a4830e489)\" style=\"fill: none; stroke: #b0b0b0; stroke-width: 0.8; stroke-linecap: square\"/>\n     </g>\n     <g id=\"line2d_14\">\n      <defs>\n       <path id=\"m01a2c7fd35\" d=\"M 0 0 \nL -3.5 0 \n\" style=\"stroke: #000000; stroke-width: 0.8\"/>\n      </defs>\n      <g>\n       <use xlink:href=\"#m01a2c7fd35\" x=\"42.620312\" y=\"149.599219\" style=\"stroke: #000000; stroke-width: 0.8\"/>\n      </g>\n     </g>\n     <g id=\"text_8\">\n      <!-- −1 -->\n      <g transform=\"translate(20.878125 153.398437) scale(0.1 -0.1)\">\n       <defs>\n        <path id=\"DejaVuSans-2212\" d=\"M 678 2272 \nL 4684 2272 \nL 4684 1741 \nL 678 1741 \nL 678 2272 \nz\n\" transform=\"scale(0.015625)\"/>\n       </defs>\n       <use xlink:href=\"#DejaVuSans-2212\"/>\n       <use xlink:href=\"#DejaVuSans-31\" transform=\"translate(83.789062 0)\"/>\n      </g>\n     </g>\n    </g>\n    <g id=\"ytick_2\">\n     <g id=\"line2d_15\">\n      <path d=\"M 42.620312 126.499219 \nL 237.920313 126.499219 \n\" clip-path=\"url(#p2a4830e489)\" style=\"fill: none; stroke: #b0b0b0; stroke-width: 0.8; stroke-linecap: square\"/>\n     </g>\n     <g id=\"line2d_16\">\n      <g>\n       <use xlink:href=\"#m01a2c7fd35\" x=\"42.620312\" y=\"126.499219\" style=\"stroke: #000000; stroke-width: 0.8\"/>\n      </g>\n     </g>\n     <g id=\"text_9\">\n      <!-- 0 -->\n      <g transform=\"translate(29.257812 130.298437) scale(0.1 -0.1)\">\n       <use xlink:href=\"#DejaVuSans-30\"/>\n      </g>\n     </g>\n    </g>\n    <g id=\"ytick_3\">\n     <g id=\"line2d_17\">\n      <path d=\"M 42.620312 103.399219 \nL 237.920313 103.399219 \n\" clip-path=\"url(#p2a4830e489)\" style=\"fill: none; stroke: #b0b0b0; stroke-width: 0.8; stroke-linecap: square\"/>\n     </g>\n     <g id=\"line2d_18\">\n      <g>\n       <use xlink:href=\"#m01a2c7fd35\" x=\"42.620312\" y=\"103.399219\" style=\"stroke: #000000; stroke-width: 0.8\"/>\n      </g>\n     </g>\n     <g id=\"text_10\">\n      <!-- 1 -->\n      <g transform=\"translate(29.257812 107.198437) scale(0.1 -0.1)\">\n       <use xlink:href=\"#DejaVuSans-31\"/>\n      </g>\n     </g>\n    </g>\n    <g id=\"ytick_4\">\n     <g id=\"line2d_19\">\n      <path d=\"M 42.620312 80.299219 \nL 237.920313 80.299219 \n\" clip-path=\"url(#p2a4830e489)\" style=\"fill: none; stroke: #b0b0b0; stroke-width: 0.8; stroke-linecap: square\"/>\n     </g>\n     <g id=\"line2d_20\">\n      <g>\n       <use xlink:href=\"#m01a2c7fd35\" x=\"42.620312\" y=\"80.299219\" style=\"stroke: #000000; stroke-width: 0.8\"/>\n      </g>\n     </g>\n     <g id=\"text_11\">\n      <!-- 2 -->\n      <g transform=\"translate(29.257812 84.098437) scale(0.1 -0.1)\">\n       <use xlink:href=\"#DejaVuSans-32\"/>\n      </g>\n     </g>\n    </g>\n    <g id=\"ytick_5\">\n     <g id=\"line2d_21\">\n      <path d=\"M 42.620312 57.199219 \nL 237.920313 57.199219 \n\" clip-path=\"url(#p2a4830e489)\" style=\"fill: none; stroke: #b0b0b0; stroke-width: 0.8; stroke-linecap: square\"/>\n     </g>\n     <g id=\"line2d_22\">\n      <g>\n       <use xlink:href=\"#m01a2c7fd35\" x=\"42.620312\" y=\"57.199219\" style=\"stroke: #000000; stroke-width: 0.8\"/>\n      </g>\n     </g>\n     <g id=\"text_12\">\n      <!-- 3 -->\n      <g transform=\"translate(29.257812 60.998437) scale(0.1 -0.1)\">\n       <use xlink:href=\"#DejaVuSans-33\"/>\n      </g>\n     </g>\n    </g>\n    <g id=\"ytick_6\">\n     <g id=\"line2d_23\">\n      <path d=\"M 42.620312 34.099219 \nL 237.920313 34.099219 \n\" clip-path=\"url(#p2a4830e489)\" style=\"fill: none; stroke: #b0b0b0; stroke-width: 0.8; stroke-linecap: square\"/>\n     </g>\n     <g id=\"line2d_24\">\n      <g>\n       <use xlink:href=\"#m01a2c7fd35\" x=\"42.620312\" y=\"34.099219\" style=\"stroke: #000000; stroke-width: 0.8\"/>\n      </g>\n     </g>\n     <g id=\"text_13\">\n      <!-- 4 -->\n      <g transform=\"translate(29.257812 37.898438) scale(0.1 -0.1)\">\n       <use xlink:href=\"#DejaVuSans-34\"/>\n      </g>\n     </g>\n    </g>\n    <g id=\"ytick_7\">\n     <g id=\"line2d_25\">\n      <path d=\"M 42.620312 10.999219 \nL 237.920313 10.999219 \n\" clip-path=\"url(#p2a4830e489)\" style=\"fill: none; stroke: #b0b0b0; stroke-width: 0.8; stroke-linecap: square\"/>\n     </g>\n     <g id=\"line2d_26\">\n      <g>\n       <use xlink:href=\"#m01a2c7fd35\" x=\"42.620312\" y=\"10.999219\" style=\"stroke: #000000; stroke-width: 0.8\"/>\n      </g>\n     </g>\n     <g id=\"text_14\">\n      <!-- 5 -->\n      <g transform=\"translate(29.257812 14.798437) scale(0.1 -0.1)\">\n       <use xlink:href=\"#DejaVuSans-35\"/>\n      </g>\n     </g>\n    </g>\n    <g id=\"text_15\">\n     <!-- y -->\n     <g transform=\"translate(14.798437 83.258594) rotate(-90) scale(0.1 -0.1)\">\n      <defs>\n       <path id=\"DejaVuSans-79\" d=\"M 2059 -325 \nQ 1816 -950 1584 -1140 \nQ 1353 -1331 966 -1331 \nL 506 -1331 \nL 506 -850 \nL 844 -850 \nQ 1081 -850 1212 -737 \nQ 1344 -625 1503 -206 \nL 1606 56 \nL 191 3500 \nL 800 3500 \nL 1894 763 \nL 2988 3500 \nL 3597 3500 \nL 2059 -325 \nz\n\" transform=\"scale(0.015625)\"/>\n      </defs>\n      <use xlink:href=\"#DejaVuSans-79\"/>\n     </g>\n    </g>\n   </g>\n   <g id=\"line2d_27\">\n    <path d=\"M 42.620312 126.499219 \nL 46.526313 118.225812 \nL 50.432313 110.946345 \nL 54.338313 104.029425 \nL 58.244313 97.4097 \nL 62.150312 91.082293 \nL 66.056313 85.061866 \nL 69.962312 79.370737 \nL 73.868313 74.033949 \nL 77.774314 69.076775 \nL 81.680312 64.523261 \nL 85.586313 60.395214 \nL 89.492314 56.711598 \nL 93.398311 53.487961 \nL 97.304312 50.736132 \nL 101.210313 48.46391 \nL 105.116313 46.674891 \nL 109.022314 45.368338 \nL 112.928315 44.539111 \nL 116.834312 44.177706 \nL 120.740313 44.270242 \nL 124.646309 44.798618 \nL 128.552314 45.740654 \nL 132.458311 47.070245 \nL 136.364316 48.757689 \nL 140.270312 50.76986 \nL 144.176318 53.070611 \nL 148.082314 55.621064 \nL 151.98832 58.380042 \nL 155.894316 61.304393 \nL 159.800313 64.349483 \nL 163.706318 67.469619 \nL 167.612314 70.618454 \nL 171.518311 73.749494 \nL 175.424316 76.816549 \nL 179.330312 79.774142 \nL 183.236318 82.578044 \nL 187.142314 85.185605 \nL 191.048311 87.556281 \nL 194.954316 89.651973 \nL 198.860313 91.437389 \nL 202.766309 92.880457 \nL 206.672305 93.952601 \nL 210.57832 94.629017 \nL 214.484316 94.888934 \nL 218.390312 94.715829 \nL 222.296309 94.097555 \nL 226.202305 93.026506 \nL 230.10832 91.499643 \nL 234.014316 89.518571 \n\" clip-path=\"url(#p2a4830e489)\" style=\"fill: none; stroke: #1f77b4; stroke-width: 1.5; stroke-linecap: square\"/>\n   </g>\n   <g id=\"line2d_28\">\n    <path d=\"M 42.620312 87.849017 \nL 46.526313 86.679071 \nL 50.432313 85.436558 \nL 54.338313 84.12181 \nL 58.244313 82.737081 \nL 62.150312 81.287071 \nL 66.056313 79.779407 \nL 69.962312 78.225051 \nL 73.868313 76.638624 \nL 77.774314 75.038539 \nL 81.680312 73.446815 \nL 85.586313 71.888564 \nL 89.492314 70.391094 \nL 93.398311 68.982752 \nL 97.304312 67.691311 \nL 101.210313 66.54242 \nL 105.116313 65.55802 \nL 109.022314 64.755136 \nL 112.928315 64.144886 \nL 116.834312 63.732267 \nL 120.740313 63.516286 \nL 124.646309 63.490555 \nL 128.552314 63.644318 \nL 132.458311 63.963492 \nL 136.364316 64.431804 \nL 140.270312 65.031798 \nL 144.176318 65.745709 \nL 148.082314 66.556012 \nL 151.98832 67.44592 \nL 155.894316 68.399577 \nL 159.800313 69.402228 \nL 163.706318 70.440188 \nL 167.612314 71.500811 \nL 171.518311 72.572471 \nL 175.424316 73.644522 \nL 179.330312 74.707182 \nL 183.236318 75.75163 \nL 187.142314 76.769944 \nL 191.048311 77.755165 \nL 194.954316 78.701309 \nL 198.860313 79.603394 \nL 202.766309 80.457481 \nL 206.672305 81.260641 \nL 210.57832 82.01094 \nL 214.484316 82.707384 \nL 218.390312 83.349858 \nL 222.296309 83.938995 \nL 226.202305 84.476119 \nL 230.10832 84.963103 \nL 234.014316 85.40223 \n\" clip-path=\"url(#p2a4830e489)\" style=\"fill: none; stroke-dasharray: 5.55,2.4; stroke-dashoffset: 0; stroke: #bf00bf; stroke-width: 1.5\"/>\n   </g>\n   <g id=\"line2d_29\">\n    <defs>\n     <path id=\"m86cf149999\" d=\"M 0 3 \nC 0.795609 3 1.55874 2.683901 2.12132 2.12132 \nC 2.683901 1.55874 3 0.795609 3 0 \nC 3 -0.795609 2.683901 -1.55874 2.12132 -2.12132 \nC 1.55874 -2.683901 0.795609 -3 0 -3 \nC -0.795609 -3 -1.55874 -2.683901 -2.12132 -2.12132 \nC -2.683901 -1.55874 -3 -0.795609 -3 0 \nC -3 0.795609 -2.683901 1.55874 -2.12132 2.12132 \nC -1.55874 2.683901 -0.795609 3 0 3 \nz\n\" style=\"stroke: #ff7f0e; stroke-opacity: 0.5\"/>\n    </defs>\n    <g clip-path=\"url(#p2a4830e489)\">\n     <use xlink:href=\"#m86cf149999\" x=\"45.696938\" y=\"109.239588\" style=\"fill: #ff7f0e; fill-opacity: 0.5; stroke: #ff7f0e; stroke-opacity: 0.5\"/>\n     <use xlink:href=\"#m86cf149999\" x=\"50.132287\" y=\"111.258801\" style=\"fill: #ff7f0e; fill-opacity: 0.5; stroke: #ff7f0e; stroke-opacity: 0.5\"/>\n     <use xlink:href=\"#m86cf149999\" x=\"52.893971\" y=\"129.479854\" style=\"fill: #ff7f0e; fill-opacity: 0.5; stroke: #ff7f0e; stroke-opacity: 0.5\"/>\n     <use xlink:href=\"#m86cf149999\" x=\"53.289327\" y=\"114.307048\" style=\"fill: #ff7f0e; fill-opacity: 0.5; stroke: #ff7f0e; stroke-opacity: 0.5\"/>\n     <use xlink:href=\"#m86cf149999\" x=\"55.087223\" y=\"89.549481\" style=\"fill: #ff7f0e; fill-opacity: 0.5; stroke: #ff7f0e; stroke-opacity: 0.5\"/>\n     <use xlink:href=\"#m86cf149999\" x=\"56.336233\" y=\"104.899674\" style=\"fill: #ff7f0e; fill-opacity: 0.5; stroke: #ff7f0e; stroke-opacity: 0.5\"/>\n     <use xlink:href=\"#m86cf149999\" x=\"56.71088\" y=\"82.797272\" style=\"fill: #ff7f0e; fill-opacity: 0.5; stroke: #ff7f0e; stroke-opacity: 0.5\"/>\n     <use xlink:href=\"#m86cf149999\" x=\"59.051167\" y=\"91.098859\" style=\"fill: #ff7f0e; fill-opacity: 0.5; stroke: #ff7f0e; stroke-opacity: 0.5\"/>\n     <use xlink:href=\"#m86cf149999\" x=\"64.919323\" y=\"86.798721\" style=\"fill: #ff7f0e; fill-opacity: 0.5; stroke: #ff7f0e; stroke-opacity: 0.5\"/>\n     <use xlink:href=\"#m86cf149999\" x=\"67.011277\" y=\"100.443839\" style=\"fill: #ff7f0e; fill-opacity: 0.5; stroke: #ff7f0e; stroke-opacity: 0.5\"/>\n     <use xlink:href=\"#m86cf149999\" x=\"68.350096\" y=\"66.160868\" style=\"fill: #ff7f0e; fill-opacity: 0.5; stroke: #ff7f0e; stroke-opacity: 0.5\"/>\n     <use xlink:href=\"#m86cf149999\" x=\"78.796561\" y=\"57.967841\" style=\"fill: #ff7f0e; fill-opacity: 0.5; stroke: #ff7f0e; stroke-opacity: 0.5\"/>\n     <use xlink:href=\"#m86cf149999\" x=\"84.85184\" y=\"36.980143\" style=\"fill: #ff7f0e; fill-opacity: 0.5; stroke: #ff7f0e; stroke-opacity: 0.5\"/>\n     <use xlink:href=\"#m86cf149999\" x=\"90.634276\" y=\"40.991541\" style=\"fill: #ff7f0e; fill-opacity: 0.5; stroke: #ff7f0e; stroke-opacity: 0.5\"/>\n     <use xlink:href=\"#m86cf149999\" x=\"112.71141\" y=\"24.558696\" style=\"fill: #ff7f0e; fill-opacity: 0.5; stroke: #ff7f0e; stroke-opacity: 0.5\"/>\n     <use xlink:href=\"#m86cf149999\" x=\"112.869725\" y=\"34.528559\" style=\"fill: #ff7f0e; fill-opacity: 0.5; stroke: #ff7f0e; stroke-opacity: 0.5\"/>\n     <use xlink:href=\"#m86cf149999\" x=\"115.700685\" y=\"60.77079\" style=\"fill: #ff7f0e; fill-opacity: 0.5; stroke: #ff7f0e; stroke-opacity: 0.5\"/>\n     <use xlink:href=\"#m86cf149999\" x=\"118.0782\" y=\"53.692613\" style=\"fill: #ff7f0e; fill-opacity: 0.5; stroke: #ff7f0e; stroke-opacity: 0.5\"/>\n     <use xlink:href=\"#m86cf149999\" x=\"120.462768\" y=\"62.240189\" style=\"fill: #ff7f0e; fill-opacity: 0.5; stroke: #ff7f0e; stroke-opacity: 0.5\"/>\n     <use xlink:href=\"#m86cf149999\" x=\"129.82224\" y=\"36.541203\" style=\"fill: #ff7f0e; fill-opacity: 0.5; stroke: #ff7f0e; stroke-opacity: 0.5\"/>\n     <use xlink:href=\"#m86cf149999\" x=\"130.875964\" y=\"73.312355\" style=\"fill: #ff7f0e; fill-opacity: 0.5; stroke: #ff7f0e; stroke-opacity: 0.5\"/>\n     <use xlink:href=\"#m86cf149999\" x=\"144.144422\" y=\"46.813531\" style=\"fill: #ff7f0e; fill-opacity: 0.5; stroke: #ff7f0e; stroke-opacity: 0.5\"/>\n     <use xlink:href=\"#m86cf149999\" x=\"144.259769\" y=\"55.423076\" style=\"fill: #ff7f0e; fill-opacity: 0.5; stroke: #ff7f0e; stroke-opacity: 0.5\"/>\n     <use xlink:href=\"#m86cf149999\" x=\"145.640487\" y=\"70.205212\" style=\"fill: #ff7f0e; fill-opacity: 0.5; stroke: #ff7f0e; stroke-opacity: 0.5\"/>\n     <use xlink:href=\"#m86cf149999\" x=\"148.262495\" y=\"64.693105\" style=\"fill: #ff7f0e; fill-opacity: 0.5; stroke: #ff7f0e; stroke-opacity: 0.5\"/>\n     <use xlink:href=\"#m86cf149999\" x=\"151.449547\" y=\"51.751395\" style=\"fill: #ff7f0e; fill-opacity: 0.5; stroke: #ff7f0e; stroke-opacity: 0.5\"/>\n     <use xlink:href=\"#m86cf149999\" x=\"156.526551\" y=\"57.986451\" style=\"fill: #ff7f0e; fill-opacity: 0.5; stroke: #ff7f0e; stroke-opacity: 0.5\"/>\n     <use xlink:href=\"#m86cf149999\" x=\"156.599226\" y=\"72.071704\" style=\"fill: #ff7f0e; fill-opacity: 0.5; stroke: #ff7f0e; stroke-opacity: 0.5\"/>\n     <use xlink:href=\"#m86cf149999\" x=\"156.647931\" y=\"72.913559\" style=\"fill: #ff7f0e; fill-opacity: 0.5; stroke: #ff7f0e; stroke-opacity: 0.5\"/>\n     <use xlink:href=\"#m86cf149999\" x=\"156.923958\" y=\"51.686639\" style=\"fill: #ff7f0e; fill-opacity: 0.5; stroke: #ff7f0e; stroke-opacity: 0.5\"/>\n     <use xlink:href=\"#m86cf149999\" x=\"163.97373\" y=\"70.549886\" style=\"fill: #ff7f0e; fill-opacity: 0.5; stroke: #ff7f0e; stroke-opacity: 0.5\"/>\n     <use xlink:href=\"#m86cf149999\" x=\"169.435653\" y=\"87.008652\" style=\"fill: #ff7f0e; fill-opacity: 0.5; stroke: #ff7f0e; stroke-opacity: 0.5\"/>\n     <use xlink:href=\"#m86cf149999\" x=\"176.748554\" y=\"71.272031\" style=\"fill: #ff7f0e; fill-opacity: 0.5; stroke: #ff7f0e; stroke-opacity: 0.5\"/>\n     <use xlink:href=\"#m86cf149999\" x=\"178.108942\" y=\"70.844673\" style=\"fill: #ff7f0e; fill-opacity: 0.5; stroke: #ff7f0e; stroke-opacity: 0.5\"/>\n     <use xlink:href=\"#m86cf149999\" x=\"180.697509\" y=\"88.841491\" style=\"fill: #ff7f0e; fill-opacity: 0.5; stroke: #ff7f0e; stroke-opacity: 0.5\"/>\n     <use xlink:href=\"#m86cf149999\" x=\"185.272478\" y=\"95.666203\" style=\"fill: #ff7f0e; fill-opacity: 0.5; stroke: #ff7f0e; stroke-opacity: 0.5\"/>\n     <use xlink:href=\"#m86cf149999\" x=\"188.90404\" y=\"80.739202\" style=\"fill: #ff7f0e; fill-opacity: 0.5; stroke: #ff7f0e; stroke-opacity: 0.5\"/>\n     <use xlink:href=\"#m86cf149999\" x=\"191.121554\" y=\"74.966248\" style=\"fill: #ff7f0e; fill-opacity: 0.5; stroke: #ff7f0e; stroke-opacity: 0.5\"/>\n     <use xlink:href=\"#m86cf149999\" x=\"193.549096\" y=\"94.284363\" style=\"fill: #ff7f0e; fill-opacity: 0.5; stroke: #ff7f0e; stroke-opacity: 0.5\"/>\n     <use xlink:href=\"#m86cf149999\" x=\"206.692905\" y=\"95.72773\" style=\"fill: #ff7f0e; fill-opacity: 0.5; stroke: #ff7f0e; stroke-opacity: 0.5\"/>\n     <use xlink:href=\"#m86cf149999\" x=\"207.565219\" y=\"76.427666\" style=\"fill: #ff7f0e; fill-opacity: 0.5; stroke: #ff7f0e; stroke-opacity: 0.5\"/>\n     <use xlink:href=\"#m86cf149999\" x=\"207.682018\" y=\"86.229529\" style=\"fill: #ff7f0e; fill-opacity: 0.5; stroke: #ff7f0e; stroke-opacity: 0.5\"/>\n     <use xlink:href=\"#m86cf149999\" x=\"213.161681\" y=\"107.287517\" style=\"fill: #ff7f0e; fill-opacity: 0.5; stroke: #ff7f0e; stroke-opacity: 0.5\"/>\n     <use xlink:href=\"#m86cf149999\" x=\"215.741558\" y=\"85.541971\" style=\"fill: #ff7f0e; fill-opacity: 0.5; stroke: #ff7f0e; stroke-opacity: 0.5\"/>\n     <use xlink:href=\"#m86cf149999\" x=\"221.011073\" y=\"97.223002\" style=\"fill: #ff7f0e; fill-opacity: 0.5; stroke: #ff7f0e; stroke-opacity: 0.5\"/>\n     <use xlink:href=\"#m86cf149999\" x=\"221.285516\" y=\"80.427785\" style=\"fill: #ff7f0e; fill-opacity: 0.5; stroke: #ff7f0e; stroke-opacity: 0.5\"/>\n     <use xlink:href=\"#m86cf149999\" x=\"223.899776\" y=\"87.243788\" style=\"fill: #ff7f0e; fill-opacity: 0.5; stroke: #ff7f0e; stroke-opacity: 0.5\"/>\n     <use xlink:href=\"#m86cf149999\" x=\"230.375108\" y=\"91.256249\" style=\"fill: #ff7f0e; fill-opacity: 0.5; stroke: #ff7f0e; stroke-opacity: 0.5\"/>\n     <use xlink:href=\"#m86cf149999\" x=\"237.828695\" y=\"80.192253\" style=\"fill: #ff7f0e; fill-opacity: 0.5; stroke: #ff7f0e; stroke-opacity: 0.5\"/>\n     <use xlink:href=\"#m86cf149999\" x=\"237.897646\" y=\"92.814618\" style=\"fill: #ff7f0e; fill-opacity: 0.5; stroke: #ff7f0e; stroke-opacity: 0.5\"/>\n    </g>\n   </g>\n   <g id=\"patch_3\">\n    <path d=\"M 42.620312 149.599219 \nL 42.620312 10.999219 \n\" style=\"fill: none; stroke: #000000; stroke-width: 0.8; stroke-linejoin: miter; stroke-linecap: square\"/>\n   </g>\n   <g id=\"patch_4\">\n    <path d=\"M 237.920313 149.599219 \nL 237.920313 10.999219 \n\" style=\"fill: none; stroke: #000000; stroke-width: 0.8; stroke-linejoin: miter; stroke-linecap: square\"/>\n   </g>\n   <g id=\"patch_5\">\n    <path d=\"M 42.620312 149.599219 \nL 237.920313 149.599219 \n\" style=\"fill: none; stroke: #000000; stroke-width: 0.8; stroke-linejoin: miter; stroke-linecap: square\"/>\n   </g>\n   <g id=\"patch_6\">\n    <path d=\"M 42.620312 10.999219 \nL 237.920313 10.999219 \n\" style=\"fill: none; stroke: #000000; stroke-width: 0.8; stroke-linejoin: miter; stroke-linecap: square\"/>\n   </g>\n   <g id=\"legend_1\">\n    <g id=\"patch_7\">\n     <path d=\"M 173.58125 48.355469 \nL 230.920313 48.355469 \nQ 232.920313 48.355469 232.920313 46.355469 \nL 232.920313 17.999219 \nQ 232.920313 15.999219 230.920313 15.999219 \nL 173.58125 15.999219 \nQ 171.58125 15.999219 171.58125 17.999219 \nL 171.58125 46.355469 \nQ 171.58125 48.355469 173.58125 48.355469 \nz\n\" style=\"fill: #ffffff; opacity: 0.8; stroke: #cccccc; stroke-linejoin: miter\"/>\n    </g>\n    <g id=\"line2d_30\">\n     <path d=\"M 175.58125 24.097656 \nL 185.58125 24.097656 \nL 195.58125 24.097656 \n\" style=\"fill: none; stroke: #1f77b4; stroke-width: 1.5; stroke-linecap: square\"/>\n    </g>\n    <g id=\"text_16\">\n     <!-- Truth -->\n     <g transform=\"translate(203.58125 27.597656) scale(0.1 -0.1)\">\n      <defs>\n       <path id=\"DejaVuSans-54\" d=\"M -19 4666 \nL 3928 4666 \nL 3928 4134 \nL 2272 4134 \nL 2272 0 \nL 1638 0 \nL 1638 4134 \nL -19 4134 \nL -19 4666 \nz\n\" transform=\"scale(0.015625)\"/>\n       <path id=\"DejaVuSans-72\" d=\"M 2631 2963 \nQ 2534 3019 2420 3045 \nQ 2306 3072 2169 3072 \nQ 1681 3072 1420 2755 \nQ 1159 2438 1159 1844 \nL 1159 0 \nL 581 0 \nL 581 3500 \nL 1159 3500 \nL 1159 2956 \nQ 1341 3275 1631 3429 \nQ 1922 3584 2338 3584 \nQ 2397 3584 2469 3576 \nQ 2541 3569 2628 3553 \nL 2631 2963 \nz\n\" transform=\"scale(0.015625)\"/>\n       <path id=\"DejaVuSans-75\" d=\"M 544 1381 \nL 544 3500 \nL 1119 3500 \nL 1119 1403 \nQ 1119 906 1312 657 \nQ 1506 409 1894 409 \nQ 2359 409 2629 706 \nQ 2900 1003 2900 1516 \nL 2900 3500 \nL 3475 3500 \nL 3475 0 \nL 2900 0 \nL 2900 538 \nQ 2691 219 2414 64 \nQ 2138 -91 1772 -91 \nQ 1169 -91 856 284 \nQ 544 659 544 1381 \nz\nM 1991 3584 \nL 1991 3584 \nz\n\" transform=\"scale(0.015625)\"/>\n       <path id=\"DejaVuSans-74\" d=\"M 1172 4494 \nL 1172 3500 \nL 2356 3500 \nL 2356 3053 \nL 1172 3053 \nL 1172 1153 \nQ 1172 725 1289 603 \nQ 1406 481 1766 481 \nL 2356 481 \nL 2356 0 \nL 1766 0 \nQ 1100 0 847 248 \nQ 594 497 594 1153 \nL 594 3053 \nL 172 3053 \nL 172 3500 \nL 594 3500 \nL 594 4494 \nL 1172 4494 \nz\n\" transform=\"scale(0.015625)\"/>\n       <path id=\"DejaVuSans-68\" d=\"M 3513 2113 \nL 3513 0 \nL 2938 0 \nL 2938 2094 \nQ 2938 2591 2744 2837 \nQ 2550 3084 2163 3084 \nQ 1697 3084 1428 2787 \nQ 1159 2491 1159 1978 \nL 1159 0 \nL 581 0 \nL 581 4863 \nL 1159 4863 \nL 1159 2956 \nQ 1366 3272 1645 3428 \nQ 1925 3584 2291 3584 \nQ 2894 3584 3203 3211 \nQ 3513 2838 3513 2113 \nz\n\" transform=\"scale(0.015625)\"/>\n      </defs>\n      <use xlink:href=\"#DejaVuSans-54\"/>\n      <use xlink:href=\"#DejaVuSans-72\" transform=\"translate(46.333984 0)\"/>\n      <use xlink:href=\"#DejaVuSans-75\" transform=\"translate(87.447266 0)\"/>\n      <use xlink:href=\"#DejaVuSans-74\" transform=\"translate(150.826172 0)\"/>\n      <use xlink:href=\"#DejaVuSans-68\" transform=\"translate(190.035156 0)\"/>\n     </g>\n    </g>\n    <g id=\"line2d_31\">\n     <path d=\"M 175.58125 38.775781 \nL 185.58125 38.775781 \nL 195.58125 38.775781 \n\" style=\"fill: none; stroke-dasharray: 5.55,2.4; stroke-dashoffset: 0; stroke: #bf00bf; stroke-width: 1.5\"/>\n    </g>\n    <g id=\"text_17\">\n     <!-- Pred -->\n     <g transform=\"translate(203.58125 42.275781) scale(0.1 -0.1)\">\n      <defs>\n       <path id=\"DejaVuSans-50\" d=\"M 1259 4147 \nL 1259 2394 \nL 2053 2394 \nQ 2494 2394 2734 2622 \nQ 2975 2850 2975 3272 \nQ 2975 3691 2734 3919 \nQ 2494 4147 2053 4147 \nL 1259 4147 \nz\nM 628 4666 \nL 2053 4666 \nQ 2838 4666 3239 4311 \nQ 3641 3956 3641 3272 \nQ 3641 2581 3239 2228 \nQ 2838 1875 2053 1875 \nL 1259 1875 \nL 1259 0 \nL 628 0 \nL 628 4666 \nz\n\" transform=\"scale(0.015625)\"/>\n       <path id=\"DejaVuSans-65\" d=\"M 3597 1894 \nL 3597 1613 \nL 953 1613 \nQ 991 1019 1311 708 \nQ 1631 397 2203 397 \nQ 2534 397 2845 478 \nQ 3156 559 3463 722 \nL 3463 178 \nQ 3153 47 2828 -22 \nQ 2503 -91 2169 -91 \nQ 1331 -91 842 396 \nQ 353 884 353 1716 \nQ 353 2575 817 3079 \nQ 1281 3584 2069 3584 \nQ 2775 3584 3186 3129 \nQ 3597 2675 3597 1894 \nz\nM 3022 2063 \nQ 3016 2534 2758 2815 \nQ 2500 3097 2075 3097 \nQ 1594 3097 1305 2825 \nQ 1016 2553 972 2059 \nL 3022 2063 \nz\n\" transform=\"scale(0.015625)\"/>\n       <path id=\"DejaVuSans-64\" d=\"M 2906 2969 \nL 2906 4863 \nL 3481 4863 \nL 3481 0 \nL 2906 0 \nL 2906 525 \nQ 2725 213 2448 61 \nQ 2172 -91 1784 -91 \nQ 1150 -91 751 415 \nQ 353 922 353 1747 \nQ 353 2572 751 3078 \nQ 1150 3584 1784 3584 \nQ 2172 3584 2448 3432 \nQ 2725 3281 2906 2969 \nz\nM 947 1747 \nQ 947 1113 1208 752 \nQ 1469 391 1925 391 \nQ 2381 391 2643 752 \nQ 2906 1113 2906 1747 \nQ 2906 2381 2643 2742 \nQ 2381 3103 1925 3103 \nQ 1469 3103 1208 2742 \nQ 947 2381 947 1747 \nz\n\" transform=\"scale(0.015625)\"/>\n      </defs>\n      <use xlink:href=\"#DejaVuSans-50\"/>\n      <use xlink:href=\"#DejaVuSans-72\" transform=\"translate(58.552734 0)\"/>\n      <use xlink:href=\"#DejaVuSans-65\" transform=\"translate(97.416016 0)\"/>\n      <use xlink:href=\"#DejaVuSans-64\" transform=\"translate(158.939453 0)\"/>\n     </g>\n    </g>\n   </g>\n  </g>\n </g>\n <defs>\n  <clipPath id=\"p2a4830e489\">\n   <rect x=\"42.620312\" y=\"10.999219\" width=\"195.3\" height=\"138.6\"/>\n  </clipPath>\n </defs>\n</svg>\n"
          },
          "metadata": {}
        }
      ],
      "source": [
        "# X_repeat的形状:(n_test,n_train),\n",
        "# 每一行都包含着相同的测试输入（例如：同样的查询）\n",
        "print(\"x_test.shape: \",x_test.shape)\n",
        "print(\"x_test: \",x_test)\n",
        "print(\"n_train: \",n_train)#将50个数每一行复制了50个\n",
        "X_repeat = x_test.repeat_interleave(n_train).reshape((-1, n_train))\n",
        "print(\"X_repeat.shape: \",X_repeat.shape)\n",
        "# x_train包含着键。attention_weights的形状：(n_test,n_train),\n",
        "# 每一行都包含着要在给定的每个查询的值（y_train）之间分配的注意力权重\n",
        "#X_repeat - x_train是50*50 - 50*1  每个数都-一个数 dim=1是消掉\n",
        "attention_weights = nn.functional.softmax(-(X_repeat - x_train)**2 / 2, dim=1)#每一个测试样本-所有的训练样本 计算每一个测试样本和训练样本的相似度 [50,50] 然后dim=1是计算其概率 得到的还是[50,50]\n",
        "\n",
        "print(\"attention_weights: \",attention_weights)\n",
        "print(\"attention_weights.shape: \",attention_weights.shape)\n",
        "# y_hat的每个元素都是值的加权平均值，其中的权重是注意力权重\n",
        "print(\"y_train.shape: \",y_train.shape)\n",
        "y_hat = torch.matmul(attention_weights, y_train)#得到就是50个样本 这50个样本是加权平均得到\n",
        "plot_kernel_reg(y_hat) #因为有负号 所以离得越近 权重越大。"
      ]
    },
    {
      "cell_type": "code",
      "source": [
        "# 假设数据\n",
        "y_train = torch.tensor([10.0, 20.0, 30.0])  # 3个训练样本的真实值\n",
        "attention_weights = torch.tensor([\n",
        "    [0.2, 0.5, 0.3],  # 测试样本0的注意力权重：与训练样本0相似度0.2，样本1相似度0.5，样本2相似度0.3\n",
        "    [0.1, 0.1, 0.8]   # 测试样本1的注意力权重：与训练样本0相似度0.1，样本1相似度0.1，样本2相似度0.8\n",
        "])\n",
        "\n",
        "# 计算预测\n",
        "y_hat = torch.matmul(attention_weights, y_train)\n",
        "# y_hat[0] = 0.2 * 10 + 0.5 * 20 + 0.3 * 30 = 2 + 10 + 9 = 21.0\n",
        "# y_hat[1] = 0.1 * 10 + 0.1 * 20 + 0.8 * 30 = 1 + 2 + 24 = 27.0"
      ],
      "metadata": {
        "id": "GrILipzc92kS"
      },
      "id": "GrILipzc92kS",
      "execution_count": 8,
      "outputs": []
    },
    {
      "cell_type": "markdown",
      "id": "60a40ebc",
      "metadata": {
        "origin_pos": 26,
        "id": "60a40ebc"
      },
      "source": [
        "现在来观察注意力的权重。\n",
        "这里测试数据的输入相当于查询，而训练数据的输入相当于键。\n",
        "因为两个输入都是经过排序的，因此由观察可知“查询-键”对越接近，\n",
        "注意力汇聚的[**注意力权重**]就越高。\n"
      ]
    },
    {
      "cell_type": "code",
      "execution_count": 8,
      "id": "5068c7e7",
      "metadata": {
        "execution": {
          "iopub.execute_input": "2023-08-18T07:07:17.141869Z",
          "iopub.status.busy": "2023-08-18T07:07:17.141398Z",
          "iopub.status.idle": "2023-08-18T07:07:17.325925Z",
          "shell.execute_reply": "2023-08-18T07:07:17.325070Z"
        },
        "origin_pos": 28,
        "tab": [
          "pytorch"
        ],
        "id": "5068c7e7",
        "outputId": "887eb3c2-4fa3-4060-a497-60b540522bea",
        "colab": {
          "base_uri": "https://localhost:8080/",
          "height": 232
        }
      },
      "outputs": [
        {
          "output_type": "display_data",
          "data": {
            "text/plain": [
              "<Figure size 250x250 with 2 Axes>"
            ],
            "image/svg+xml": "<?xml version=\"1.0\" encoding=\"utf-8\" standalone=\"no\"?>\n<!DOCTYPE svg PUBLIC \"-//W3C//DTD SVG 1.1//EN\"\n  \"http://www.w3.org/Graphics/SVG/1.1/DTD/svg11.dtd\">\n<svg xmlns:xlink=\"http://www.w3.org/1999/xlink\" width=\"199.80175pt\" height=\"159.039469pt\" viewBox=\"0 0 199.80175 159.039469\" xmlns=\"http://www.w3.org/2000/svg\" version=\"1.1\">\n <metadata>\n  <rdf:RDF xmlns:dc=\"http://purl.org/dc/elements/1.1/\" xmlns:cc=\"http://creativecommons.org/ns#\" xmlns:rdf=\"http://www.w3.org/1999/02/22-rdf-syntax-ns#\">\n   <cc:Work>\n    <dc:type rdf:resource=\"http://purl.org/dc/dcmitype/StillImage\"/>\n    <dc:date>2025-09-27T02:21:52.030208</dc:date>\n    <dc:format>image/svg+xml</dc:format>\n    <dc:creator>\n     <cc:Agent>\n      <dc:title>Matplotlib v3.10.0, https://matplotlib.org/</dc:title>\n     </cc:Agent>\n    </dc:creator>\n   </cc:Work>\n  </rdf:RDF>\n </metadata>\n <defs>\n  <style type=\"text/css\">*{stroke-linejoin: round; stroke-linecap: butt}</style>\n </defs>\n <g id=\"figure_1\">\n  <g id=\"patch_1\">\n   <path d=\"M 0 159.039469 \nL 199.80175 159.039469 \nL 199.80175 0 \nL 0 0 \nz\n\" style=\"fill: #ffffff\"/>\n  </g>\n  <g id=\"axes_1\">\n   <g id=\"patch_2\">\n    <path d=\"M 40.603125 121.483219 \nL 152.203125 121.483219 \nL 152.203125 9.883219 \nL 40.603125 9.883219 \nz\n\" style=\"fill: #ffffff\"/>\n   </g>\n   <g clip-path=\"url(#pf0587cb08d)\">\n    <image xlink:href=\"data:image/png;base64,\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\" id=\"imageb05ba5e5f9\" transform=\"scale(1 -1) translate(0 -111.6)\" x=\"40.603125\" y=\"-9.883219\" width=\"111.6\" height=\"111.6\"/>\n   </g>\n   <g id=\"matplotlib.axis_1\">\n    <g id=\"xtick_1\">\n     <g id=\"line2d_1\">\n      <defs>\n       <path id=\"md672e5fdda\" d=\"M 0 0 \nL 0 3.5 \n\" style=\"stroke: #000000; stroke-width: 0.8\"/>\n      </defs>\n      <g>\n       <use xlink:href=\"#md672e5fdda\" x=\"41.719125\" y=\"121.483219\" style=\"stroke: #000000; stroke-width: 0.8\"/>\n      </g>\n     </g>\n     <g id=\"text_1\">\n      <!-- 0 -->\n      <g transform=\"translate(38.537875 136.081656) scale(0.1 -0.1)\">\n       <defs>\n        <path id=\"DejaVuSans-30\" d=\"M 2034 4250 \nQ 1547 4250 1301 3770 \nQ 1056 3291 1056 2328 \nQ 1056 1369 1301 889 \nQ 1547 409 2034 409 \nQ 2525 409 2770 889 \nQ 3016 1369 3016 2328 \nQ 3016 3291 2770 3770 \nQ 2525 4250 2034 4250 \nz\nM 2034 4750 \nQ 2819 4750 3233 4129 \nQ 3647 3509 3647 2328 \nQ 3647 1150 3233 529 \nQ 2819 -91 2034 -91 \nQ 1250 -91 836 529 \nQ 422 1150 422 2328 \nQ 422 3509 836 4129 \nQ 1250 4750 2034 4750 \nz\n\" transform=\"scale(0.015625)\"/>\n       </defs>\n       <use xlink:href=\"#DejaVuSans-30\"/>\n      </g>\n     </g>\n    </g>\n    <g id=\"xtick_2\">\n     <g id=\"line2d_2\">\n      <g>\n       <use xlink:href=\"#md672e5fdda\" x=\"86.359125\" y=\"121.483219\" style=\"stroke: #000000; stroke-width: 0.8\"/>\n      </g>\n     </g>\n     <g id=\"text_2\">\n      <!-- 20 -->\n      <g transform=\"translate(79.996625 136.081656) scale(0.1 -0.1)\">\n       <defs>\n        <path id=\"DejaVuSans-32\" d=\"M 1228 531 \nL 3431 531 \nL 3431 0 \nL 469 0 \nL 469 531 \nQ 828 903 1448 1529 \nQ 2069 2156 2228 2338 \nQ 2531 2678 2651 2914 \nQ 2772 3150 2772 3378 \nQ 2772 3750 2511 3984 \nQ 2250 4219 1831 4219 \nQ 1534 4219 1204 4116 \nQ 875 4013 500 3803 \nL 500 4441 \nQ 881 4594 1212 4672 \nQ 1544 4750 1819 4750 \nQ 2544 4750 2975 4387 \nQ 3406 4025 3406 3419 \nQ 3406 3131 3298 2873 \nQ 3191 2616 2906 2266 \nQ 2828 2175 2409 1742 \nQ 1991 1309 1228 531 \nz\n\" transform=\"scale(0.015625)\"/>\n       </defs>\n       <use xlink:href=\"#DejaVuSans-32\"/>\n       <use xlink:href=\"#DejaVuSans-30\" transform=\"translate(63.623047 0)\"/>\n      </g>\n     </g>\n    </g>\n    <g id=\"xtick_3\">\n     <g id=\"line2d_3\">\n      <g>\n       <use xlink:href=\"#md672e5fdda\" x=\"130.999125\" y=\"121.483219\" style=\"stroke: #000000; stroke-width: 0.8\"/>\n      </g>\n     </g>\n     <g id=\"text_3\">\n      <!-- 40 -->\n      <g transform=\"translate(124.636625 136.081656) scale(0.1 -0.1)\">\n       <defs>\n        <path id=\"DejaVuSans-34\" d=\"M 2419 4116 \nL 825 1625 \nL 2419 1625 \nL 2419 4116 \nz\nM 2253 4666 \nL 3047 4666 \nL 3047 1625 \nL 3713 1625 \nL 3713 1100 \nL 3047 1100 \nL 3047 0 \nL 2419 0 \nL 2419 1100 \nL 313 1100 \nL 313 1709 \nL 2253 4666 \nz\n\" transform=\"scale(0.015625)\"/>\n       </defs>\n       <use xlink:href=\"#DejaVuSans-34\"/>\n       <use xlink:href=\"#DejaVuSans-30\" transform=\"translate(63.623047 0)\"/>\n      </g>\n     </g>\n    </g>\n    <g id=\"text_4\">\n     <!-- Sorted training inputs -->\n     <g transform=\"translate(41.889844 149.759781) scale(0.1 -0.1)\">\n      <defs>\n       <path id=\"DejaVuSans-53\" d=\"M 3425 4513 \nL 3425 3897 \nQ 3066 4069 2747 4153 \nQ 2428 4238 2131 4238 \nQ 1616 4238 1336 4038 \nQ 1056 3838 1056 3469 \nQ 1056 3159 1242 3001 \nQ 1428 2844 1947 2747 \nL 2328 2669 \nQ 3034 2534 3370 2195 \nQ 3706 1856 3706 1288 \nQ 3706 609 3251 259 \nQ 2797 -91 1919 -91 \nQ 1588 -91 1214 -16 \nQ 841 59 441 206 \nL 441 856 \nQ 825 641 1194 531 \nQ 1563 422 1919 422 \nQ 2459 422 2753 634 \nQ 3047 847 3047 1241 \nQ 3047 1584 2836 1778 \nQ 2625 1972 2144 2069 \nL 1759 2144 \nQ 1053 2284 737 2584 \nQ 422 2884 422 3419 \nQ 422 4038 858 4394 \nQ 1294 4750 2059 4750 \nQ 2388 4750 2728 4690 \nQ 3069 4631 3425 4513 \nz\n\" transform=\"scale(0.015625)\"/>\n       <path id=\"DejaVuSans-6f\" d=\"M 1959 3097 \nQ 1497 3097 1228 2736 \nQ 959 2375 959 1747 \nQ 959 1119 1226 758 \nQ 1494 397 1959 397 \nQ 2419 397 2687 759 \nQ 2956 1122 2956 1747 \nQ 2956 2369 2687 2733 \nQ 2419 3097 1959 3097 \nz\nM 1959 3584 \nQ 2709 3584 3137 3096 \nQ 3566 2609 3566 1747 \nQ 3566 888 3137 398 \nQ 2709 -91 1959 -91 \nQ 1206 -91 779 398 \nQ 353 888 353 1747 \nQ 353 2609 779 3096 \nQ 1206 3584 1959 3584 \nz\n\" transform=\"scale(0.015625)\"/>\n       <path id=\"DejaVuSans-72\" d=\"M 2631 2963 \nQ 2534 3019 2420 3045 \nQ 2306 3072 2169 3072 \nQ 1681 3072 1420 2755 \nQ 1159 2438 1159 1844 \nL 1159 0 \nL 581 0 \nL 581 3500 \nL 1159 3500 \nL 1159 2956 \nQ 1341 3275 1631 3429 \nQ 1922 3584 2338 3584 \nQ 2397 3584 2469 3576 \nQ 2541 3569 2628 3553 \nL 2631 2963 \nz\n\" transform=\"scale(0.015625)\"/>\n       <path id=\"DejaVuSans-74\" d=\"M 1172 4494 \nL 1172 3500 \nL 2356 3500 \nL 2356 3053 \nL 1172 3053 \nL 1172 1153 \nQ 1172 725 1289 603 \nQ 1406 481 1766 481 \nL 2356 481 \nL 2356 0 \nL 1766 0 \nQ 1100 0 847 248 \nQ 594 497 594 1153 \nL 594 3053 \nL 172 3053 \nL 172 3500 \nL 594 3500 \nL 594 4494 \nL 1172 4494 \nz\n\" transform=\"scale(0.015625)\"/>\n       <path id=\"DejaVuSans-65\" d=\"M 3597 1894 \nL 3597 1613 \nL 953 1613 \nQ 991 1019 1311 708 \nQ 1631 397 2203 397 \nQ 2534 397 2845 478 \nQ 3156 559 3463 722 \nL 3463 178 \nQ 3153 47 2828 -22 \nQ 2503 -91 2169 -91 \nQ 1331 -91 842 396 \nQ 353 884 353 1716 \nQ 353 2575 817 3079 \nQ 1281 3584 2069 3584 \nQ 2775 3584 3186 3129 \nQ 3597 2675 3597 1894 \nz\nM 3022 2063 \nQ 3016 2534 2758 2815 \nQ 2500 3097 2075 3097 \nQ 1594 3097 1305 2825 \nQ 1016 2553 972 2059 \nL 3022 2063 \nz\n\" transform=\"scale(0.015625)\"/>\n       <path id=\"DejaVuSans-64\" d=\"M 2906 2969 \nL 2906 4863 \nL 3481 4863 \nL 3481 0 \nL 2906 0 \nL 2906 525 \nQ 2725 213 2448 61 \nQ 2172 -91 1784 -91 \nQ 1150 -91 751 415 \nQ 353 922 353 1747 \nQ 353 2572 751 3078 \nQ 1150 3584 1784 3584 \nQ 2172 3584 2448 3432 \nQ 2725 3281 2906 2969 \nz\nM 947 1747 \nQ 947 1113 1208 752 \nQ 1469 391 1925 391 \nQ 2381 391 2643 752 \nQ 2906 1113 2906 1747 \nQ 2906 2381 2643 2742 \nQ 2381 3103 1925 3103 \nQ 1469 3103 1208 2742 \nQ 947 2381 947 1747 \nz\n\" transform=\"scale(0.015625)\"/>\n       <path id=\"DejaVuSans-20\" transform=\"scale(0.015625)\"/>\n       <path id=\"DejaVuSans-61\" d=\"M 2194 1759 \nQ 1497 1759 1228 1600 \nQ 959 1441 959 1056 \nQ 959 750 1161 570 \nQ 1363 391 1709 391 \nQ 2188 391 2477 730 \nQ 2766 1069 2766 1631 \nL 2766 1759 \nL 2194 1759 \nz\nM 3341 1997 \nL 3341 0 \nL 2766 0 \nL 2766 531 \nQ 2569 213 2275 61 \nQ 1981 -91 1556 -91 \nQ 1019 -91 701 211 \nQ 384 513 384 1019 \nQ 384 1609 779 1909 \nQ 1175 2209 1959 2209 \nL 2766 2209 \nL 2766 2266 \nQ 2766 2663 2505 2880 \nQ 2244 3097 1772 3097 \nQ 1472 3097 1187 3025 \nQ 903 2953 641 2809 \nL 641 3341 \nQ 956 3463 1253 3523 \nQ 1550 3584 1831 3584 \nQ 2591 3584 2966 3190 \nQ 3341 2797 3341 1997 \nz\n\" transform=\"scale(0.015625)\"/>\n       <path id=\"DejaVuSans-69\" d=\"M 603 3500 \nL 1178 3500 \nL 1178 0 \nL 603 0 \nL 603 3500 \nz\nM 603 4863 \nL 1178 4863 \nL 1178 4134 \nL 603 4134 \nL 603 4863 \nz\n\" transform=\"scale(0.015625)\"/>\n       <path id=\"DejaVuSans-6e\" d=\"M 3513 2113 \nL 3513 0 \nL 2938 0 \nL 2938 2094 \nQ 2938 2591 2744 2837 \nQ 2550 3084 2163 3084 \nQ 1697 3084 1428 2787 \nQ 1159 2491 1159 1978 \nL 1159 0 \nL 581 0 \nL 581 3500 \nL 1159 3500 \nL 1159 2956 \nQ 1366 3272 1645 3428 \nQ 1925 3584 2291 3584 \nQ 2894 3584 3203 3211 \nQ 3513 2838 3513 2113 \nz\n\" transform=\"scale(0.015625)\"/>\n       <path id=\"DejaVuSans-67\" d=\"M 2906 1791 \nQ 2906 2416 2648 2759 \nQ 2391 3103 1925 3103 \nQ 1463 3103 1205 2759 \nQ 947 2416 947 1791 \nQ 947 1169 1205 825 \nQ 1463 481 1925 481 \nQ 2391 481 2648 825 \nQ 2906 1169 2906 1791 \nz\nM 3481 434 \nQ 3481 -459 3084 -895 \nQ 2688 -1331 1869 -1331 \nQ 1566 -1331 1297 -1286 \nQ 1028 -1241 775 -1147 \nL 775 -588 \nQ 1028 -725 1275 -790 \nQ 1522 -856 1778 -856 \nQ 2344 -856 2625 -561 \nQ 2906 -266 2906 331 \nL 2906 616 \nQ 2728 306 2450 153 \nQ 2172 0 1784 0 \nQ 1141 0 747 490 \nQ 353 981 353 1791 \nQ 353 2603 747 3093 \nQ 1141 3584 1784 3584 \nQ 2172 3584 2450 3431 \nQ 2728 3278 2906 2969 \nL 2906 3500 \nL 3481 3500 \nL 3481 434 \nz\n\" transform=\"scale(0.015625)\"/>\n       <path id=\"DejaVuSans-70\" d=\"M 1159 525 \nL 1159 -1331 \nL 581 -1331 \nL 581 3500 \nL 1159 3500 \nL 1159 2969 \nQ 1341 3281 1617 3432 \nQ 1894 3584 2278 3584 \nQ 2916 3584 3314 3078 \nQ 3713 2572 3713 1747 \nQ 3713 922 3314 415 \nQ 2916 -91 2278 -91 \nQ 1894 -91 1617 61 \nQ 1341 213 1159 525 \nz\nM 3116 1747 \nQ 3116 2381 2855 2742 \nQ 2594 3103 2138 3103 \nQ 1681 3103 1420 2742 \nQ 1159 2381 1159 1747 \nQ 1159 1113 1420 752 \nQ 1681 391 2138 391 \nQ 2594 391 2855 752 \nQ 3116 1113 3116 1747 \nz\n\" transform=\"scale(0.015625)\"/>\n       <path id=\"DejaVuSans-75\" d=\"M 544 1381 \nL 544 3500 \nL 1119 3500 \nL 1119 1403 \nQ 1119 906 1312 657 \nQ 1506 409 1894 409 \nQ 2359 409 2629 706 \nQ 2900 1003 2900 1516 \nL 2900 3500 \nL 3475 3500 \nL 3475 0 \nL 2900 0 \nL 2900 538 \nQ 2691 219 2414 64 \nQ 2138 -91 1772 -91 \nQ 1169 -91 856 284 \nQ 544 659 544 1381 \nz\nM 1991 3584 \nL 1991 3584 \nz\n\" transform=\"scale(0.015625)\"/>\n       <path id=\"DejaVuSans-73\" d=\"M 2834 3397 \nL 2834 2853 \nQ 2591 2978 2328 3040 \nQ 2066 3103 1784 3103 \nQ 1356 3103 1142 2972 \nQ 928 2841 928 2578 \nQ 928 2378 1081 2264 \nQ 1234 2150 1697 2047 \nL 1894 2003 \nQ 2506 1872 2764 1633 \nQ 3022 1394 3022 966 \nQ 3022 478 2636 193 \nQ 2250 -91 1575 -91 \nQ 1294 -91 989 -36 \nQ 684 19 347 128 \nL 347 722 \nQ 666 556 975 473 \nQ 1284 391 1588 391 \nQ 1994 391 2212 530 \nQ 2431 669 2431 922 \nQ 2431 1156 2273 1281 \nQ 2116 1406 1581 1522 \nL 1381 1569 \nQ 847 1681 609 1914 \nQ 372 2147 372 2553 \nQ 372 3047 722 3315 \nQ 1072 3584 1716 3584 \nQ 2034 3584 2315 3537 \nQ 2597 3491 2834 3397 \nz\n\" transform=\"scale(0.015625)\"/>\n      </defs>\n      <use xlink:href=\"#DejaVuSans-53\"/>\n      <use xlink:href=\"#DejaVuSans-6f\" transform=\"translate(63.476562 0)\"/>\n      <use xlink:href=\"#DejaVuSans-72\" transform=\"translate(124.658203 0)\"/>\n      <use xlink:href=\"#DejaVuSans-74\" transform=\"translate(165.771484 0)\"/>\n      <use xlink:href=\"#DejaVuSans-65\" transform=\"translate(204.980469 0)\"/>\n      <use xlink:href=\"#DejaVuSans-64\" transform=\"translate(266.503906 0)\"/>\n      <use xlink:href=\"#DejaVuSans-20\" transform=\"translate(329.980469 0)\"/>\n      <use xlink:href=\"#DejaVuSans-74\" transform=\"translate(361.767578 0)\"/>\n      <use xlink:href=\"#DejaVuSans-72\" transform=\"translate(400.976562 0)\"/>\n      <use xlink:href=\"#DejaVuSans-61\" transform=\"translate(442.089844 0)\"/>\n      <use xlink:href=\"#DejaVuSans-69\" transform=\"translate(503.369141 0)\"/>\n      <use xlink:href=\"#DejaVuSans-6e\" transform=\"translate(531.152344 0)\"/>\n      <use xlink:href=\"#DejaVuSans-69\" transform=\"translate(594.53125 0)\"/>\n      <use xlink:href=\"#DejaVuSans-6e\" transform=\"translate(622.314453 0)\"/>\n      <use xlink:href=\"#DejaVuSans-67\" transform=\"translate(685.693359 0)\"/>\n      <use xlink:href=\"#DejaVuSans-20\" transform=\"translate(749.169922 0)\"/>\n      <use xlink:href=\"#DejaVuSans-69\" transform=\"translate(780.957031 0)\"/>\n      <use xlink:href=\"#DejaVuSans-6e\" transform=\"translate(808.740234 0)\"/>\n      <use xlink:href=\"#DejaVuSans-70\" transform=\"translate(872.119141 0)\"/>\n      <use xlink:href=\"#DejaVuSans-75\" transform=\"translate(935.595703 0)\"/>\n      <use xlink:href=\"#DejaVuSans-74\" transform=\"translate(998.974609 0)\"/>\n      <use xlink:href=\"#DejaVuSans-73\" transform=\"translate(1038.183594 0)\"/>\n     </g>\n    </g>\n   </g>\n   <g id=\"matplotlib.axis_2\">\n    <g id=\"ytick_1\">\n     <g id=\"line2d_4\">\n      <defs>\n       <path id=\"m13a9c7cf90\" d=\"M 0 0 \nL -3.5 0 \n\" style=\"stroke: #000000; stroke-width: 0.8\"/>\n      </defs>\n      <g>\n       <use xlink:href=\"#m13a9c7cf90\" x=\"40.603125\" y=\"10.999219\" style=\"stroke: #000000; stroke-width: 0.8\"/>\n      </g>\n     </g>\n     <g id=\"text_5\">\n      <!-- 0 -->\n      <g transform=\"translate(27.240625 14.798438) scale(0.1 -0.1)\">\n       <use xlink:href=\"#DejaVuSans-30\"/>\n      </g>\n     </g>\n    </g>\n    <g id=\"ytick_2\">\n     <g id=\"line2d_5\">\n      <g>\n       <use xlink:href=\"#m13a9c7cf90\" x=\"40.603125\" y=\"33.319219\" style=\"stroke: #000000; stroke-width: 0.8\"/>\n      </g>\n     </g>\n     <g id=\"text_6\">\n      <!-- 10 -->\n      <g transform=\"translate(20.878125 37.118438) scale(0.1 -0.1)\">\n       <defs>\n        <path id=\"DejaVuSans-31\" d=\"M 794 531 \nL 1825 531 \nL 1825 4091 \nL 703 3866 \nL 703 4441 \nL 1819 4666 \nL 2450 4666 \nL 2450 531 \nL 3481 531 \nL 3481 0 \nL 794 0 \nL 794 531 \nz\n\" transform=\"scale(0.015625)\"/>\n       </defs>\n       <use xlink:href=\"#DejaVuSans-31\"/>\n       <use xlink:href=\"#DejaVuSans-30\" transform=\"translate(63.623047 0)\"/>\n      </g>\n     </g>\n    </g>\n    <g id=\"ytick_3\">\n     <g id=\"line2d_6\">\n      <g>\n       <use xlink:href=\"#m13a9c7cf90\" x=\"40.603125\" y=\"55.639219\" style=\"stroke: #000000; stroke-width: 0.8\"/>\n      </g>\n     </g>\n     <g id=\"text_7\">\n      <!-- 20 -->\n      <g transform=\"translate(20.878125 59.438438) scale(0.1 -0.1)\">\n       <use xlink:href=\"#DejaVuSans-32\"/>\n       <use xlink:href=\"#DejaVuSans-30\" transform=\"translate(63.623047 0)\"/>\n      </g>\n     </g>\n    </g>\n    <g id=\"ytick_4\">\n     <g id=\"line2d_7\">\n      <g>\n       <use xlink:href=\"#m13a9c7cf90\" x=\"40.603125\" y=\"77.959219\" style=\"stroke: #000000; stroke-width: 0.8\"/>\n      </g>\n     </g>\n     <g id=\"text_8\">\n      <!-- 30 -->\n      <g transform=\"translate(20.878125 81.758438) scale(0.1 -0.1)\">\n       <defs>\n        <path id=\"DejaVuSans-33\" d=\"M 2597 2516 \nQ 3050 2419 3304 2112 \nQ 3559 1806 3559 1356 \nQ 3559 666 3084 287 \nQ 2609 -91 1734 -91 \nQ 1441 -91 1130 -33 \nQ 819 25 488 141 \nL 488 750 \nQ 750 597 1062 519 \nQ 1375 441 1716 441 \nQ 2309 441 2620 675 \nQ 2931 909 2931 1356 \nQ 2931 1769 2642 2001 \nQ 2353 2234 1838 2234 \nL 1294 2234 \nL 1294 2753 \nL 1863 2753 \nQ 2328 2753 2575 2939 \nQ 2822 3125 2822 3475 \nQ 2822 3834 2567 4026 \nQ 2313 4219 1838 4219 \nQ 1578 4219 1281 4162 \nQ 984 4106 628 3988 \nL 628 4550 \nQ 988 4650 1302 4700 \nQ 1616 4750 1894 4750 \nQ 2613 4750 3031 4423 \nQ 3450 4097 3450 3541 \nQ 3450 3153 3228 2886 \nQ 3006 2619 2597 2516 \nz\n\" transform=\"scale(0.015625)\"/>\n       </defs>\n       <use xlink:href=\"#DejaVuSans-33\"/>\n       <use xlink:href=\"#DejaVuSans-30\" transform=\"translate(63.623047 0)\"/>\n      </g>\n     </g>\n    </g>\n    <g id=\"ytick_5\">\n     <g id=\"line2d_8\">\n      <g>\n       <use xlink:href=\"#m13a9c7cf90\" x=\"40.603125\" y=\"100.279219\" style=\"stroke: #000000; stroke-width: 0.8\"/>\n      </g>\n     </g>\n     <g id=\"text_9\">\n      <!-- 40 -->\n      <g transform=\"translate(20.878125 104.078438) scale(0.1 -0.1)\">\n       <use xlink:href=\"#DejaVuSans-34\"/>\n       <use xlink:href=\"#DejaVuSans-30\" transform=\"translate(63.623047 0)\"/>\n      </g>\n     </g>\n    </g>\n    <g id=\"text_10\">\n     <!-- Sorted testing inputs -->\n     <g transform=\"translate(14.798438 118.160563) rotate(-90) scale(0.1 -0.1)\">\n      <use xlink:href=\"#DejaVuSans-53\"/>\n      <use xlink:href=\"#DejaVuSans-6f\" transform=\"translate(63.476562 0)\"/>\n      <use xlink:href=\"#DejaVuSans-72\" transform=\"translate(124.658203 0)\"/>\n      <use xlink:href=\"#DejaVuSans-74\" transform=\"translate(165.771484 0)\"/>\n      <use xlink:href=\"#DejaVuSans-65\" transform=\"translate(204.980469 0)\"/>\n      <use xlink:href=\"#DejaVuSans-64\" transform=\"translate(266.503906 0)\"/>\n      <use xlink:href=\"#DejaVuSans-20\" transform=\"translate(329.980469 0)\"/>\n      <use xlink:href=\"#DejaVuSans-74\" transform=\"translate(361.767578 0)\"/>\n      <use xlink:href=\"#DejaVuSans-65\" transform=\"translate(400.976562 0)\"/>\n      <use xlink:href=\"#DejaVuSans-73\" transform=\"translate(462.5 0)\"/>\n      <use xlink:href=\"#DejaVuSans-74\" transform=\"translate(514.599609 0)\"/>\n      <use xlink:href=\"#DejaVuSans-69\" transform=\"translate(553.808594 0)\"/>\n      <use xlink:href=\"#DejaVuSans-6e\" transform=\"translate(581.591797 0)\"/>\n      <use xlink:href=\"#DejaVuSans-67\" transform=\"translate(644.970703 0)\"/>\n      <use xlink:href=\"#DejaVuSans-20\" transform=\"translate(708.447266 0)\"/>\n      <use xlink:href=\"#DejaVuSans-69\" transform=\"translate(740.234375 0)\"/>\n      <use xlink:href=\"#DejaVuSans-6e\" transform=\"translate(768.017578 0)\"/>\n      <use xlink:href=\"#DejaVuSans-70\" transform=\"translate(831.396484 0)\"/>\n      <use xlink:href=\"#DejaVuSans-75\" transform=\"translate(894.873047 0)\"/>\n      <use xlink:href=\"#DejaVuSans-74\" transform=\"translate(958.251953 0)\"/>\n      <use xlink:href=\"#DejaVuSans-73\" transform=\"translate(997.460938 0)\"/>\n     </g>\n    </g>\n   </g>\n   <g id=\"patch_3\">\n    <path d=\"M 40.603125 121.483219 \nL 40.603125 9.883219 \n\" style=\"fill: none; stroke: #000000; stroke-width: 0.8; stroke-linejoin: miter; stroke-linecap: square\"/>\n   </g>\n   <g id=\"patch_4\">\n    <path d=\"M 152.203125 121.483219 \nL 152.203125 9.883219 \n\" style=\"fill: none; stroke: #000000; stroke-width: 0.8; stroke-linejoin: miter; stroke-linecap: square\"/>\n   </g>\n   <g id=\"patch_5\">\n    <path d=\"M 40.603125 121.483219 \nL 152.203125 121.483219 \n\" style=\"fill: none; stroke: #000000; stroke-width: 0.8; stroke-linejoin: miter; stroke-linecap: square\"/>\n   </g>\n   <g id=\"patch_6\">\n    <path d=\"M 40.603125 9.883219 \nL 152.203125 9.883219 \n\" style=\"fill: none; stroke: #000000; stroke-width: 0.8; stroke-linejoin: miter; stroke-linecap: square\"/>\n   </g>\n  </g>\n  <g id=\"axes_2\">\n   <g id=\"patch_7\">\n    <path d=\"M 159.178125 107.263219 \nL 163.336125 107.263219 \nL 163.336125 24.103219 \nL 159.178125 24.103219 \nz\n\" style=\"fill: #ffffff\"/>\n   </g>\n   <image xlink:href=\"data:image/png;base64,\niVBORw0KGgoAAAANSUhEUgAAAAYAAABzCAYAAAC7I3M6AAAAv0lEQVR4nNWVQQrDQAwDXfD/v9pLT1l71Q/sBBQMpTmukMbWhuSlz1txeDK0T+d3wrYFmyFm9BTjZsFjVY/g6GgSyKFaLsOHt82gKPlT+QvaJUbVWNS/waldjqKXGh24oB9lO/RL+AOBGGoSFjLsqDm4mj6W/lSFDDcK4ZvGbXTQ36BJQAa0Hlk2nAWCF081xsBKWiQcjyNykwM6jCx0nM8jO2wH74GbQ5S/IMIXMbASnAodFwllR/mOy76Puam+t3oOUronbv0AAAAASUVORK5CYII=\" id=\"imagee376d5140e\" transform=\"scale(1 -1) translate(0 -82.8)\" x=\"159.12\" y=\"-23.76\" width=\"4.32\" height=\"82.8\"/>\n   <g id=\"matplotlib.axis_3\"/>\n   <g id=\"matplotlib.axis_4\">\n    <g id=\"ytick_6\">\n     <g id=\"line2d_9\">\n      <defs>\n       <path id=\"mc11f805e0e\" d=\"M 0 0 \nL 3.5 0 \n\" style=\"stroke: #000000; stroke-width: 0.8\"/>\n      </defs>\n      <g>\n       <use xlink:href=\"#mc11f805e0e\" x=\"163.336125\" y=\"83.561396\" style=\"stroke: #000000; stroke-width: 0.8\"/>\n      </g>\n     </g>\n     <g id=\"text_11\">\n      <!-- 0.02 -->\n      <g transform=\"translate(170.336125 87.360614) scale(0.1 -0.1)\">\n       <defs>\n        <path id=\"DejaVuSans-2e\" d=\"M 684 794 \nL 1344 794 \nL 1344 0 \nL 684 0 \nL 684 794 \nz\n\" transform=\"scale(0.015625)\"/>\n       </defs>\n       <use xlink:href=\"#DejaVuSans-30\"/>\n       <use xlink:href=\"#DejaVuSans-2e\" transform=\"translate(63.623047 0)\"/>\n       <use xlink:href=\"#DejaVuSans-30\" transform=\"translate(95.410156 0)\"/>\n       <use xlink:href=\"#DejaVuSans-32\" transform=\"translate(159.033203 0)\"/>\n      </g>\n     </g>\n    </g>\n    <g id=\"ytick_7\">\n     <g id=\"line2d_10\">\n      <g>\n       <use xlink:href=\"#mc11f805e0e\" x=\"163.336125\" y=\"59.859136\" style=\"stroke: #000000; stroke-width: 0.8\"/>\n      </g>\n     </g>\n     <g id=\"text_12\">\n      <!-- 0.04 -->\n      <g transform=\"translate(170.336125 63.658355) scale(0.1 -0.1)\">\n       <use xlink:href=\"#DejaVuSans-30\"/>\n       <use xlink:href=\"#DejaVuSans-2e\" transform=\"translate(63.623047 0)\"/>\n       <use xlink:href=\"#DejaVuSans-30\" transform=\"translate(95.410156 0)\"/>\n       <use xlink:href=\"#DejaVuSans-34\" transform=\"translate(159.033203 0)\"/>\n      </g>\n     </g>\n    </g>\n    <g id=\"ytick_8\">\n     <g id=\"line2d_11\">\n      <g>\n       <use xlink:href=\"#mc11f805e0e\" x=\"163.336125\" y=\"36.156877\" style=\"stroke: #000000; stroke-width: 0.8\"/>\n      </g>\n     </g>\n     <g id=\"text_13\">\n      <!-- 0.06 -->\n      <g transform=\"translate(170.336125 39.956096) scale(0.1 -0.1)\">\n       <defs>\n        <path id=\"DejaVuSans-36\" d=\"M 2113 2584 \nQ 1688 2584 1439 2293 \nQ 1191 2003 1191 1497 \nQ 1191 994 1439 701 \nQ 1688 409 2113 409 \nQ 2538 409 2786 701 \nQ 3034 994 3034 1497 \nQ 3034 2003 2786 2293 \nQ 2538 2584 2113 2584 \nz\nM 3366 4563 \nL 3366 3988 \nQ 3128 4100 2886 4159 \nQ 2644 4219 2406 4219 \nQ 1781 4219 1451 3797 \nQ 1122 3375 1075 2522 \nQ 1259 2794 1537 2939 \nQ 1816 3084 2150 3084 \nQ 2853 3084 3261 2657 \nQ 3669 2231 3669 1497 \nQ 3669 778 3244 343 \nQ 2819 -91 2113 -91 \nQ 1303 -91 875 529 \nQ 447 1150 447 2328 \nQ 447 3434 972 4092 \nQ 1497 4750 2381 4750 \nQ 2619 4750 2861 4703 \nQ 3103 4656 3366 4563 \nz\n\" transform=\"scale(0.015625)\"/>\n       </defs>\n       <use xlink:href=\"#DejaVuSans-30\"/>\n       <use xlink:href=\"#DejaVuSans-2e\" transform=\"translate(63.623047 0)\"/>\n       <use xlink:href=\"#DejaVuSans-30\" transform=\"translate(95.410156 0)\"/>\n       <use xlink:href=\"#DejaVuSans-36\" transform=\"translate(159.033203 0)\"/>\n      </g>\n     </g>\n    </g>\n   </g>\n   <g id=\"LineCollection_1\"/>\n   <g id=\"patch_8\">\n    <path d=\"M 159.178125 107.263219 \nL 161.257125 107.263219 \nL 163.336125 107.263219 \nL 163.336125 24.103219 \nL 161.257125 24.103219 \nL 159.178125 24.103219 \nL 159.178125 107.263219 \nz\n\" style=\"fill: none; stroke: #000000; stroke-width: 0.8; stroke-linejoin: miter; stroke-linecap: square\"/>\n   </g>\n  </g>\n </g>\n <defs>\n  <clipPath id=\"pf0587cb08d\">\n   <rect x=\"40.603125\" y=\"9.883219\" width=\"111.6\" height=\"111.6\"/>\n  </clipPath>\n </defs>\n</svg>\n"
          },
          "metadata": {}
        }
      ],
      "source": [
        "d2l.show_heatmaps(attention_weights.unsqueeze(0).unsqueeze(0), #最终形状: [1, 1, 50, 50] (批次大小=1, 通道数=1, 高度=50, 宽度=50)\n",
        "                  xlabel='Sorted training inputs',\n",
        "                  ylabel='Sorted testing inputs')"
      ]
    },
    {
      "cell_type": "markdown",
      "id": "73a72797",
      "metadata": {
        "origin_pos": 31,
        "id": "73a72797"
      },
      "source": [
        "## [**带参数注意力汇聚**]\n",
        "\n",
        "非参数的Nadaraya-Watson核回归具有*一致性*（consistency）的优点：\n",
        "如果有足够的数据，此模型会收敛到最优结果。\n",
        "尽管如此，我们还是可以轻松地将可学习的参数集成到注意力汇聚中。\n",
        "\n",
        "例如，与 :eqref:`eq_nadaraya-watson-gaussian`略有不同，\n",
        "在下面的查询$x$和键$x_i$之间的距离乘以可学习参数$w$：\n",
        "\n",
        "$$\\begin{aligned}f(x) &= \\sum_{i=1}^n \\alpha(x, x_i) y_i \\\\&= \\sum_{i=1}^n \\frac{\\exp\\left(-\\frac{1}{2}((x - x_i)w)^2\\right)}{\\sum_{j=1}^n \\exp\\left(-\\frac{1}{2}((x - x_j)w)^2\\right)} y_i \\\\&= \\sum_{i=1}^n \\mathrm{softmax}\\left(-\\frac{1}{2}((x - x_i)w)^2\\right) y_i.\\end{aligned}$$\n",
        ":eqlabel:`eq_nadaraya-watson-gaussian-para`\n",
        "\n",
        "本节的余下部分将通过训练这个模型\n",
        " :eqref:`eq_nadaraya-watson-gaussian-para`来学习注意力汇聚的参数。\n",
        "\n",
        "### 批量矩阵乘法\n",
        "\n",
        ":label:`subsec_batch_dot`\n",
        "\n",
        "为了更有效地计算小批量数据的注意力，\n",
        "我们可以利用深度学习开发框架中提供的批量矩阵乘法。\n",
        "\n",
        "假设第一个小批量数据包含$n$个矩阵$\\mathbf{X}_1,\\ldots, \\mathbf{X}_n$，\n",
        "形状为$a\\times b$，\n",
        "第二个小批量包含$n$个矩阵$\\mathbf{Y}_1, \\ldots, \\mathbf{Y}_n$，\n",
        "形状为$b\\times c$。\n",
        "它们的批量矩阵乘法得到$n$个矩阵\n",
        "$\\mathbf{X}_1\\mathbf{Y}_1, \\ldots, \\mathbf{X}_n\\mathbf{Y}_n$，\n",
        "形状为$a\\times c$。\n",
        "因此，[**假定两个张量的形状分别是$(n,a,b)$和$(n,b,c)$，\n",
        "它们的批量矩阵乘法输出的形状为$(n,a,c)$**]。\n"
      ]
    },
    {
      "cell_type": "markdown",
      "source": [
        "核心区别：权重 vs. 预测值\n",
        "关键要区分两个概念：\n",
        "\n",
        "​注意力权重（α）​​：表示相似度，其和总是等于1​\n",
        "\n",
        "​预测值（f(x)）​​：是真实值 y_i的加权平均，其值取决于 y_i的大小"
      ],
      "metadata": {
        "id": "hDfHhIfk8qOB"
      },
      "id": "hDfHhIfk8qOB"
    },
    {
      "cell_type": "code",
      "execution_count": 9,
      "id": "c5a4dc9e",
      "metadata": {
        "execution": {
          "iopub.execute_input": "2023-08-18T07:07:17.329873Z",
          "iopub.status.busy": "2023-08-18T07:07:17.329293Z",
          "iopub.status.idle": "2023-08-18T07:07:17.336079Z",
          "shell.execute_reply": "2023-08-18T07:07:17.335148Z"
        },
        "origin_pos": 33,
        "tab": [
          "pytorch"
        ],
        "id": "c5a4dc9e",
        "outputId": "c73120bf-87df-4d0d-ca56-59fc16e4dbd7",
        "colab": {
          "base_uri": "https://localhost:8080/"
        }
      },
      "outputs": [
        {
          "output_type": "execute_result",
          "data": {
            "text/plain": [
              "torch.Size([2, 1, 6])"
            ]
          },
          "metadata": {},
          "execution_count": 9
        }
      ],
      "source": [
        "X = torch.ones((2, 1, 4))\n",
        "Y = torch.ones((2, 4, 6))\n",
        "torch.bmm(X, Y).shape"
      ]
    },
    {
      "cell_type": "markdown",
      "id": "acac0804",
      "metadata": {
        "origin_pos": 36,
        "id": "acac0804"
      },
      "source": [
        "在注意力机制的背景中，我们可以[**使用小批量矩阵乘法来计算小批量数据中的加权平均值**]。\n"
      ]
    },
    {
      "cell_type": "code",
      "execution_count": 16,
      "id": "7161cf35",
      "metadata": {
        "execution": {
          "iopub.execute_input": "2023-08-18T07:07:17.341257Z",
          "iopub.status.busy": "2023-08-18T07:07:17.340341Z",
          "iopub.status.idle": "2023-08-18T07:07:17.348773Z",
          "shell.execute_reply": "2023-08-18T07:07:17.347847Z"
        },
        "origin_pos": 38,
        "tab": [
          "pytorch"
        ],
        "id": "7161cf35",
        "colab": {
          "base_uri": "https://localhost:8080/"
        },
        "outputId": "9ef43d9d-147a-43c6-b109-3552c669ce0d"
      },
      "outputs": [
        {
          "output_type": "stream",
          "name": "stdout",
          "text": [
            "weights.unsqueeze(1):  torch.Size([2, 1, 10])\n",
            "values.unsqueeze(-1):  torch.Size([2, 10, 1])\n"
          ]
        },
        {
          "output_type": "execute_result",
          "data": {
            "text/plain": [
              "tensor([[[ 4.5000]],\n",
              "\n",
              "        [[14.5000]]])"
            ]
          },
          "metadata": {},
          "execution_count": 16
        }
      ],
      "source": [
        "weights = torch.ones((2, 10)) * 0.1\n",
        "values = torch.arange(20.0).reshape((2, 10))\n",
        "print(\"weights.unsqueeze(1): \", weights.unsqueeze(1).shape)\n",
        "print(\"values.unsqueeze(-1): \", values.unsqueeze(-1).shape)\n",
        "\n",
        "torch.bmm(weights.unsqueeze(1), values.unsqueeze(-1))"
      ]
    },
    {
      "cell_type": "markdown",
      "id": "f31cb449",
      "metadata": {
        "origin_pos": 41,
        "id": "f31cb449"
      },
      "source": [
        "### 定义模型\n",
        "\n",
        "基于 :eqref:`eq_nadaraya-watson-gaussian-para`中的\n",
        "[**带参数的注意力汇聚**]，使用小批量矩阵乘法，\n",
        "定义Nadaraya-Watson核回归的带参数版本为：\n"
      ]
    },
    {
      "cell_type": "code",
      "execution_count": 10,
      "id": "e7aee504",
      "metadata": {
        "execution": {
          "iopub.execute_input": "2023-08-18T07:07:17.353382Z",
          "iopub.status.busy": "2023-08-18T07:07:17.353094Z",
          "iopub.status.idle": "2023-08-18T07:07:17.359677Z",
          "shell.execute_reply": "2023-08-18T07:07:17.358720Z"
        },
        "origin_pos": 43,
        "tab": [
          "pytorch"
        ],
        "id": "e7aee504"
      },
      "outputs": [],
      "source": [
        "class NWKernelRegression(nn.Module):\n",
        "    def __init__(self, **kwargs):\n",
        "        super().__init__(**kwargs)\n",
        "        self.w = nn.Parameter(torch.rand((1,), requires_grad=True))\n",
        "\n",
        "    def forward(self, queries, keys, values):\n",
        "        # queries和attention_weights的形状为(查询个数，“键－值”对个数)\n",
        "        #那这里的x_train的shape扩展到和key的shape一样 但是key已经是少了一个数了。\n",
        "        print(\"queries.shape: \",queries.shape)\n",
        "        print(\"keys.shape: \",keys.shape)\n",
        "        print(\"values.shape: \",values.shape)\n",
        "        queries = queries.repeat_interleave(keys.shape[1]).reshape((-1, keys.shape[1]))\n",
        "        self.attention_weights = nn.functional.softmax(\n",
        "            -((queries - keys) * self.w)**2 / 2, dim=1)\n",
        "        @\n",
        "        # values的形状为(查询个数，“键－值”对个数)\n",
        "        return torch.bmm(self.attention_weights.unsqueeze(1),\n",
        "                         values.unsqueeze(-1)).reshape(-1)"
      ]
    },
    {
      "cell_type": "markdown",
      "source": [
        "您的理解完全正确！在留一法交叉验证（Leave-One-Out Cross-Validation）的上下文中  当 n_train = 3时，keys和 values的形状确实是 (3, 2)，因为每个样本都被排除一次。 queries被扩展到 (3, 2)是为了与 keys的维度匹配，从而计算注意力权重。\n",
        "现在，让我们一步步分析 torch.bmm操作和最终输出的形状：  \n",
        "维度变化详细说明  \n",
        "​注意力权重 (self.attention_weights) 的形状​：  \n",
        "在计算 softmax 之后，self.attention_weights的形状是 (3, 2)。这表示有 3 个查询点（每个对应一个留一案例），每个查询点有 2 个权重值（对应两个训练样本）。\n",
        "​unsqueeze 操作​：  \n",
        "self.attention_weights.unsqueeze(1)：在维度 1 上添加一个维度，形状从 (3, 2)变为 (3, 1, 2)。  \n",
        "values.unsqueeze(-1)：在最后一个维度上添加一个维度，形状从 (3, 2)变为 (3, 2, 1)。  \n",
        "​批量矩阵乘法 (torch.bmm)​​：  \n",
        "torch.bmm执行批量矩阵乘法，要求输入形状为 (batch_size, n, m)和 (batch_size, m, p)。  \n",
        "这里，输入是 (3, 1, 2)和 (3, 2, 1)，因此输出形状为 (3, 1, 1)。\n",
        "计算过程：对于每个批次（即每个查询点），进行矩阵乘法 (1, 2) * (2, 1) = (1, 1)，结果是一个标量。  \n",
        "例如，对于第一个查询点：注意力权重 [w1, w2]与值 [v1, v2]相乘，得到 w1*v1 + w2*v2。  \n",
        "​reshape(-1) 操作​：  \n",
        "torch.bmm输出形状为 (3, 1, 1)，使用 reshape(-1)将其展平，得到形状 (3,)。\n",
        "这表示最终输出是一个包含 3 个元素的一维张量，每个元素是对应查询点的预测值。  \n",
        "最终输出形状  \n",
        "​最终输出的形状是 (3,)，即一个长度为 3 的向量。每个元素对应一个留一案例的预测值：  \n",
        "第 0 个元素：使用样本 1 和 2 预测样本 0 的值。  \n",
        "第 1 个元素：使用样本 0 和 2 预测样本 1 的值。  \n",
        "第 2 个元素：使用样本 0 和 1 预测样本 2 的值。  \n",
        "为什么这样设计？  \n",
        "这种设计允许我们一次性计算所有留一案例的预测值，而不是通过循环逐个计算，从而提高了计算效率。最终输出的形状 (3,)与原始训练样本的数量一致，便于后续计算评估指标（如均方误差）。  "
      ],
      "metadata": {
        "id": "24FKOfLDQt6y"
      },
      "id": "24FKOfLDQt6y"
    },
    {
      "cell_type": "markdown",
      "id": "192a922f",
      "metadata": {
        "origin_pos": 46,
        "id": "192a922f"
      },
      "source": [
        "### 训练\n",
        "\n",
        "接下来，[**将训练数据集变换为键和值**]用于训练注意力模型。\n",
        "在带参数的注意力汇聚模型中，\n",
        "任何一个训练样本的输入都会和除自己以外的所有训练样本的“键－值”对进行计算，\n",
        "从而得到其对应的预测输出。\n"
      ]
    },
    {
      "cell_type": "code",
      "execution_count": 15,
      "id": "c738e178",
      "metadata": {
        "execution": {
          "iopub.execute_input": "2023-08-18T07:07:17.363589Z",
          "iopub.status.busy": "2023-08-18T07:07:17.362749Z",
          "iopub.status.idle": "2023-08-18T07:07:17.369359Z",
          "shell.execute_reply": "2023-08-18T07:07:17.368357Z"
        },
        "origin_pos": 48,
        "tab": [
          "pytorch"
        ],
        "id": "c738e178"
      },
      "outputs": [],
      "source": [
        "# X_tile的形状:(n_train，n_train)，每一行都包含着相同的训练输入\n",
        "X_tile = x_train.repeat((n_train, 1))\n",
        "# Y_tile的形状:(n_train，n_train)，每一行都包含着相同的训练输出\n",
        "Y_tile = y_train.repeat((n_train, 1))\n",
        "# keys的形状:('n_train'，'n_train'-1) torch.eye(n_train): 生成n_train*n_train的矩阵。1 - torch.eye(n_train) 岂不是其他为-1 中间斜线为0？留一法 每一行 都是去除一个为测试集 其他两个是训练集\n",
        "keys = X_tile[(1 - torch.eye(n_train)).type(torch.bool)].reshape((n_train, -1)) #keys = X_tile[mask].reshape((n_train, -1))\n",
        "# values的形状:('n_train'，'n_train'-1)\n",
        "values = Y_tile[(1 - torch.eye(n_train)).type(torch.bool)].reshape((n_train, -1)) #values = Y_tile[mask].reshape((n_train, -1))"
      ]
    },
    {
      "cell_type": "markdown",
      "source": [
        "1 - torch.eye(n_train)将对角线变为0，其他变为1。例如：  \n",
        "复制[[0, 1, 1],  \n",
        " [1, 0, 1],  \n",
        " [1, 1, 0]]  "
      ],
      "metadata": {
        "id": "lFTKccPNKOiN"
      },
      "id": "lFTKccPNKOiN"
    },
    {
      "cell_type": "markdown",
      "id": "245d8e27",
      "metadata": {
        "origin_pos": 51,
        "id": "245d8e27"
      },
      "source": [
        "[**训练带参数的注意力汇聚模型**]时，使用平方损失函数和随机梯度下降。\n"
      ]
    },
    {
      "cell_type": "code",
      "execution_count": 18,
      "id": "37b732ff",
      "metadata": {
        "execution": {
          "iopub.execute_input": "2023-08-18T07:07:17.373285Z",
          "iopub.status.busy": "2023-08-18T07:07:17.372386Z",
          "iopub.status.idle": "2023-08-18T07:07:18.050395Z",
          "shell.execute_reply": "2023-08-18T07:07:18.049441Z"
        },
        "origin_pos": 53,
        "tab": [
          "pytorch"
        ],
        "id": "37b732ff",
        "colab": {
          "base_uri": "https://localhost:8080/",
          "height": 264
        },
        "outputId": "181dd29e-e9dc-47c3-fd0e-8b0ad73cb8e6"
      },
      "outputs": [
        {
          "output_type": "display_data",
          "data": {
            "text/plain": [
              "<Figure size 350x250 with 1 Axes>"
            ],
            "image/svg+xml": "<?xml version=\"1.0\" encoding=\"utf-8\" standalone=\"no\"?>\n<!DOCTYPE svg PUBLIC \"-//W3C//DTD SVG 1.1//EN\"\n  \"http://www.w3.org/Graphics/SVG/1.1/DTD/svg11.dtd\">\n<svg xmlns:xlink=\"http://www.w3.org/1999/xlink\" width=\"246.284375pt\" height=\"183.35625pt\" viewBox=\"0 0 246.284375 183.35625\" xmlns=\"http://www.w3.org/2000/svg\" version=\"1.1\">\n <metadata>\n  <rdf:RDF xmlns:dc=\"http://purl.org/dc/elements/1.1/\" xmlns:cc=\"http://creativecommons.org/ns#\" xmlns:rdf=\"http://www.w3.org/1999/02/22-rdf-syntax-ns#\">\n   <cc:Work>\n    <dc:type rdf:resource=\"http://purl.org/dc/dcmitype/StillImage\"/>\n    <dc:date>2025-09-27T03:42:44.546582</dc:date>\n    <dc:format>image/svg+xml</dc:format>\n    <dc:creator>\n     <cc:Agent>\n      <dc:title>Matplotlib v3.10.0, https://matplotlib.org/</dc:title>\n     </cc:Agent>\n    </dc:creator>\n   </cc:Work>\n  </rdf:RDF>\n </metadata>\n <defs>\n  <style type=\"text/css\">*{stroke-linejoin: round; stroke-linecap: butt}</style>\n </defs>\n <g id=\"figure_1\">\n  <g id=\"patch_1\">\n   <path d=\"M 0 183.35625 \nL 246.284375 183.35625 \nL 246.284375 0 \nL 0 0 \nz\n\" style=\"fill: #ffffff\"/>\n  </g>\n  <g id=\"axes_1\">\n   <g id=\"patch_2\">\n    <path d=\"M 40.603125 145.8 \nL 235.903125 145.8 \nL 235.903125 7.2 \nL 40.603125 7.2 \nz\n\" style=\"fill: #ffffff\"/>\n   </g>\n   <g id=\"matplotlib.axis_1\">\n    <g id=\"xtick_1\">\n     <g id=\"line2d_1\">\n      <path d=\"M 40.603125 145.8 \nL 40.603125 7.2 \n\" clip-path=\"url(#pca3a405ccd)\" style=\"fill: none; stroke: #b0b0b0; stroke-width: 0.8; stroke-linecap: square\"/>\n     </g>\n     <g id=\"line2d_2\">\n      <defs>\n       <path id=\"mb7ff523e2c\" d=\"M 0 0 \nL 0 3.5 \n\" style=\"stroke: #000000; stroke-width: 0.8\"/>\n      </defs>\n      <g>\n       <use xlink:href=\"#mb7ff523e2c\" x=\"40.603125\" y=\"145.8\" style=\"stroke: #000000; stroke-width: 0.8\"/>\n      </g>\n     </g>\n     <g id=\"text_1\">\n      <!-- 1 -->\n      <g transform=\"translate(37.421875 160.398438) scale(0.1 -0.1)\">\n       <defs>\n        <path id=\"DejaVuSans-31\" d=\"M 794 531 \nL 1825 531 \nL 1825 4091 \nL 703 3866 \nL 703 4441 \nL 1819 4666 \nL 2450 4666 \nL 2450 531 \nL 3481 531 \nL 3481 0 \nL 794 0 \nL 794 531 \nz\n\" transform=\"scale(0.015625)\"/>\n       </defs>\n       <use xlink:href=\"#DejaVuSans-31\"/>\n      </g>\n     </g>\n    </g>\n    <g id=\"xtick_2\">\n     <g id=\"line2d_3\">\n      <path d=\"M 89.428125 145.8 \nL 89.428125 7.2 \n\" clip-path=\"url(#pca3a405ccd)\" style=\"fill: none; stroke: #b0b0b0; stroke-width: 0.8; stroke-linecap: square\"/>\n     </g>\n     <g id=\"line2d_4\">\n      <g>\n       <use xlink:href=\"#mb7ff523e2c\" x=\"89.428125\" y=\"145.8\" style=\"stroke: #000000; stroke-width: 0.8\"/>\n      </g>\n     </g>\n     <g id=\"text_2\">\n      <!-- 2 -->\n      <g transform=\"translate(86.246875 160.398438) scale(0.1 -0.1)\">\n       <defs>\n        <path id=\"DejaVuSans-32\" d=\"M 1228 531 \nL 3431 531 \nL 3431 0 \nL 469 0 \nL 469 531 \nQ 828 903 1448 1529 \nQ 2069 2156 2228 2338 \nQ 2531 2678 2651 2914 \nQ 2772 3150 2772 3378 \nQ 2772 3750 2511 3984 \nQ 2250 4219 1831 4219 \nQ 1534 4219 1204 4116 \nQ 875 4013 500 3803 \nL 500 4441 \nQ 881 4594 1212 4672 \nQ 1544 4750 1819 4750 \nQ 2544 4750 2975 4387 \nQ 3406 4025 3406 3419 \nQ 3406 3131 3298 2873 \nQ 3191 2616 2906 2266 \nQ 2828 2175 2409 1742 \nQ 1991 1309 1228 531 \nz\n\" transform=\"scale(0.015625)\"/>\n       </defs>\n       <use xlink:href=\"#DejaVuSans-32\"/>\n      </g>\n     </g>\n    </g>\n    <g id=\"xtick_3\">\n     <g id=\"line2d_5\">\n      <path d=\"M 138.253125 145.8 \nL 138.253125 7.2 \n\" clip-path=\"url(#pca3a405ccd)\" style=\"fill: none; stroke: #b0b0b0; stroke-width: 0.8; stroke-linecap: square\"/>\n     </g>\n     <g id=\"line2d_6\">\n      <g>\n       <use xlink:href=\"#mb7ff523e2c\" x=\"138.253125\" y=\"145.8\" style=\"stroke: #000000; stroke-width: 0.8\"/>\n      </g>\n     </g>\n     <g id=\"text_3\">\n      <!-- 3 -->\n      <g transform=\"translate(135.071875 160.398438) scale(0.1 -0.1)\">\n       <defs>\n        <path id=\"DejaVuSans-33\" d=\"M 2597 2516 \nQ 3050 2419 3304 2112 \nQ 3559 1806 3559 1356 \nQ 3559 666 3084 287 \nQ 2609 -91 1734 -91 \nQ 1441 -91 1130 -33 \nQ 819 25 488 141 \nL 488 750 \nQ 750 597 1062 519 \nQ 1375 441 1716 441 \nQ 2309 441 2620 675 \nQ 2931 909 2931 1356 \nQ 2931 1769 2642 2001 \nQ 2353 2234 1838 2234 \nL 1294 2234 \nL 1294 2753 \nL 1863 2753 \nQ 2328 2753 2575 2939 \nQ 2822 3125 2822 3475 \nQ 2822 3834 2567 4026 \nQ 2313 4219 1838 4219 \nQ 1578 4219 1281 4162 \nQ 984 4106 628 3988 \nL 628 4550 \nQ 988 4650 1302 4700 \nQ 1616 4750 1894 4750 \nQ 2613 4750 3031 4423 \nQ 3450 4097 3450 3541 \nQ 3450 3153 3228 2886 \nQ 3006 2619 2597 2516 \nz\n\" transform=\"scale(0.015625)\"/>\n       </defs>\n       <use xlink:href=\"#DejaVuSans-33\"/>\n      </g>\n     </g>\n    </g>\n    <g id=\"xtick_4\">\n     <g id=\"line2d_7\">\n      <path d=\"M 187.078125 145.8 \nL 187.078125 7.2 \n\" clip-path=\"url(#pca3a405ccd)\" style=\"fill: none; stroke: #b0b0b0; stroke-width: 0.8; stroke-linecap: square\"/>\n     </g>\n     <g id=\"line2d_8\">\n      <g>\n       <use xlink:href=\"#mb7ff523e2c\" x=\"187.078125\" y=\"145.8\" style=\"stroke: #000000; stroke-width: 0.8\"/>\n      </g>\n     </g>\n     <g id=\"text_4\">\n      <!-- 4 -->\n      <g transform=\"translate(183.896875 160.398438) scale(0.1 -0.1)\">\n       <defs>\n        <path id=\"DejaVuSans-34\" d=\"M 2419 4116 \nL 825 1625 \nL 2419 1625 \nL 2419 4116 \nz\nM 2253 4666 \nL 3047 4666 \nL 3047 1625 \nL 3713 1625 \nL 3713 1100 \nL 3047 1100 \nL 3047 0 \nL 2419 0 \nL 2419 1100 \nL 313 1100 \nL 313 1709 \nL 2253 4666 \nz\n\" transform=\"scale(0.015625)\"/>\n       </defs>\n       <use xlink:href=\"#DejaVuSans-34\"/>\n      </g>\n     </g>\n    </g>\n    <g id=\"xtick_5\">\n     <g id=\"line2d_9\">\n      <path d=\"M 235.903125 145.8 \nL 235.903125 7.2 \n\" clip-path=\"url(#pca3a405ccd)\" style=\"fill: none; stroke: #b0b0b0; stroke-width: 0.8; stroke-linecap: square\"/>\n     </g>\n     <g id=\"line2d_10\">\n      <g>\n       <use xlink:href=\"#mb7ff523e2c\" x=\"235.903125\" y=\"145.8\" style=\"stroke: #000000; stroke-width: 0.8\"/>\n      </g>\n     </g>\n     <g id=\"text_5\">\n      <!-- 5 -->\n      <g transform=\"translate(232.721875 160.398438) scale(0.1 -0.1)\">\n       <defs>\n        <path id=\"DejaVuSans-35\" d=\"M 691 4666 \nL 3169 4666 \nL 3169 4134 \nL 1269 4134 \nL 1269 2991 \nQ 1406 3038 1543 3061 \nQ 1681 3084 1819 3084 \nQ 2600 3084 3056 2656 \nQ 3513 2228 3513 1497 \nQ 3513 744 3044 326 \nQ 2575 -91 1722 -91 \nQ 1428 -91 1123 -41 \nQ 819 9 494 109 \nL 494 744 \nQ 775 591 1075 516 \nQ 1375 441 1709 441 \nQ 2250 441 2565 725 \nQ 2881 1009 2881 1497 \nQ 2881 1984 2565 2268 \nQ 2250 2553 1709 2553 \nQ 1456 2553 1204 2497 \nQ 953 2441 691 2322 \nL 691 4666 \nz\n\" transform=\"scale(0.015625)\"/>\n       </defs>\n       <use xlink:href=\"#DejaVuSans-35\"/>\n      </g>\n     </g>\n    </g>\n    <g id=\"text_6\">\n     <!-- epoch -->\n     <g transform=\"translate(123.025 174.076563) scale(0.1 -0.1)\">\n      <defs>\n       <path id=\"DejaVuSans-65\" d=\"M 3597 1894 \nL 3597 1613 \nL 953 1613 \nQ 991 1019 1311 708 \nQ 1631 397 2203 397 \nQ 2534 397 2845 478 \nQ 3156 559 3463 722 \nL 3463 178 \nQ 3153 47 2828 -22 \nQ 2503 -91 2169 -91 \nQ 1331 -91 842 396 \nQ 353 884 353 1716 \nQ 353 2575 817 3079 \nQ 1281 3584 2069 3584 \nQ 2775 3584 3186 3129 \nQ 3597 2675 3597 1894 \nz\nM 3022 2063 \nQ 3016 2534 2758 2815 \nQ 2500 3097 2075 3097 \nQ 1594 3097 1305 2825 \nQ 1016 2553 972 2059 \nL 3022 2063 \nz\n\" transform=\"scale(0.015625)\"/>\n       <path id=\"DejaVuSans-70\" d=\"M 1159 525 \nL 1159 -1331 \nL 581 -1331 \nL 581 3500 \nL 1159 3500 \nL 1159 2969 \nQ 1341 3281 1617 3432 \nQ 1894 3584 2278 3584 \nQ 2916 3584 3314 3078 \nQ 3713 2572 3713 1747 \nQ 3713 922 3314 415 \nQ 2916 -91 2278 -91 \nQ 1894 -91 1617 61 \nQ 1341 213 1159 525 \nz\nM 3116 1747 \nQ 3116 2381 2855 2742 \nQ 2594 3103 2138 3103 \nQ 1681 3103 1420 2742 \nQ 1159 2381 1159 1747 \nQ 1159 1113 1420 752 \nQ 1681 391 2138 391 \nQ 2594 391 2855 752 \nQ 3116 1113 3116 1747 \nz\n\" transform=\"scale(0.015625)\"/>\n       <path id=\"DejaVuSans-6f\" d=\"M 1959 3097 \nQ 1497 3097 1228 2736 \nQ 959 2375 959 1747 \nQ 959 1119 1226 758 \nQ 1494 397 1959 397 \nQ 2419 397 2687 759 \nQ 2956 1122 2956 1747 \nQ 2956 2369 2687 2733 \nQ 2419 3097 1959 3097 \nz\nM 1959 3584 \nQ 2709 3584 3137 3096 \nQ 3566 2609 3566 1747 \nQ 3566 888 3137 398 \nQ 2709 -91 1959 -91 \nQ 1206 -91 779 398 \nQ 353 888 353 1747 \nQ 353 2609 779 3096 \nQ 1206 3584 1959 3584 \nz\n\" transform=\"scale(0.015625)\"/>\n       <path id=\"DejaVuSans-63\" d=\"M 3122 3366 \nL 3122 2828 \nQ 2878 2963 2633 3030 \nQ 2388 3097 2138 3097 \nQ 1578 3097 1268 2742 \nQ 959 2388 959 1747 \nQ 959 1106 1268 751 \nQ 1578 397 2138 397 \nQ 2388 397 2633 464 \nQ 2878 531 3122 666 \nL 3122 134 \nQ 2881 22 2623 -34 \nQ 2366 -91 2075 -91 \nQ 1284 -91 818 406 \nQ 353 903 353 1747 \nQ 353 2603 823 3093 \nQ 1294 3584 2113 3584 \nQ 2378 3584 2631 3529 \nQ 2884 3475 3122 3366 \nz\n\" transform=\"scale(0.015625)\"/>\n       <path id=\"DejaVuSans-68\" d=\"M 3513 2113 \nL 3513 0 \nL 2938 0 \nL 2938 2094 \nQ 2938 2591 2744 2837 \nQ 2550 3084 2163 3084 \nQ 1697 3084 1428 2787 \nQ 1159 2491 1159 1978 \nL 1159 0 \nL 581 0 \nL 581 4863 \nL 1159 4863 \nL 1159 2956 \nQ 1366 3272 1645 3428 \nQ 1925 3584 2291 3584 \nQ 2894 3584 3203 3211 \nQ 3513 2838 3513 2113 \nz\n\" transform=\"scale(0.015625)\"/>\n      </defs>\n      <use xlink:href=\"#DejaVuSans-65\"/>\n      <use xlink:href=\"#DejaVuSans-70\" transform=\"translate(61.523438 0)\"/>\n      <use xlink:href=\"#DejaVuSans-6f\" transform=\"translate(125 0)\"/>\n      <use xlink:href=\"#DejaVuSans-63\" transform=\"translate(186.181641 0)\"/>\n      <use xlink:href=\"#DejaVuSans-68\" transform=\"translate(241.162109 0)\"/>\n     </g>\n    </g>\n   </g>\n   <g id=\"matplotlib.axis_2\">\n    <g id=\"ytick_1\">\n     <g id=\"line2d_11\">\n      <path d=\"M 40.603125 142.590035 \nL 235.903125 142.590035 \n\" clip-path=\"url(#pca3a405ccd)\" style=\"fill: none; stroke: #b0b0b0; stroke-width: 0.8; stroke-linecap: square\"/>\n     </g>\n     <g id=\"line2d_12\">\n      <defs>\n       <path id=\"m6ee53f977e\" d=\"M 0 0 \nL -3.5 0 \n\" style=\"stroke: #000000; stroke-width: 0.8\"/>\n      </defs>\n      <g>\n       <use xlink:href=\"#m6ee53f977e\" x=\"40.603125\" y=\"142.590035\" style=\"stroke: #000000; stroke-width: 0.8\"/>\n      </g>\n     </g>\n     <g id=\"text_7\">\n      <!-- 10 -->\n      <g transform=\"translate(20.878125 146.389254) scale(0.1 -0.1)\">\n       <defs>\n        <path id=\"DejaVuSans-30\" d=\"M 2034 4250 \nQ 1547 4250 1301 3770 \nQ 1056 3291 1056 2328 \nQ 1056 1369 1301 889 \nQ 1547 409 2034 409 \nQ 2525 409 2770 889 \nQ 3016 1369 3016 2328 \nQ 3016 3291 2770 3770 \nQ 2525 4250 2034 4250 \nz\nM 2034 4750 \nQ 2819 4750 3233 4129 \nQ 3647 3509 3647 2328 \nQ 3647 1150 3233 529 \nQ 2819 -91 2034 -91 \nQ 1250 -91 836 529 \nQ 422 1150 422 2328 \nQ 422 3509 836 4129 \nQ 1250 4750 2034 4750 \nz\n\" transform=\"scale(0.015625)\"/>\n       </defs>\n       <use xlink:href=\"#DejaVuSans-31\"/>\n       <use xlink:href=\"#DejaVuSans-30\" transform=\"translate(63.623047 0)\"/>\n      </g>\n     </g>\n    </g>\n    <g id=\"ytick_2\">\n     <g id=\"line2d_13\">\n      <path d=\"M 40.603125 108.178414 \nL 235.903125 108.178414 \n\" clip-path=\"url(#pca3a405ccd)\" style=\"fill: none; stroke: #b0b0b0; stroke-width: 0.8; stroke-linecap: square\"/>\n     </g>\n     <g id=\"line2d_14\">\n      <g>\n       <use xlink:href=\"#m6ee53f977e\" x=\"40.603125\" y=\"108.178414\" style=\"stroke: #000000; stroke-width: 0.8\"/>\n      </g>\n     </g>\n     <g id=\"text_8\">\n      <!-- 20 -->\n      <g transform=\"translate(20.878125 111.977633) scale(0.1 -0.1)\">\n       <use xlink:href=\"#DejaVuSans-32\"/>\n       <use xlink:href=\"#DejaVuSans-30\" transform=\"translate(63.623047 0)\"/>\n      </g>\n     </g>\n    </g>\n    <g id=\"ytick_3\">\n     <g id=\"line2d_15\">\n      <path d=\"M 40.603125 73.766793 \nL 235.903125 73.766793 \n\" clip-path=\"url(#pca3a405ccd)\" style=\"fill: none; stroke: #b0b0b0; stroke-width: 0.8; stroke-linecap: square\"/>\n     </g>\n     <g id=\"line2d_16\">\n      <g>\n       <use xlink:href=\"#m6ee53f977e\" x=\"40.603125\" y=\"73.766793\" style=\"stroke: #000000; stroke-width: 0.8\"/>\n      </g>\n     </g>\n     <g id=\"text_9\">\n      <!-- 30 -->\n      <g transform=\"translate(20.878125 77.566012) scale(0.1 -0.1)\">\n       <use xlink:href=\"#DejaVuSans-33\"/>\n       <use xlink:href=\"#DejaVuSans-30\" transform=\"translate(63.623047 0)\"/>\n      </g>\n     </g>\n    </g>\n    <g id=\"ytick_4\">\n     <g id=\"line2d_17\">\n      <path d=\"M 40.603125 39.355172 \nL 235.903125 39.355172 \n\" clip-path=\"url(#pca3a405ccd)\" style=\"fill: none; stroke: #b0b0b0; stroke-width: 0.8; stroke-linecap: square\"/>\n     </g>\n     <g id=\"line2d_18\">\n      <g>\n       <use xlink:href=\"#m6ee53f977e\" x=\"40.603125\" y=\"39.355172\" style=\"stroke: #000000; stroke-width: 0.8\"/>\n      </g>\n     </g>\n     <g id=\"text_10\">\n      <!-- 40 -->\n      <g transform=\"translate(20.878125 43.154391) scale(0.1 -0.1)\">\n       <use xlink:href=\"#DejaVuSans-34\"/>\n       <use xlink:href=\"#DejaVuSans-30\" transform=\"translate(63.623047 0)\"/>\n      </g>\n     </g>\n    </g>\n    <g id=\"text_11\">\n     <!-- loss -->\n     <g transform=\"translate(14.798437 86.157813) rotate(-90) scale(0.1 -0.1)\">\n      <defs>\n       <path id=\"DejaVuSans-6c\" d=\"M 603 4863 \nL 1178 4863 \nL 1178 0 \nL 603 0 \nL 603 4863 \nz\n\" transform=\"scale(0.015625)\"/>\n       <path id=\"DejaVuSans-73\" d=\"M 2834 3397 \nL 2834 2853 \nQ 2591 2978 2328 3040 \nQ 2066 3103 1784 3103 \nQ 1356 3103 1142 2972 \nQ 928 2841 928 2578 \nQ 928 2378 1081 2264 \nQ 1234 2150 1697 2047 \nL 1894 2003 \nQ 2506 1872 2764 1633 \nQ 3022 1394 3022 966 \nQ 3022 478 2636 193 \nQ 2250 -91 1575 -91 \nQ 1294 -91 989 -36 \nQ 684 19 347 128 \nL 347 722 \nQ 666 556 975 473 \nQ 1284 391 1588 391 \nQ 1994 391 2212 530 \nQ 2431 669 2431 922 \nQ 2431 1156 2273 1281 \nQ 2116 1406 1581 1522 \nL 1381 1569 \nQ 847 1681 609 1914 \nQ 372 2147 372 2553 \nQ 372 3047 722 3315 \nQ 1072 3584 1716 3584 \nQ 2034 3584 2315 3537 \nQ 2597 3491 2834 3397 \nz\n\" transform=\"scale(0.015625)\"/>\n      </defs>\n      <use xlink:href=\"#DejaVuSans-6c\"/>\n      <use xlink:href=\"#DejaVuSans-6f\" transform=\"translate(27.783203 0)\"/>\n      <use xlink:href=\"#DejaVuSans-73\" transform=\"translate(88.964844 0)\"/>\n      <use xlink:href=\"#DejaVuSans-73\" transform=\"translate(141.064453 0)\"/>\n     </g>\n    </g>\n   </g>\n   <g id=\"line2d_19\">\n    <path d=\"M 40.603125 13.5 \nL 89.428125 120.557508 \nL 138.253125 138.118204 \nL 187.078125 138.935644 \nL 235.903125 139.5 \n\" clip-path=\"url(#pca3a405ccd)\" style=\"fill: none; stroke: #1f77b4; stroke-width: 1.5; stroke-linecap: square\"/>\n   </g>\n   <g id=\"patch_3\">\n    <path d=\"M 40.603125 145.8 \nL 40.603125 7.2 \n\" style=\"fill: none; stroke: #000000; stroke-width: 0.8; stroke-linejoin: miter; stroke-linecap: square\"/>\n   </g>\n   <g id=\"patch_4\">\n    <path d=\"M 235.903125 145.8 \nL 235.903125 7.2 \n\" style=\"fill: none; stroke: #000000; stroke-width: 0.8; stroke-linejoin: miter; stroke-linecap: square\"/>\n   </g>\n   <g id=\"patch_5\">\n    <path d=\"M 40.603125 145.8 \nL 235.903125 145.8 \n\" style=\"fill: none; stroke: #000000; stroke-width: 0.8; stroke-linejoin: miter; stroke-linecap: square\"/>\n   </g>\n   <g id=\"patch_6\">\n    <path d=\"M 40.603125 7.2 \nL 235.903125 7.2 \n\" style=\"fill: none; stroke: #000000; stroke-width: 0.8; stroke-linejoin: miter; stroke-linecap: square\"/>\n   </g>\n  </g>\n </g>\n <defs>\n  <clipPath id=\"pca3a405ccd\">\n   <rect x=\"40.603125\" y=\"7.2\" width=\"195.3\" height=\"138.6\"/>\n  </clipPath>\n </defs>\n</svg>\n"
          },
          "metadata": {}
        }
      ],
      "source": [
        "net = NWKernelRegression()\n",
        "loss = nn.MSELoss(reduction='none')\n",
        "trainer = torch.optim.SGD(net.parameters(), lr=0.5)\n",
        "animator = d2l.Animator(xlabel='epoch', ylabel='loss', xlim=[1, 5])\n",
        "\n",
        "for epoch in range(5):\n",
        "    trainer.zero_grad()\n",
        "    l = loss(net(x_train, keys, values), y_train)\n",
        "    l.sum().backward()\n",
        "    trainer.step()\n",
        "    print(f'epoch {epoch + 1}, loss {float(l.sum()):.6f}')\n",
        "    animator.add(epoch + 1, float(l.sum()))"
      ]
    },
    {
      "cell_type": "markdown",
      "id": "bcd73f8a",
      "metadata": {
        "origin_pos": 56,
        "id": "bcd73f8a"
      },
      "source": [
        "如下所示，训练完带参数的注意力汇聚模型后可以发现：\n",
        "在尝试拟合带噪声的训练数据时，\n",
        "[**预测结果绘制**]的线不如之前非参数模型的平滑。\n"
      ]
    },
    {
      "cell_type": "code",
      "execution_count": 19,
      "id": "79e57e0d",
      "metadata": {
        "execution": {
          "iopub.execute_input": "2023-08-18T07:07:18.054215Z",
          "iopub.status.busy": "2023-08-18T07:07:18.053635Z",
          "iopub.status.idle": "2023-08-18T07:07:18.224763Z",
          "shell.execute_reply": "2023-08-18T07:07:18.223767Z"
        },
        "origin_pos": 58,
        "tab": [
          "pytorch"
        ],
        "id": "79e57e0d",
        "colab": {
          "base_uri": "https://localhost:8080/",
          "height": 324
        },
        "outputId": "c23a8979-bc8c-4560-ca09-fea493179785"
      },
      "outputs": [
        {
          "output_type": "stream",
          "name": "stdout",
          "text": [
            "queries.shape:  torch.Size([50])\n",
            "keys.shape:  torch.Size([50, 50])\n",
            "values.shape:  torch.Size([50, 50])\n"
          ]
        },
        {
          "output_type": "display_data",
          "data": {
            "text/plain": [
              "<Figure size 350x250 with 1 Axes>"
            ],
            "image/svg+xml": "<?xml version=\"1.0\" encoding=\"utf-8\" standalone=\"no\"?>\n<!DOCTYPE svg PUBLIC \"-//W3C//DTD SVG 1.1//EN\"\n  \"http://www.w3.org/Graphics/SVG/1.1/DTD/svg11.dtd\">\n<svg xmlns:xlink=\"http://www.w3.org/1999/xlink\" width=\"248.301563pt\" height=\"187.155469pt\" viewBox=\"0 0 248.301563 187.155469\" xmlns=\"http://www.w3.org/2000/svg\" version=\"1.1\">\n <metadata>\n  <rdf:RDF xmlns:dc=\"http://purl.org/dc/elements/1.1/\" xmlns:cc=\"http://creativecommons.org/ns#\" xmlns:rdf=\"http://www.w3.org/1999/02/22-rdf-syntax-ns#\">\n   <cc:Work>\n    <dc:type rdf:resource=\"http://purl.org/dc/dcmitype/StillImage\"/>\n    <dc:date>2025-09-27T03:42:56.963844</dc:date>\n    <dc:format>image/svg+xml</dc:format>\n    <dc:creator>\n     <cc:Agent>\n      <dc:title>Matplotlib v3.10.0, https://matplotlib.org/</dc:title>\n     </cc:Agent>\n    </dc:creator>\n   </cc:Work>\n  </rdf:RDF>\n </metadata>\n <defs>\n  <style type=\"text/css\">*{stroke-linejoin: round; stroke-linecap: butt}</style>\n </defs>\n <g id=\"figure_1\">\n  <g id=\"patch_1\">\n   <path d=\"M 0 187.155469 \nL 248.301563 187.155469 \nL 248.301563 0 \nL 0 0 \nz\n\" style=\"fill: #ffffff\"/>\n  </g>\n  <g id=\"axes_1\">\n   <g id=\"patch_2\">\n    <path d=\"M 42.620312 149.599219 \nL 237.920313 149.599219 \nL 237.920313 10.999219 \nL 42.620312 10.999219 \nz\n\" style=\"fill: #ffffff\"/>\n   </g>\n   <g id=\"matplotlib.axis_1\">\n    <g id=\"xtick_1\">\n     <g id=\"line2d_1\">\n      <path d=\"M 42.620312 149.599219 \nL 42.620312 10.999219 \n\" clip-path=\"url(#p59161258ef)\" style=\"fill: none; stroke: #b0b0b0; stroke-width: 0.8; stroke-linecap: square\"/>\n     </g>\n     <g id=\"line2d_2\">\n      <defs>\n       <path id=\"m17064f9e41\" d=\"M 0 0 \nL 0 3.5 \n\" style=\"stroke: #000000; stroke-width: 0.8\"/>\n      </defs>\n      <g>\n       <use xlink:href=\"#m17064f9e41\" x=\"42.620312\" y=\"149.599219\" style=\"stroke: #000000; stroke-width: 0.8\"/>\n      </g>\n     </g>\n     <g id=\"text_1\">\n      <!-- 0 -->\n      <g transform=\"translate(39.439062 164.197656) scale(0.1 -0.1)\">\n       <defs>\n        <path id=\"DejaVuSans-30\" d=\"M 2034 4250 \nQ 1547 4250 1301 3770 \nQ 1056 3291 1056 2328 \nQ 1056 1369 1301 889 \nQ 1547 409 2034 409 \nQ 2525 409 2770 889 \nQ 3016 1369 3016 2328 \nQ 3016 3291 2770 3770 \nQ 2525 4250 2034 4250 \nz\nM 2034 4750 \nQ 2819 4750 3233 4129 \nQ 3647 3509 3647 2328 \nQ 3647 1150 3233 529 \nQ 2819 -91 2034 -91 \nQ 1250 -91 836 529 \nQ 422 1150 422 2328 \nQ 422 3509 836 4129 \nQ 1250 4750 2034 4750 \nz\n\" transform=\"scale(0.015625)\"/>\n       </defs>\n       <use xlink:href=\"#DejaVuSans-30\"/>\n      </g>\n     </g>\n    </g>\n    <g id=\"xtick_2\">\n     <g id=\"line2d_3\">\n      <path d=\"M 81.680312 149.599219 \nL 81.680312 10.999219 \n\" clip-path=\"url(#p59161258ef)\" style=\"fill: none; stroke: #b0b0b0; stroke-width: 0.8; stroke-linecap: square\"/>\n     </g>\n     <g id=\"line2d_4\">\n      <g>\n       <use xlink:href=\"#m17064f9e41\" x=\"81.680312\" y=\"149.599219\" style=\"stroke: #000000; stroke-width: 0.8\"/>\n      </g>\n     </g>\n     <g id=\"text_2\">\n      <!-- 1 -->\n      <g transform=\"translate(78.499062 164.197656) scale(0.1 -0.1)\">\n       <defs>\n        <path id=\"DejaVuSans-31\" d=\"M 794 531 \nL 1825 531 \nL 1825 4091 \nL 703 3866 \nL 703 4441 \nL 1819 4666 \nL 2450 4666 \nL 2450 531 \nL 3481 531 \nL 3481 0 \nL 794 0 \nL 794 531 \nz\n\" transform=\"scale(0.015625)\"/>\n       </defs>\n       <use xlink:href=\"#DejaVuSans-31\"/>\n      </g>\n     </g>\n    </g>\n    <g id=\"xtick_3\">\n     <g id=\"line2d_5\">\n      <path d=\"M 120.740313 149.599219 \nL 120.740313 10.999219 \n\" clip-path=\"url(#p59161258ef)\" style=\"fill: none; stroke: #b0b0b0; stroke-width: 0.8; stroke-linecap: square\"/>\n     </g>\n     <g id=\"line2d_6\">\n      <g>\n       <use xlink:href=\"#m17064f9e41\" x=\"120.740313\" y=\"149.599219\" style=\"stroke: #000000; stroke-width: 0.8\"/>\n      </g>\n     </g>\n     <g id=\"text_3\">\n      <!-- 2 -->\n      <g transform=\"translate(117.559062 164.197656) scale(0.1 -0.1)\">\n       <defs>\n        <path id=\"DejaVuSans-32\" d=\"M 1228 531 \nL 3431 531 \nL 3431 0 \nL 469 0 \nL 469 531 \nQ 828 903 1448 1529 \nQ 2069 2156 2228 2338 \nQ 2531 2678 2651 2914 \nQ 2772 3150 2772 3378 \nQ 2772 3750 2511 3984 \nQ 2250 4219 1831 4219 \nQ 1534 4219 1204 4116 \nQ 875 4013 500 3803 \nL 500 4441 \nQ 881 4594 1212 4672 \nQ 1544 4750 1819 4750 \nQ 2544 4750 2975 4387 \nQ 3406 4025 3406 3419 \nQ 3406 3131 3298 2873 \nQ 3191 2616 2906 2266 \nQ 2828 2175 2409 1742 \nQ 1991 1309 1228 531 \nz\n\" transform=\"scale(0.015625)\"/>\n       </defs>\n       <use xlink:href=\"#DejaVuSans-32\"/>\n      </g>\n     </g>\n    </g>\n    <g id=\"xtick_4\">\n     <g id=\"line2d_7\">\n      <path d=\"M 159.800313 149.599219 \nL 159.800313 10.999219 \n\" clip-path=\"url(#p59161258ef)\" style=\"fill: none; stroke: #b0b0b0; stroke-width: 0.8; stroke-linecap: square\"/>\n     </g>\n     <g id=\"line2d_8\">\n      <g>\n       <use xlink:href=\"#m17064f9e41\" x=\"159.800313\" y=\"149.599219\" style=\"stroke: #000000; stroke-width: 0.8\"/>\n      </g>\n     </g>\n     <g id=\"text_4\">\n      <!-- 3 -->\n      <g transform=\"translate(156.619063 164.197656) scale(0.1 -0.1)\">\n       <defs>\n        <path id=\"DejaVuSans-33\" d=\"M 2597 2516 \nQ 3050 2419 3304 2112 \nQ 3559 1806 3559 1356 \nQ 3559 666 3084 287 \nQ 2609 -91 1734 -91 \nQ 1441 -91 1130 -33 \nQ 819 25 488 141 \nL 488 750 \nQ 750 597 1062 519 \nQ 1375 441 1716 441 \nQ 2309 441 2620 675 \nQ 2931 909 2931 1356 \nQ 2931 1769 2642 2001 \nQ 2353 2234 1838 2234 \nL 1294 2234 \nL 1294 2753 \nL 1863 2753 \nQ 2328 2753 2575 2939 \nQ 2822 3125 2822 3475 \nQ 2822 3834 2567 4026 \nQ 2313 4219 1838 4219 \nQ 1578 4219 1281 4162 \nQ 984 4106 628 3988 \nL 628 4550 \nQ 988 4650 1302 4700 \nQ 1616 4750 1894 4750 \nQ 2613 4750 3031 4423 \nQ 3450 4097 3450 3541 \nQ 3450 3153 3228 2886 \nQ 3006 2619 2597 2516 \nz\n\" transform=\"scale(0.015625)\"/>\n       </defs>\n       <use xlink:href=\"#DejaVuSans-33\"/>\n      </g>\n     </g>\n    </g>\n    <g id=\"xtick_5\">\n     <g id=\"line2d_9\">\n      <path d=\"M 198.860313 149.599219 \nL 198.860313 10.999219 \n\" clip-path=\"url(#p59161258ef)\" style=\"fill: none; stroke: #b0b0b0; stroke-width: 0.8; stroke-linecap: square\"/>\n     </g>\n     <g id=\"line2d_10\">\n      <g>\n       <use xlink:href=\"#m17064f9e41\" x=\"198.860313\" y=\"149.599219\" style=\"stroke: #000000; stroke-width: 0.8\"/>\n      </g>\n     </g>\n     <g id=\"text_5\">\n      <!-- 4 -->\n      <g transform=\"translate(195.679063 164.197656) scale(0.1 -0.1)\">\n       <defs>\n        <path id=\"DejaVuSans-34\" d=\"M 2419 4116 \nL 825 1625 \nL 2419 1625 \nL 2419 4116 \nz\nM 2253 4666 \nL 3047 4666 \nL 3047 1625 \nL 3713 1625 \nL 3713 1100 \nL 3047 1100 \nL 3047 0 \nL 2419 0 \nL 2419 1100 \nL 313 1100 \nL 313 1709 \nL 2253 4666 \nz\n\" transform=\"scale(0.015625)\"/>\n       </defs>\n       <use xlink:href=\"#DejaVuSans-34\"/>\n      </g>\n     </g>\n    </g>\n    <g id=\"xtick_6\">\n     <g id=\"line2d_11\">\n      <path d=\"M 237.920313 149.599219 \nL 237.920313 10.999219 \n\" clip-path=\"url(#p59161258ef)\" style=\"fill: none; stroke: #b0b0b0; stroke-width: 0.8; stroke-linecap: square\"/>\n     </g>\n     <g id=\"line2d_12\">\n      <g>\n       <use xlink:href=\"#m17064f9e41\" x=\"237.920313\" y=\"149.599219\" style=\"stroke: #000000; stroke-width: 0.8\"/>\n      </g>\n     </g>\n     <g id=\"text_6\">\n      <!-- 5 -->\n      <g transform=\"translate(234.739063 164.197656) scale(0.1 -0.1)\">\n       <defs>\n        <path id=\"DejaVuSans-35\" d=\"M 691 4666 \nL 3169 4666 \nL 3169 4134 \nL 1269 4134 \nL 1269 2991 \nQ 1406 3038 1543 3061 \nQ 1681 3084 1819 3084 \nQ 2600 3084 3056 2656 \nQ 3513 2228 3513 1497 \nQ 3513 744 3044 326 \nQ 2575 -91 1722 -91 \nQ 1428 -91 1123 -41 \nQ 819 9 494 109 \nL 494 744 \nQ 775 591 1075 516 \nQ 1375 441 1709 441 \nQ 2250 441 2565 725 \nQ 2881 1009 2881 1497 \nQ 2881 1984 2565 2268 \nQ 2250 2553 1709 2553 \nQ 1456 2553 1204 2497 \nQ 953 2441 691 2322 \nL 691 4666 \nz\n\" transform=\"scale(0.015625)\"/>\n       </defs>\n       <use xlink:href=\"#DejaVuSans-35\"/>\n      </g>\n     </g>\n    </g>\n    <g id=\"text_7\">\n     <!-- x -->\n     <g transform=\"translate(137.310937 177.875781) scale(0.1 -0.1)\">\n      <defs>\n       <path id=\"DejaVuSans-78\" d=\"M 3513 3500 \nL 2247 1797 \nL 3578 0 \nL 2900 0 \nL 1881 1375 \nL 863 0 \nL 184 0 \nL 1544 1831 \nL 300 3500 \nL 978 3500 \nL 1906 2253 \nL 2834 3500 \nL 3513 3500 \nz\n\" transform=\"scale(0.015625)\"/>\n      </defs>\n      <use xlink:href=\"#DejaVuSans-78\"/>\n     </g>\n    </g>\n   </g>\n   <g id=\"matplotlib.axis_2\">\n    <g id=\"ytick_1\">\n     <g id=\"line2d_13\">\n      <path d=\"M 42.620312 149.599219 \nL 237.920313 149.599219 \n\" clip-path=\"url(#p59161258ef)\" style=\"fill: none; stroke: #b0b0b0; stroke-width: 0.8; stroke-linecap: square\"/>\n     </g>\n     <g id=\"line2d_14\">\n      <defs>\n       <path id=\"m192612e8ec\" d=\"M 0 0 \nL -3.5 0 \n\" style=\"stroke: #000000; stroke-width: 0.8\"/>\n      </defs>\n      <g>\n       <use xlink:href=\"#m192612e8ec\" x=\"42.620312\" y=\"149.599219\" style=\"stroke: #000000; stroke-width: 0.8\"/>\n      </g>\n     </g>\n     <g id=\"text_8\">\n      <!-- −1 -->\n      <g transform=\"translate(20.878125 153.398437) scale(0.1 -0.1)\">\n       <defs>\n        <path id=\"DejaVuSans-2212\" d=\"M 678 2272 \nL 4684 2272 \nL 4684 1741 \nL 678 1741 \nL 678 2272 \nz\n\" transform=\"scale(0.015625)\"/>\n       </defs>\n       <use xlink:href=\"#DejaVuSans-2212\"/>\n       <use xlink:href=\"#DejaVuSans-31\" transform=\"translate(83.789062 0)\"/>\n      </g>\n     </g>\n    </g>\n    <g id=\"ytick_2\">\n     <g id=\"line2d_15\">\n      <path d=\"M 42.620312 126.499219 \nL 237.920313 126.499219 \n\" clip-path=\"url(#p59161258ef)\" style=\"fill: none; stroke: #b0b0b0; stroke-width: 0.8; stroke-linecap: square\"/>\n     </g>\n     <g id=\"line2d_16\">\n      <g>\n       <use xlink:href=\"#m192612e8ec\" x=\"42.620312\" y=\"126.499219\" style=\"stroke: #000000; stroke-width: 0.8\"/>\n      </g>\n     </g>\n     <g id=\"text_9\">\n      <!-- 0 -->\n      <g transform=\"translate(29.257812 130.298437) scale(0.1 -0.1)\">\n       <use xlink:href=\"#DejaVuSans-30\"/>\n      </g>\n     </g>\n    </g>\n    <g id=\"ytick_3\">\n     <g id=\"line2d_17\">\n      <path d=\"M 42.620312 103.399219 \nL 237.920313 103.399219 \n\" clip-path=\"url(#p59161258ef)\" style=\"fill: none; stroke: #b0b0b0; stroke-width: 0.8; stroke-linecap: square\"/>\n     </g>\n     <g id=\"line2d_18\">\n      <g>\n       <use xlink:href=\"#m192612e8ec\" x=\"42.620312\" y=\"103.399219\" style=\"stroke: #000000; stroke-width: 0.8\"/>\n      </g>\n     </g>\n     <g id=\"text_10\">\n      <!-- 1 -->\n      <g transform=\"translate(29.257812 107.198437) scale(0.1 -0.1)\">\n       <use xlink:href=\"#DejaVuSans-31\"/>\n      </g>\n     </g>\n    </g>\n    <g id=\"ytick_4\">\n     <g id=\"line2d_19\">\n      <path d=\"M 42.620312 80.299219 \nL 237.920313 80.299219 \n\" clip-path=\"url(#p59161258ef)\" style=\"fill: none; stroke: #b0b0b0; stroke-width: 0.8; stroke-linecap: square\"/>\n     </g>\n     <g id=\"line2d_20\">\n      <g>\n       <use xlink:href=\"#m192612e8ec\" x=\"42.620312\" y=\"80.299219\" style=\"stroke: #000000; stroke-width: 0.8\"/>\n      </g>\n     </g>\n     <g id=\"text_11\">\n      <!-- 2 -->\n      <g transform=\"translate(29.257812 84.098437) scale(0.1 -0.1)\">\n       <use xlink:href=\"#DejaVuSans-32\"/>\n      </g>\n     </g>\n    </g>\n    <g id=\"ytick_5\">\n     <g id=\"line2d_21\">\n      <path d=\"M 42.620312 57.199219 \nL 237.920313 57.199219 \n\" clip-path=\"url(#p59161258ef)\" style=\"fill: none; stroke: #b0b0b0; stroke-width: 0.8; stroke-linecap: square\"/>\n     </g>\n     <g id=\"line2d_22\">\n      <g>\n       <use xlink:href=\"#m192612e8ec\" x=\"42.620312\" y=\"57.199219\" style=\"stroke: #000000; stroke-width: 0.8\"/>\n      </g>\n     </g>\n     <g id=\"text_12\">\n      <!-- 3 -->\n      <g transform=\"translate(29.257812 60.998437) scale(0.1 -0.1)\">\n       <use xlink:href=\"#DejaVuSans-33\"/>\n      </g>\n     </g>\n    </g>\n    <g id=\"ytick_6\">\n     <g id=\"line2d_23\">\n      <path d=\"M 42.620312 34.099219 \nL 237.920313 34.099219 \n\" clip-path=\"url(#p59161258ef)\" style=\"fill: none; stroke: #b0b0b0; stroke-width: 0.8; stroke-linecap: square\"/>\n     </g>\n     <g id=\"line2d_24\">\n      <g>\n       <use xlink:href=\"#m192612e8ec\" x=\"42.620312\" y=\"34.099219\" style=\"stroke: #000000; stroke-width: 0.8\"/>\n      </g>\n     </g>\n     <g id=\"text_13\">\n      <!-- 4 -->\n      <g transform=\"translate(29.257812 37.898438) scale(0.1 -0.1)\">\n       <use xlink:href=\"#DejaVuSans-34\"/>\n      </g>\n     </g>\n    </g>\n    <g id=\"ytick_7\">\n     <g id=\"line2d_25\">\n      <path d=\"M 42.620312 10.999219 \nL 237.920313 10.999219 \n\" clip-path=\"url(#p59161258ef)\" style=\"fill: none; stroke: #b0b0b0; stroke-width: 0.8; stroke-linecap: square\"/>\n     </g>\n     <g id=\"line2d_26\">\n      <g>\n       <use xlink:href=\"#m192612e8ec\" x=\"42.620312\" y=\"10.999219\" style=\"stroke: #000000; stroke-width: 0.8\"/>\n      </g>\n     </g>\n     <g id=\"text_14\">\n      <!-- 5 -->\n      <g transform=\"translate(29.257812 14.798437) scale(0.1 -0.1)\">\n       <use xlink:href=\"#DejaVuSans-35\"/>\n      </g>\n     </g>\n    </g>\n    <g id=\"text_15\">\n     <!-- y -->\n     <g transform=\"translate(14.798437 83.258594) rotate(-90) scale(0.1 -0.1)\">\n      <defs>\n       <path id=\"DejaVuSans-79\" d=\"M 2059 -325 \nQ 1816 -950 1584 -1140 \nQ 1353 -1331 966 -1331 \nL 506 -1331 \nL 506 -850 \nL 844 -850 \nQ 1081 -850 1212 -737 \nQ 1344 -625 1503 -206 \nL 1606 56 \nL 191 3500 \nL 800 3500 \nL 1894 763 \nL 2988 3500 \nL 3597 3500 \nL 2059 -325 \nz\n\" transform=\"scale(0.015625)\"/>\n      </defs>\n      <use xlink:href=\"#DejaVuSans-79\"/>\n     </g>\n    </g>\n   </g>\n   <g id=\"line2d_27\">\n    <path d=\"M 42.620312 126.499219 \nL 46.526313 118.225812 \nL 50.432313 110.946345 \nL 54.338313 104.029425 \nL 58.244313 97.4097 \nL 62.150312 91.082293 \nL 66.056313 85.061866 \nL 69.962312 79.370737 \nL 73.868313 74.033949 \nL 77.774314 69.076775 \nL 81.680312 64.523261 \nL 85.586313 60.395214 \nL 89.492314 56.711598 \nL 93.398311 53.487961 \nL 97.304312 50.736132 \nL 101.210313 48.46391 \nL 105.116313 46.674891 \nL 109.022314 45.368338 \nL 112.928315 44.539111 \nL 116.834312 44.177706 \nL 120.740313 44.270242 \nL 124.646309 44.798618 \nL 128.552314 45.740654 \nL 132.458311 47.070245 \nL 136.364316 48.757689 \nL 140.270312 50.76986 \nL 144.176318 53.070611 \nL 148.082314 55.621064 \nL 151.98832 58.380042 \nL 155.894316 61.304393 \nL 159.800313 64.349483 \nL 163.706318 67.469619 \nL 167.612314 70.618454 \nL 171.518311 73.749494 \nL 175.424316 76.816549 \nL 179.330312 79.774142 \nL 183.236318 82.578044 \nL 187.142314 85.185605 \nL 191.048311 87.556281 \nL 194.954316 89.651973 \nL 198.860313 91.437389 \nL 202.766309 92.880457 \nL 206.672305 93.952601 \nL 210.57832 94.629017 \nL 214.484316 94.888934 \nL 218.390312 94.715829 \nL 222.296309 94.097555 \nL 226.202305 93.026506 \nL 230.10832 91.499643 \nL 234.014316 89.518571 \n\" clip-path=\"url(#p59161258ef)\" style=\"fill: none; stroke: #1f77b4; stroke-width: 1.5; stroke-linecap: square\"/>\n   </g>\n   <g id=\"line2d_28\">\n    <path d=\"M 42.620312 108.876737 \nL 46.526313 107.359311 \nL 50.432313 105.156246 \nL 54.338313 102.249237 \nL 58.244313 98.60451 \nL 62.150312 94.216133 \nL 66.056313 89.04207 \nL 69.962312 82.469968 \nL 73.868313 73.198158 \nL 77.774314 61.718967 \nL 81.680312 51.843089 \nL 85.586313 45.812339 \nL 89.492314 42.703709 \nL 93.398311 41.062114 \nL 97.304312 39.805799 \nL 101.210313 39.172336 \nL 105.116313 40.445905 \nL 109.022314 42.747768 \nL 112.928315 45.386061 \nL 116.834312 48.171684 \nL 120.740313 50.888023 \nL 124.646309 53.182071 \nL 128.552314 54.796321 \nL 132.458311 55.941974 \nL 136.364316 57.007157 \nL 140.270312 58.040782 \nL 144.176318 59.020974 \nL 148.082314 60.064011 \nL 151.98832 61.300813 \nL 155.894316 62.895941 \nL 159.800313 65.178881 \nL 163.706318 68.571085 \nL 167.612314 72.853198 \nL 171.518311 76.61036 \nL 175.424316 79.100089 \nL 179.330312 81.006348 \nL 183.236318 82.701144 \nL 187.142314 84.008166 \nL 191.048311 84.90905 \nL 194.954316 85.76471 \nL 198.860313 86.927549 \nL 202.766309 88.218778 \nL 206.672305 89.292371 \nL 210.57832 90.051815 \nL 214.484316 90.363232 \nL 218.390312 90.15668 \nL 222.296309 89.642913 \nL 226.202305 89.106232 \nL 230.10832 88.619336 \nL 234.014316 88.120282 \n\" clip-path=\"url(#p59161258ef)\" style=\"fill: none; stroke-dasharray: 5.55,2.4; stroke-dashoffset: 0; stroke: #bf00bf; stroke-width: 1.5\"/>\n   </g>\n   <g id=\"line2d_29\">\n    <defs>\n     <path id=\"m9a78b470a2\" d=\"M 0 3 \nC 0.795609 3 1.55874 2.683901 2.12132 2.12132 \nC 2.683901 1.55874 3 0.795609 3 0 \nC 3 -0.795609 2.683901 -1.55874 2.12132 -2.12132 \nC 1.55874 -2.683901 0.795609 -3 0 -3 \nC -0.795609 -3 -1.55874 -2.683901 -2.12132 -2.12132 \nC -2.683901 -1.55874 -3 -0.795609 -3 0 \nC -3 0.795609 -2.683901 1.55874 -2.12132 2.12132 \nC -1.55874 2.683901 -0.795609 3 0 3 \nz\n\" style=\"stroke: #ff7f0e; stroke-opacity: 0.5\"/>\n    </defs>\n    <g clip-path=\"url(#p59161258ef)\">\n     <use xlink:href=\"#m9a78b470a2\" x=\"45.696938\" y=\"109.239588\" style=\"fill: #ff7f0e; fill-opacity: 0.5; stroke: #ff7f0e; stroke-opacity: 0.5\"/>\n     <use xlink:href=\"#m9a78b470a2\" x=\"50.132287\" y=\"111.258801\" style=\"fill: #ff7f0e; fill-opacity: 0.5; stroke: #ff7f0e; stroke-opacity: 0.5\"/>\n     <use xlink:href=\"#m9a78b470a2\" x=\"52.893971\" y=\"129.479854\" style=\"fill: #ff7f0e; fill-opacity: 0.5; stroke: #ff7f0e; stroke-opacity: 0.5\"/>\n     <use xlink:href=\"#m9a78b470a2\" x=\"53.289327\" y=\"114.307048\" style=\"fill: #ff7f0e; fill-opacity: 0.5; stroke: #ff7f0e; stroke-opacity: 0.5\"/>\n     <use xlink:href=\"#m9a78b470a2\" x=\"55.087223\" y=\"89.549481\" style=\"fill: #ff7f0e; fill-opacity: 0.5; stroke: #ff7f0e; stroke-opacity: 0.5\"/>\n     <use xlink:href=\"#m9a78b470a2\" x=\"56.336233\" y=\"104.899674\" style=\"fill: #ff7f0e; fill-opacity: 0.5; stroke: #ff7f0e; stroke-opacity: 0.5\"/>\n     <use xlink:href=\"#m9a78b470a2\" x=\"56.71088\" y=\"82.797272\" style=\"fill: #ff7f0e; fill-opacity: 0.5; stroke: #ff7f0e; stroke-opacity: 0.5\"/>\n     <use xlink:href=\"#m9a78b470a2\" x=\"59.051167\" y=\"91.098859\" style=\"fill: #ff7f0e; fill-opacity: 0.5; stroke: #ff7f0e; stroke-opacity: 0.5\"/>\n     <use xlink:href=\"#m9a78b470a2\" x=\"64.919323\" y=\"86.798721\" style=\"fill: #ff7f0e; fill-opacity: 0.5; stroke: #ff7f0e; stroke-opacity: 0.5\"/>\n     <use xlink:href=\"#m9a78b470a2\" x=\"67.011277\" y=\"100.443839\" style=\"fill: #ff7f0e; fill-opacity: 0.5; stroke: #ff7f0e; stroke-opacity: 0.5\"/>\n     <use xlink:href=\"#m9a78b470a2\" x=\"68.350096\" y=\"66.160868\" style=\"fill: #ff7f0e; fill-opacity: 0.5; stroke: #ff7f0e; stroke-opacity: 0.5\"/>\n     <use xlink:href=\"#m9a78b470a2\" x=\"78.796561\" y=\"57.967841\" style=\"fill: #ff7f0e; fill-opacity: 0.5; stroke: #ff7f0e; stroke-opacity: 0.5\"/>\n     <use xlink:href=\"#m9a78b470a2\" x=\"84.85184\" y=\"36.980143\" style=\"fill: #ff7f0e; fill-opacity: 0.5; stroke: #ff7f0e; stroke-opacity: 0.5\"/>\n     <use xlink:href=\"#m9a78b470a2\" x=\"90.634276\" y=\"40.991541\" style=\"fill: #ff7f0e; fill-opacity: 0.5; stroke: #ff7f0e; stroke-opacity: 0.5\"/>\n     <use xlink:href=\"#m9a78b470a2\" x=\"112.71141\" y=\"24.558696\" style=\"fill: #ff7f0e; fill-opacity: 0.5; stroke: #ff7f0e; stroke-opacity: 0.5\"/>\n     <use xlink:href=\"#m9a78b470a2\" x=\"112.869725\" y=\"34.528559\" style=\"fill: #ff7f0e; fill-opacity: 0.5; stroke: #ff7f0e; stroke-opacity: 0.5\"/>\n     <use xlink:href=\"#m9a78b470a2\" x=\"115.700685\" y=\"60.77079\" style=\"fill: #ff7f0e; fill-opacity: 0.5; stroke: #ff7f0e; stroke-opacity: 0.5\"/>\n     <use xlink:href=\"#m9a78b470a2\" x=\"118.0782\" y=\"53.692613\" style=\"fill: #ff7f0e; fill-opacity: 0.5; stroke: #ff7f0e; stroke-opacity: 0.5\"/>\n     <use xlink:href=\"#m9a78b470a2\" x=\"120.462768\" y=\"62.240189\" style=\"fill: #ff7f0e; fill-opacity: 0.5; stroke: #ff7f0e; stroke-opacity: 0.5\"/>\n     <use xlink:href=\"#m9a78b470a2\" x=\"129.82224\" y=\"36.541203\" style=\"fill: #ff7f0e; fill-opacity: 0.5; stroke: #ff7f0e; stroke-opacity: 0.5\"/>\n     <use xlink:href=\"#m9a78b470a2\" x=\"130.875964\" y=\"73.312355\" style=\"fill: #ff7f0e; fill-opacity: 0.5; stroke: #ff7f0e; stroke-opacity: 0.5\"/>\n     <use xlink:href=\"#m9a78b470a2\" x=\"144.144422\" y=\"46.813531\" style=\"fill: #ff7f0e; fill-opacity: 0.5; stroke: #ff7f0e; stroke-opacity: 0.5\"/>\n     <use xlink:href=\"#m9a78b470a2\" x=\"144.259769\" y=\"55.423076\" style=\"fill: #ff7f0e; fill-opacity: 0.5; stroke: #ff7f0e; stroke-opacity: 0.5\"/>\n     <use xlink:href=\"#m9a78b470a2\" x=\"145.640487\" y=\"70.205212\" style=\"fill: #ff7f0e; fill-opacity: 0.5; stroke: #ff7f0e; stroke-opacity: 0.5\"/>\n     <use xlink:href=\"#m9a78b470a2\" x=\"148.262495\" y=\"64.693105\" style=\"fill: #ff7f0e; fill-opacity: 0.5; stroke: #ff7f0e; stroke-opacity: 0.5\"/>\n     <use xlink:href=\"#m9a78b470a2\" x=\"151.449547\" y=\"51.751395\" style=\"fill: #ff7f0e; fill-opacity: 0.5; stroke: #ff7f0e; stroke-opacity: 0.5\"/>\n     <use xlink:href=\"#m9a78b470a2\" x=\"156.526551\" y=\"57.986451\" style=\"fill: #ff7f0e; fill-opacity: 0.5; stroke: #ff7f0e; stroke-opacity: 0.5\"/>\n     <use xlink:href=\"#m9a78b470a2\" x=\"156.599226\" y=\"72.071704\" style=\"fill: #ff7f0e; fill-opacity: 0.5; stroke: #ff7f0e; stroke-opacity: 0.5\"/>\n     <use xlink:href=\"#m9a78b470a2\" x=\"156.647931\" y=\"72.913559\" style=\"fill: #ff7f0e; fill-opacity: 0.5; stroke: #ff7f0e; stroke-opacity: 0.5\"/>\n     <use xlink:href=\"#m9a78b470a2\" x=\"156.923958\" y=\"51.686639\" style=\"fill: #ff7f0e; fill-opacity: 0.5; stroke: #ff7f0e; stroke-opacity: 0.5\"/>\n     <use xlink:href=\"#m9a78b470a2\" x=\"163.97373\" y=\"70.549886\" style=\"fill: #ff7f0e; fill-opacity: 0.5; stroke: #ff7f0e; stroke-opacity: 0.5\"/>\n     <use xlink:href=\"#m9a78b470a2\" x=\"169.435653\" y=\"87.008652\" style=\"fill: #ff7f0e; fill-opacity: 0.5; stroke: #ff7f0e; stroke-opacity: 0.5\"/>\n     <use xlink:href=\"#m9a78b470a2\" x=\"176.748554\" y=\"71.272031\" style=\"fill: #ff7f0e; fill-opacity: 0.5; stroke: #ff7f0e; stroke-opacity: 0.5\"/>\n     <use xlink:href=\"#m9a78b470a2\" x=\"178.108942\" y=\"70.844673\" style=\"fill: #ff7f0e; fill-opacity: 0.5; stroke: #ff7f0e; stroke-opacity: 0.5\"/>\n     <use xlink:href=\"#m9a78b470a2\" x=\"180.697509\" y=\"88.841491\" style=\"fill: #ff7f0e; fill-opacity: 0.5; stroke: #ff7f0e; stroke-opacity: 0.5\"/>\n     <use xlink:href=\"#m9a78b470a2\" x=\"185.272478\" y=\"95.666203\" style=\"fill: #ff7f0e; fill-opacity: 0.5; stroke: #ff7f0e; stroke-opacity: 0.5\"/>\n     <use xlink:href=\"#m9a78b470a2\" x=\"188.90404\" y=\"80.739202\" style=\"fill: #ff7f0e; fill-opacity: 0.5; stroke: #ff7f0e; stroke-opacity: 0.5\"/>\n     <use xlink:href=\"#m9a78b470a2\" x=\"191.121554\" y=\"74.966248\" style=\"fill: #ff7f0e; fill-opacity: 0.5; stroke: #ff7f0e; stroke-opacity: 0.5\"/>\n     <use xlink:href=\"#m9a78b470a2\" x=\"193.549096\" y=\"94.284363\" style=\"fill: #ff7f0e; fill-opacity: 0.5; stroke: #ff7f0e; stroke-opacity: 0.5\"/>\n     <use xlink:href=\"#m9a78b470a2\" x=\"206.692905\" y=\"95.72773\" style=\"fill: #ff7f0e; fill-opacity: 0.5; stroke: #ff7f0e; stroke-opacity: 0.5\"/>\n     <use xlink:href=\"#m9a78b470a2\" x=\"207.565219\" y=\"76.427666\" style=\"fill: #ff7f0e; fill-opacity: 0.5; stroke: #ff7f0e; stroke-opacity: 0.5\"/>\n     <use xlink:href=\"#m9a78b470a2\" x=\"207.682018\" y=\"86.229529\" style=\"fill: #ff7f0e; fill-opacity: 0.5; stroke: #ff7f0e; stroke-opacity: 0.5\"/>\n     <use xlink:href=\"#m9a78b470a2\" x=\"213.161681\" y=\"107.287517\" style=\"fill: #ff7f0e; fill-opacity: 0.5; stroke: #ff7f0e; stroke-opacity: 0.5\"/>\n     <use xlink:href=\"#m9a78b470a2\" x=\"215.741558\" y=\"85.541971\" style=\"fill: #ff7f0e; fill-opacity: 0.5; stroke: #ff7f0e; stroke-opacity: 0.5\"/>\n     <use xlink:href=\"#m9a78b470a2\" x=\"221.011073\" y=\"97.223002\" style=\"fill: #ff7f0e; fill-opacity: 0.5; stroke: #ff7f0e; stroke-opacity: 0.5\"/>\n     <use xlink:href=\"#m9a78b470a2\" x=\"221.285516\" y=\"80.427785\" style=\"fill: #ff7f0e; fill-opacity: 0.5; stroke: #ff7f0e; stroke-opacity: 0.5\"/>\n     <use xlink:href=\"#m9a78b470a2\" x=\"223.899776\" y=\"87.243788\" style=\"fill: #ff7f0e; fill-opacity: 0.5; stroke: #ff7f0e; stroke-opacity: 0.5\"/>\n     <use xlink:href=\"#m9a78b470a2\" x=\"230.375108\" y=\"91.256249\" style=\"fill: #ff7f0e; fill-opacity: 0.5; stroke: #ff7f0e; stroke-opacity: 0.5\"/>\n     <use xlink:href=\"#m9a78b470a2\" x=\"237.828695\" y=\"80.192253\" style=\"fill: #ff7f0e; fill-opacity: 0.5; stroke: #ff7f0e; stroke-opacity: 0.5\"/>\n     <use xlink:href=\"#m9a78b470a2\" x=\"237.897646\" y=\"92.814618\" style=\"fill: #ff7f0e; fill-opacity: 0.5; stroke: #ff7f0e; stroke-opacity: 0.5\"/>\n    </g>\n   </g>\n   <g id=\"patch_3\">\n    <path d=\"M 42.620312 149.599219 \nL 42.620312 10.999219 \n\" style=\"fill: none; stroke: #000000; stroke-width: 0.8; stroke-linejoin: miter; stroke-linecap: square\"/>\n   </g>\n   <g id=\"patch_4\">\n    <path d=\"M 237.920313 149.599219 \nL 237.920313 10.999219 \n\" style=\"fill: none; stroke: #000000; stroke-width: 0.8; stroke-linejoin: miter; stroke-linecap: square\"/>\n   </g>\n   <g id=\"patch_5\">\n    <path d=\"M 42.620312 149.599219 \nL 237.920313 149.599219 \n\" style=\"fill: none; stroke: #000000; stroke-width: 0.8; stroke-linejoin: miter; stroke-linecap: square\"/>\n   </g>\n   <g id=\"patch_6\">\n    <path d=\"M 42.620312 10.999219 \nL 237.920313 10.999219 \n\" style=\"fill: none; stroke: #000000; stroke-width: 0.8; stroke-linejoin: miter; stroke-linecap: square\"/>\n   </g>\n   <g id=\"legend_1\">\n    <g id=\"patch_7\">\n     <path d=\"M 173.58125 48.355469 \nL 230.920313 48.355469 \nQ 232.920313 48.355469 232.920313 46.355469 \nL 232.920313 17.999219 \nQ 232.920313 15.999219 230.920313 15.999219 \nL 173.58125 15.999219 \nQ 171.58125 15.999219 171.58125 17.999219 \nL 171.58125 46.355469 \nQ 171.58125 48.355469 173.58125 48.355469 \nz\n\" style=\"fill: #ffffff; opacity: 0.8; stroke: #cccccc; stroke-linejoin: miter\"/>\n    </g>\n    <g id=\"line2d_30\">\n     <path d=\"M 175.58125 24.097656 \nL 185.58125 24.097656 \nL 195.58125 24.097656 \n\" style=\"fill: none; stroke: #1f77b4; stroke-width: 1.5; stroke-linecap: square\"/>\n    </g>\n    <g id=\"text_16\">\n     <!-- Truth -->\n     <g transform=\"translate(203.58125 27.597656) scale(0.1 -0.1)\">\n      <defs>\n       <path id=\"DejaVuSans-54\" d=\"M -19 4666 \nL 3928 4666 \nL 3928 4134 \nL 2272 4134 \nL 2272 0 \nL 1638 0 \nL 1638 4134 \nL -19 4134 \nL -19 4666 \nz\n\" transform=\"scale(0.015625)\"/>\n       <path id=\"DejaVuSans-72\" d=\"M 2631 2963 \nQ 2534 3019 2420 3045 \nQ 2306 3072 2169 3072 \nQ 1681 3072 1420 2755 \nQ 1159 2438 1159 1844 \nL 1159 0 \nL 581 0 \nL 581 3500 \nL 1159 3500 \nL 1159 2956 \nQ 1341 3275 1631 3429 \nQ 1922 3584 2338 3584 \nQ 2397 3584 2469 3576 \nQ 2541 3569 2628 3553 \nL 2631 2963 \nz\n\" transform=\"scale(0.015625)\"/>\n       <path id=\"DejaVuSans-75\" d=\"M 544 1381 \nL 544 3500 \nL 1119 3500 \nL 1119 1403 \nQ 1119 906 1312 657 \nQ 1506 409 1894 409 \nQ 2359 409 2629 706 \nQ 2900 1003 2900 1516 \nL 2900 3500 \nL 3475 3500 \nL 3475 0 \nL 2900 0 \nL 2900 538 \nQ 2691 219 2414 64 \nQ 2138 -91 1772 -91 \nQ 1169 -91 856 284 \nQ 544 659 544 1381 \nz\nM 1991 3584 \nL 1991 3584 \nz\n\" transform=\"scale(0.015625)\"/>\n       <path id=\"DejaVuSans-74\" d=\"M 1172 4494 \nL 1172 3500 \nL 2356 3500 \nL 2356 3053 \nL 1172 3053 \nL 1172 1153 \nQ 1172 725 1289 603 \nQ 1406 481 1766 481 \nL 2356 481 \nL 2356 0 \nL 1766 0 \nQ 1100 0 847 248 \nQ 594 497 594 1153 \nL 594 3053 \nL 172 3053 \nL 172 3500 \nL 594 3500 \nL 594 4494 \nL 1172 4494 \nz\n\" transform=\"scale(0.015625)\"/>\n       <path id=\"DejaVuSans-68\" d=\"M 3513 2113 \nL 3513 0 \nL 2938 0 \nL 2938 2094 \nQ 2938 2591 2744 2837 \nQ 2550 3084 2163 3084 \nQ 1697 3084 1428 2787 \nQ 1159 2491 1159 1978 \nL 1159 0 \nL 581 0 \nL 581 4863 \nL 1159 4863 \nL 1159 2956 \nQ 1366 3272 1645 3428 \nQ 1925 3584 2291 3584 \nQ 2894 3584 3203 3211 \nQ 3513 2838 3513 2113 \nz\n\" transform=\"scale(0.015625)\"/>\n      </defs>\n      <use xlink:href=\"#DejaVuSans-54\"/>\n      <use xlink:href=\"#DejaVuSans-72\" transform=\"translate(46.333984 0)\"/>\n      <use xlink:href=\"#DejaVuSans-75\" transform=\"translate(87.447266 0)\"/>\n      <use xlink:href=\"#DejaVuSans-74\" transform=\"translate(150.826172 0)\"/>\n      <use xlink:href=\"#DejaVuSans-68\" transform=\"translate(190.035156 0)\"/>\n     </g>\n    </g>\n    <g id=\"line2d_31\">\n     <path d=\"M 175.58125 38.775781 \nL 185.58125 38.775781 \nL 195.58125 38.775781 \n\" style=\"fill: none; stroke-dasharray: 5.55,2.4; stroke-dashoffset: 0; stroke: #bf00bf; stroke-width: 1.5\"/>\n    </g>\n    <g id=\"text_17\">\n     <!-- Pred -->\n     <g transform=\"translate(203.58125 42.275781) scale(0.1 -0.1)\">\n      <defs>\n       <path id=\"DejaVuSans-50\" d=\"M 1259 4147 \nL 1259 2394 \nL 2053 2394 \nQ 2494 2394 2734 2622 \nQ 2975 2850 2975 3272 \nQ 2975 3691 2734 3919 \nQ 2494 4147 2053 4147 \nL 1259 4147 \nz\nM 628 4666 \nL 2053 4666 \nQ 2838 4666 3239 4311 \nQ 3641 3956 3641 3272 \nQ 3641 2581 3239 2228 \nQ 2838 1875 2053 1875 \nL 1259 1875 \nL 1259 0 \nL 628 0 \nL 628 4666 \nz\n\" transform=\"scale(0.015625)\"/>\n       <path id=\"DejaVuSans-65\" d=\"M 3597 1894 \nL 3597 1613 \nL 953 1613 \nQ 991 1019 1311 708 \nQ 1631 397 2203 397 \nQ 2534 397 2845 478 \nQ 3156 559 3463 722 \nL 3463 178 \nQ 3153 47 2828 -22 \nQ 2503 -91 2169 -91 \nQ 1331 -91 842 396 \nQ 353 884 353 1716 \nQ 353 2575 817 3079 \nQ 1281 3584 2069 3584 \nQ 2775 3584 3186 3129 \nQ 3597 2675 3597 1894 \nz\nM 3022 2063 \nQ 3016 2534 2758 2815 \nQ 2500 3097 2075 3097 \nQ 1594 3097 1305 2825 \nQ 1016 2553 972 2059 \nL 3022 2063 \nz\n\" transform=\"scale(0.015625)\"/>\n       <path id=\"DejaVuSans-64\" d=\"M 2906 2969 \nL 2906 4863 \nL 3481 4863 \nL 3481 0 \nL 2906 0 \nL 2906 525 \nQ 2725 213 2448 61 \nQ 2172 -91 1784 -91 \nQ 1150 -91 751 415 \nQ 353 922 353 1747 \nQ 353 2572 751 3078 \nQ 1150 3584 1784 3584 \nQ 2172 3584 2448 3432 \nQ 2725 3281 2906 2969 \nz\nM 947 1747 \nQ 947 1113 1208 752 \nQ 1469 391 1925 391 \nQ 2381 391 2643 752 \nQ 2906 1113 2906 1747 \nQ 2906 2381 2643 2742 \nQ 2381 3103 1925 3103 \nQ 1469 3103 1208 2742 \nQ 947 2381 947 1747 \nz\n\" transform=\"scale(0.015625)\"/>\n      </defs>\n      <use xlink:href=\"#DejaVuSans-50\"/>\n      <use xlink:href=\"#DejaVuSans-72\" transform=\"translate(58.552734 0)\"/>\n      <use xlink:href=\"#DejaVuSans-65\" transform=\"translate(97.416016 0)\"/>\n      <use xlink:href=\"#DejaVuSans-64\" transform=\"translate(158.939453 0)\"/>\n     </g>\n    </g>\n   </g>\n  </g>\n </g>\n <defs>\n  <clipPath id=\"p59161258ef\">\n   <rect x=\"42.620312\" y=\"10.999219\" width=\"195.3\" height=\"138.6\"/>\n  </clipPath>\n </defs>\n</svg>\n"
          },
          "metadata": {}
        }
      ],
      "source": [
        "# keys的形状:(n_test，n_train)，每一行包含着相同的训练输入（例如，相同的键）\n",
        "keys = x_train.repeat((n_test, 1))\n",
        "# value的形状:(n_test，n_train) 每一行包含着相同的训练输入（例如，相同的值）\n",
        "values = y_train.repeat((n_test, 1))\n",
        "y_hat = net(x_test, keys, values).unsqueeze(1).detach()\n",
        "plot_kernel_reg(y_hat)"
      ]
    },
    {
      "cell_type": "markdown",
      "id": "962bf3fe",
      "metadata": {
        "origin_pos": 61,
        "id": "962bf3fe"
      },
      "source": [
        "为什么新的模型更不平滑了呢？\n",
        "下面看一下输出结果的绘制图：\n",
        "与非参数的注意力汇聚模型相比，\n",
        "带参数的模型加入可学习的参数后，\n",
        "[**曲线在注意力权重较大的区域变得更不平滑**]。\n"
      ]
    },
    {
      "cell_type": "code",
      "execution_count": 15,
      "id": "15949408",
      "metadata": {
        "execution": {
          "iopub.execute_input": "2023-08-18T07:07:18.228629Z",
          "iopub.status.busy": "2023-08-18T07:07:18.227958Z",
          "iopub.status.idle": "2023-08-18T07:07:18.391875Z",
          "shell.execute_reply": "2023-08-18T07:07:18.391062Z"
        },
        "origin_pos": 63,
        "tab": [
          "pytorch"
        ],
        "id": "15949408",
        "colab": {
          "base_uri": "https://localhost:8080/",
          "height": 232
        },
        "outputId": "d5c967ef-c9dd-4d21-8bb1-c2adbb6002ea"
      },
      "outputs": [
        {
          "output_type": "display_data",
          "data": {
            "text/plain": [
              "<Figure size 250x250 with 2 Axes>"
            ],
            "image/svg+xml": "<?xml version=\"1.0\" encoding=\"utf-8\" standalone=\"no\"?>\n<!DOCTYPE svg PUBLIC \"-//W3C//DTD SVG 1.1//EN\"\n  \"http://www.w3.org/Graphics/SVG/1.1/DTD/svg11.dtd\">\n<svg xmlns:xlink=\"http://www.w3.org/1999/xlink\" width=\"199.80175pt\" height=\"159.039469pt\" viewBox=\"0 0 199.80175 159.039469\" xmlns=\"http://www.w3.org/2000/svg\" version=\"1.1\">\n <metadata>\n  <rdf:RDF xmlns:dc=\"http://purl.org/dc/elements/1.1/\" xmlns:cc=\"http://creativecommons.org/ns#\" xmlns:rdf=\"http://www.w3.org/1999/02/22-rdf-syntax-ns#\">\n   <cc:Work>\n    <dc:type rdf:resource=\"http://purl.org/dc/dcmitype/StillImage\"/>\n    <dc:date>2025-09-27T02:22:51.748868</dc:date>\n    <dc:format>image/svg+xml</dc:format>\n    <dc:creator>\n     <cc:Agent>\n      <dc:title>Matplotlib v3.10.0, https://matplotlib.org/</dc:title>\n     </cc:Agent>\n    </dc:creator>\n   </cc:Work>\n  </rdf:RDF>\n </metadata>\n <defs>\n  <style type=\"text/css\">*{stroke-linejoin: round; stroke-linecap: butt}</style>\n </defs>\n <g id=\"figure_1\">\n  <g id=\"patch_1\">\n   <path d=\"M 0 159.039469 \nL 199.80175 159.039469 \nL 199.80175 0 \nL 0 0 \nz\n\" style=\"fill: #ffffff\"/>\n  </g>\n  <g id=\"axes_1\">\n   <g id=\"patch_2\">\n    <path d=\"M 40.603125 121.483219 \nL 152.203125 121.483219 \nL 152.203125 9.883219 \nL 40.603125 9.883219 \nz\n\" style=\"fill: #ffffff\"/>\n   </g>\n   <g clip-path=\"url(#p25ff7b6949)\">\n    <image xlink:href=\"data:image/png;base64,\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\" id=\"imagea3391bcf2b\" transform=\"scale(1 -1) translate(0 -111.6)\" x=\"40.603125\" y=\"-9.883219\" width=\"111.6\" height=\"111.6\"/>\n   </g>\n   <g id=\"matplotlib.axis_1\">\n    <g id=\"xtick_1\">\n     <g id=\"line2d_1\">\n      <defs>\n       <path id=\"m2a1046afa2\" d=\"M 0 0 \nL 0 3.5 \n\" style=\"stroke: #000000; stroke-width: 0.8\"/>\n      </defs>\n      <g>\n       <use xlink:href=\"#m2a1046afa2\" x=\"41.719125\" y=\"121.483219\" style=\"stroke: #000000; stroke-width: 0.8\"/>\n      </g>\n     </g>\n     <g id=\"text_1\">\n      <!-- 0 -->\n      <g transform=\"translate(38.537875 136.081656) scale(0.1 -0.1)\">\n       <defs>\n        <path id=\"DejaVuSans-30\" d=\"M 2034 4250 \nQ 1547 4250 1301 3770 \nQ 1056 3291 1056 2328 \nQ 1056 1369 1301 889 \nQ 1547 409 2034 409 \nQ 2525 409 2770 889 \nQ 3016 1369 3016 2328 \nQ 3016 3291 2770 3770 \nQ 2525 4250 2034 4250 \nz\nM 2034 4750 \nQ 2819 4750 3233 4129 \nQ 3647 3509 3647 2328 \nQ 3647 1150 3233 529 \nQ 2819 -91 2034 -91 \nQ 1250 -91 836 529 \nQ 422 1150 422 2328 \nQ 422 3509 836 4129 \nQ 1250 4750 2034 4750 \nz\n\" transform=\"scale(0.015625)\"/>\n       </defs>\n       <use xlink:href=\"#DejaVuSans-30\"/>\n      </g>\n     </g>\n    </g>\n    <g id=\"xtick_2\">\n     <g id=\"line2d_2\">\n      <g>\n       <use xlink:href=\"#m2a1046afa2\" x=\"86.359125\" y=\"121.483219\" style=\"stroke: #000000; stroke-width: 0.8\"/>\n      </g>\n     </g>\n     <g id=\"text_2\">\n      <!-- 20 -->\n      <g transform=\"translate(79.996625 136.081656) scale(0.1 -0.1)\">\n       <defs>\n        <path id=\"DejaVuSans-32\" d=\"M 1228 531 \nL 3431 531 \nL 3431 0 \nL 469 0 \nL 469 531 \nQ 828 903 1448 1529 \nQ 2069 2156 2228 2338 \nQ 2531 2678 2651 2914 \nQ 2772 3150 2772 3378 \nQ 2772 3750 2511 3984 \nQ 2250 4219 1831 4219 \nQ 1534 4219 1204 4116 \nQ 875 4013 500 3803 \nL 500 4441 \nQ 881 4594 1212 4672 \nQ 1544 4750 1819 4750 \nQ 2544 4750 2975 4387 \nQ 3406 4025 3406 3419 \nQ 3406 3131 3298 2873 \nQ 3191 2616 2906 2266 \nQ 2828 2175 2409 1742 \nQ 1991 1309 1228 531 \nz\n\" transform=\"scale(0.015625)\"/>\n       </defs>\n       <use xlink:href=\"#DejaVuSans-32\"/>\n       <use xlink:href=\"#DejaVuSans-30\" transform=\"translate(63.623047 0)\"/>\n      </g>\n     </g>\n    </g>\n    <g id=\"xtick_3\">\n     <g id=\"line2d_3\">\n      <g>\n       <use xlink:href=\"#m2a1046afa2\" x=\"130.999125\" y=\"121.483219\" style=\"stroke: #000000; stroke-width: 0.8\"/>\n      </g>\n     </g>\n     <g id=\"text_3\">\n      <!-- 40 -->\n      <g transform=\"translate(124.636625 136.081656) scale(0.1 -0.1)\">\n       <defs>\n        <path id=\"DejaVuSans-34\" d=\"M 2419 4116 \nL 825 1625 \nL 2419 1625 \nL 2419 4116 \nz\nM 2253 4666 \nL 3047 4666 \nL 3047 1625 \nL 3713 1625 \nL 3713 1100 \nL 3047 1100 \nL 3047 0 \nL 2419 0 \nL 2419 1100 \nL 313 1100 \nL 313 1709 \nL 2253 4666 \nz\n\" transform=\"scale(0.015625)\"/>\n       </defs>\n       <use xlink:href=\"#DejaVuSans-34\"/>\n       <use xlink:href=\"#DejaVuSans-30\" transform=\"translate(63.623047 0)\"/>\n      </g>\n     </g>\n    </g>\n    <g id=\"text_4\">\n     <!-- Sorted training inputs -->\n     <g transform=\"translate(41.889844 149.759781) scale(0.1 -0.1)\">\n      <defs>\n       <path id=\"DejaVuSans-53\" d=\"M 3425 4513 \nL 3425 3897 \nQ 3066 4069 2747 4153 \nQ 2428 4238 2131 4238 \nQ 1616 4238 1336 4038 \nQ 1056 3838 1056 3469 \nQ 1056 3159 1242 3001 \nQ 1428 2844 1947 2747 \nL 2328 2669 \nQ 3034 2534 3370 2195 \nQ 3706 1856 3706 1288 \nQ 3706 609 3251 259 \nQ 2797 -91 1919 -91 \nQ 1588 -91 1214 -16 \nQ 841 59 441 206 \nL 441 856 \nQ 825 641 1194 531 \nQ 1563 422 1919 422 \nQ 2459 422 2753 634 \nQ 3047 847 3047 1241 \nQ 3047 1584 2836 1778 \nQ 2625 1972 2144 2069 \nL 1759 2144 \nQ 1053 2284 737 2584 \nQ 422 2884 422 3419 \nQ 422 4038 858 4394 \nQ 1294 4750 2059 4750 \nQ 2388 4750 2728 4690 \nQ 3069 4631 3425 4513 \nz\n\" transform=\"scale(0.015625)\"/>\n       <path id=\"DejaVuSans-6f\" d=\"M 1959 3097 \nQ 1497 3097 1228 2736 \nQ 959 2375 959 1747 \nQ 959 1119 1226 758 \nQ 1494 397 1959 397 \nQ 2419 397 2687 759 \nQ 2956 1122 2956 1747 \nQ 2956 2369 2687 2733 \nQ 2419 3097 1959 3097 \nz\nM 1959 3584 \nQ 2709 3584 3137 3096 \nQ 3566 2609 3566 1747 \nQ 3566 888 3137 398 \nQ 2709 -91 1959 -91 \nQ 1206 -91 779 398 \nQ 353 888 353 1747 \nQ 353 2609 779 3096 \nQ 1206 3584 1959 3584 \nz\n\" transform=\"scale(0.015625)\"/>\n       <path id=\"DejaVuSans-72\" d=\"M 2631 2963 \nQ 2534 3019 2420 3045 \nQ 2306 3072 2169 3072 \nQ 1681 3072 1420 2755 \nQ 1159 2438 1159 1844 \nL 1159 0 \nL 581 0 \nL 581 3500 \nL 1159 3500 \nL 1159 2956 \nQ 1341 3275 1631 3429 \nQ 1922 3584 2338 3584 \nQ 2397 3584 2469 3576 \nQ 2541 3569 2628 3553 \nL 2631 2963 \nz\n\" transform=\"scale(0.015625)\"/>\n       <path id=\"DejaVuSans-74\" d=\"M 1172 4494 \nL 1172 3500 \nL 2356 3500 \nL 2356 3053 \nL 1172 3053 \nL 1172 1153 \nQ 1172 725 1289 603 \nQ 1406 481 1766 481 \nL 2356 481 \nL 2356 0 \nL 1766 0 \nQ 1100 0 847 248 \nQ 594 497 594 1153 \nL 594 3053 \nL 172 3053 \nL 172 3500 \nL 594 3500 \nL 594 4494 \nL 1172 4494 \nz\n\" transform=\"scale(0.015625)\"/>\n       <path id=\"DejaVuSans-65\" d=\"M 3597 1894 \nL 3597 1613 \nL 953 1613 \nQ 991 1019 1311 708 \nQ 1631 397 2203 397 \nQ 2534 397 2845 478 \nQ 3156 559 3463 722 \nL 3463 178 \nQ 3153 47 2828 -22 \nQ 2503 -91 2169 -91 \nQ 1331 -91 842 396 \nQ 353 884 353 1716 \nQ 353 2575 817 3079 \nQ 1281 3584 2069 3584 \nQ 2775 3584 3186 3129 \nQ 3597 2675 3597 1894 \nz\nM 3022 2063 \nQ 3016 2534 2758 2815 \nQ 2500 3097 2075 3097 \nQ 1594 3097 1305 2825 \nQ 1016 2553 972 2059 \nL 3022 2063 \nz\n\" transform=\"scale(0.015625)\"/>\n       <path id=\"DejaVuSans-64\" d=\"M 2906 2969 \nL 2906 4863 \nL 3481 4863 \nL 3481 0 \nL 2906 0 \nL 2906 525 \nQ 2725 213 2448 61 \nQ 2172 -91 1784 -91 \nQ 1150 -91 751 415 \nQ 353 922 353 1747 \nQ 353 2572 751 3078 \nQ 1150 3584 1784 3584 \nQ 2172 3584 2448 3432 \nQ 2725 3281 2906 2969 \nz\nM 947 1747 \nQ 947 1113 1208 752 \nQ 1469 391 1925 391 \nQ 2381 391 2643 752 \nQ 2906 1113 2906 1747 \nQ 2906 2381 2643 2742 \nQ 2381 3103 1925 3103 \nQ 1469 3103 1208 2742 \nQ 947 2381 947 1747 \nz\n\" transform=\"scale(0.015625)\"/>\n       <path id=\"DejaVuSans-20\" transform=\"scale(0.015625)\"/>\n       <path id=\"DejaVuSans-61\" d=\"M 2194 1759 \nQ 1497 1759 1228 1600 \nQ 959 1441 959 1056 \nQ 959 750 1161 570 \nQ 1363 391 1709 391 \nQ 2188 391 2477 730 \nQ 2766 1069 2766 1631 \nL 2766 1759 \nL 2194 1759 \nz\nM 3341 1997 \nL 3341 0 \nL 2766 0 \nL 2766 531 \nQ 2569 213 2275 61 \nQ 1981 -91 1556 -91 \nQ 1019 -91 701 211 \nQ 384 513 384 1019 \nQ 384 1609 779 1909 \nQ 1175 2209 1959 2209 \nL 2766 2209 \nL 2766 2266 \nQ 2766 2663 2505 2880 \nQ 2244 3097 1772 3097 \nQ 1472 3097 1187 3025 \nQ 903 2953 641 2809 \nL 641 3341 \nQ 956 3463 1253 3523 \nQ 1550 3584 1831 3584 \nQ 2591 3584 2966 3190 \nQ 3341 2797 3341 1997 \nz\n\" transform=\"scale(0.015625)\"/>\n       <path id=\"DejaVuSans-69\" d=\"M 603 3500 \nL 1178 3500 \nL 1178 0 \nL 603 0 \nL 603 3500 \nz\nM 603 4863 \nL 1178 4863 \nL 1178 4134 \nL 603 4134 \nL 603 4863 \nz\n\" transform=\"scale(0.015625)\"/>\n       <path id=\"DejaVuSans-6e\" d=\"M 3513 2113 \nL 3513 0 \nL 2938 0 \nL 2938 2094 \nQ 2938 2591 2744 2837 \nQ 2550 3084 2163 3084 \nQ 1697 3084 1428 2787 \nQ 1159 2491 1159 1978 \nL 1159 0 \nL 581 0 \nL 581 3500 \nL 1159 3500 \nL 1159 2956 \nQ 1366 3272 1645 3428 \nQ 1925 3584 2291 3584 \nQ 2894 3584 3203 3211 \nQ 3513 2838 3513 2113 \nz\n\" transform=\"scale(0.015625)\"/>\n       <path id=\"DejaVuSans-67\" d=\"M 2906 1791 \nQ 2906 2416 2648 2759 \nQ 2391 3103 1925 3103 \nQ 1463 3103 1205 2759 \nQ 947 2416 947 1791 \nQ 947 1169 1205 825 \nQ 1463 481 1925 481 \nQ 2391 481 2648 825 \nQ 2906 1169 2906 1791 \nz\nM 3481 434 \nQ 3481 -459 3084 -895 \nQ 2688 -1331 1869 -1331 \nQ 1566 -1331 1297 -1286 \nQ 1028 -1241 775 -1147 \nL 775 -588 \nQ 1028 -725 1275 -790 \nQ 1522 -856 1778 -856 \nQ 2344 -856 2625 -561 \nQ 2906 -266 2906 331 \nL 2906 616 \nQ 2728 306 2450 153 \nQ 2172 0 1784 0 \nQ 1141 0 747 490 \nQ 353 981 353 1791 \nQ 353 2603 747 3093 \nQ 1141 3584 1784 3584 \nQ 2172 3584 2450 3431 \nQ 2728 3278 2906 2969 \nL 2906 3500 \nL 3481 3500 \nL 3481 434 \nz\n\" transform=\"scale(0.015625)\"/>\n       <path id=\"DejaVuSans-70\" d=\"M 1159 525 \nL 1159 -1331 \nL 581 -1331 \nL 581 3500 \nL 1159 3500 \nL 1159 2969 \nQ 1341 3281 1617 3432 \nQ 1894 3584 2278 3584 \nQ 2916 3584 3314 3078 \nQ 3713 2572 3713 1747 \nQ 3713 922 3314 415 \nQ 2916 -91 2278 -91 \nQ 1894 -91 1617 61 \nQ 1341 213 1159 525 \nz\nM 3116 1747 \nQ 3116 2381 2855 2742 \nQ 2594 3103 2138 3103 \nQ 1681 3103 1420 2742 \nQ 1159 2381 1159 1747 \nQ 1159 1113 1420 752 \nQ 1681 391 2138 391 \nQ 2594 391 2855 752 \nQ 3116 1113 3116 1747 \nz\n\" transform=\"scale(0.015625)\"/>\n       <path id=\"DejaVuSans-75\" d=\"M 544 1381 \nL 544 3500 \nL 1119 3500 \nL 1119 1403 \nQ 1119 906 1312 657 \nQ 1506 409 1894 409 \nQ 2359 409 2629 706 \nQ 2900 1003 2900 1516 \nL 2900 3500 \nL 3475 3500 \nL 3475 0 \nL 2900 0 \nL 2900 538 \nQ 2691 219 2414 64 \nQ 2138 -91 1772 -91 \nQ 1169 -91 856 284 \nQ 544 659 544 1381 \nz\nM 1991 3584 \nL 1991 3584 \nz\n\" transform=\"scale(0.015625)\"/>\n       <path id=\"DejaVuSans-73\" d=\"M 2834 3397 \nL 2834 2853 \nQ 2591 2978 2328 3040 \nQ 2066 3103 1784 3103 \nQ 1356 3103 1142 2972 \nQ 928 2841 928 2578 \nQ 928 2378 1081 2264 \nQ 1234 2150 1697 2047 \nL 1894 2003 \nQ 2506 1872 2764 1633 \nQ 3022 1394 3022 966 \nQ 3022 478 2636 193 \nQ 2250 -91 1575 -91 \nQ 1294 -91 989 -36 \nQ 684 19 347 128 \nL 347 722 \nQ 666 556 975 473 \nQ 1284 391 1588 391 \nQ 1994 391 2212 530 \nQ 2431 669 2431 922 \nQ 2431 1156 2273 1281 \nQ 2116 1406 1581 1522 \nL 1381 1569 \nQ 847 1681 609 1914 \nQ 372 2147 372 2553 \nQ 372 3047 722 3315 \nQ 1072 3584 1716 3584 \nQ 2034 3584 2315 3537 \nQ 2597 3491 2834 3397 \nz\n\" transform=\"scale(0.015625)\"/>\n      </defs>\n      <use xlink:href=\"#DejaVuSans-53\"/>\n      <use xlink:href=\"#DejaVuSans-6f\" transform=\"translate(63.476562 0)\"/>\n      <use xlink:href=\"#DejaVuSans-72\" transform=\"translate(124.658203 0)\"/>\n      <use xlink:href=\"#DejaVuSans-74\" transform=\"translate(165.771484 0)\"/>\n      <use xlink:href=\"#DejaVuSans-65\" transform=\"translate(204.980469 0)\"/>\n      <use xlink:href=\"#DejaVuSans-64\" transform=\"translate(266.503906 0)\"/>\n      <use xlink:href=\"#DejaVuSans-20\" transform=\"translate(329.980469 0)\"/>\n      <use xlink:href=\"#DejaVuSans-74\" transform=\"translate(361.767578 0)\"/>\n      <use xlink:href=\"#DejaVuSans-72\" transform=\"translate(400.976562 0)\"/>\n      <use xlink:href=\"#DejaVuSans-61\" transform=\"translate(442.089844 0)\"/>\n      <use xlink:href=\"#DejaVuSans-69\" transform=\"translate(503.369141 0)\"/>\n      <use xlink:href=\"#DejaVuSans-6e\" transform=\"translate(531.152344 0)\"/>\n      <use xlink:href=\"#DejaVuSans-69\" transform=\"translate(594.53125 0)\"/>\n      <use xlink:href=\"#DejaVuSans-6e\" transform=\"translate(622.314453 0)\"/>\n      <use xlink:href=\"#DejaVuSans-67\" transform=\"translate(685.693359 0)\"/>\n      <use xlink:href=\"#DejaVuSans-20\" transform=\"translate(749.169922 0)\"/>\n      <use xlink:href=\"#DejaVuSans-69\" transform=\"translate(780.957031 0)\"/>\n      <use xlink:href=\"#DejaVuSans-6e\" transform=\"translate(808.740234 0)\"/>\n      <use xlink:href=\"#DejaVuSans-70\" transform=\"translate(872.119141 0)\"/>\n      <use xlink:href=\"#DejaVuSans-75\" transform=\"translate(935.595703 0)\"/>\n      <use xlink:href=\"#DejaVuSans-74\" transform=\"translate(998.974609 0)\"/>\n      <use xlink:href=\"#DejaVuSans-73\" transform=\"translate(1038.183594 0)\"/>\n     </g>\n    </g>\n   </g>\n   <g id=\"matplotlib.axis_2\">\n    <g id=\"ytick_1\">\n     <g id=\"line2d_4\">\n      <defs>\n       <path id=\"m91476b3f19\" d=\"M 0 0 \nL -3.5 0 \n\" style=\"stroke: #000000; stroke-width: 0.8\"/>\n      </defs>\n      <g>\n       <use xlink:href=\"#m91476b3f19\" x=\"40.603125\" y=\"10.999219\" style=\"stroke: #000000; stroke-width: 0.8\"/>\n      </g>\n     </g>\n     <g id=\"text_5\">\n      <!-- 0 -->\n      <g transform=\"translate(27.240625 14.798438) scale(0.1 -0.1)\">\n       <use xlink:href=\"#DejaVuSans-30\"/>\n      </g>\n     </g>\n    </g>\n    <g id=\"ytick_2\">\n     <g id=\"line2d_5\">\n      <g>\n       <use xlink:href=\"#m91476b3f19\" x=\"40.603125\" y=\"33.319219\" style=\"stroke: #000000; stroke-width: 0.8\"/>\n      </g>\n     </g>\n     <g id=\"text_6\">\n      <!-- 10 -->\n      <g transform=\"translate(20.878125 37.118438) scale(0.1 -0.1)\">\n       <defs>\n        <path id=\"DejaVuSans-31\" d=\"M 794 531 \nL 1825 531 \nL 1825 4091 \nL 703 3866 \nL 703 4441 \nL 1819 4666 \nL 2450 4666 \nL 2450 531 \nL 3481 531 \nL 3481 0 \nL 794 0 \nL 794 531 \nz\n\" transform=\"scale(0.015625)\"/>\n       </defs>\n       <use xlink:href=\"#DejaVuSans-31\"/>\n       <use xlink:href=\"#DejaVuSans-30\" transform=\"translate(63.623047 0)\"/>\n      </g>\n     </g>\n    </g>\n    <g id=\"ytick_3\">\n     <g id=\"line2d_6\">\n      <g>\n       <use xlink:href=\"#m91476b3f19\" x=\"40.603125\" y=\"55.639219\" style=\"stroke: #000000; stroke-width: 0.8\"/>\n      </g>\n     </g>\n     <g id=\"text_7\">\n      <!-- 20 -->\n      <g transform=\"translate(20.878125 59.438438) scale(0.1 -0.1)\">\n       <use xlink:href=\"#DejaVuSans-32\"/>\n       <use xlink:href=\"#DejaVuSans-30\" transform=\"translate(63.623047 0)\"/>\n      </g>\n     </g>\n    </g>\n    <g id=\"ytick_4\">\n     <g id=\"line2d_7\">\n      <g>\n       <use xlink:href=\"#m91476b3f19\" x=\"40.603125\" y=\"77.959219\" style=\"stroke: #000000; stroke-width: 0.8\"/>\n      </g>\n     </g>\n     <g id=\"text_8\">\n      <!-- 30 -->\n      <g transform=\"translate(20.878125 81.758438) scale(0.1 -0.1)\">\n       <defs>\n        <path id=\"DejaVuSans-33\" d=\"M 2597 2516 \nQ 3050 2419 3304 2112 \nQ 3559 1806 3559 1356 \nQ 3559 666 3084 287 \nQ 2609 -91 1734 -91 \nQ 1441 -91 1130 -33 \nQ 819 25 488 141 \nL 488 750 \nQ 750 597 1062 519 \nQ 1375 441 1716 441 \nQ 2309 441 2620 675 \nQ 2931 909 2931 1356 \nQ 2931 1769 2642 2001 \nQ 2353 2234 1838 2234 \nL 1294 2234 \nL 1294 2753 \nL 1863 2753 \nQ 2328 2753 2575 2939 \nQ 2822 3125 2822 3475 \nQ 2822 3834 2567 4026 \nQ 2313 4219 1838 4219 \nQ 1578 4219 1281 4162 \nQ 984 4106 628 3988 \nL 628 4550 \nQ 988 4650 1302 4700 \nQ 1616 4750 1894 4750 \nQ 2613 4750 3031 4423 \nQ 3450 4097 3450 3541 \nQ 3450 3153 3228 2886 \nQ 3006 2619 2597 2516 \nz\n\" transform=\"scale(0.015625)\"/>\n       </defs>\n       <use xlink:href=\"#DejaVuSans-33\"/>\n       <use xlink:href=\"#DejaVuSans-30\" transform=\"translate(63.623047 0)\"/>\n      </g>\n     </g>\n    </g>\n    <g id=\"ytick_5\">\n     <g id=\"line2d_8\">\n      <g>\n       <use xlink:href=\"#m91476b3f19\" x=\"40.603125\" y=\"100.279219\" style=\"stroke: #000000; stroke-width: 0.8\"/>\n      </g>\n     </g>\n     <g id=\"text_9\">\n      <!-- 40 -->\n      <g transform=\"translate(20.878125 104.078438) scale(0.1 -0.1)\">\n       <use xlink:href=\"#DejaVuSans-34\"/>\n       <use xlink:href=\"#DejaVuSans-30\" transform=\"translate(63.623047 0)\"/>\n      </g>\n     </g>\n    </g>\n    <g id=\"text_10\">\n     <!-- Sorted testing inputs -->\n     <g transform=\"translate(14.798438 118.160563) rotate(-90) scale(0.1 -0.1)\">\n      <use xlink:href=\"#DejaVuSans-53\"/>\n      <use xlink:href=\"#DejaVuSans-6f\" transform=\"translate(63.476562 0)\"/>\n      <use xlink:href=\"#DejaVuSans-72\" transform=\"translate(124.658203 0)\"/>\n      <use xlink:href=\"#DejaVuSans-74\" transform=\"translate(165.771484 0)\"/>\n      <use xlink:href=\"#DejaVuSans-65\" transform=\"translate(204.980469 0)\"/>\n      <use xlink:href=\"#DejaVuSans-64\" transform=\"translate(266.503906 0)\"/>\n      <use xlink:href=\"#DejaVuSans-20\" transform=\"translate(329.980469 0)\"/>\n      <use xlink:href=\"#DejaVuSans-74\" transform=\"translate(361.767578 0)\"/>\n      <use xlink:href=\"#DejaVuSans-65\" transform=\"translate(400.976562 0)\"/>\n      <use xlink:href=\"#DejaVuSans-73\" transform=\"translate(462.5 0)\"/>\n      <use xlink:href=\"#DejaVuSans-74\" transform=\"translate(514.599609 0)\"/>\n      <use xlink:href=\"#DejaVuSans-69\" transform=\"translate(553.808594 0)\"/>\n      <use xlink:href=\"#DejaVuSans-6e\" transform=\"translate(581.591797 0)\"/>\n      <use xlink:href=\"#DejaVuSans-67\" transform=\"translate(644.970703 0)\"/>\n      <use xlink:href=\"#DejaVuSans-20\" transform=\"translate(708.447266 0)\"/>\n      <use xlink:href=\"#DejaVuSans-69\" transform=\"translate(740.234375 0)\"/>\n      <use xlink:href=\"#DejaVuSans-6e\" transform=\"translate(768.017578 0)\"/>\n      <use xlink:href=\"#DejaVuSans-70\" transform=\"translate(831.396484 0)\"/>\n      <use xlink:href=\"#DejaVuSans-75\" transform=\"translate(894.873047 0)\"/>\n      <use xlink:href=\"#DejaVuSans-74\" transform=\"translate(958.251953 0)\"/>\n      <use xlink:href=\"#DejaVuSans-73\" transform=\"translate(997.460938 0)\"/>\n     </g>\n    </g>\n   </g>\n   <g id=\"patch_3\">\n    <path d=\"M 40.603125 121.483219 \nL 40.603125 9.883219 \n\" style=\"fill: none; stroke: #000000; stroke-width: 0.8; stroke-linejoin: miter; stroke-linecap: square\"/>\n   </g>\n   <g id=\"patch_4\">\n    <path d=\"M 152.203125 121.483219 \nL 152.203125 9.883219 \n\" style=\"fill: none; stroke: #000000; stroke-width: 0.8; stroke-linejoin: miter; stroke-linecap: square\"/>\n   </g>\n   <g id=\"patch_5\">\n    <path d=\"M 40.603125 121.483219 \nL 152.203125 121.483219 \n\" style=\"fill: none; stroke: #000000; stroke-width: 0.8; stroke-linejoin: miter; stroke-linecap: square\"/>\n   </g>\n   <g id=\"patch_6\">\n    <path d=\"M 40.603125 9.883219 \nL 152.203125 9.883219 \n\" style=\"fill: none; stroke: #000000; stroke-width: 0.8; stroke-linejoin: miter; stroke-linecap: square\"/>\n   </g>\n  </g>\n  <g id=\"axes_2\">\n   <g id=\"patch_7\">\n    <path d=\"M 159.178125 107.263219 \nL 163.336125 107.263219 \nL 163.336125 24.103219 \nL 159.178125 24.103219 \nz\n\" style=\"fill: #ffffff\"/>\n   </g>\n   <image xlink:href=\"data:image/png;base64,\niVBORw0KGgoAAAANSUhEUgAAAAYAAABzCAYAAAC7I3M6AAAAv0lEQVR4nNWVQQrDQAwDXfD/v9pLT1l71Q/sBBQMpTmukMbWhuSlz1txeDK0T+d3wrYFmyFm9BTjZsFjVY/g6GgSyKFaLsOHt82gKPlT+QvaJUbVWNS/waldjqKXGh24oB9lO/RL+AOBGGoSFjLsqDm4mj6W/lSFDDcK4ZvGbXTQ36BJQAa0Hlk2nAWCF081xsBKWiQcjyNykwM6jCx0nM8jO2wH74GbQ5S/IMIXMbASnAodFwllR/mOy76Puam+t3oOUronbv0AAAAASUVORK5CYII=\" id=\"imageafb0dd22db\" transform=\"scale(1 -1) translate(0 -82.8)\" x=\"159.12\" y=\"-23.76\" width=\"4.32\" height=\"82.8\"/>\n   <g id=\"matplotlib.axis_3\"/>\n   <g id=\"matplotlib.axis_4\">\n    <g id=\"ytick_6\">\n     <g id=\"line2d_9\">\n      <defs>\n       <path id=\"mf43ed0cc45\" d=\"M 0 0 \nL 3.5 0 \n\" style=\"stroke: #000000; stroke-width: 0.8\"/>\n      </defs>\n      <g>\n       <use xlink:href=\"#mf43ed0cc45\" x=\"163.336125\" y=\"107.263219\" style=\"stroke: #000000; stroke-width: 0.8\"/>\n      </g>\n     </g>\n     <g id=\"text_11\">\n      <!-- 0.00 -->\n      <g transform=\"translate(170.336125 111.062437) scale(0.1 -0.1)\">\n       <defs>\n        <path id=\"DejaVuSans-2e\" d=\"M 684 794 \nL 1344 794 \nL 1344 0 \nL 684 0 \nL 684 794 \nz\n\" transform=\"scale(0.015625)\"/>\n       </defs>\n       <use xlink:href=\"#DejaVuSans-30\"/>\n       <use xlink:href=\"#DejaVuSans-2e\" transform=\"translate(63.623047 0)\"/>\n       <use xlink:href=\"#DejaVuSans-30\" transform=\"translate(95.410156 0)\"/>\n       <use xlink:href=\"#DejaVuSans-30\" transform=\"translate(159.033203 0)\"/>\n      </g>\n     </g>\n    </g>\n    <g id=\"ytick_7\">\n     <g id=\"line2d_10\">\n      <g>\n       <use xlink:href=\"#mf43ed0cc45\" x=\"163.336125\" y=\"86.472582\" style=\"stroke: #000000; stroke-width: 0.8\"/>\n      </g>\n     </g>\n     <g id=\"text_12\">\n      <!-- 0.25 -->\n      <g transform=\"translate(170.336125 90.271801) scale(0.1 -0.1)\">\n       <defs>\n        <path id=\"DejaVuSans-35\" d=\"M 691 4666 \nL 3169 4666 \nL 3169 4134 \nL 1269 4134 \nL 1269 2991 \nQ 1406 3038 1543 3061 \nQ 1681 3084 1819 3084 \nQ 2600 3084 3056 2656 \nQ 3513 2228 3513 1497 \nQ 3513 744 3044 326 \nQ 2575 -91 1722 -91 \nQ 1428 -91 1123 -41 \nQ 819 9 494 109 \nL 494 744 \nQ 775 591 1075 516 \nQ 1375 441 1709 441 \nQ 2250 441 2565 725 \nQ 2881 1009 2881 1497 \nQ 2881 1984 2565 2268 \nQ 2250 2553 1709 2553 \nQ 1456 2553 1204 2497 \nQ 953 2441 691 2322 \nL 691 4666 \nz\n\" transform=\"scale(0.015625)\"/>\n       </defs>\n       <use xlink:href=\"#DejaVuSans-30\"/>\n       <use xlink:href=\"#DejaVuSans-2e\" transform=\"translate(63.623047 0)\"/>\n       <use xlink:href=\"#DejaVuSans-32\" transform=\"translate(95.410156 0)\"/>\n       <use xlink:href=\"#DejaVuSans-35\" transform=\"translate(159.033203 0)\"/>\n      </g>\n     </g>\n    </g>\n    <g id=\"ytick_8\">\n     <g id=\"line2d_11\">\n      <g>\n       <use xlink:href=\"#mf43ed0cc45\" x=\"163.336125\" y=\"65.681945\" style=\"stroke: #000000; stroke-width: 0.8\"/>\n      </g>\n     </g>\n     <g id=\"text_13\">\n      <!-- 0.50 -->\n      <g transform=\"translate(170.336125 69.481164) scale(0.1 -0.1)\">\n       <use xlink:href=\"#DejaVuSans-30\"/>\n       <use xlink:href=\"#DejaVuSans-2e\" transform=\"translate(63.623047 0)\"/>\n       <use xlink:href=\"#DejaVuSans-35\" transform=\"translate(95.410156 0)\"/>\n       <use xlink:href=\"#DejaVuSans-30\" transform=\"translate(159.033203 0)\"/>\n      </g>\n     </g>\n    </g>\n    <g id=\"ytick_9\">\n     <g id=\"line2d_12\">\n      <g>\n       <use xlink:href=\"#mf43ed0cc45\" x=\"163.336125\" y=\"44.891308\" style=\"stroke: #000000; stroke-width: 0.8\"/>\n      </g>\n     </g>\n     <g id=\"text_14\">\n      <!-- 0.75 -->\n      <g transform=\"translate(170.336125 48.690527) scale(0.1 -0.1)\">\n       <defs>\n        <path id=\"DejaVuSans-37\" d=\"M 525 4666 \nL 3525 4666 \nL 3525 4397 \nL 1831 0 \nL 1172 0 \nL 2766 4134 \nL 525 4134 \nL 525 4666 \nz\n\" transform=\"scale(0.015625)\"/>\n       </defs>\n       <use xlink:href=\"#DejaVuSans-30\"/>\n       <use xlink:href=\"#DejaVuSans-2e\" transform=\"translate(63.623047 0)\"/>\n       <use xlink:href=\"#DejaVuSans-37\" transform=\"translate(95.410156 0)\"/>\n       <use xlink:href=\"#DejaVuSans-35\" transform=\"translate(159.033203 0)\"/>\n      </g>\n     </g>\n    </g>\n   </g>\n   <g id=\"LineCollection_1\"/>\n   <g id=\"patch_8\">\n    <path d=\"M 159.178125 107.263219 \nL 161.257125 107.263219 \nL 163.336125 107.263219 \nL 163.336125 24.103219 \nL 161.257125 24.103219 \nL 159.178125 24.103219 \nL 159.178125 107.263219 \nz\n\" style=\"fill: none; stroke: #000000; stroke-width: 0.8; stroke-linejoin: miter; stroke-linecap: square\"/>\n   </g>\n  </g>\n </g>\n <defs>\n  <clipPath id=\"p25ff7b6949\">\n   <rect x=\"40.603125\" y=\"9.883219\" width=\"111.6\" height=\"111.6\"/>\n  </clipPath>\n </defs>\n</svg>\n"
          },
          "metadata": {}
        }
      ],
      "source": [
        "d2l.show_heatmaps(net.attention_weights.unsqueeze(0).unsqueeze(0),\n",
        "                  xlabel='Sorted training inputs',\n",
        "                  ylabel='Sorted testing inputs')"
      ]
    },
    {
      "cell_type": "markdown",
      "id": "0e4f7d57",
      "metadata": {
        "origin_pos": 66,
        "id": "0e4f7d57"
      },
      "source": [
        "## 小结\n",
        "\n",
        "* Nadaraya-Watson核回归是具有注意力机制的机器学习范例。\n",
        "* Nadaraya-Watson核回归的注意力汇聚是对训练数据中输出的加权平均。从注意力的角度来看，分配给每个值的注意力权重取决于将值所对应的键和查询作为输入的函数。\n",
        "* 注意力汇聚可以分为非参数型和带参数型。\n",
        "\n",
        "## 练习\n",
        "\n",
        "1. 增加训练数据的样本数量，能否得到更好的非参数的Nadaraya-Watson核回归模型？\n",
        "1. 在带参数的注意力汇聚的实验中学习得到的参数$w$的价值是什么？为什么在可视化注意力权重时，它会使加权区域更加尖锐？\n",
        "1. 如何将超参数添加到非参数的Nadaraya-Watson核回归中以实现更好地预测结果？\n",
        "1. 为本节的核回归设计一个新的带参数的注意力汇聚模型。训练这个新模型并可视化其注意力权重。\n"
      ]
    },
    {
      "cell_type": "markdown",
      "id": "72ded07b",
      "metadata": {
        "origin_pos": 68,
        "tab": [
          "pytorch"
        ],
        "id": "72ded07b"
      },
      "source": [
        "[Discussions](https://discuss.d2l.ai/t/5760)\n"
      ]
    },
    {
      "cell_type": "code",
      "source": [
        "import torch\n",
        "import torch.nn as nn\n",
        "\n",
        "class NWKernelRegression(nn.Module):\n",
        "    def __init__(self, **kwargs):\n",
        "        super().__init__(**kwargs)\n",
        "        self.w = nn.Parameter(torch.rand((1,), requires_grad=True))\n",
        "\n",
        "    def forward(self, queries, keys, values):\n",
        "        # 将 queries 从 (batch_size,) 扩展为 (batch_size, m)\n",
        "        queries = queries.repeat_interleave(keys.shape[1]).reshape((-1, keys.shape[1]))\n",
        "\n",
        "        # 计算注意力权重\n",
        "        self.attention_weights = nn.functional.softmax(\n",
        "            -((queries - keys) * self.w)**2 / 2, dim=1)\n",
        "\n",
        "        # 计算加权平均值\n",
        "        return torch.bmm(self.attention_weights.unsqueeze(1),\n",
        "                         values.unsqueeze(-1)).reshape(-1)\n",
        "\n",
        "# 创建模型\n",
        "model = NWKernelRegression()\n",
        "\n",
        "# 准备数据 - 注意这里的 batch_size = 2\n",
        "# 键 (Keys): 形状 (2, 3) - 2个批次，每个批次3个键\n",
        "keys = torch.tensor([\n",
        "    [80.0, 100.0, 120.0],    # 数据集A的键\n",
        "    [10.0, 20.0, 30.0]       # 数据集B的键\n",
        "])\n",
        "\n",
        "# 值 (Values): 形状 (2, 3) - 2个批次，每个批次3个值\n",
        "values = torch.tensor([\n",
        "    [400.0, 500.0, 600.0],   # 数据集A的值\n",
        "    [60.0, 80.0, 90.0]       # 数据集B的值\n",
        "])\n",
        "\n",
        "# 查询 (Queries): 形状 (2,) - 2个查询点\n",
        "queries = torch.tensor([90.0, 15.0])  # 查询: 90平方米的房价和15小时学习后的成绩\n",
        "\n",
        "# 进行预测\n",
        "predictions = model(queries, keys, values)\n",
        "print(f\"预测结果: {predictions}\")"
      ],
      "metadata": {
        "id": "FG_V5hPdHIMv"
      },
      "id": "FG_V5hPdHIMv",
      "execution_count": null,
      "outputs": []
    }
  ],
  "metadata": {
    "kernelspec": {
      "display_name": "Python 3",
      "name": "python3"
    },
    "language_info": {
      "name": "python"
    },
    "required_libs": [],
    "colab": {
      "provenance": []
    }
  },
  "nbformat": 4,
  "nbformat_minor": 5
}