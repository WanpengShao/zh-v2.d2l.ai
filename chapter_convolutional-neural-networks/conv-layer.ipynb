{
  "cells": [
    {
      "cell_type": "markdown",
      "id": "c9ebeb10",
      "metadata": {
        "id": "c9ebeb10"
      },
      "source": [
        "The following additional libraries are needed to run this\n",
        "notebook. Note that running on Colab is experimental, please report a Github\n",
        "issue if you have any problem."
      ]
    },
    {
      "cell_type": "code",
      "execution_count": 1,
      "id": "66ea6bf6",
      "metadata": {
        "id": "66ea6bf6",
        "outputId": "c5cd8309-3f99-459d-8540-8228d0463945",
        "colab": {
          "base_uri": "https://localhost:8080/"
        }
      },
      "outputs": [
        {
          "output_type": "stream",
          "name": "stdout",
          "text": [
            "Collecting git+https://github.com/d2l-ai/d2l-zh@release\n",
            "  Cloning https://github.com/d2l-ai/d2l-zh (to revision release) to /tmp/pip-req-build-ncnkfje5\n",
            "  Running command git clone --filter=blob:none --quiet https://github.com/d2l-ai/d2l-zh /tmp/pip-req-build-ncnkfje5\n",
            "  Running command git checkout -b release --track origin/release\n",
            "  Switched to a new branch 'release'\n",
            "  Branch 'release' set up to track remote branch 'release' from 'origin'.\n",
            "  Resolved https://github.com/d2l-ai/d2l-zh to commit 843d3d41dca48d8df65f4b324dd171d8bfe9c067\n",
            "  Running command git submodule update --init --recursive -q\n",
            "  Preparing metadata (setup.py) ... \u001b[?25l\u001b[?25hdone\n",
            "Building wheels for collected packages: d2l\n",
            "  Building wheel for d2l (setup.py) ... \u001b[?25l\u001b[?25hdone\n",
            "  Created wheel for d2l: filename=d2l-2.0.0-py3-none-any.whl size=110800 sha256=a3709c5ce5a0214127793c68df508ad2854e9159ce0e89831dd90117a29ca457\n",
            "  Stored in directory: /tmp/pip-ephem-wheel-cache-az4vadbl/wheels/53/15/45/14b38ed62d9bc53ab3de439d4c2a79f70a00112eeeadcf6c34\n",
            "Successfully built d2l\n",
            "Installing collected packages: d2l\n",
            "Successfully installed d2l-2.0.0\n"
          ]
        }
      ],
      "source": [
        "!pip install git+https://github.com/d2l-ai/d2l-zh@release --no-deps --force-reinstall\n",
        "!pip install numpy>=1.20"
      ]
    },
    {
      "cell_type": "markdown",
      "id": "7d2e90ba",
      "metadata": {
        "origin_pos": 0,
        "id": "7d2e90ba"
      },
      "source": [
        "# 图像卷积\n",
        ":label:`sec_conv_layer`\n",
        "\n",
        "上节我们解析了卷积层的原理，现在我们看看它的实际应用。由于卷积神经网络的设计是用于探索图像数据，本节我们将以图像为例。\n",
        "\n",
        "## 互相关运算\n",
        "\n",
        "严格来说，卷积层是个错误的叫法，因为它所表达的运算其实是*互相关运算*（cross-correlation），而不是卷积运算。\n",
        "根据 :numref:`sec_why-conv`中的描述，在卷积层中，输入张量和核张量通过(**互相关运算**)产生输出张量。\n",
        "\n",
        "首先，我们暂时忽略通道（第三维）这一情况，看看如何处理二维图像数据和隐藏表示。在 :numref:`fig_correlation`中，输入是高度为$3$、宽度为$3$的二维张量（即形状为$3 \\times 3$）。卷积核的高度和宽度都是$2$，而卷积核窗口（或卷积窗口）的形状由内核的高度和宽度决定（即$2 \\times 2$）。\n",
        "\n",
        "![二维互相关运算。阴影部分是第一个输出元素，以及用于计算输出的输入张量元素和核张量元素：$0\\times0+1\\times1+3\\times2+4\\times3=19$.](http://d2l.ai/_images/correlation.svg)\n",
        ":label:`fig_correlation`\n",
        "\n",
        "在二维互相关运算中，卷积窗口从输入张量的左上角开始，从左到右、从上到下滑动。\n",
        "当卷积窗口滑动到新一个位置时，包含在该窗口中的部分张量与卷积核张量进行按元素相乘，得到的张量再求和得到一个单一的标量值，由此我们得出了这一位置的输出张量值。\n",
        "在如上例子中，输出张量的四个元素由二维互相关运算得到，这个输出高度为$2$、宽度为$2$，如下所示：\n",
        "\n",
        "$$\n",
        "0\\times0+1\\times1+3\\times2+4\\times3=19,\\\\\n",
        "1\\times0+2\\times1+4\\times2+5\\times3=25,\\\\\n",
        "3\\times0+4\\times1+6\\times2+7\\times3=37,\\\\\n",
        "4\\times0+5\\times1+7\\times2+8\\times3=43.\n",
        "$$\n",
        "\n",
        "注意，输出大小略小于输入大小。这是因为卷积核的宽度和高度大于1，\n",
        "而卷积核只与图像中每个大小完全适合的位置进行互相关运算。\n",
        "所以，输出大小等于输入大小$n_h \\times n_w$减去卷积核大小$k_h \\times k_w$，即：\n",
        "\n",
        "$$(n_h-k_h+1) \\times (n_w-k_w+1).$$\n",
        "\n",
        "这是因为我们需要足够的空间在图像上“移动”卷积核。稍后，我们将看到如何通过在图像边界周围填充零来保证有足够的空间移动卷积核，从而保持输出大小不变。\n",
        "接下来，我们在`corr2d`函数中实现如上过程，该函数接受输入张量`X`和卷积核张量`K`，并返回输出张量`Y`。\n"
      ]
    },
    {
      "cell_type": "code",
      "execution_count": 2,
      "id": "1bd2b0f5",
      "metadata": {
        "execution": {
          "iopub.execute_input": "2023-08-18T07:07:26.587988Z",
          "iopub.status.busy": "2023-08-18T07:07:26.587419Z",
          "iopub.status.idle": "2023-08-18T07:07:28.559553Z",
          "shell.execute_reply": "2023-08-18T07:07:28.558681Z"
        },
        "origin_pos": 2,
        "tab": [
          "pytorch"
        ],
        "id": "1bd2b0f5"
      },
      "outputs": [],
      "source": [
        "import torch\n",
        "from torch import nn\n",
        "from d2l import torch as d2l"
      ]
    },
    {
      "cell_type": "code",
      "execution_count": 3,
      "id": "16abe7ca",
      "metadata": {
        "execution": {
          "iopub.execute_input": "2023-08-18T07:07:28.563668Z",
          "iopub.status.busy": "2023-08-18T07:07:28.562986Z",
          "iopub.status.idle": "2023-08-18T07:07:28.569424Z",
          "shell.execute_reply": "2023-08-18T07:07:28.568319Z"
        },
        "origin_pos": 4,
        "tab": [
          "pytorch"
        ],
        "id": "16abe7ca"
      },
      "outputs": [],
      "source": [
        "def corr2d(X, K):  #@save\n",
        "    \"\"\"计算二维互相关运算\"\"\"\n",
        "    h, w = K.shape\n",
        "    Y = torch.zeros((X.shape[0] - h + 1, X.shape[1] - w + 1))\n",
        "    for i in range(Y.shape[0]):\n",
        "        for j in range(Y.shape[1]):\n",
        "            Y[i, j] = (X[i:i + h, j:j + w] * K).sum() #还是逐个像素之间的相乘\n",
        "    return Y"
      ]
    },
    {
      "cell_type": "markdown",
      "id": "e2adaedd",
      "metadata": {
        "origin_pos": 6,
        "id": "e2adaedd"
      },
      "source": [
        "通过 :numref:`fig_correlation`的输入张量`X`和卷积核张量`K`，我们来[**验证上述二维互相关运算的输出**]。\n"
      ]
    },
    {
      "cell_type": "code",
      "execution_count": 4,
      "id": "6f84e512",
      "metadata": {
        "execution": {
          "iopub.execute_input": "2023-08-18T07:07:28.572958Z",
          "iopub.status.busy": "2023-08-18T07:07:28.572449Z",
          "iopub.status.idle": "2023-08-18T07:07:28.604854Z",
          "shell.execute_reply": "2023-08-18T07:07:28.603813Z"
        },
        "origin_pos": 7,
        "tab": [
          "pytorch"
        ],
        "id": "6f84e512",
        "outputId": "15ecfe98-90dd-465a-b493-93c2581b92a9",
        "colab": {
          "base_uri": "https://localhost:8080/"
        }
      },
      "outputs": [
        {
          "output_type": "execute_result",
          "data": {
            "text/plain": [
              "tensor([[19., 25.],\n",
              "        [37., 43.]])"
            ]
          },
          "metadata": {},
          "execution_count": 4
        }
      ],
      "source": [
        "X = torch.tensor([[0.0, 1.0, 2.0], [3.0, 4.0, 5.0], [6.0, 7.0, 8.0]])\n",
        "K = torch.tensor([[0.0, 1.0], [2.0, 3.0]])\n",
        "corr2d(X, K)"
      ]
    },
    {
      "cell_type": "markdown",
      "id": "e93ccf40",
      "metadata": {
        "origin_pos": 8,
        "id": "e93ccf40"
      },
      "source": [
        "## 卷积层\n",
        "\n",
        "卷积层对输入和卷积核权重进行互相关运算，并在添加标量偏置之后产生输出。\n",
        "所以，卷积层中的两个被训练的参数是卷积核权重和标量偏置。\n",
        "就像我们之前随机初始化全连接层一样，在训练基于卷积层的模型时，我们也随机初始化卷积核权重。\n",
        "\n",
        "基于上面定义的`corr2d`函数[**实现二维卷积层**]。在`__init__`构造函数中，将`weight`和`bias`声明为两个模型参数。前向传播函数调用`corr2d`函数并添加偏置。\n"
      ]
    },
    {
      "cell_type": "code",
      "execution_count": 5,
      "id": "450def67",
      "metadata": {
        "execution": {
          "iopub.execute_input": "2023-08-18T07:07:28.610672Z",
          "iopub.status.busy": "2023-08-18T07:07:28.609819Z",
          "iopub.status.idle": "2023-08-18T07:07:28.615602Z",
          "shell.execute_reply": "2023-08-18T07:07:28.614632Z"
        },
        "origin_pos": 10,
        "tab": [
          "pytorch"
        ],
        "id": "450def67"
      },
      "outputs": [],
      "source": [
        "class Conv2D(nn.Module):\n",
        "    def __init__(self, kernel_size):\n",
        "        super().__init__()\n",
        "        self.weight = nn.Parameter(torch.rand(kernel_size))\n",
        "        self.bias = nn.Parameter(torch.zeros(1))\n",
        "\n",
        "    def forward(self, x):\n",
        "        return corr2d(x, self.weight) + self.bias"
      ]
    },
    {
      "cell_type": "markdown",
      "id": "d361e4c7",
      "metadata": {
        "origin_pos": 13,
        "id": "d361e4c7"
      },
      "source": [
        "高度和宽度分别为$h$和$w$的卷积核可以被称为$h \\times w$卷积或$h \\times w$卷积核。\n",
        "我们也将带有$h \\times w$卷积核的卷积层称为$h \\times w$卷积层。\n",
        "\n",
        "## 图像中目标的边缘检测\n",
        "\n",
        "如下是[**卷积层的一个简单应用：**]通过找到像素变化的位置，来(**检测图像中不同颜色的边缘**)。\n",
        "首先，我们构造一个$6\\times 8$像素的黑白图像。中间四列为黑色（$0$），其余像素为白色（$1$）。\n"
      ]
    },
    {
      "cell_type": "code",
      "execution_count": 6,
      "id": "dee1bc79",
      "metadata": {
        "execution": {
          "iopub.execute_input": "2023-08-18T07:07:28.620077Z",
          "iopub.status.busy": "2023-08-18T07:07:28.619277Z",
          "iopub.status.idle": "2023-08-18T07:07:28.626719Z",
          "shell.execute_reply": "2023-08-18T07:07:28.625746Z"
        },
        "origin_pos": 14,
        "tab": [
          "pytorch"
        ],
        "id": "dee1bc79",
        "outputId": "88bdb8de-feb8-4d99-aa8a-b6cf63ae04c8",
        "colab": {
          "base_uri": "https://localhost:8080/"
        }
      },
      "outputs": [
        {
          "output_type": "execute_result",
          "data": {
            "text/plain": [
              "tensor([[1., 1., 0., 0., 0., 0., 1., 1.],\n",
              "        [1., 1., 0., 0., 0., 0., 1., 1.],\n",
              "        [1., 1., 0., 0., 0., 0., 1., 1.],\n",
              "        [1., 1., 0., 0., 0., 0., 1., 1.],\n",
              "        [1., 1., 0., 0., 0., 0., 1., 1.],\n",
              "        [1., 1., 0., 0., 0., 0., 1., 1.]])"
            ]
          },
          "metadata": {},
          "execution_count": 6
        }
      ],
      "source": [
        "X = torch.ones((6, 8))\n",
        "X[:, 2:6] = 0\n",
        "X"
      ]
    },
    {
      "cell_type": "markdown",
      "id": "ea455932",
      "metadata": {
        "origin_pos": 16,
        "id": "ea455932"
      },
      "source": [
        "接下来，我们构造一个高度为$1$、宽度为$2$的卷积核`K`。当进行互相关运算时，如果水平相邻的两元素相同，则输出为零，否则输出为非零。\n"
      ]
    },
    {
      "cell_type": "code",
      "execution_count": 7,
      "id": "d042bda0",
      "metadata": {
        "execution": {
          "iopub.execute_input": "2023-08-18T07:07:28.630101Z",
          "iopub.status.busy": "2023-08-18T07:07:28.629606Z",
          "iopub.status.idle": "2023-08-18T07:07:28.634133Z",
          "shell.execute_reply": "2023-08-18T07:07:28.633165Z"
        },
        "origin_pos": 17,
        "tab": [
          "pytorch"
        ],
        "id": "d042bda0"
      },
      "outputs": [],
      "source": [
        "K = torch.tensor([[1.0, -1.0]])"
      ]
    },
    {
      "cell_type": "markdown",
      "id": "19635ba4",
      "metadata": {
        "origin_pos": 18,
        "id": "19635ba4"
      },
      "source": [
        "现在，我们对参数`X`（输入）和`K`（卷积核）执行互相关运算。\n",
        "如下所示，[**输出`Y`中的1代表从白色到黑色的边缘，-1代表从黑色到白色的边缘**]，其他情况的输出为$0$。\n"
      ]
    },
    {
      "cell_type": "code",
      "execution_count": 8,
      "id": "36de9e2a",
      "metadata": {
        "execution": {
          "iopub.execute_input": "2023-08-18T07:07:28.639056Z",
          "iopub.status.busy": "2023-08-18T07:07:28.638505Z",
          "iopub.status.idle": "2023-08-18T07:07:28.646532Z",
          "shell.execute_reply": "2023-08-18T07:07:28.645509Z"
        },
        "origin_pos": 19,
        "tab": [
          "pytorch"
        ],
        "id": "36de9e2a",
        "outputId": "edad5463-6af6-4c3e-e6c8-3298662aa7be",
        "colab": {
          "base_uri": "https://localhost:8080/"
        }
      },
      "outputs": [
        {
          "output_type": "execute_result",
          "data": {
            "text/plain": [
              "tensor([[ 0.,  1.,  0.,  0.,  0., -1.,  0.],\n",
              "        [ 0.,  1.,  0.,  0.,  0., -1.,  0.],\n",
              "        [ 0.,  1.,  0.,  0.,  0., -1.,  0.],\n",
              "        [ 0.,  1.,  0.,  0.,  0., -1.,  0.],\n",
              "        [ 0.,  1.,  0.,  0.,  0., -1.,  0.],\n",
              "        [ 0.,  1.,  0.,  0.,  0., -1.,  0.]])"
            ]
          },
          "metadata": {},
          "execution_count": 8
        }
      ],
      "source": [
        "Y = corr2d(X, K)\n",
        "Y"
      ]
    },
    {
      "cell_type": "markdown",
      "id": "9f3991ae",
      "metadata": {
        "origin_pos": 20,
        "id": "9f3991ae"
      },
      "source": [
        "现在我们将输入的二维图像转置，再进行如上的互相关运算。\n",
        "其输出如下，之前检测到的垂直边缘消失了。\n",
        "不出所料，这个[**卷积核`K`只可以检测垂直边缘**]，无法检测水平边缘。\n"
      ]
    },
    {
      "cell_type": "code",
      "execution_count": null,
      "id": "0a754b2d",
      "metadata": {
        "execution": {
          "iopub.execute_input": "2023-08-18T07:07:28.651371Z",
          "iopub.status.busy": "2023-08-18T07:07:28.650819Z",
          "iopub.status.idle": "2023-08-18T07:07:28.658419Z",
          "shell.execute_reply": "2023-08-18T07:07:28.657436Z"
        },
        "origin_pos": 21,
        "tab": [
          "pytorch"
        ],
        "id": "0a754b2d",
        "outputId": "5dabd182-0eb1-4165-9189-82b4fdf25225"
      },
      "outputs": [
        {
          "data": {
            "text/plain": [
              "tensor([[0., 0., 0., 0., 0.],\n",
              "        [0., 0., 0., 0., 0.],\n",
              "        [0., 0., 0., 0., 0.],\n",
              "        [0., 0., 0., 0., 0.],\n",
              "        [0., 0., 0., 0., 0.],\n",
              "        [0., 0., 0., 0., 0.],\n",
              "        [0., 0., 0., 0., 0.],\n",
              "        [0., 0., 0., 0., 0.]])"
            ]
          },
          "execution_count": 8,
          "metadata": {},
          "output_type": "execute_result"
        }
      ],
      "source": [
        "corr2d(X.t(), K)"
      ]
    },
    {
      "cell_type": "markdown",
      "id": "18ceafe9",
      "metadata": {
        "origin_pos": 22,
        "id": "18ceafe9"
      },
      "source": [
        "## 学习卷积核\n",
        "\n",
        "如果我们只需寻找黑白边缘，那么以上`[1, -1]`的边缘检测器足以。然而，当有了更复杂数值的卷积核，或者连续的卷积层时，我们不可能手动设计滤波器。那么我们是否可以[**学习由`X`生成`Y`的卷积核**]呢？\n",
        "\n",
        "现在让我们看看是否可以通过仅查看“输入-输出”对来学习由`X`生成`Y`的卷积核。\n",
        "我们先构造一个卷积层，并将其卷积核初始化为随机张量。接下来，在每次迭代中，我们比较`Y`与卷积层输出的平方误差，然后计算梯度来更新卷积核。为了简单起见，我们在此使用内置的二维卷积层，并忽略偏置。\n"
      ]
    },
    {
      "cell_type": "code",
      "execution_count": 9,
      "id": "2b423578",
      "metadata": {
        "execution": {
          "iopub.execute_input": "2023-08-18T07:07:28.662260Z",
          "iopub.status.busy": "2023-08-18T07:07:28.661527Z",
          "iopub.status.idle": "2023-08-18T07:07:28.681412Z",
          "shell.execute_reply": "2023-08-18T07:07:28.680192Z"
        },
        "origin_pos": 24,
        "tab": [
          "pytorch"
        ],
        "id": "2b423578",
        "outputId": "b52565ff-9c55-48e6-d976-263da04e9f61",
        "colab": {
          "base_uri": "https://localhost:8080/"
        }
      },
      "outputs": [
        {
          "output_type": "stream",
          "name": "stdout",
          "text": [
            "epoch 2, loss 11.459\n",
            "epoch 4, loss 2.837\n",
            "epoch 6, loss 0.850\n",
            "epoch 8, loss 0.296\n",
            "epoch 10, loss 0.113\n"
          ]
        }
      ],
      "source": [
        "# 构造一个二维卷积层，它具有1个输出通道和形状为（1，2）的卷积核\n",
        "conv2d = nn.Conv2d(1,1, kernel_size=(1, 2), bias=False)\n",
        "\n",
        "# 这个二维卷积层使用四维输入和输出格式（批量大小、通道、高度、宽度），\n",
        "# 其中批量大小和通道数都为1\n",
        "X = X.reshape((1, 1, 6, 8))\n",
        "Y = Y.reshape((1, 1, 6, 7))\n",
        "lr = 3e-2  # 学习率\n",
        "\n",
        "for i in range(10):\n",
        "    Y_hat = conv2d(X)\n",
        "    l = (Y_hat - Y) ** 2\n",
        "    conv2d.zero_grad()\n",
        "    l.sum().backward()\n",
        "    # 迭代卷积核\n",
        "    conv2d.weight.data[:] -= lr * conv2d.weight.grad\n",
        "    if (i + 1) % 2 == 0:\n",
        "        print(f'epoch {i+1}, loss {l.sum():.3f}')"
      ]
    },
    {
      "cell_type": "markdown",
      "id": "37744bcf",
      "metadata": {
        "origin_pos": 27,
        "id": "37744bcf"
      },
      "source": [
        "在$10$次迭代之后，误差已经降到足够低。现在我们来看看我们[**所学的卷积核的权重张量**]。\n"
      ]
    },
    {
      "cell_type": "code",
      "execution_count": 10,
      "id": "b40515e8",
      "metadata": {
        "execution": {
          "iopub.execute_input": "2023-08-18T07:07:28.684721Z",
          "iopub.status.busy": "2023-08-18T07:07:28.684428Z",
          "iopub.status.idle": "2023-08-18T07:07:28.691507Z",
          "shell.execute_reply": "2023-08-18T07:07:28.690512Z"
        },
        "origin_pos": 29,
        "tab": [
          "pytorch"
        ],
        "id": "b40515e8",
        "outputId": "94bdc5a9-3fbb-4668-9b03-aeee6369f24a",
        "colab": {
          "base_uri": "https://localhost:8080/"
        }
      },
      "outputs": [
        {
          "output_type": "execute_result",
          "data": {
            "text/plain": [
              "tensor([[ 0.9519, -1.0193]])"
            ]
          },
          "metadata": {},
          "execution_count": 10
        }
      ],
      "source": [
        "conv2d.weight.data.reshape((1, 2))"
      ]
    },
    {
      "cell_type": "markdown",
      "id": "366d2c4f",
      "metadata": {
        "origin_pos": 32,
        "id": "366d2c4f"
      },
      "source": [
        "细心的读者一定会发现，我们学习到的卷积核权重非常接近我们之前定义的卷积核`K`。\n",
        "\n",
        "## 互相关和卷积\n",
        "\n",
        "回想一下我们在 :numref:`sec_why-conv`中观察到的互相关和卷积运算之间的对应关系。\n",
        "为了得到正式的*卷积*运算输出，我们需要执行 :eqref:`eq_2d-conv-discrete`中定义的严格卷积运算，而不是互相关运算。\n",
        "幸运的是，它们差别不大，我们只需水平和垂直翻转二维卷积核张量，然后对输入张量执行*互相关*运算。\n",
        "\n",
        "值得注意的是，由于卷积核是从数据中学习到的，因此无论这些层执行严格的卷积运算还是互相关运算，卷积层的输出都不会受到影响。\n",
        "为了说明这一点，假设卷积层执行*互相关*运算并学习 :numref:`fig_correlation`中的卷积核，该卷积核在这里由矩阵$\\mathbf{K}$表示。\n",
        "假设其他条件不变，当这个层执行严格的*卷积*时，学习的卷积核$\\mathbf{K}'$在水平和垂直翻转之后将与$\\mathbf{K}$相同。\n",
        "也就是说，当卷积层对 :numref:`fig_correlation`中的输入和$\\mathbf{K}'$执行严格*卷积*运算时，将得到与互相关运算 :numref:`fig_correlation`中相同的输出。\n",
        "\n",
        "为了与深度学习文献中的标准术语保持一致，我们将继续把“互相关运算”称为卷积运算，尽管严格地说，它们略有不同。\n",
        "此外，对于卷积核张量上的权重，我们称其为*元素*。\n",
        "\n",
        "## 特征映射和感受野\n",
        "\n",
        "如在 :numref:`subsec_why-conv-channels`中所述， :numref:`fig_correlation`中输出的卷积层有时被称为*特征映射*（feature map），因为它可以被视为一个输入映射到下一层的空间维度的转换器。\n",
        "在卷积神经网络中，对于某一层的任意元素$x$，其*感受野*（receptive field）是指在前向传播期间可能影响$x$计算的所有元素（来自所有先前层）。\n",
        "\n",
        "请注意，感受野可能大于输入的实际大小。让我们用 :numref:`fig_correlation`为例来解释感受野：\n",
        "给定$2 \\times 2$卷积核，阴影输出元素值$19$的感受野是输入阴影部分的四个元素。\n",
        "假设之前输出为$\\mathbf{Y}$，其大小为$2 \\times 2$，现在我们在其后附加一个卷积层，该卷积层以$\\mathbf{Y}$为输入，输出单个元素$z$。\n",
        "在这种情况下，$\\mathbf{Y}$上的$z$的感受野包括$\\mathbf{Y}$的所有四个元素，而输入的感受野包括最初所有九个输入元素。\n",
        "因此，当一个特征图中的任意元素需要检测更广区域的输入特征时，我们可以构建一个更深的网络。\n",
        "\n",
        "## 小结\n",
        "\n",
        "* 二维卷积层的核心计算是二维互相关运算。最简单的形式是，对二维输入数据和卷积核执行互相关操作，然后添加一个偏置。\n",
        "* 我们可以设计一个卷积核来检测图像的边缘。\n",
        "* 我们可以从数据中学习卷积核的参数。\n",
        "* 学习卷积核时，无论用严格卷积运算或互相关运算，卷积层的输出不会受太大影响。\n",
        "* 当需要检测输入特征中更广区域时，我们可以构建一个更深的卷积网络。\n",
        "\n",
        "## 练习\n",
        "\n",
        "1. 构建一个具有对角线边缘的图像`X`。\n",
        "    1. 如果将本节中举例的卷积核`K`应用于`X`，会发生什么情况？\n",
        "    1. 如果转置`X`会发生什么？\n",
        "    1. 如果转置`K`会发生什么？\n",
        "1. 在我们创建的`Conv2D`自动求导时，有什么错误消息？\n",
        "1. 如何通过改变输入张量和卷积核张量，将互相关运算表示为矩阵乘法？\n",
        "1. 手工设计一些卷积核。\n",
        "    1. 二阶导数的核的形式是什么？\n",
        "    1. 积分的核的形式是什么？\n",
        "    1. 得到$d$次导数的最小核的大小是多少？\n"
      ]
    },
    {
      "cell_type": "code",
      "source": [
        "import torch\n",
        "import torch.nn as nn\n",
        "\n",
        "X = torch.tensor([\n",
        "    [1, 1, 1, 0, 0, 0],\n",
        "    [1, 1, 1, 0, 0, 0],\n",
        "    [1, 1, 1, 0, 0, 0],\n",
        "    [0, 0, 0, 1, 1, 1],\n",
        "    [0, 0, 0, 1, 1, 1],\n",
        "    [0, 0, 0, 1, 1, 1]\n",
        "], dtype=torch.float32).view(1, 1, 6, 6)  # 形状 [batch=1, channel=1, height=6, width=6]\n",
        "# 定义卷积层（输入通道=1，输出通道=1，核大小=3x3，无偏置）\n",
        "conv = nn.Conv2d(in_channels=1, out_channels=1, kernel_size=3, bias=False) #（1，1，3，3）\n",
        "\n",
        "# 手动设置卷积核（垂直边缘检测）\n",
        "K = torch.tensor([\n",
        "    [[[1, 0, -1],\n",
        "      [1, 0, -1],\n",
        "      [1, 0, -1]]]#这个形状就是1 1 3 3\n",
        "], dtype=torch.float32)\n",
        "conv.weight.data = K  # 权重形状 [out_channels=1, in_channels=1, 3, 3]\n",
        "output = conv(X)\n",
        "print(\"原始输出:\\n\", output.squeeze())\n",
        "X_transposed = X.transpose(2, 3)  # 交换宽度和高度维度 原来四维矩阵是这样交换的啊。\n",
        "output_transposed_X = conv(X_transposed)\n",
        "print(\"转置X后的输出:\\n\", output_transposed_X.squeeze())\n",
        "\n",
        "transposed_kernel = conv.weight.data.transpose(2, 3)\n",
        "output_both_transposed = conv(X_transposed)\n",
        "print(\"同时转置X和K后的输出:\\n\", output_both_transposed.squeeze())\n",
        "\n",
        "A = torch.rand(1, 3, 1, 2)\n",
        "print(A.shape)  # 输出: torch.Size([1, 3, 1, 2])\n",
        "\n",
        "B = A.squeeze()  # 移除所有长度为1的维度\n",
        "print(B.shape)  # 输出: torch.Size([3, 2])\n"
      ],
      "metadata": {
        "id": "x0zTnPR4IoXE",
        "outputId": "f8b17029-76a3-48b2-9809-512770663712",
        "colab": {
          "base_uri": "https://localhost:8080/"
        }
      },
      "id": "x0zTnPR4IoXE",
      "execution_count": 14,
      "outputs": [
        {
          "output_type": "stream",
          "name": "stdout",
          "text": [
            "原始输出:\n",
            " tensor([[ 0.,  3.,  3.,  0.],\n",
            "        [ 0.,  1.,  1.,  0.],\n",
            "        [ 0., -1., -1.,  0.],\n",
            "        [ 0., -3., -3.,  0.]], grad_fn=<SqueezeBackward0>)\n",
            "转置X后的输出:\n",
            " tensor([[ 0.,  3.,  3.,  0.],\n",
            "        [ 0.,  1.,  1.,  0.],\n",
            "        [ 0., -1., -1.,  0.],\n",
            "        [ 0., -3., -3.,  0.]], grad_fn=<SqueezeBackward0>)\n",
            "同时转置X和K后的输出:\n",
            " tensor([[ 0.,  3.,  3.,  0.],\n",
            "        [ 0.,  1.,  1.,  0.],\n",
            "        [ 0., -1., -1.,  0.],\n",
            "        [ 0., -3., -3.,  0.]], grad_fn=<SqueezeBackward0>)\n",
            "torch.Size([1, 3, 1, 2])\n",
            "torch.Size([3, 2])\n"
          ]
        }
      ]
    },
    {
      "cell_type": "code",
      "source": [
        "#第二个问题：\n",
        "conv_layer = Conv2D(kernel_size=(3, 3))\n",
        "x = torch.rand(1, 5, 5)  # 输入 [batch=1, H, W]\n",
        "output = conv_layer(x)    # 输出是矩阵（非标量）\n",
        "\n",
        "# 尝试自动求导\n",
        "output.sum().backward()   # 必须手动转为标量才能求导"
      ],
      "metadata": {
        "id": "AgmY3ub-Je6Z"
      },
      "id": "AgmY3ub-Je6Z",
      "execution_count": null,
      "outputs": []
    },
    {
      "cell_type": "code",
      "source": [
        "#第三个问题：\n",
        "import torch\n",
        "import torch.nn.functional as F\n",
        "\n",
        "def conv2d_via_matmul(X, K):\n",
        "    \"\"\"\n",
        "    通过矩阵乘法实现卷积（互相关）运算。\n",
        "    参数：\n",
        "        X: 输入张量，形状 (batch_size, in_channels, height, width)\n",
        "        K: 卷积核，形状 (out_channels, in_channels, kernel_h, kernel_w)\n",
        "    返回：\n",
        "        输出张量，形状 (batch_size, out_channels, out_h, out_w)\n",
        "    \"\"\"\n",
        "    batch_size, in_channels, height, width = X.shape\n",
        "    out_channels, _, kernel_h, kernel_w = K.shape\n",
        "\n",
        "    # 计算输出尺寸\n",
        "    out_h = height - kernel_h + 1\n",
        "    out_w = width - kernel_w + 1\n",
        "\n",
        "    # 1. 展开输入为 im2col 矩阵 (kernel_h * kernel_w * in_channels, batch_size * out_h * out_w)\n",
        "    '''\n",
        "    F.unfold 的输入是一个 4D 张量（形状为 [batch_size, in_channels, height, width]），\n",
        "    输出是一个 3D 张量（形状为 [batch_size, kernel_h * kernel_w * in_channels, out_h * out_w]）。\n",
        "    它的核心功能是：将输入张量中每个卷积核覆盖的小区域展平为一列，所有列堆叠成一个矩阵。\n",
        "    '''\n",
        "    X_col = F.unfold(X, kernel_size=(kernel_h, kernel_w))  # 形状: (batch_size, kernel_h * kernel_w * in_channels, out_h * out_w)\n",
        "    #F.unfold输入的是一个4D向量，输出的是一个3D向量\n",
        "    X_col = X_col.reshape(batch_size, -1, out_h * out_w).permute(1, 0, 2).reshape(-1, batch_size * out_h * out_w)\n",
        "    #（kernel_h * kernel_w * in_channels, batch_size， out_h * out_w )。（ kernel_h * kernel_w * in_channels， batch_size *out_h * out_w）\n",
        "\n",
        "    # 2. 展开卷积核为矩阵 (out_channels, kernel_h * kernel_w * in_channels) 对，确实是把滑动改成了矩阵运算。\n",
        "    K_row = K.reshape(out_channels, -1)\n",
        "\n",
        "    # 3. 矩阵乘法\n",
        "    Y_col = K_row @ X_col  # 形状: (out_channels, batch_size * out_h * out_w) #这里的每一个模版 也确实乘以了 kernel_h * kernel_w * in_channels\n",
        "    #和在影像上滑动是一样的。\n",
        "\n",
        "    # 4. 重塑为输出张量\n",
        "    Y = Y_col.reshape(out_channels, batch_size, out_h, out_w).permute(1, 0, 2, 3)\n",
        "\n",
        "    return Y\n",
        "\n",
        "# 测试示例\n",
        "if __name__ == \"__main__\":\n",
        "    # 定义输入和卷积核\n",
        "    X = torch.tensor([[\n",
        "        [[1, 2, 3],\n",
        "         [4, 5, 6],\n",
        "         [7, 8, 9]]\n",
        "    ]], dtype=torch.float32)  # 形状: (1, 1, 3, 3)\n",
        "\n",
        "    K = torch.tensor([[\n",
        "        [[1, 0],\n",
        "         [0, -1]]\n",
        "    ]], dtype=torch.float32)  # 形状: (1, 1, 2, 2)\n",
        "\n",
        "    # 使用矩阵乘法实现卷积\n",
        "    Y_matmul = conv2d_via_matmul(X, K)\n",
        "    print(\"矩阵乘法输出:\\n\", Y_matmul)\n",
        "\n",
        "    # 使用 PyTorch 原生卷积验证\n",
        "    Y_conv = F.conv2d(X, K, stride=1, padding=0)\n",
        "    print(\"PyTorch 卷积输出:\\n\", Y_conv)\n",
        "\n",
        "    # 检查结果是否一致\n",
        "    print(\"结果是否一致:\", torch.allclose(Y_matmul, Y_conv, atol=1e-6))"
      ],
      "metadata": {
        "id": "lRxTF_3pL4LE",
        "outputId": "42aab50a-6b71-472a-d9c9-42357c2e769e",
        "colab": {
          "base_uri": "https://localhost:8080/"
        }
      },
      "id": "lRxTF_3pL4LE",
      "execution_count": 15,
      "outputs": [
        {
          "output_type": "stream",
          "name": "stdout",
          "text": [
            "矩阵乘法输出:\n",
            " tensor([[[[-4., -4.],\n",
            "          [-4., -4.]]]])\n",
            "PyTorch 卷积输出:\n",
            " tensor([[[[-4., -4.],\n",
            "          [-4., -4.]]]])\n",
            "结果是否一致: True\n"
          ]
        }
      ]
    },
    {
      "cell_type": "code",
      "source": [
        "import torch\n",
        "import torch.nn.functional as F\n",
        "\n",
        "# 输入：1张图，1通道，4x4\n",
        "X = torch.tensor([[\n",
        "    [[1, 2, 3, 4],\n",
        "     [5, 6, 7, 8],\n",
        "     [9, 10,11,12],\n",
        "     [13,14,15,16]]\n",
        "]], dtype=torch.float32)\n",
        "\n",
        "# 展开为 im2col 矩阵\n",
        "unfolded = F.unfold(X, kernel_size=2) #3*3\n",
        "print(unfolded.shape)  # 输出: torch.Size([1, 4, 9]) 这里面的1:batch size为 就是一张照片 4:就是核为2*2 每次滑动就展成一列。一共9个小方块 滑动了9次。\n",
        "\n",
        "# 查看第一个局部区域（左上角 2x2）\n",
        "print(unfolded[0, :, 0])  # 输出: tensor([1., 2., 5., 6.])"
      ],
      "metadata": {
        "id": "n75UGOpaPOJR",
        "outputId": "2ec88e6b-73b5-43df-fa56-e73c6dc8e824",
        "colab": {
          "base_uri": "https://localhost:8080/"
        }
      },
      "id": "n75UGOpaPOJR",
      "execution_count": 16,
      "outputs": [
        {
          "output_type": "stream",
          "name": "stdout",
          "text": [
            "torch.Size([1, 4, 9])\n",
            "tensor([1., 2., 5., 6.])\n"
          ]
        }
      ]
    },
    {
      "cell_type": "code",
      "source": [
        "import torch\n",
        "import torch.nn.functional as F\n",
        "\n",
        "# 输入图像（6x6，对角线边缘）\n",
        "X = torch.tensor([[\n",
        "    [1, 1, 1, 0, 0, 0],\n",
        "    [1, 1, 1, 0, 0, 0],\n",
        "    [1, 1, 1, 0, 0, 0],\n",
        "    [0, 0, 0, 1, 1, 1],\n",
        "    [0, 0, 0, 1, 1, 1],\n",
        "    [0, 0, 0, 1, 1, 1]\n",
        "]], dtype=torch.float32).unsqueeze(0)  # 形状 [1,1,6,6]\n",
        "\n",
        "# 二阶导数核（拉普拉斯）\n",
        "laplacian = torch.tensor([[\n",
        "    [0,  1, 0],\n",
        "    [1, -4, 1],\n",
        "    [0,  1, 0]\n",
        "]], dtype=torch.float32).unsqueeze(0)  # 形状 [1,1,3,3]\n",
        "\n",
        "# 积分核（均值滤波）\n",
        "integral = torch.ones(1, 1, 3, 3) / 9.0\n",
        "\n",
        "# 计算卷积\n",
        "output_laplacian = F.conv2d(X, laplacian, padding=1)  # 二阶导数\n",
        "output_integral = F.conv2d(X, integral, padding=1)    # 积分\n",
        "\n",
        "print(\"二阶导数结果:\\n\", output_laplacian.squeeze())\n",
        "print(\"\\n积分结果:\\n\", output_integral.squeeze())"
      ],
      "metadata": {
        "id": "1VyW3mYTVhQZ",
        "outputId": "77d3c1bc-7cc2-49c6-fb98-4223e5878b76",
        "colab": {
          "base_uri": "https://localhost:8080/"
        }
      },
      "id": "1VyW3mYTVhQZ",
      "execution_count": 17,
      "outputs": [
        {
          "output_type": "stream",
          "name": "stdout",
          "text": [
            "二阶导数结果:\n",
            " tensor([[-2., -1., -2.,  1.,  0.,  0.],\n",
            "        [-1.,  0., -1.,  1.,  0.,  0.],\n",
            "        [-2., -1., -2.,  2.,  1.,  1.],\n",
            "        [ 1.,  1.,  2., -2., -1., -2.],\n",
            "        [ 0.,  0.,  1., -1.,  0., -1.],\n",
            "        [ 0.,  0.,  1., -2., -1., -2.]])\n",
            "\n",
            "积分结果:\n",
            " tensor([[0.4444, 0.6667, 0.4444, 0.2222, 0.0000, 0.0000],\n",
            "        [0.6667, 1.0000, 0.6667, 0.3333, 0.0000, 0.0000],\n",
            "        [0.4444, 0.6667, 0.5556, 0.4444, 0.3333, 0.2222],\n",
            "        [0.2222, 0.3333, 0.4444, 0.5556, 0.6667, 0.4444],\n",
            "        [0.0000, 0.0000, 0.3333, 0.6667, 1.0000, 0.6667],\n",
            "        [0.0000, 0.0000, 0.2222, 0.4444, 0.6667, 0.4444]])\n"
          ]
        }
      ]
    },
    {
      "cell_type": "markdown",
      "id": "c9adecf6",
      "metadata": {
        "origin_pos": 34,
        "tab": [
          "pytorch"
        ],
        "id": "c9adecf6"
      },
      "source": [
        "[Discussions](https://discuss.d2l.ai/t/1848)\n"
      ]
    }
  ],
  "metadata": {
    "kernelspec": {
      "display_name": "Python 3",
      "name": "python3"
    },
    "language_info": {
      "name": "python"
    },
    "required_libs": [],
    "colab": {
      "provenance": []
    }
  },
  "nbformat": 4,
  "nbformat_minor": 5
}