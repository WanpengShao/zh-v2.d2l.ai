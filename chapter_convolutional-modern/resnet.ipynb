{
  "cells": [
    {
      "cell_type": "markdown",
      "id": "7c5c2311",
      "metadata": {
        "id": "7c5c2311"
      },
      "source": [
        "The following additional libraries are needed to run this\n",
        "notebook. Note that running on Colab is experimental, please report a Github\n",
        "issue if you have any problem."
      ]
    },
    {
      "cell_type": "code",
      "execution_count": 1,
      "id": "22246426",
      "metadata": {
        "id": "22246426",
        "outputId": "1a00093f-270f-4f06-e2e1-d3737134c098",
        "colab": {
          "base_uri": "https://localhost:8080/"
        }
      },
      "outputs": [
        {
          "output_type": "stream",
          "name": "stdout",
          "text": [
            "Collecting git+https://github.com/d2l-ai/d2l-zh@release\n",
            "  Cloning https://github.com/d2l-ai/d2l-zh (to revision release) to /tmp/pip-req-build-1_ijbol5\n",
            "  Running command git clone --filter=blob:none --quiet https://github.com/d2l-ai/d2l-zh /tmp/pip-req-build-1_ijbol5\n",
            "  Running command git checkout -b release --track origin/release\n",
            "  Switched to a new branch 'release'\n",
            "  Branch 'release' set up to track remote branch 'release' from 'origin'.\n",
            "  Resolved https://github.com/d2l-ai/d2l-zh to commit 843d3d41dca48d8df65f4b324dd171d8bfe9c067\n",
            "  Running command git submodule update --init --recursive -q\n",
            "  Preparing metadata (setup.py) ... \u001b[?25l\u001b[?25hdone\n",
            "Building wheels for collected packages: d2l\n",
            "  Building wheel for d2l (setup.py) ... \u001b[?25l\u001b[?25hdone\n",
            "  Created wheel for d2l: filename=d2l-2.0.0-py3-none-any.whl size=110800 sha256=4e170cb4e4e62f3cf62862df3900e6332b96cc9cce5261b1e8265a898af77237\n",
            "  Stored in directory: /tmp/pip-ephem-wheel-cache-j13q59i6/wheels/53/15/45/14b38ed62d9bc53ab3de439d4c2a79f70a00112eeeadcf6c34\n",
            "Successfully built d2l\n",
            "Installing collected packages: d2l\n",
            "Successfully installed d2l-2.0.0\n"
          ]
        }
      ],
      "source": [
        "!pip install git+https://github.com/d2l-ai/d2l-zh@release --no-deps --force-reinstall\n",
        "!pip install numpy>=1.20"
      ]
    },
    {
      "cell_type": "markdown",
      "id": "ded8d82e",
      "metadata": {
        "origin_pos": 0,
        "id": "ded8d82e"
      },
      "source": [
        "# 残差网络（ResNet）\n",
        ":label:`sec_resnet`\n",
        "\n",
        "随着我们设计越来越深的网络，深刻理解“新添加的层如何提升神经网络的性能”变得至关重要。更重要的是设计网络的能力，在这种网络中，添加层会使网络更具表现力，\n",
        "为了取得质的突破，我们需要一些数学基础知识。\n",
        "\n",
        "## 函数类\n",
        "\n",
        "首先，假设有一类特定的神经网络架构$\\mathcal{F}$，它包括学习速率和其他超参数设置。\n",
        "对于所有$f \\in \\mathcal{F}$，存在一些参数集（例如权重和偏置），这些参数可以通过在合适的数据集上进行训练而获得。\n",
        "现在假设$f^*$是我们真正想要找到的函数，如果是$f^* \\in \\mathcal{F}$，那我们可以轻而易举的训练得到它，但通常我们不会那么幸运。\n",
        "相反，我们将尝试找到一个函数$f^*_\\mathcal{F}$，这是我们在$\\mathcal{F}$中的最佳选择。\n",
        "例如，给定一个具有$\\mathbf{X}$特性和$\\mathbf{y}$标签的数据集，我们可以尝试通过解决以下优化问题来找到它：\n",
        "\n",
        "$$f^*_\\mathcal{F} := \\mathop{\\mathrm{argmin}}_f L(\\mathbf{X}, \\mathbf{y}, f) \\text{ subject to } f \\in \\mathcal{F}.$$\n",
        "\n",
        "那么，怎样得到更近似真正$f^*$的函数呢？\n",
        "唯一合理的可能性是，我们需要设计一个更强大的架构$\\mathcal{F}'$。\n",
        "换句话说，我们预计$f^*_{\\mathcal{F}'}$比$f^*_{\\mathcal{F}}$“更近似”。\n",
        "然而，如果$\\mathcal{F} \\not\\subseteq \\mathcal{F}'$，则无法保证新的体系“更近似”。\n",
        "事实上，$f^*_{\\mathcal{F}'}$可能更糟：\n",
        "如 :numref:`fig_functionclasses`所示，对于非嵌套函数（non-nested function）类，较复杂的函数类并不总是向“真”函数$f^*$靠拢（复杂度由$\\mathcal{F}_1$向$\\mathcal{F}_6$递增）。\n",
        "在 :numref:`fig_functionclasses`的左边，虽然$\\mathcal{F}_3$比$\\mathcal{F}_1$更接近$f^*$，但$\\mathcal{F}_6$却离的更远了。\n",
        "相反对于 :numref:`fig_functionclasses`右侧的嵌套函数（nested function）类$\\mathcal{F}_1 \\subseteq \\ldots \\subseteq \\mathcal{F}_6$，我们可以避免上述问题。\n",
        "\n",
        "![对于非嵌套函数类，较复杂（由较大区域表示）的函数类不能保证更接近“真”函数（ $f^*$ ）。这种现象在嵌套函数类中不会发生。](http://d2l.ai/_images/functionclasses.svg)\n",
        ":label:`fig_functionclasses`\n",
        "\n",
        "因此，只有当较复杂的函数类包含较小的函数类时，我们才能确保提高它们的性能。\n",
        "对于深度神经网络，如果我们能将新添加的层训练成*恒等映射*（identity function）$f(\\mathbf{x}) = \\mathbf{x}$，新模型和原模型将同样有效。\n",
        "同时，由于新模型可能得出更优的解来拟合训练数据集，因此添加层似乎更容易降低训练误差。\n",
        "\n",
        "针对这一问题，何恺明等人提出了*残差网络*（ResNet） :cite:`He.Zhang.Ren.ea.2016`。\n",
        "它在2015年的ImageNet图像识别挑战赛夺魁，并深刻影响了后来的深度神经网络的设计。\n",
        "残差网络的核心思想是：每个附加层都应该更容易地包含原始函数作为其元素之一。\n",
        "于是，*残差块*（residual blocks）便诞生了，这个设计对如何建立深层神经网络产生了深远的影响。\n",
        "凭借它，ResNet赢得了2015年ImageNet大规模视觉识别挑战赛。\n",
        "\n",
        "## (**残差块**)\n",
        "\n",
        "让我们聚焦于神经网络局部：如图 :numref:`fig_residual_block`所示，假设我们的原始输入为$x$，而希望学出的理想映射为$f(\\mathbf{x})$（作为 :numref:`fig_residual_block`上方激活函数的输入）。\n",
        " :numref:`fig_residual_block`左图虚线框中的部分需要直接拟合出该映射$f(\\mathbf{x})$，而右图虚线框中的部分则需要拟合出残差映射$f(\\mathbf{x}) - \\mathbf{x}$。\n",
        "残差映射在现实中往往更容易优化。\n",
        "以本节开头提到的恒等映射作为我们希望学出的理想映射$f(\\mathbf{x})$，我们只需将 :numref:`fig_residual_block`中右图虚线框内上方的加权运算（如仿射）的权重和偏置参数设成0，那么$f(\\mathbf{x})$即为恒等映射。\n",
        "实际中，当理想映射$f(\\mathbf{x})$极接近于恒等映射时，残差映射也易于捕捉恒等映射的细微波动。\n",
        " :numref:`fig_residual_block`右图是ResNet的基础架构--*残差块*（residual block）。\n",
        "在残差块中，输入可通过跨层数据线路更快地向前传播。\n",
        "\n",
        "![一个正常块（左图）和一个残差块（右图）。](https://github.com/d2l-ai/d2l-zh-pytorch-colab/blob/master/img/residual-block.svg?raw=1)\n",
        ":label:`fig_residual_block`\n",
        "\n",
        "ResNet沿用了VGG完整的$3\\times 3$卷积层设计。\n",
        "残差块里首先有2个有相同输出通道数的$3\\times 3$卷积层。\n",
        "每个卷积层后接一个批量规范化层和ReLU激活函数。\n",
        "然后我们通过跨层数据通路，跳过这2个卷积运算，将输入直接加在最后的ReLU激活函数前。\n",
        "这样的设计要求2个卷积层的输出与输入形状一样，从而使它们可以相加。\n",
        "如果想改变通道数，就需要引入一个额外的$1\\times 1$卷积层来将输入变换成需要的形状后再做相加运算。\n",
        "残差块的实现如下：\n"
      ]
    },
    {
      "cell_type": "code",
      "execution_count": 2,
      "id": "de076347",
      "metadata": {
        "execution": {
          "iopub.execute_input": "2023-08-18T07:23:09.985121Z",
          "iopub.status.busy": "2023-08-18T07:23:09.984259Z",
          "iopub.status.idle": "2023-08-18T07:23:13.061925Z",
          "shell.execute_reply": "2023-08-18T07:23:13.061035Z"
        },
        "origin_pos": 2,
        "tab": [
          "pytorch"
        ],
        "id": "de076347"
      },
      "outputs": [],
      "source": [
        "import torch\n",
        "from torch import nn\n",
        "from torch.nn import functional as F\n",
        "from d2l import torch as d2l\n",
        "\n",
        "class Residual(nn.Module):  #@save\n",
        "    def __init__(self, input_channels, num_channels,\n",
        "                 use_1x1conv=False, strides=1):\n",
        "        super().__init__()\n",
        "        self.conv1 = nn.Conv2d(input_channels, num_channels,\n",
        "                               kernel_size=3, padding=1, stride=strides)\n",
        "        self.conv2 = nn.Conv2d(num_channels, num_channels,\n",
        "                               kernel_size=3, padding=1)\n",
        "        if use_1x1conv:\n",
        "            self.conv3 = nn.Conv2d(input_channels, num_channels,\n",
        "                                   kernel_size=1, stride=strides)\n",
        "        else:\n",
        "            self.conv3 = None\n",
        "        self.bn1 = nn.BatchNorm2d(num_channels)\n",
        "        self.bn2 = nn.BatchNorm2d(num_channels)\n",
        "\n",
        "    def forward(self, X):\n",
        "        Y = F.relu(self.bn1(self.conv1(X))) #卷积层 batchnormalization relu\n",
        "        Y = self.bn2(self.conv2(Y))#卷积层 + batch normalization\n",
        "        if self.conv3:\n",
        "            X = self.conv3(X)\n",
        "        Y += X #\n",
        "        return F.relu(Y)"
      ]
    },
    {
      "cell_type": "markdown",
      "id": "800b1b46",
      "metadata": {
        "origin_pos": 5,
        "id": "800b1b46"
      },
      "source": [
        "如 :numref:`fig_resnet_block`所示，此代码生成两种类型的网络：\n",
        "一种是当`use_1x1conv=False`时，应用ReLU非线性函数之前，将输入添加到输出。\n",
        "另一种是当`use_1x1conv=True`时，添加通过$1 \\times 1$卷积调整通道和分辨率。\n",
        "\n",
        "![包含以及不包含 $1 \\times 1$ 卷积层的残差块。](https://github.com/d2l-ai/d2l-zh-pytorch-colab/blob/master/img/resnet-block.svg?raw=1)\n",
        ":label:`fig_resnet_block`\n",
        "\n",
        "下面我们来查看[**输入和输出形状一致**]的情况。\n"
      ]
    },
    {
      "cell_type": "code",
      "execution_count": 3,
      "id": "af9ca1b9",
      "metadata": {
        "execution": {
          "iopub.execute_input": "2023-08-18T07:23:13.066634Z",
          "iopub.status.busy": "2023-08-18T07:23:13.065953Z",
          "iopub.status.idle": "2023-08-18T07:23:13.103556Z",
          "shell.execute_reply": "2023-08-18T07:23:13.102121Z"
        },
        "origin_pos": 7,
        "tab": [
          "pytorch"
        ],
        "id": "af9ca1b9",
        "outputId": "de1bc467-0080-47e2-bbb9-92a42e9d0087",
        "colab": {
          "base_uri": "https://localhost:8080/"
        }
      },
      "outputs": [
        {
          "output_type": "execute_result",
          "data": {
            "text/plain": [
              "torch.Size([4, 3, 6, 6])"
            ]
          },
          "metadata": {},
          "execution_count": 3
        }
      ],
      "source": [
        "blk = Residual(3,3)\n",
        "X = torch.rand(4, 3, 6, 6)\n",
        "Y = blk(X)\n",
        "Y.shape"
      ]
    },
    {
      "cell_type": "markdown",
      "id": "419b9a4a",
      "metadata": {
        "origin_pos": 10,
        "id": "419b9a4a"
      },
      "source": [
        "我们也可以在[**增加输出通道数的同时，减半输出的高和宽**]。\n"
      ]
    },
    {
      "cell_type": "code",
      "execution_count": 4,
      "id": "e9a01bd0",
      "metadata": {
        "execution": {
          "iopub.execute_input": "2023-08-18T07:23:13.108447Z",
          "iopub.status.busy": "2023-08-18T07:23:13.107641Z",
          "iopub.status.idle": "2023-08-18T07:23:13.127450Z",
          "shell.execute_reply": "2023-08-18T07:23:13.126006Z"
        },
        "origin_pos": 12,
        "tab": [
          "pytorch"
        ],
        "id": "e9a01bd0",
        "outputId": "b59f63ca-1c6c-4b69-ad8d-d32dde14728e",
        "colab": {
          "base_uri": "https://localhost:8080/"
        }
      },
      "outputs": [
        {
          "output_type": "execute_result",
          "data": {
            "text/plain": [
              "torch.Size([4, 6, 3, 3])"
            ]
          },
          "metadata": {},
          "execution_count": 4
        }
      ],
      "source": [
        "blk = Residual(3,6, use_1x1conv=True, strides=2)\n",
        "blk(X).shape"
      ]
    },
    {
      "cell_type": "markdown",
      "id": "a77a7e4f",
      "metadata": {
        "origin_pos": 15,
        "id": "a77a7e4f"
      },
      "source": [
        "## [**ResNet模型**]\n",
        "\n",
        "ResNet的前两层跟之前介绍的GoogLeNet中的一样：\n",
        "在输出通道数为64、步幅为2的$7 \\times 7$卷积层后，接步幅为2的$3 \\times 3$的最大汇聚层。\n",
        "不同之处在于ResNet每个卷积层后增加了批量规范化层。\n"
      ]
    },
    {
      "cell_type": "code",
      "execution_count": 5,
      "id": "e4fe2ed6",
      "metadata": {
        "execution": {
          "iopub.execute_input": "2023-08-18T07:23:13.134088Z",
          "iopub.status.busy": "2023-08-18T07:23:13.133092Z",
          "iopub.status.idle": "2023-08-18T07:23:13.141355Z",
          "shell.execute_reply": "2023-08-18T07:23:13.140086Z"
        },
        "origin_pos": 17,
        "tab": [
          "pytorch"
        ],
        "id": "e4fe2ed6"
      },
      "outputs": [],
      "source": [
        "b1 = nn.Sequential(nn.Conv2d(1, 64, kernel_size=7, stride=2, padding=3),\n",
        "                   nn.BatchNorm2d(64), nn.ReLU(),\n",
        "                   nn.MaxPool2d(kernel_size=3, stride=2, padding=1))"
      ]
    },
    {
      "cell_type": "markdown",
      "id": "4c0dcc5c",
      "metadata": {
        "origin_pos": 20,
        "id": "4c0dcc5c"
      },
      "source": [
        "GoogLeNet在后面接了4个由Inception块组成的模块。\n",
        "ResNet则使用4个由残差块组成的模块，每个模块使用若干个同样输出通道数的残差块。\n",
        "第一个模块的通道数同输入通道数一致。\n",
        "由于之前已经使用了步幅为2的最大汇聚层，所以无须减小高和宽。\n",
        "之后的每个模块在第一个残差块里将上一个模块的通道数翻倍，并将高和宽减半。\n",
        "\n",
        "下面我们来实现这个模块。注意，我们对第一个模块做了特别处理。\n"
      ]
    },
    {
      "cell_type": "code",
      "execution_count": 6,
      "id": "748cfd51",
      "metadata": {
        "execution": {
          "iopub.execute_input": "2023-08-18T07:23:13.146374Z",
          "iopub.status.busy": "2023-08-18T07:23:13.145731Z",
          "iopub.status.idle": "2023-08-18T07:23:13.152040Z",
          "shell.execute_reply": "2023-08-18T07:23:13.150742Z"
        },
        "origin_pos": 22,
        "tab": [
          "pytorch"
        ],
        "id": "748cfd51"
      },
      "outputs": [],
      "source": [
        "def resnet_block(input_channels, num_channels, num_residuals,\n",
        "                 first_block=False):\n",
        "    blk = []\n",
        "    for i in range(num_residuals):\n",
        "        if i == 0 and not first_block:\n",
        "            blk.append(Residual(input_channels, num_channels,\n",
        "                                use_1x1conv=True, strides=2)) #开始尺寸减半\n",
        "        else:\n",
        "            blk.append(Residual(num_channels, num_channels))\n",
        "    return blk"
      ]
    },
    {
      "cell_type": "markdown",
      "id": "3351bfea",
      "metadata": {
        "origin_pos": 25,
        "id": "3351bfea"
      },
      "source": [
        "接着在ResNet加入所有残差块，这里每个模块使用2个残差块。\n"
      ]
    },
    {
      "cell_type": "code",
      "execution_count": 7,
      "id": "cbb6978f",
      "metadata": {
        "execution": {
          "iopub.execute_input": "2023-08-18T07:23:13.157627Z",
          "iopub.status.busy": "2023-08-18T07:23:13.156822Z",
          "iopub.status.idle": "2023-08-18T07:23:13.350496Z",
          "shell.execute_reply": "2023-08-18T07:23:13.349272Z"
        },
        "origin_pos": 27,
        "tab": [
          "pytorch"
        ],
        "id": "cbb6978f"
      },
      "outputs": [],
      "source": [
        "b2 = nn.Sequential(*resnet_block(64, 64, 2, first_block=True)) #true的话 第一个block是不带use_1X1conv的\n",
        "b3 = nn.Sequential(*resnet_block(64, 128, 2))\n",
        "b4 = nn.Sequential(*resnet_block(128, 256, 2))\n",
        "b5 = nn.Sequential(*resnet_block(256, 512, 2))"
      ]
    },
    {
      "cell_type": "markdown",
      "source": [],
      "metadata": {
        "id": "naObk0PJydRG"
      },
      "id": "naObk0PJydRG"
    },
    {
      "cell_type": "markdown",
      "id": "badd44e1",
      "metadata": {
        "origin_pos": 29,
        "id": "badd44e1"
      },
      "source": [
        "最后，与GoogLeNet一样，在ResNet中加入全局平均汇聚层，以及全连接层输出。\n"
      ]
    },
    {
      "cell_type": "code",
      "execution_count": 8,
      "id": "2e587937",
      "metadata": {
        "execution": {
          "iopub.execute_input": "2023-08-18T07:23:13.355546Z",
          "iopub.status.busy": "2023-08-18T07:23:13.354729Z",
          "iopub.status.idle": "2023-08-18T07:23:13.361543Z",
          "shell.execute_reply": "2023-08-18T07:23:13.360406Z"
        },
        "origin_pos": 31,
        "tab": [
          "pytorch"
        ],
        "id": "2e587937"
      },
      "outputs": [],
      "source": [
        "net = nn.Sequential(b1, b2, b3, b4, b5,\n",
        "                    nn.AdaptiveAvgPool2d((1,1)),\n",
        "                    nn.Flatten(), nn.Linear(512, 10))"
      ]
    },
    {
      "cell_type": "markdown",
      "id": "62731b56",
      "metadata": {
        "origin_pos": 34,
        "id": "62731b56"
      },
      "source": [
        "每个模块有4个卷积层（不包括恒等映射的$1\\times 1$卷积层）。\n",
        "加上第一个$7\\times 7$卷积层和最后一个全连接层，共有18层。\n",
        "因此，这种模型通常被称为ResNet-18。\n",
        "通过配置不同的通道数和模块里的残差块数可以得到不同的ResNet模型，例如更深的含152层的ResNet-152。\n",
        "虽然ResNet的主体架构跟GoogLeNet类似，但ResNet架构更简单，修改也更方便。这些因素都导致了ResNet迅速被广泛使用。\n",
        " :numref:`fig_resnet18`描述了完整的ResNet-18。\n",
        "\n",
        "![ResNet-18 架构](http://d2l.ai/_images/resnet18.svg)\n",
        ":label:`fig_resnet18`\n",
        "\n",
        "在训练ResNet之前，让我们[**观察一下ResNet中不同模块的输入形状是如何变化的**]。\n",
        "在之前所有架构中，分辨率降低，通道数量增加，直到全局平均汇聚层聚集所有特征。\n"
      ]
    },
    {
      "cell_type": "code",
      "execution_count": 9,
      "id": "3ea90646",
      "metadata": {
        "execution": {
          "iopub.execute_input": "2023-08-18T07:23:13.365946Z",
          "iopub.status.busy": "2023-08-18T07:23:13.365075Z",
          "iopub.status.idle": "2023-08-18T07:23:13.416010Z",
          "shell.execute_reply": "2023-08-18T07:23:13.414636Z"
        },
        "origin_pos": 36,
        "tab": [
          "pytorch"
        ],
        "id": "3ea90646",
        "outputId": "82f0b2ed-0bce-4e09-a246-491b892a85b8",
        "colab": {
          "base_uri": "https://localhost:8080/"
        }
      },
      "outputs": [
        {
          "output_type": "stream",
          "name": "stdout",
          "text": [
            "Sequential output shape:\t torch.Size([1, 64, 56, 56])\n",
            "Sequential output shape:\t torch.Size([1, 64, 56, 56])\n",
            "Sequential output shape:\t torch.Size([1, 128, 28, 28])\n",
            "Sequential output shape:\t torch.Size([1, 256, 14, 14])\n",
            "Sequential output shape:\t torch.Size([1, 512, 7, 7])\n",
            "AdaptiveAvgPool2d output shape:\t torch.Size([1, 512, 1, 1])\n",
            "Flatten output shape:\t torch.Size([1, 512])\n",
            "Linear output shape:\t torch.Size([1, 10])\n"
          ]
        }
      ],
      "source": [
        "X = torch.rand(size=(1, 1, 224, 224))\n",
        "for layer in net: #直接一层层调用？\n",
        "    X = layer(X)\n",
        "    print(layer.__class__.__name__,'output shape:\\t', X.shape)"
      ]
    },
    {
      "cell_type": "markdown",
      "id": "40bb0cca",
      "metadata": {
        "origin_pos": 39,
        "id": "40bb0cca"
      },
      "source": [
        "## [**训练模型**]\n",
        "\n",
        "同之前一样，我们在Fashion-MNIST数据集上训练ResNet。\n"
      ]
    },
    {
      "cell_type": "code",
      "execution_count": null,
      "id": "e8e65fec",
      "metadata": {
        "execution": {
          "iopub.execute_input": "2023-08-18T07:23:13.421685Z",
          "iopub.status.busy": "2023-08-18T07:23:13.420709Z",
          "iopub.status.idle": "2023-08-18T07:25:49.093828Z",
          "shell.execute_reply": "2023-08-18T07:25:49.092826Z"
        },
        "origin_pos": 40,
        "tab": [
          "pytorch"
        ],
        "id": "e8e65fec",
        "outputId": "6bd547a9-8a5c-4bb6-e18c-4f8a02288980",
        "colab": {
          "base_uri": "https://localhost:8080/",
          "height": 269
        }
      },
      "outputs": [
        {
          "output_type": "display_data",
          "data": {
            "text/plain": [
              "<Figure size 350x250 with 1 Axes>"
            ],
            "image/svg+xml": "<?xml version=\"1.0\" encoding=\"utf-8\" standalone=\"no\"?>\n<!DOCTYPE svg PUBLIC \"-//W3C//DTD SVG 1.1//EN\"\n  \"http://www.w3.org/Graphics/SVG/1.1/DTD/svg11.dtd\">\n<svg xmlns:xlink=\"http://www.w3.org/1999/xlink\" width=\"238.965625pt\" height=\"185.93314pt\" viewBox=\"0 0 238.965625 185.93314\" xmlns=\"http://www.w3.org/2000/svg\" version=\"1.1\">\n <metadata>\n  <rdf:RDF xmlns:dc=\"http://purl.org/dc/elements/1.1/\" xmlns:cc=\"http://creativecommons.org/ns#\" xmlns:rdf=\"http://www.w3.org/1999/02/22-rdf-syntax-ns#\">\n   <cc:Work>\n    <dc:type rdf:resource=\"http://purl.org/dc/dcmitype/StillImage\"/>\n    <dc:date>2025-08-12T00:51:11.121918</dc:date>\n    <dc:format>image/svg+xml</dc:format>\n    <dc:creator>\n     <cc:Agent>\n      <dc:title>Matplotlib v3.10.0, https://matplotlib.org/</dc:title>\n     </cc:Agent>\n    </dc:creator>\n   </cc:Work>\n  </rdf:RDF>\n </metadata>\n <defs>\n  <style type=\"text/css\">*{stroke-linejoin: round; stroke-linecap: butt}</style>\n </defs>\n <g id=\"figure_1\">\n  <g id=\"patch_1\">\n   <path d=\"M 0 185.93314 \nL 238.965625 185.93314 \nL 238.965625 0 \nL 0 0 \nz\n\" style=\"fill: #ffffff\"/>\n  </g>\n  <g id=\"axes_1\">\n   <g id=\"patch_2\">\n    <path d=\"M 30.103125 148.37689 \nL 225.403125 148.37689 \nL 225.403125 9.77689 \nL 30.103125 9.77689 \nz\n\" style=\"fill: #ffffff\"/>\n   </g>\n   <g id=\"matplotlib.axis_1\">\n    <g id=\"xtick_1\">\n     <g id=\"line2d_1\">\n      <path d=\"M 51.803125 148.37689 \nL 51.803125 9.77689 \n\" clip-path=\"url(#p96cb8df4fd)\" style=\"fill: none; stroke: #b0b0b0; stroke-width: 0.8; stroke-linecap: square\"/>\n     </g>\n     <g id=\"line2d_2\">\n      <defs>\n       <path id=\"mec04658b26\" d=\"M 0 0 \nL 0 3.5 \n\" style=\"stroke: #000000; stroke-width: 0.8\"/>\n      </defs>\n      <g>\n       <use xlink:href=\"#mec04658b26\" x=\"51.803125\" y=\"148.37689\" style=\"stroke: #000000; stroke-width: 0.8\"/>\n      </g>\n     </g>\n     <g id=\"text_1\">\n      <!-- 2 -->\n      <g transform=\"translate(48.621875 162.975327) scale(0.1 -0.1)\">\n       <defs>\n        <path id=\"DejaVuSans-32\" d=\"M 1228 531 \nL 3431 531 \nL 3431 0 \nL 469 0 \nL 469 531 \nQ 828 903 1448 1529 \nQ 2069 2156 2228 2338 \nQ 2531 2678 2651 2914 \nQ 2772 3150 2772 3378 \nQ 2772 3750 2511 3984 \nQ 2250 4219 1831 4219 \nQ 1534 4219 1204 4116 \nQ 875 4013 500 3803 \nL 500 4441 \nQ 881 4594 1212 4672 \nQ 1544 4750 1819 4750 \nQ 2544 4750 2975 4387 \nQ 3406 4025 3406 3419 \nQ 3406 3131 3298 2873 \nQ 3191 2616 2906 2266 \nQ 2828 2175 2409 1742 \nQ 1991 1309 1228 531 \nz\n\" transform=\"scale(0.015625)\"/>\n       </defs>\n       <use xlink:href=\"#DejaVuSans-32\"/>\n      </g>\n     </g>\n    </g>\n    <g id=\"xtick_2\">\n     <g id=\"line2d_3\">\n      <path d=\"M 95.203125 148.37689 \nL 95.203125 9.77689 \n\" clip-path=\"url(#p96cb8df4fd)\" style=\"fill: none; stroke: #b0b0b0; stroke-width: 0.8; stroke-linecap: square\"/>\n     </g>\n     <g id=\"line2d_4\">\n      <g>\n       <use xlink:href=\"#mec04658b26\" x=\"95.203125\" y=\"148.37689\" style=\"stroke: #000000; stroke-width: 0.8\"/>\n      </g>\n     </g>\n     <g id=\"text_2\">\n      <!-- 4 -->\n      <g transform=\"translate(92.021875 162.975327) scale(0.1 -0.1)\">\n       <defs>\n        <path id=\"DejaVuSans-34\" d=\"M 2419 4116 \nL 825 1625 \nL 2419 1625 \nL 2419 4116 \nz\nM 2253 4666 \nL 3047 4666 \nL 3047 1625 \nL 3713 1625 \nL 3713 1100 \nL 3047 1100 \nL 3047 0 \nL 2419 0 \nL 2419 1100 \nL 313 1100 \nL 313 1709 \nL 2253 4666 \nz\n\" transform=\"scale(0.015625)\"/>\n       </defs>\n       <use xlink:href=\"#DejaVuSans-34\"/>\n      </g>\n     </g>\n    </g>\n    <g id=\"xtick_3\">\n     <g id=\"line2d_5\">\n      <path d=\"M 138.603125 148.37689 \nL 138.603125 9.77689 \n\" clip-path=\"url(#p96cb8df4fd)\" style=\"fill: none; stroke: #b0b0b0; stroke-width: 0.8; stroke-linecap: square\"/>\n     </g>\n     <g id=\"line2d_6\">\n      <g>\n       <use xlink:href=\"#mec04658b26\" x=\"138.603125\" y=\"148.37689\" style=\"stroke: #000000; stroke-width: 0.8\"/>\n      </g>\n     </g>\n     <g id=\"text_3\">\n      <!-- 6 -->\n      <g transform=\"translate(135.421875 162.975327) scale(0.1 -0.1)\">\n       <defs>\n        <path id=\"DejaVuSans-36\" d=\"M 2113 2584 \nQ 1688 2584 1439 2293 \nQ 1191 2003 1191 1497 \nQ 1191 994 1439 701 \nQ 1688 409 2113 409 \nQ 2538 409 2786 701 \nQ 3034 994 3034 1497 \nQ 3034 2003 2786 2293 \nQ 2538 2584 2113 2584 \nz\nM 3366 4563 \nL 3366 3988 \nQ 3128 4100 2886 4159 \nQ 2644 4219 2406 4219 \nQ 1781 4219 1451 3797 \nQ 1122 3375 1075 2522 \nQ 1259 2794 1537 2939 \nQ 1816 3084 2150 3084 \nQ 2853 3084 3261 2657 \nQ 3669 2231 3669 1497 \nQ 3669 778 3244 343 \nQ 2819 -91 2113 -91 \nQ 1303 -91 875 529 \nQ 447 1150 447 2328 \nQ 447 3434 972 4092 \nQ 1497 4750 2381 4750 \nQ 2619 4750 2861 4703 \nQ 3103 4656 3366 4563 \nz\n\" transform=\"scale(0.015625)\"/>\n       </defs>\n       <use xlink:href=\"#DejaVuSans-36\"/>\n      </g>\n     </g>\n    </g>\n    <g id=\"xtick_4\">\n     <g id=\"line2d_7\">\n      <path d=\"M 182.003125 148.37689 \nL 182.003125 9.77689 \n\" clip-path=\"url(#p96cb8df4fd)\" style=\"fill: none; stroke: #b0b0b0; stroke-width: 0.8; stroke-linecap: square\"/>\n     </g>\n     <g id=\"line2d_8\">\n      <g>\n       <use xlink:href=\"#mec04658b26\" x=\"182.003125\" y=\"148.37689\" style=\"stroke: #000000; stroke-width: 0.8\"/>\n      </g>\n     </g>\n     <g id=\"text_4\">\n      <!-- 8 -->\n      <g transform=\"translate(178.821875 162.975327) scale(0.1 -0.1)\">\n       <defs>\n        <path id=\"DejaVuSans-38\" d=\"M 2034 2216 \nQ 1584 2216 1326 1975 \nQ 1069 1734 1069 1313 \nQ 1069 891 1326 650 \nQ 1584 409 2034 409 \nQ 2484 409 2743 651 \nQ 3003 894 3003 1313 \nQ 3003 1734 2745 1975 \nQ 2488 2216 2034 2216 \nz\nM 1403 2484 \nQ 997 2584 770 2862 \nQ 544 3141 544 3541 \nQ 544 4100 942 4425 \nQ 1341 4750 2034 4750 \nQ 2731 4750 3128 4425 \nQ 3525 4100 3525 3541 \nQ 3525 3141 3298 2862 \nQ 3072 2584 2669 2484 \nQ 3125 2378 3379 2068 \nQ 3634 1759 3634 1313 \nQ 3634 634 3220 271 \nQ 2806 -91 2034 -91 \nQ 1263 -91 848 271 \nQ 434 634 434 1313 \nQ 434 1759 690 2068 \nQ 947 2378 1403 2484 \nz\nM 1172 3481 \nQ 1172 3119 1398 2916 \nQ 1625 2713 2034 2713 \nQ 2441 2713 2670 2916 \nQ 2900 3119 2900 3481 \nQ 2900 3844 2670 4047 \nQ 2441 4250 2034 4250 \nQ 1625 4250 1398 4047 \nQ 1172 3844 1172 3481 \nz\n\" transform=\"scale(0.015625)\"/>\n       </defs>\n       <use xlink:href=\"#DejaVuSans-38\"/>\n      </g>\n     </g>\n    </g>\n    <g id=\"xtick_5\">\n     <g id=\"line2d_9\">\n      <path d=\"M 225.403125 148.37689 \nL 225.403125 9.77689 \n\" clip-path=\"url(#p96cb8df4fd)\" style=\"fill: none; stroke: #b0b0b0; stroke-width: 0.8; stroke-linecap: square\"/>\n     </g>\n     <g id=\"line2d_10\">\n      <g>\n       <use xlink:href=\"#mec04658b26\" x=\"225.403125\" y=\"148.37689\" style=\"stroke: #000000; stroke-width: 0.8\"/>\n      </g>\n     </g>\n     <g id=\"text_5\">\n      <!-- 10 -->\n      <g transform=\"translate(219.040625 162.975327) scale(0.1 -0.1)\">\n       <defs>\n        <path id=\"DejaVuSans-31\" d=\"M 794 531 \nL 1825 531 \nL 1825 4091 \nL 703 3866 \nL 703 4441 \nL 1819 4666 \nL 2450 4666 \nL 2450 531 \nL 3481 531 \nL 3481 0 \nL 794 0 \nL 794 531 \nz\n\" transform=\"scale(0.015625)\"/>\n        <path id=\"DejaVuSans-30\" d=\"M 2034 4250 \nQ 1547 4250 1301 3770 \nQ 1056 3291 1056 2328 \nQ 1056 1369 1301 889 \nQ 1547 409 2034 409 \nQ 2525 409 2770 889 \nQ 3016 1369 3016 2328 \nQ 3016 3291 2770 3770 \nQ 2525 4250 2034 4250 \nz\nM 2034 4750 \nQ 2819 4750 3233 4129 \nQ 3647 3509 3647 2328 \nQ 3647 1150 3233 529 \nQ 2819 -91 2034 -91 \nQ 1250 -91 836 529 \nQ 422 1150 422 2328 \nQ 422 3509 836 4129 \nQ 1250 4750 2034 4750 \nz\n\" transform=\"scale(0.015625)\"/>\n       </defs>\n       <use xlink:href=\"#DejaVuSans-31\"/>\n       <use xlink:href=\"#DejaVuSans-30\" transform=\"translate(63.623047 0)\"/>\n      </g>\n     </g>\n    </g>\n    <g id=\"text_6\">\n     <!-- epoch -->\n     <g transform=\"translate(112.525 176.653452) scale(0.1 -0.1)\">\n      <defs>\n       <path id=\"DejaVuSans-65\" d=\"M 3597 1894 \nL 3597 1613 \nL 953 1613 \nQ 991 1019 1311 708 \nQ 1631 397 2203 397 \nQ 2534 397 2845 478 \nQ 3156 559 3463 722 \nL 3463 178 \nQ 3153 47 2828 -22 \nQ 2503 -91 2169 -91 \nQ 1331 -91 842 396 \nQ 353 884 353 1716 \nQ 353 2575 817 3079 \nQ 1281 3584 2069 3584 \nQ 2775 3584 3186 3129 \nQ 3597 2675 3597 1894 \nz\nM 3022 2063 \nQ 3016 2534 2758 2815 \nQ 2500 3097 2075 3097 \nQ 1594 3097 1305 2825 \nQ 1016 2553 972 2059 \nL 3022 2063 \nz\n\" transform=\"scale(0.015625)\"/>\n       <path id=\"DejaVuSans-70\" d=\"M 1159 525 \nL 1159 -1331 \nL 581 -1331 \nL 581 3500 \nL 1159 3500 \nL 1159 2969 \nQ 1341 3281 1617 3432 \nQ 1894 3584 2278 3584 \nQ 2916 3584 3314 3078 \nQ 3713 2572 3713 1747 \nQ 3713 922 3314 415 \nQ 2916 -91 2278 -91 \nQ 1894 -91 1617 61 \nQ 1341 213 1159 525 \nz\nM 3116 1747 \nQ 3116 2381 2855 2742 \nQ 2594 3103 2138 3103 \nQ 1681 3103 1420 2742 \nQ 1159 2381 1159 1747 \nQ 1159 1113 1420 752 \nQ 1681 391 2138 391 \nQ 2594 391 2855 752 \nQ 3116 1113 3116 1747 \nz\n\" transform=\"scale(0.015625)\"/>\n       <path id=\"DejaVuSans-6f\" d=\"M 1959 3097 \nQ 1497 3097 1228 2736 \nQ 959 2375 959 1747 \nQ 959 1119 1226 758 \nQ 1494 397 1959 397 \nQ 2419 397 2687 759 \nQ 2956 1122 2956 1747 \nQ 2956 2369 2687 2733 \nQ 2419 3097 1959 3097 \nz\nM 1959 3584 \nQ 2709 3584 3137 3096 \nQ 3566 2609 3566 1747 \nQ 3566 888 3137 398 \nQ 2709 -91 1959 -91 \nQ 1206 -91 779 398 \nQ 353 888 353 1747 \nQ 353 2609 779 3096 \nQ 1206 3584 1959 3584 \nz\n\" transform=\"scale(0.015625)\"/>\n       <path id=\"DejaVuSans-63\" d=\"M 3122 3366 \nL 3122 2828 \nQ 2878 2963 2633 3030 \nQ 2388 3097 2138 3097 \nQ 1578 3097 1268 2742 \nQ 959 2388 959 1747 \nQ 959 1106 1268 751 \nQ 1578 397 2138 397 \nQ 2388 397 2633 464 \nQ 2878 531 3122 666 \nL 3122 134 \nQ 2881 22 2623 -34 \nQ 2366 -91 2075 -91 \nQ 1284 -91 818 406 \nQ 353 903 353 1747 \nQ 353 2603 823 3093 \nQ 1294 3584 2113 3584 \nQ 2378 3584 2631 3529 \nQ 2884 3475 3122 3366 \nz\n\" transform=\"scale(0.015625)\"/>\n       <path id=\"DejaVuSans-68\" d=\"M 3513 2113 \nL 3513 0 \nL 2938 0 \nL 2938 2094 \nQ 2938 2591 2744 2837 \nQ 2550 3084 2163 3084 \nQ 1697 3084 1428 2787 \nQ 1159 2491 1159 1978 \nL 1159 0 \nL 581 0 \nL 581 4863 \nL 1159 4863 \nL 1159 2956 \nQ 1366 3272 1645 3428 \nQ 1925 3584 2291 3584 \nQ 2894 3584 3203 3211 \nQ 3513 2838 3513 2113 \nz\n\" transform=\"scale(0.015625)\"/>\n      </defs>\n      <use xlink:href=\"#DejaVuSans-65\"/>\n      <use xlink:href=\"#DejaVuSans-70\" transform=\"translate(61.523438 0)\"/>\n      <use xlink:href=\"#DejaVuSans-6f\" transform=\"translate(125 0)\"/>\n      <use xlink:href=\"#DejaVuSans-63\" transform=\"translate(186.181641 0)\"/>\n      <use xlink:href=\"#DejaVuSans-68\" transform=\"translate(241.162109 0)\"/>\n     </g>\n    </g>\n   </g>\n   <g id=\"matplotlib.axis_2\">\n    <g id=\"ytick_1\">\n     <g id=\"line2d_11\">\n      <path d=\"M 30.103125 127.369771 \nL 225.403125 127.369771 \n\" clip-path=\"url(#p96cb8df4fd)\" style=\"fill: none; stroke: #b0b0b0; stroke-width: 0.8; stroke-linecap: square\"/>\n     </g>\n     <g id=\"line2d_12\">\n      <defs>\n       <path id=\"m171b057d4f\" d=\"M 0 0 \nL -3.5 0 \n\" style=\"stroke: #000000; stroke-width: 0.8\"/>\n      </defs>\n      <g>\n       <use xlink:href=\"#m171b057d4f\" x=\"30.103125\" y=\"127.369771\" style=\"stroke: #000000; stroke-width: 0.8\"/>\n      </g>\n     </g>\n     <g id=\"text_7\">\n      <!-- 0.2 -->\n      <g transform=\"translate(7.2 131.16899) scale(0.1 -0.1)\">\n       <defs>\n        <path id=\"DejaVuSans-2e\" d=\"M 684 794 \nL 1344 794 \nL 1344 0 \nL 684 0 \nL 684 794 \nz\n\" transform=\"scale(0.015625)\"/>\n       </defs>\n       <use xlink:href=\"#DejaVuSans-30\"/>\n       <use xlink:href=\"#DejaVuSans-2e\" transform=\"translate(63.623047 0)\"/>\n       <use xlink:href=\"#DejaVuSans-32\" transform=\"translate(95.410156 0)\"/>\n      </g>\n     </g>\n    </g>\n    <g id=\"ytick_2\">\n     <g id=\"line2d_13\">\n      <path d=\"M 30.103125 98.277133 \nL 225.403125 98.277133 \n\" clip-path=\"url(#p96cb8df4fd)\" style=\"fill: none; stroke: #b0b0b0; stroke-width: 0.8; stroke-linecap: square\"/>\n     </g>\n     <g id=\"line2d_14\">\n      <g>\n       <use xlink:href=\"#m171b057d4f\" x=\"30.103125\" y=\"98.277133\" style=\"stroke: #000000; stroke-width: 0.8\"/>\n      </g>\n     </g>\n     <g id=\"text_8\">\n      <!-- 0.4 -->\n      <g transform=\"translate(7.2 102.076352) scale(0.1 -0.1)\">\n       <use xlink:href=\"#DejaVuSans-30\"/>\n       <use xlink:href=\"#DejaVuSans-2e\" transform=\"translate(63.623047 0)\"/>\n       <use xlink:href=\"#DejaVuSans-34\" transform=\"translate(95.410156 0)\"/>\n      </g>\n     </g>\n    </g>\n    <g id=\"ytick_3\">\n     <g id=\"line2d_15\">\n      <path d=\"M 30.103125 69.184495 \nL 225.403125 69.184495 \n\" clip-path=\"url(#p96cb8df4fd)\" style=\"fill: none; stroke: #b0b0b0; stroke-width: 0.8; stroke-linecap: square\"/>\n     </g>\n     <g id=\"line2d_16\">\n      <g>\n       <use xlink:href=\"#m171b057d4f\" x=\"30.103125\" y=\"69.184495\" style=\"stroke: #000000; stroke-width: 0.8\"/>\n      </g>\n     </g>\n     <g id=\"text_9\">\n      <!-- 0.6 -->\n      <g transform=\"translate(7.2 72.983714) scale(0.1 -0.1)\">\n       <use xlink:href=\"#DejaVuSans-30\"/>\n       <use xlink:href=\"#DejaVuSans-2e\" transform=\"translate(63.623047 0)\"/>\n       <use xlink:href=\"#DejaVuSans-36\" transform=\"translate(95.410156 0)\"/>\n      </g>\n     </g>\n    </g>\n    <g id=\"ytick_4\">\n     <g id=\"line2d_17\">\n      <path d=\"M 30.103125 40.091857 \nL 225.403125 40.091857 \n\" clip-path=\"url(#p96cb8df4fd)\" style=\"fill: none; stroke: #b0b0b0; stroke-width: 0.8; stroke-linecap: square\"/>\n     </g>\n     <g id=\"line2d_18\">\n      <g>\n       <use xlink:href=\"#m171b057d4f\" x=\"30.103125\" y=\"40.091857\" style=\"stroke: #000000; stroke-width: 0.8\"/>\n      </g>\n     </g>\n     <g id=\"text_10\">\n      <!-- 0.8 -->\n      <g transform=\"translate(7.2 43.891076) scale(0.1 -0.1)\">\n       <use xlink:href=\"#DejaVuSans-30\"/>\n       <use xlink:href=\"#DejaVuSans-2e\" transform=\"translate(63.623047 0)\"/>\n       <use xlink:href=\"#DejaVuSans-38\" transform=\"translate(95.410156 0)\"/>\n      </g>\n     </g>\n    </g>\n    <g id=\"ytick_5\">\n     <g id=\"line2d_19\">\n      <path d=\"M 30.103125 10.999219 \nL 225.403125 10.999219 \n\" clip-path=\"url(#p96cb8df4fd)\" style=\"fill: none; stroke: #b0b0b0; stroke-width: 0.8; stroke-linecap: square\"/>\n     </g>\n     <g id=\"line2d_20\">\n      <g>\n       <use xlink:href=\"#m171b057d4f\" x=\"30.103125\" y=\"10.999219\" style=\"stroke: #000000; stroke-width: 0.8\"/>\n      </g>\n     </g>\n     <g id=\"text_11\">\n      <!-- 1.0 -->\n      <g transform=\"translate(7.2 14.798437) scale(0.1 -0.1)\">\n       <use xlink:href=\"#DejaVuSans-31\"/>\n       <use xlink:href=\"#DejaVuSans-2e\" transform=\"translate(63.623047 0)\"/>\n       <use xlink:href=\"#DejaVuSans-30\" transform=\"translate(95.410156 0)\"/>\n      </g>\n     </g>\n    </g>\n   </g>\n   <g id=\"line2d_21\">\n    <path d=\"M 12.743125 18.707123 \nL 17.083125 56.404411 \nL 21.423125 70.593876 \nL 25.763125 80.092211 \nL 30.103125 85.883633 \nL 34.443125 118.915839 \nL 38.783125 118.520975 \nL 43.123125 119.320467 \nL 47.463125 119.479445 \nL 51.803125 119.742122 \nL 56.143125 129.520861 \nL 60.483125 129.575978 \nL 64.823125 129.187482 \nL 69.163125 128.697884 \nL 73.503125 128.607323 \nL 77.843125 136.556015 \nL 82.183125 136.499829 \nL 86.523125 135.808948 \nL 90.863125 135.721655 \nL 95.203125 135.536838 \nL 99.543125 142.07689 \nL 103.883125 141.988816 \nL 108.223125 141.463208 \n\" clip-path=\"url(#p96cb8df4fd)\" style=\"fill: none; stroke: #1f77b4; stroke-width: 1.5; stroke-linecap: square\"/>\n   </g>\n   <g id=\"line2d_22\">\n    <path d=\"M 12.743125 55.561828 \nL 17.083125 44.759687 \nL 21.423125 40.421502 \nL 25.763125 37.348705 \nL 30.103125 35.531586 \nL 34.443125 24.817738 \nL 38.783125 25.107891 \nL 43.123125 24.797589 \nL 47.463125 24.591056 \nL 51.803125 24.471535 \nL 56.143125 20.852319 \nL 60.483125 20.834184 \nL 64.823125 20.985305 \nL 69.163125 21.19083 \nL 73.503125 21.264071 \nL 77.843125 18.204676 \nL 82.183125 18.150272 \nL 86.523125 18.365872 \nL 90.863125 18.425313 \nL 95.203125 18.517241 \nL 99.543125 16.07689 \nL 103.883125 16.137338 \nL 108.223125 16.379132 \n\" clip-path=\"url(#p96cb8df4fd)\" style=\"fill: none; stroke-dasharray: 5.55,2.4; stroke-dashoffset: 0; stroke: #bf00bf; stroke-width: 1.5\"/>\n   </g>\n   <g id=\"line2d_23\">\n    <path d=\"M 30.103125 30.840398 \nL 51.803125 27.916588 \nL 73.503125 31.494982 \nL 95.203125 36.455277 \n\" clip-path=\"url(#p96cb8df4fd)\" style=\"fill: none; stroke-dasharray: 9.6,2.4,1.5,2.4; stroke-dashoffset: 0; stroke: #008000; stroke-width: 1.5\"/>\n   </g>\n   <g id=\"patch_3\">\n    <path d=\"M 30.103125 148.37689 \nL 30.103125 9.77689 \n\" style=\"fill: none; stroke: #000000; stroke-width: 0.8; stroke-linejoin: miter; stroke-linecap: square\"/>\n   </g>\n   <g id=\"patch_4\">\n    <path d=\"M 225.403125 148.37689 \nL 225.403125 9.77689 \n\" style=\"fill: none; stroke: #000000; stroke-width: 0.8; stroke-linejoin: miter; stroke-linecap: square\"/>\n   </g>\n   <g id=\"patch_5\">\n    <path d=\"M 30.103125 148.37689 \nL 225.403125 148.37689 \n\" style=\"fill: none; stroke: #000000; stroke-width: 0.8; stroke-linejoin: miter; stroke-linecap: square\"/>\n   </g>\n   <g id=\"patch_6\">\n    <path d=\"M 30.103125 9.77689 \nL 225.403125 9.77689 \n\" style=\"fill: none; stroke: #000000; stroke-width: 0.8; stroke-linejoin: miter; stroke-linecap: square\"/>\n   </g>\n   <g id=\"legend_1\">\n    <g id=\"patch_7\">\n     <path d=\"M 140.634375 61.811265 \nL 218.403125 61.811265 \nQ 220.403125 61.811265 220.403125 59.811265 \nL 220.403125 16.77689 \nQ 220.403125 14.77689 218.403125 14.77689 \nL 140.634375 14.77689 \nQ 138.634375 14.77689 138.634375 16.77689 \nL 138.634375 59.811265 \nQ 138.634375 61.811265 140.634375 61.811265 \nz\n\" style=\"fill: #ffffff; opacity: 0.8; stroke: #cccccc; stroke-linejoin: miter\"/>\n    </g>\n    <g id=\"line2d_24\">\n     <path d=\"M 142.634375 22.875327 \nL 152.634375 22.875327 \nL 162.634375 22.875327 \n\" style=\"fill: none; stroke: #1f77b4; stroke-width: 1.5; stroke-linecap: square\"/>\n    </g>\n    <g id=\"text_12\">\n     <!-- train loss -->\n     <g transform=\"translate(170.634375 26.375327) scale(0.1 -0.1)\">\n      <defs>\n       <path id=\"DejaVuSans-74\" d=\"M 1172 4494 \nL 1172 3500 \nL 2356 3500 \nL 2356 3053 \nL 1172 3053 \nL 1172 1153 \nQ 1172 725 1289 603 \nQ 1406 481 1766 481 \nL 2356 481 \nL 2356 0 \nL 1766 0 \nQ 1100 0 847 248 \nQ 594 497 594 1153 \nL 594 3053 \nL 172 3053 \nL 172 3500 \nL 594 3500 \nL 594 4494 \nL 1172 4494 \nz\n\" transform=\"scale(0.015625)\"/>\n       <path id=\"DejaVuSans-72\" d=\"M 2631 2963 \nQ 2534 3019 2420 3045 \nQ 2306 3072 2169 3072 \nQ 1681 3072 1420 2755 \nQ 1159 2438 1159 1844 \nL 1159 0 \nL 581 0 \nL 581 3500 \nL 1159 3500 \nL 1159 2956 \nQ 1341 3275 1631 3429 \nQ 1922 3584 2338 3584 \nQ 2397 3584 2469 3576 \nQ 2541 3569 2628 3553 \nL 2631 2963 \nz\n\" transform=\"scale(0.015625)\"/>\n       <path id=\"DejaVuSans-61\" d=\"M 2194 1759 \nQ 1497 1759 1228 1600 \nQ 959 1441 959 1056 \nQ 959 750 1161 570 \nQ 1363 391 1709 391 \nQ 2188 391 2477 730 \nQ 2766 1069 2766 1631 \nL 2766 1759 \nL 2194 1759 \nz\nM 3341 1997 \nL 3341 0 \nL 2766 0 \nL 2766 531 \nQ 2569 213 2275 61 \nQ 1981 -91 1556 -91 \nQ 1019 -91 701 211 \nQ 384 513 384 1019 \nQ 384 1609 779 1909 \nQ 1175 2209 1959 2209 \nL 2766 2209 \nL 2766 2266 \nQ 2766 2663 2505 2880 \nQ 2244 3097 1772 3097 \nQ 1472 3097 1187 3025 \nQ 903 2953 641 2809 \nL 641 3341 \nQ 956 3463 1253 3523 \nQ 1550 3584 1831 3584 \nQ 2591 3584 2966 3190 \nQ 3341 2797 3341 1997 \nz\n\" transform=\"scale(0.015625)\"/>\n       <path id=\"DejaVuSans-69\" d=\"M 603 3500 \nL 1178 3500 \nL 1178 0 \nL 603 0 \nL 603 3500 \nz\nM 603 4863 \nL 1178 4863 \nL 1178 4134 \nL 603 4134 \nL 603 4863 \nz\n\" transform=\"scale(0.015625)\"/>\n       <path id=\"DejaVuSans-6e\" d=\"M 3513 2113 \nL 3513 0 \nL 2938 0 \nL 2938 2094 \nQ 2938 2591 2744 2837 \nQ 2550 3084 2163 3084 \nQ 1697 3084 1428 2787 \nQ 1159 2491 1159 1978 \nL 1159 0 \nL 581 0 \nL 581 3500 \nL 1159 3500 \nL 1159 2956 \nQ 1366 3272 1645 3428 \nQ 1925 3584 2291 3584 \nQ 2894 3584 3203 3211 \nQ 3513 2838 3513 2113 \nz\n\" transform=\"scale(0.015625)\"/>\n       <path id=\"DejaVuSans-20\" transform=\"scale(0.015625)\"/>\n       <path id=\"DejaVuSans-6c\" d=\"M 603 4863 \nL 1178 4863 \nL 1178 0 \nL 603 0 \nL 603 4863 \nz\n\" transform=\"scale(0.015625)\"/>\n       <path id=\"DejaVuSans-73\" d=\"M 2834 3397 \nL 2834 2853 \nQ 2591 2978 2328 3040 \nQ 2066 3103 1784 3103 \nQ 1356 3103 1142 2972 \nQ 928 2841 928 2578 \nQ 928 2378 1081 2264 \nQ 1234 2150 1697 2047 \nL 1894 2003 \nQ 2506 1872 2764 1633 \nQ 3022 1394 3022 966 \nQ 3022 478 2636 193 \nQ 2250 -91 1575 -91 \nQ 1294 -91 989 -36 \nQ 684 19 347 128 \nL 347 722 \nQ 666 556 975 473 \nQ 1284 391 1588 391 \nQ 1994 391 2212 530 \nQ 2431 669 2431 922 \nQ 2431 1156 2273 1281 \nQ 2116 1406 1581 1522 \nL 1381 1569 \nQ 847 1681 609 1914 \nQ 372 2147 372 2553 \nQ 372 3047 722 3315 \nQ 1072 3584 1716 3584 \nQ 2034 3584 2315 3537 \nQ 2597 3491 2834 3397 \nz\n\" transform=\"scale(0.015625)\"/>\n      </defs>\n      <use xlink:href=\"#DejaVuSans-74\"/>\n      <use xlink:href=\"#DejaVuSans-72\" transform=\"translate(39.208984 0)\"/>\n      <use xlink:href=\"#DejaVuSans-61\" transform=\"translate(80.322266 0)\"/>\n      <use xlink:href=\"#DejaVuSans-69\" transform=\"translate(141.601562 0)\"/>\n      <use xlink:href=\"#DejaVuSans-6e\" transform=\"translate(169.384766 0)\"/>\n      <use xlink:href=\"#DejaVuSans-20\" transform=\"translate(232.763672 0)\"/>\n      <use xlink:href=\"#DejaVuSans-6c\" transform=\"translate(264.550781 0)\"/>\n      <use xlink:href=\"#DejaVuSans-6f\" transform=\"translate(292.333984 0)\"/>\n      <use xlink:href=\"#DejaVuSans-73\" transform=\"translate(353.515625 0)\"/>\n      <use xlink:href=\"#DejaVuSans-73\" transform=\"translate(405.615234 0)\"/>\n     </g>\n    </g>\n    <g id=\"line2d_25\">\n     <path d=\"M 142.634375 37.553452 \nL 152.634375 37.553452 \nL 162.634375 37.553452 \n\" style=\"fill: none; stroke-dasharray: 5.55,2.4; stroke-dashoffset: 0; stroke: #bf00bf; stroke-width: 1.5\"/>\n    </g>\n    <g id=\"text_13\">\n     <!-- train acc -->\n     <g transform=\"translate(170.634375 41.053452) scale(0.1 -0.1)\">\n      <use xlink:href=\"#DejaVuSans-74\"/>\n      <use xlink:href=\"#DejaVuSans-72\" transform=\"translate(39.208984 0)\"/>\n      <use xlink:href=\"#DejaVuSans-61\" transform=\"translate(80.322266 0)\"/>\n      <use xlink:href=\"#DejaVuSans-69\" transform=\"translate(141.601562 0)\"/>\n      <use xlink:href=\"#DejaVuSans-6e\" transform=\"translate(169.384766 0)\"/>\n      <use xlink:href=\"#DejaVuSans-20\" transform=\"translate(232.763672 0)\"/>\n      <use xlink:href=\"#DejaVuSans-61\" transform=\"translate(264.550781 0)\"/>\n      <use xlink:href=\"#DejaVuSans-63\" transform=\"translate(325.830078 0)\"/>\n      <use xlink:href=\"#DejaVuSans-63\" transform=\"translate(380.810547 0)\"/>\n     </g>\n    </g>\n    <g id=\"line2d_26\">\n     <path d=\"M 142.634375 52.231577 \nL 152.634375 52.231577 \nL 162.634375 52.231577 \n\" style=\"fill: none; stroke-dasharray: 9.6,2.4,1.5,2.4; stroke-dashoffset: 0; stroke: #008000; stroke-width: 1.5\"/>\n    </g>\n    <g id=\"text_14\">\n     <!-- test acc -->\n     <g transform=\"translate(170.634375 55.731577) scale(0.1 -0.1)\">\n      <use xlink:href=\"#DejaVuSans-74\"/>\n      <use xlink:href=\"#DejaVuSans-65\" transform=\"translate(39.208984 0)\"/>\n      <use xlink:href=\"#DejaVuSans-73\" transform=\"translate(100.732422 0)\"/>\n      <use xlink:href=\"#DejaVuSans-74\" transform=\"translate(152.832031 0)\"/>\n      <use xlink:href=\"#DejaVuSans-20\" transform=\"translate(192.041016 0)\"/>\n      <use xlink:href=\"#DejaVuSans-61\" transform=\"translate(223.828125 0)\"/>\n      <use xlink:href=\"#DejaVuSans-63\" transform=\"translate(285.107422 0)\"/>\n      <use xlink:href=\"#DejaVuSans-63\" transform=\"translate(340.087891 0)\"/>\n     </g>\n    </g>\n   </g>\n  </g>\n </g>\n <defs>\n  <clipPath id=\"p96cb8df4fd\">\n   <rect x=\"30.103125\" y=\"9.77689\" width=\"195.3\" height=\"138.6\"/>\n  </clipPath>\n </defs>\n</svg>\n"
          },
          "metadata": {}
        }
      ],
      "source": [
        "lr, num_epochs, batch_size = 0.05, 10, 256\n",
        "train_iter, test_iter = d2l.load_data_fashion_mnist(batch_size, resize=96)\n",
        "d2l.train_ch6(net, train_iter, test_iter, num_epochs, lr, d2l.try_gpu())"
      ]
    },
    {
      "cell_type": "markdown",
      "id": "17f638fb",
      "metadata": {
        "origin_pos": 41,
        "id": "17f638fb"
      },
      "source": [
        "## 小结\n",
        "\n",
        "* 学习嵌套函数（nested function）是训练神经网络的理想情况。在深层神经网络中，学习另一层作为恒等映射（identity function）较容易（尽管这是一个极端情况）。\n",
        "* 残差映射可以更容易地学习同一函数，例如将权重层中的参数近似为零。\n",
        "* 利用残差块（residual blocks）可以训练出一个有效的深层神经网络：输入可以通过层间的残余连接更快地向前传播。\n",
        "* 残差网络（ResNet）对随后的深层神经网络设计产生了深远影响。\n",
        "\n",
        "## 练习\n",
        "\n",
        "1.  :numref:`fig_inception`中的Inception块与残差块之间的主要区别是什么？在删除了Inception块中的一些路径之后，它们是如何相互关联的？\n",
        "1. 参考ResNet论文 :cite:`He.Zhang.Ren.ea.2016`中的表1，以实现不同的变体。\n",
        "1. 对于更深层次的网络，ResNet引入了“bottleneck”架构来降低模型复杂性。请试着去实现它。\n",
        "1. 在ResNet的后续版本中，作者将“卷积层、批量规范化层和激活层”架构更改为“批量规范化层、激活层和卷积层”架构。请尝试做这个改进。详见 :cite:`He.Zhang.Ren.ea.2016*1`中的图1。\n",
        "1. 为什么即使函数类是嵌套的，我们仍然要限制增加函数的复杂性呢？\n"
      ]
    },
    {
      "cell_type": "markdown",
      "source": [],
      "metadata": {
        "id": "EqJv3mjo0oe5"
      },
      "id": "EqJv3mjo0oe5"
    },
    {
      "cell_type": "markdown",
      "source": [
        "# ======================\n",
        "# 一、Inception块与残差块的主要区别\n",
        "# ======================\n",
        "\n",
        "\"\"\"\n",
        "1. 结构设计差异\n",
        "------------------------------------------\n",
        "• Inception块:\n",
        "  - 并行多路径结构\n",
        "  - 每条路径执行不同操作(1×1卷积/3×3卷积/5×5卷积/池化等)\n",
        "  - 输出在通道维度拼接(concatenate)\n",
        "  \n",
        "• 残差块:\n",
        "  - 跳跃连接结构(skip connection)\n",
        "  - 输入直接与卷积层输出相加(add)\n",
        "  - 典型结构: 两个卷积层(含BN和ReLU)\n",
        "\n",
        "2. 功能目标差异\n",
        "------------------------------------------\n",
        "• Inception块:\n",
        "  - 多尺度特征融合\n",
        "  - 计算效率优化(通过1×1卷积降维)\n",
        "  \n",
        "• 残差块:\n",
        "  - 解决梯度消失/爆炸问题\n",
        "  - 缓解网络退化问题\n",
        "  - 支持极深层网络训练\n",
        "\n",
        "3. 特征融合方式对比\n",
        "------------------------------------------\n",
        "| 特性         | Inception块             | 残差块               |\n",
        "|--------------|-------------------------|---------------------|\n",
        "| 融合操作     | 通道拼接                | 逐元素相加          |\n",
        "| 输出变化     | 增加通道数              | 保持通道数不变      |\n",
        "| 特征处理     | 保留各路径原始特征      | 强调特征复用        |\n",
        "\n",
        "4. 典型应用对比\n",
        "------------------------------------------\n",
        "• Inception块: GoogleNet (Inception v1-v4)\n",
        "• 残差块: ResNet及其变体\n",
        "\"\"\"\n",
        "\n",
        "# ======================\n",
        "# 二、删除路径后的关联性\n",
        "# ======================\n",
        "\n",
        "\"\"\"\n",
        "1. 删除路径后的Inception块特性\n",
        "------------------------------------------\n",
        "• 仍保持并行路径基本结构\n",
        "• 特征多样性降低\n",
        "• 输出仍是多路径特征拼接\n",
        "  示例: 仅保留1×1和3×3路径时:\n",
        "        ┌─1×1卷积─┐\n",
        "    输入─┤          ├─拼接→输出\n",
        "        └─3×3卷积─┘\n",
        "\n",
        "2. 与残差块的本质区别\n",
        "------------------------------------------\n",
        "• 无法退化为残差块的核心原因:\n",
        "  - 缺少跳跃连接设计\n",
        "  - 特征融合方式不同(拼接 vs 相加)\n",
        "  \n",
        "• 结构对比示意图:\n",
        "  残差块结构:\n",
        "    输入─┬─卷积层─┐\n",
        "        │        ├─相加→输出\n",
        "        └───────┘\n",
        "\n",
        "3. 可能的融合设计\n",
        "------------------------------------------\n",
        "• 需额外设计才能实现转化:\n",
        "  - 引入跳跃连接\n",
        "  - 将拼接改为相加操作\n",
        "  示例: Inception-ResNet中的残差连接设计\n",
        "\"\"\""
      ],
      "metadata": {
        "id": "4ysGSkcC0nQO"
      },
      "id": "4ysGSkcC0nQO"
    },
    {
      "cell_type": "markdown",
      "source": [],
      "metadata": {
        "id": "NmqgAzJtytvF"
      },
      "id": "NmqgAzJtytvF"
    },
    {
      "cell_type": "markdown",
      "id": "8af86e79",
      "metadata": {
        "origin_pos": 43,
        "tab": [
          "pytorch"
        ],
        "id": "8af86e79"
      },
      "source": [
        "[Discussions](https://discuss.d2l.ai/t/1877)\n"
      ]
    },
    {
      "cell_type": "markdown",
      "source": [
        "在神经网络中，它表示某一层（或模块）的输入特征直接无损传递到输出。\n",
        "操作等价：\n",
        "对任意输入数据，不做任何变换（如旋转/缩放/平移），直接返回原值。\n",
        "### 🧠 神经网络中恒等映射的意义\n",
        "\n",
        "| **场景**               | **传统网络层**                          | **恒等映射的作用**                     |\n",
        "|------------------------|----------------------------------------|----------------------------------------|\n",
        "| **不需要特征变换时**   | 需精确学习 $W=0, b=0$ 实现 $y=x$       | **天然满足** $y = \\text{skip}(x) = x$ |\n",
        "| **深层网络冗余层**     | 可能破坏已有特征                       | 允许多余层\"无害化\"跳过变换             |\n",
        "| **梯度传播**           | 逐层衰减                               | 通过跳跃连接**无损传播梯度**           |\n",
        "| **优化难度**           | 需精确调整参数实现恒等映射 ★★★★☆        | 残差项趋零即可实现 ★☆☆☆☆               |\n",
        "| **特征保留能力**       | 容易丢失原始特征                       | 原始特征通过跳跃连接直接保留           |"
      ],
      "metadata": {
        "id": "P4fQiHxz1-TV"
      },
      "id": "P4fQiHxz1-TV"
    },
    {
      "cell_type": "code",
      "source": [
        "!pip install git+https://github.com/d2l-ai/d2l-zh@release --no-deps --force-reinstall\n",
        "!pip install numpy>=1.20"
      ],
      "metadata": {
        "id": "e9BEpWEo56-X",
        "outputId": "351abb3e-2925-4f78-e3a5-b2190654afa1",
        "colab": {
          "base_uri": "https://localhost:8080/"
        }
      },
      "id": "e9BEpWEo56-X",
      "execution_count": 3,
      "outputs": [
        {
          "output_type": "stream",
          "name": "stdout",
          "text": [
            "Collecting git+https://github.com/d2l-ai/d2l-zh@release\n",
            "  Cloning https://github.com/d2l-ai/d2l-zh (to revision release) to /tmp/pip-req-build-vt7s_5ih\n",
            "  Running command git clone --filter=blob:none --quiet https://github.com/d2l-ai/d2l-zh /tmp/pip-req-build-vt7s_5ih\n",
            "  Running command git checkout -b release --track origin/release\n",
            "  Switched to a new branch 'release'\n",
            "  Branch 'release' set up to track remote branch 'release' from 'origin'.\n",
            "  Resolved https://github.com/d2l-ai/d2l-zh to commit 843d3d41dca48d8df65f4b324dd171d8bfe9c067\n",
            "  Running command git submodule update --init --recursive -q\n",
            "  Installing build dependencies ... \u001b[?25l\u001b[?25hdone\n",
            "  Getting requirements to build wheel ... \u001b[?25l\u001b[?25hdone\n",
            "  Preparing metadata (pyproject.toml) ... \u001b[?25l\u001b[?25hdone\n",
            "Building wheels for collected packages: d2l\n",
            "  Building wheel for d2l (pyproject.toml) ... \u001b[?25l\u001b[?25hdone\n",
            "  Created wheel for d2l: filename=d2l-2.0.0-py3-none-any.whl size=110870 sha256=e704869ccbb4bd380e004aee46edee2aa24291adcce632ff6098f2df5be867f6\n",
            "  Stored in directory: /tmp/pip-ephem-wheel-cache-v4iqx0y7/wheels/53/15/45/14b38ed62d9bc53ab3de439d4c2a79f70a00112eeeadcf6c34\n",
            "Successfully built d2l\n",
            "Installing collected packages: d2l\n",
            "Successfully installed d2l-2.0.0\n"
          ]
        }
      ]
    },
    {
      "cell_type": "code",
      "source": [
        "#ResNet-18、34、50、101、152\n",
        "#b1已经有两层 卷积层和maxpool层 网络的总层数通常指的是“带权重的层”，包括卷积层和全连接层，而池化层不计入总层数（因为池化层没有可训练参数）。\n",
        "#b1 层只有一层 resnet18没有b1\n",
        "\n",
        "import torch\n",
        "from torch import nn\n",
        "from torch.nn import functional as F\n",
        "from d2l import torch as d2l\n",
        "\n",
        "class Residual(nn.Module):  #@save\n",
        "    def __init__(self, input_channels, num_channels,\n",
        "                 use_1x1conv=False, strides=1):\n",
        "        super().__init__()\n",
        "        self.conv1 = nn.Conv2d(input_channels, num_channels,\n",
        "                               kernel_size=3, padding=1, stride=strides)\n",
        "        self.conv2 = nn.Conv2d(num_channels, num_channels,\n",
        "                               kernel_size=3, padding=1)\n",
        "        if use_1x1conv:\n",
        "            self.conv3 = nn.Conv2d(input_channels, num_channels,\n",
        "                                   kernel_size=1, stride=strides)\n",
        "        else:\n",
        "            self.conv3 = None\n",
        "        self.bn1 = nn.BatchNorm2d(num_channels)\n",
        "        self.bn2 = nn.BatchNorm2d(num_channels)\n",
        "\n",
        "    def forward(self, X):\n",
        "        Y = F.relu(self.bn1(self.conv1(X))) #卷积层 batchnormalization relu\n",
        "        Y = self.bn2(self.conv2(Y))#卷积层 + batch normalization\n",
        "        if self.conv3:\n",
        "            X = self.conv3(X)\n",
        "        Y += X #\n",
        "        return F.relu(Y)\n",
        "\n",
        "b1 = nn.Sequential(nn.Conv2d(1, 64, kernel_size=7, stride=2, padding=3),\n",
        "                   nn.BatchNorm2d(64), nn.ReLU(),\n",
        "                   nn.MaxPool2d(kernel_size=3, stride=2, padding=1))\n",
        "def resnet_block(input_channels, num_channels, num_residuals,\n",
        "                 first_block=False):\n",
        "    blk = []\n",
        "    for i in range(num_residuals):\n",
        "        if i == 0 and not first_block:\n",
        "            blk.append(Residual(input_channels, num_channels,\n",
        "                                use_1x1conv=True, strides=2)) #开始尺寸减半\n",
        "        else:\n",
        "            blk.append(Residual(num_channels, num_channels))\n",
        "    return blk\n",
        "\n",
        "b2 = nn.Sequential(*resnet_block(64, 64, 2, first_block=True)) #true的话 第一个block是不带use_1X1conv的。每个block是包含两个残差块 一个残差块就是两层卷积\n",
        "b3 = nn.Sequential(*resnet_block(64, 128, 2)) #1 + 4 + 4 + 4 + 1\n",
        "b4 = nn.Sequential(*resnet_block(128, 256, 2))\n",
        "b5 = nn.Sequential(*resnet_block(256, 512, 2))\n",
        "net = nn.Sequential(b1, b2, b3, b4,b5,\n",
        "                    nn.AdaptiveAvgPool2d((1,1)), #一个channel只保留一个数\n",
        "                    nn.Flatten(), nn.Linear(512, 10)\n",
        "                    )\n",
        "X = torch.rand(size=(1, 1, 224, 224))\n",
        "for layer in net: #直接一层层调用？\n",
        "    X = layer(X)\n",
        "    print(layer.__class__.__name__,'output shape:\\t', X.shape)\n",
        "\n",
        "'''\n",
        "BatchNorm层不计入总层数\n",
        "只有卷积层(Conv)和全连接层(FC)被计数\n",
        "这是行业通用标准（与VGG、AlexNet等一致）\n",
        "'''"
      ],
      "metadata": {
        "id": "YE4QSRgv28aJ",
        "outputId": "b0be3a03-aea1-469a-91f4-3aa3d5964652",
        "colab": {
          "base_uri": "https://localhost:8080/",
          "height": 178
        }
      },
      "id": "YE4QSRgv28aJ",
      "execution_count": 9,
      "outputs": [
        {
          "output_type": "stream",
          "name": "stdout",
          "text": [
            "Sequential output shape:\t torch.Size([1, 64, 56, 56])\n",
            "Sequential output shape:\t torch.Size([1, 64, 56, 56])\n",
            "Sequential output shape:\t torch.Size([1, 128, 28, 28])\n",
            "Sequential output shape:\t torch.Size([1, 256, 14, 14])\n",
            "Sequential output shape:\t torch.Size([1, 512, 7, 7])\n",
            "AdaptiveAvgPool2d output shape:\t torch.Size([1, 512, 1, 1])\n",
            "Flatten output shape:\t torch.Size([1, 512])\n",
            "Linear output shape:\t torch.Size([1, 10])\n"
          ]
        },
        {
          "output_type": "execute_result",
          "data": {
            "text/plain": [
              "'\\nBatchNorm层不计入总层数\\n只有卷积层(Conv)和全连接层(FC)被计数\\n这是行业通用标准（与VGG、AlexNet等一致）\\n'"
            ],
            "application/vnd.google.colaboratory.intrinsic+json": {
              "type": "string"
            }
          },
          "metadata": {},
          "execution_count": 9
        }
      ]
    },
    {
      "cell_type": "code",
      "source": [
        "#ResNet-34\n",
        "import torch\n",
        "import torch.nn as nn\n",
        "import torch.nn.functional as F\n",
        "\n",
        "class Residual(nn.Module):\n",
        "    def __init__(self, input_channels, num_channels,\n",
        "                 use_1x1conv=False, strides=1):\n",
        "        super().__init__()\n",
        "        self.conv1 = nn.Conv2d(input_channels, num_channels,\n",
        "                               kernel_size=3, padding=1, stride=strides)\n",
        "        self.conv2 = nn.Conv2d(num_channels, num_channels,\n",
        "                               kernel_size=3, padding=1)\n",
        "        if use_1x1conv:\n",
        "            self.conv3 = nn.Conv2d(input_channels, num_channels,\n",
        "                                   kernel_size=1, stride=strides)\n",
        "        else:\n",
        "            self.conv3 = None\n",
        "        self.bn1 = nn.BatchNorm2d(num_channels)\n",
        "        self.bn2 = nn.BatchNorm2d(num_channels)\n",
        "\n",
        "    def forward(self, X):\n",
        "        Y = F.relu(self.bn1(self.conv1(X)))\n",
        "        Y = self.bn2(self.conv2(Y))\n",
        "        if self.conv3:\n",
        "            X = self.conv3(X)\n",
        "        Y += X\n",
        "        return F.relu(Y)\n",
        "\n",
        "def resnet_block(input_channels, num_channels, num_residuals,\n",
        "                 first_block=False):\n",
        "    blk = []\n",
        "    for i in range(num_residuals):\n",
        "        if i == 0 and not first_block:\n",
        "            blk.append(Residual(input_channels, num_channels,\n",
        "                                use_1x1conv=True, strides=2))\n",
        "        else:\n",
        "            blk.append(Residual(num_channels, num_channels))\n",
        "    return blk\n",
        "\n",
        "# 初始卷积层（计入1层）\n",
        "b1 = nn.Sequential(\n",
        "    nn.Conv2d(3, 64, kernel_size=7, stride=2, padding=3),\n",
        "    nn.BatchNorm2d(64),\n",
        "    nn.ReLU(),\n",
        "    nn.MaxPool2d(kernel_size=3, stride=2, padding=1)\n",
        ")\n",
        "\n",
        "# 构建32层ResNet（卷积层总数=1+3*2+4*2+6*2+3*2=32）\n",
        "# 阶段1：3个残差块（6层）\n",
        "b2 = nn.Sequential(*resnet_block(64, 64, 3, first_block=True))\n",
        "# 阶段2：4个残差块（8层）\n",
        "b3 = nn.Sequential(*resnet_block(64, 128, 4))\n",
        "# 阶段3：6个残差块（12层）\n",
        "b4 = nn.Sequential(*resnet_block(128, 256, 6))\n",
        "# 阶段4：3个残差块（6层）\n",
        "b5 = nn.Sequential(*resnet_block(256, 512, 3))\n",
        "\n",
        "# 完整网络（总层数=32卷积层+1全连接层=33层）\n",
        "net = nn.Sequential(\n",
        "    b1, b2, b3, b4, b5,\n",
        "    nn.AdaptiveAvgPool2d((1, 1)),\n",
        "    nn.Flatten(),\n",
        "    nn.Linear(512, 1000)  # 假设1000类分类\n",
        ")\n",
        "\n",
        "# 验证网络结构\n",
        "print(net)\n",
        "\n",
        "# 测试输入输出\n",
        "X = torch.rand(1, 3, 224, 224)  # 批大小1, 3通道, 224x224\n",
        "for layer in net:\n",
        "    X = layer(X)\n",
        "    print(layer.__class__.__name__, 'output shape:\\t', X.shape)"
      ],
      "metadata": {
        "id": "t5r6KbXQ7kYa"
      },
      "id": "t5r6KbXQ7kYa",
      "execution_count": null,
      "outputs": []
    },
    {
      "cell_type": "code",
      "source": [
        "import torch\n",
        "import torch.nn as nn\n",
        "import torch.nn.functional as F\n",
        "\n",
        "class Bottleneck(nn.Module):\n",
        "    def __init__(self, input_channels, num_channels,\n",
        "                 use_1x1conv=False, strides=1, reduction=4):\n",
        "        \"\"\"\n",
        "        Args:\n",
        "            input_channels: 输入通道数\n",
        "            num_channels: 输出通道数\n",
        "            use_1x1conv: 是否在shortcut路径使用1x1卷积\n",
        "            strides: 卷积步幅（用于下采样）\n",
        "            reduction: 瓶颈压缩比例（默认4倍）\n",
        "        \"\"\"\n",
        "        super().__init__()\n",
        "        # 计算中间层的通道数（瓶颈层）\n",
        "        bottleneck_channels = num_channels // reduction #chanenl直接压缩4倍 就多了一个输出维度减少。多一个维度就多一个那个维度的模版\n",
        "\n",
        "        # 第一层：1x1卷积（降维）\n",
        "        self.conv1 = nn.Conv2d(input_channels, bottleneck_channels,\n",
        "                               kernel_size=1, stride=1)\n",
        "        self.bn1 = nn.BatchNorm2d(bottleneck_channels)\n",
        "\n",
        "        # 第二层：3x3卷积（主特征提取）\n",
        "        self.conv2 = nn.Conv2d(bottleneck_channels, bottleneck_channels,\n",
        "                               kernel_size=3, padding=1, stride=strides)\n",
        "        self.bn2 = nn.BatchNorm2d(bottleneck_channels)\n",
        "\n",
        "        # 第三层：1x1卷积（升维）\n",
        "        self.conv3 = nn.Conv2d(bottleneck_channels, num_channels,\n",
        "                               kernel_size=1, stride=1)\n",
        "        self.bn3 = nn.BatchNorm2d(num_channels)\n",
        "\n",
        "        # Shortcut连接 通常情况下 这个不算一层\n",
        "        if use_1x1conv:\n",
        "            self.conv_shortcut = nn.Conv2d(input_channels, num_channels,\n",
        "                                           kernel_size=1, stride=strides)\n",
        "        else:\n",
        "            self.conv_shortcut = None\n",
        "\n",
        "    def forward(self, X):\n",
        "        # 主路径\n",
        "        Y = F.relu(self.bn1(self.conv1(X)))   # 降维\n",
        "        Y = F.relu(self.bn2(self.conv2(Y)))   # 3x3卷积\n",
        "        Y = self.bn3(self.conv3(Y))           # 升维（不立即激活）\n",
        "\n",
        "        # Shortcut路径\n",
        "        if self.conv_shortcut:\n",
        "            X = self.conv_shortcut(X)\n",
        "\n",
        "        # 残差连接 + 激活\n",
        "        Y += X\n",
        "        return F.relu(Y)"
      ],
      "metadata": {
        "id": "Vhi6_6j79RYp"
      },
      "id": "Vhi6_6j79RYp",
      "execution_count": 12,
      "outputs": []
    },
    {
      "cell_type": "code",
      "source": [
        "#resnet-50\n",
        "def resnet_bottleneck_block(input_channels, num_channels, num_blocks, first_block=False):\n",
        "    blk = []\n",
        "    for i in range(num_blocks):\n",
        "        strides = 1\n",
        "        use_1x1conv = False\n",
        "\n",
        "        # 第一个块可能需要下采样\n",
        "        if i == 0:\n",
        "            if not first_block:\n",
        "                strides = 2  # 特征图尺寸减半\n",
        "                use_1x1conv = True\n",
        "            elif input_channels != num_channels:\n",
        "                use_1x1conv = True  # 通道数变化时需要1x1卷积\n",
        "        #bottle net名字起的其实就是封装了个容器。resnet_bottleneck_block\n",
        "        blk.append(Bottleneck(\n",
        "            input_channels if i == 0 else num_channels,\n",
        "            num_channels,\n",
        "            use_1x1conv=use_1x1conv,\n",
        "            strides=strides\n",
        "        ))\n",
        "    return blk\n",
        "\n",
        "# 构建ResNet-50\n",
        "b1 = nn.Sequential(\n",
        "    nn.Conv2d(3, 64, kernel_size=7, stride=2, padding=3), #第一层\n",
        "    nn.BatchNorm2d(64), nn.ReLU(),\n",
        "    nn.MaxPool2d(kernel_size=3, stride=2, padding=1)\n",
        ")\n",
        "\n",
        "# 各阶段配置：[块数量, 输出通道数]\n",
        "config = [\n",
        "    (3, 256),  # stage1: 3个bottleneck, 输出256通道。3*3 = 9\n",
        "    (4, 512),  # stage2   12\n",
        "    (6, 1024), # stage3  18\n",
        "    (3, 2048)  # stage4 9\n",
        "]\n",
        "#一共48层 前后两层 一共50层\n",
        "# 构建网络\n",
        "stages = nn.Sequential()\n",
        "input_channels = 64\n",
        "for i, (num_blocks, num_channels) in enumerate(config):\n",
        "    first_block = (i == 0)\n",
        "    stage = resnet_bottleneck_block(\n",
        "        input_channels, num_channels, num_blocks, first_block\n",
        "    )\n",
        "    stages.add_module(f\"stage{i+1}\", nn.Sequential(*stage))\n",
        "    input_channels = num_channels\n",
        "\n",
        "net = nn.Sequential(\n",
        "    b1,\n",
        "    stages,\n",
        "    nn.AdaptiveAvgPool2d((1, 1)),\n",
        "    nn.Flatten(),\n",
        "    nn.Linear(2048, 1000)  # ImageNet分类\n",
        ")\n",
        "#- 例如：输入尺寸为 `(B, C, H, W)`，经过 `nn.AdaptiveAvgPool2d((1,1))` 后，输出尺寸为 `(B, C, 1, 1)`。\n",
        "print(net)\n",
        "\n",
        "# 测试输入输出\n",
        "X = torch.rand(1, 3, 224, 224)  # 批大小1, 3通道, 224x224\n",
        "for layer in net:\n",
        "    X = layer(X)\n",
        "    print(layer.__class__.__name__, 'output shape:\\t', X.shape)"
      ],
      "metadata": {
        "id": "jRL79C3K-Gfv",
        "outputId": "c7694e93-7d3d-4529-9a2e-16646c5b2369",
        "colab": {
          "base_uri": "https://localhost:8080/"
        }
      },
      "id": "jRL79C3K-Gfv",
      "execution_count": 13,
      "outputs": [
        {
          "output_type": "stream",
          "name": "stdout",
          "text": [
            "Sequential(\n",
            "  (0): Sequential(\n",
            "    (0): Conv2d(3, 64, kernel_size=(7, 7), stride=(2, 2), padding=(3, 3))\n",
            "    (1): BatchNorm2d(64, eps=1e-05, momentum=0.1, affine=True, track_running_stats=True)\n",
            "    (2): ReLU()\n",
            "    (3): MaxPool2d(kernel_size=3, stride=2, padding=1, dilation=1, ceil_mode=False)\n",
            "  )\n",
            "  (1): Sequential(\n",
            "    (stage1): Sequential(\n",
            "      (0): Bottleneck(\n",
            "        (conv1): Conv2d(64, 64, kernel_size=(1, 1), stride=(1, 1))\n",
            "        (bn1): BatchNorm2d(64, eps=1e-05, momentum=0.1, affine=True, track_running_stats=True)\n",
            "        (conv2): Conv2d(64, 64, kernel_size=(3, 3), stride=(1, 1), padding=(1, 1))\n",
            "        (bn2): BatchNorm2d(64, eps=1e-05, momentum=0.1, affine=True, track_running_stats=True)\n",
            "        (conv3): Conv2d(64, 256, kernel_size=(1, 1), stride=(1, 1))\n",
            "        (bn3): BatchNorm2d(256, eps=1e-05, momentum=0.1, affine=True, track_running_stats=True)\n",
            "        (conv_shortcut): Conv2d(64, 256, kernel_size=(1, 1), stride=(1, 1))\n",
            "      )\n",
            "      (1): Bottleneck(\n",
            "        (conv1): Conv2d(256, 64, kernel_size=(1, 1), stride=(1, 1))\n",
            "        (bn1): BatchNorm2d(64, eps=1e-05, momentum=0.1, affine=True, track_running_stats=True)\n",
            "        (conv2): Conv2d(64, 64, kernel_size=(3, 3), stride=(1, 1), padding=(1, 1))\n",
            "        (bn2): BatchNorm2d(64, eps=1e-05, momentum=0.1, affine=True, track_running_stats=True)\n",
            "        (conv3): Conv2d(64, 256, kernel_size=(1, 1), stride=(1, 1))\n",
            "        (bn3): BatchNorm2d(256, eps=1e-05, momentum=0.1, affine=True, track_running_stats=True)\n",
            "      )\n",
            "      (2): Bottleneck(\n",
            "        (conv1): Conv2d(256, 64, kernel_size=(1, 1), stride=(1, 1))\n",
            "        (bn1): BatchNorm2d(64, eps=1e-05, momentum=0.1, affine=True, track_running_stats=True)\n",
            "        (conv2): Conv2d(64, 64, kernel_size=(3, 3), stride=(1, 1), padding=(1, 1))\n",
            "        (bn2): BatchNorm2d(64, eps=1e-05, momentum=0.1, affine=True, track_running_stats=True)\n",
            "        (conv3): Conv2d(64, 256, kernel_size=(1, 1), stride=(1, 1))\n",
            "        (bn3): BatchNorm2d(256, eps=1e-05, momentum=0.1, affine=True, track_running_stats=True)\n",
            "      )\n",
            "    )\n",
            "    (stage2): Sequential(\n",
            "      (0): Bottleneck(\n",
            "        (conv1): Conv2d(256, 128, kernel_size=(1, 1), stride=(1, 1))\n",
            "        (bn1): BatchNorm2d(128, eps=1e-05, momentum=0.1, affine=True, track_running_stats=True)\n",
            "        (conv2): Conv2d(128, 128, kernel_size=(3, 3), stride=(2, 2), padding=(1, 1))\n",
            "        (bn2): BatchNorm2d(128, eps=1e-05, momentum=0.1, affine=True, track_running_stats=True)\n",
            "        (conv3): Conv2d(128, 512, kernel_size=(1, 1), stride=(1, 1))\n",
            "        (bn3): BatchNorm2d(512, eps=1e-05, momentum=0.1, affine=True, track_running_stats=True)\n",
            "        (conv_shortcut): Conv2d(256, 512, kernel_size=(1, 1), stride=(2, 2))\n",
            "      )\n",
            "      (1): Bottleneck(\n",
            "        (conv1): Conv2d(512, 128, kernel_size=(1, 1), stride=(1, 1))\n",
            "        (bn1): BatchNorm2d(128, eps=1e-05, momentum=0.1, affine=True, track_running_stats=True)\n",
            "        (conv2): Conv2d(128, 128, kernel_size=(3, 3), stride=(1, 1), padding=(1, 1))\n",
            "        (bn2): BatchNorm2d(128, eps=1e-05, momentum=0.1, affine=True, track_running_stats=True)\n",
            "        (conv3): Conv2d(128, 512, kernel_size=(1, 1), stride=(1, 1))\n",
            "        (bn3): BatchNorm2d(512, eps=1e-05, momentum=0.1, affine=True, track_running_stats=True)\n",
            "      )\n",
            "      (2): Bottleneck(\n",
            "        (conv1): Conv2d(512, 128, kernel_size=(1, 1), stride=(1, 1))\n",
            "        (bn1): BatchNorm2d(128, eps=1e-05, momentum=0.1, affine=True, track_running_stats=True)\n",
            "        (conv2): Conv2d(128, 128, kernel_size=(3, 3), stride=(1, 1), padding=(1, 1))\n",
            "        (bn2): BatchNorm2d(128, eps=1e-05, momentum=0.1, affine=True, track_running_stats=True)\n",
            "        (conv3): Conv2d(128, 512, kernel_size=(1, 1), stride=(1, 1))\n",
            "        (bn3): BatchNorm2d(512, eps=1e-05, momentum=0.1, affine=True, track_running_stats=True)\n",
            "      )\n",
            "      (3): Bottleneck(\n",
            "        (conv1): Conv2d(512, 128, kernel_size=(1, 1), stride=(1, 1))\n",
            "        (bn1): BatchNorm2d(128, eps=1e-05, momentum=0.1, affine=True, track_running_stats=True)\n",
            "        (conv2): Conv2d(128, 128, kernel_size=(3, 3), stride=(1, 1), padding=(1, 1))\n",
            "        (bn2): BatchNorm2d(128, eps=1e-05, momentum=0.1, affine=True, track_running_stats=True)\n",
            "        (conv3): Conv2d(128, 512, kernel_size=(1, 1), stride=(1, 1))\n",
            "        (bn3): BatchNorm2d(512, eps=1e-05, momentum=0.1, affine=True, track_running_stats=True)\n",
            "      )\n",
            "    )\n",
            "    (stage3): Sequential(\n",
            "      (0): Bottleneck(\n",
            "        (conv1): Conv2d(512, 256, kernel_size=(1, 1), stride=(1, 1))\n",
            "        (bn1): BatchNorm2d(256, eps=1e-05, momentum=0.1, affine=True, track_running_stats=True)\n",
            "        (conv2): Conv2d(256, 256, kernel_size=(3, 3), stride=(2, 2), padding=(1, 1))\n",
            "        (bn2): BatchNorm2d(256, eps=1e-05, momentum=0.1, affine=True, track_running_stats=True)\n",
            "        (conv3): Conv2d(256, 1024, kernel_size=(1, 1), stride=(1, 1))\n",
            "        (bn3): BatchNorm2d(1024, eps=1e-05, momentum=0.1, affine=True, track_running_stats=True)\n",
            "        (conv_shortcut): Conv2d(512, 1024, kernel_size=(1, 1), stride=(2, 2))\n",
            "      )\n",
            "      (1): Bottleneck(\n",
            "        (conv1): Conv2d(1024, 256, kernel_size=(1, 1), stride=(1, 1))\n",
            "        (bn1): BatchNorm2d(256, eps=1e-05, momentum=0.1, affine=True, track_running_stats=True)\n",
            "        (conv2): Conv2d(256, 256, kernel_size=(3, 3), stride=(1, 1), padding=(1, 1))\n",
            "        (bn2): BatchNorm2d(256, eps=1e-05, momentum=0.1, affine=True, track_running_stats=True)\n",
            "        (conv3): Conv2d(256, 1024, kernel_size=(1, 1), stride=(1, 1))\n",
            "        (bn3): BatchNorm2d(1024, eps=1e-05, momentum=0.1, affine=True, track_running_stats=True)\n",
            "      )\n",
            "      (2): Bottleneck(\n",
            "        (conv1): Conv2d(1024, 256, kernel_size=(1, 1), stride=(1, 1))\n",
            "        (bn1): BatchNorm2d(256, eps=1e-05, momentum=0.1, affine=True, track_running_stats=True)\n",
            "        (conv2): Conv2d(256, 256, kernel_size=(3, 3), stride=(1, 1), padding=(1, 1))\n",
            "        (bn2): BatchNorm2d(256, eps=1e-05, momentum=0.1, affine=True, track_running_stats=True)\n",
            "        (conv3): Conv2d(256, 1024, kernel_size=(1, 1), stride=(1, 1))\n",
            "        (bn3): BatchNorm2d(1024, eps=1e-05, momentum=0.1, affine=True, track_running_stats=True)\n",
            "      )\n",
            "      (3): Bottleneck(\n",
            "        (conv1): Conv2d(1024, 256, kernel_size=(1, 1), stride=(1, 1))\n",
            "        (bn1): BatchNorm2d(256, eps=1e-05, momentum=0.1, affine=True, track_running_stats=True)\n",
            "        (conv2): Conv2d(256, 256, kernel_size=(3, 3), stride=(1, 1), padding=(1, 1))\n",
            "        (bn2): BatchNorm2d(256, eps=1e-05, momentum=0.1, affine=True, track_running_stats=True)\n",
            "        (conv3): Conv2d(256, 1024, kernel_size=(1, 1), stride=(1, 1))\n",
            "        (bn3): BatchNorm2d(1024, eps=1e-05, momentum=0.1, affine=True, track_running_stats=True)\n",
            "      )\n",
            "      (4): Bottleneck(\n",
            "        (conv1): Conv2d(1024, 256, kernel_size=(1, 1), stride=(1, 1))\n",
            "        (bn1): BatchNorm2d(256, eps=1e-05, momentum=0.1, affine=True, track_running_stats=True)\n",
            "        (conv2): Conv2d(256, 256, kernel_size=(3, 3), stride=(1, 1), padding=(1, 1))\n",
            "        (bn2): BatchNorm2d(256, eps=1e-05, momentum=0.1, affine=True, track_running_stats=True)\n",
            "        (conv3): Conv2d(256, 1024, kernel_size=(1, 1), stride=(1, 1))\n",
            "        (bn3): BatchNorm2d(1024, eps=1e-05, momentum=0.1, affine=True, track_running_stats=True)\n",
            "      )\n",
            "      (5): Bottleneck(\n",
            "        (conv1): Conv2d(1024, 256, kernel_size=(1, 1), stride=(1, 1))\n",
            "        (bn1): BatchNorm2d(256, eps=1e-05, momentum=0.1, affine=True, track_running_stats=True)\n",
            "        (conv2): Conv2d(256, 256, kernel_size=(3, 3), stride=(1, 1), padding=(1, 1))\n",
            "        (bn2): BatchNorm2d(256, eps=1e-05, momentum=0.1, affine=True, track_running_stats=True)\n",
            "        (conv3): Conv2d(256, 1024, kernel_size=(1, 1), stride=(1, 1))\n",
            "        (bn3): BatchNorm2d(1024, eps=1e-05, momentum=0.1, affine=True, track_running_stats=True)\n",
            "      )\n",
            "    )\n",
            "    (stage4): Sequential(\n",
            "      (0): Bottleneck(\n",
            "        (conv1): Conv2d(1024, 512, kernel_size=(1, 1), stride=(1, 1))\n",
            "        (bn1): BatchNorm2d(512, eps=1e-05, momentum=0.1, affine=True, track_running_stats=True)\n",
            "        (conv2): Conv2d(512, 512, kernel_size=(3, 3), stride=(2, 2), padding=(1, 1))\n",
            "        (bn2): BatchNorm2d(512, eps=1e-05, momentum=0.1, affine=True, track_running_stats=True)\n",
            "        (conv3): Conv2d(512, 2048, kernel_size=(1, 1), stride=(1, 1))\n",
            "        (bn3): BatchNorm2d(2048, eps=1e-05, momentum=0.1, affine=True, track_running_stats=True)\n",
            "        (conv_shortcut): Conv2d(1024, 2048, kernel_size=(1, 1), stride=(2, 2))\n",
            "      )\n",
            "      (1): Bottleneck(\n",
            "        (conv1): Conv2d(2048, 512, kernel_size=(1, 1), stride=(1, 1))\n",
            "        (bn1): BatchNorm2d(512, eps=1e-05, momentum=0.1, affine=True, track_running_stats=True)\n",
            "        (conv2): Conv2d(512, 512, kernel_size=(3, 3), stride=(1, 1), padding=(1, 1))\n",
            "        (bn2): BatchNorm2d(512, eps=1e-05, momentum=0.1, affine=True, track_running_stats=True)\n",
            "        (conv3): Conv2d(512, 2048, kernel_size=(1, 1), stride=(1, 1))\n",
            "        (bn3): BatchNorm2d(2048, eps=1e-05, momentum=0.1, affine=True, track_running_stats=True)\n",
            "      )\n",
            "      (2): Bottleneck(\n",
            "        (conv1): Conv2d(2048, 512, kernel_size=(1, 1), stride=(1, 1))\n",
            "        (bn1): BatchNorm2d(512, eps=1e-05, momentum=0.1, affine=True, track_running_stats=True)\n",
            "        (conv2): Conv2d(512, 512, kernel_size=(3, 3), stride=(1, 1), padding=(1, 1))\n",
            "        (bn2): BatchNorm2d(512, eps=1e-05, momentum=0.1, affine=True, track_running_stats=True)\n",
            "        (conv3): Conv2d(512, 2048, kernel_size=(1, 1), stride=(1, 1))\n",
            "        (bn3): BatchNorm2d(2048, eps=1e-05, momentum=0.1, affine=True, track_running_stats=True)\n",
            "      )\n",
            "    )\n",
            "  )\n",
            "  (2): AdaptiveAvgPool2d(output_size=(1, 1))\n",
            "  (3): Flatten(start_dim=1, end_dim=-1)\n",
            "  (4): Linear(in_features=2048, out_features=1000, bias=True)\n",
            ")\n",
            "Sequential output shape:\t torch.Size([1, 64, 56, 56])\n",
            "Sequential output shape:\t torch.Size([1, 2048, 7, 7])\n",
            "AdaptiveAvgPool2d output shape:\t torch.Size([1, 2048, 1, 1])\n",
            "Flatten output shape:\t torch.Size([1, 2048])\n",
            "Linear output shape:\t torch.Size([1, 1000])\n"
          ]
        }
      ]
    },
    {
      "cell_type": "code",
      "source": [
        "import torch\n",
        "from torch import nn\n",
        "from torch.nn import functional as F\n",
        "\n",
        "class Residual(nn.Module):\n",
        "    def __init__(self, input_channels, num_channels,\n",
        "                 use_1x1conv=False, strides=1):\n",
        "        super().__init__()\n",
        "        self.conv1 = nn.Conv2d(input_channels, num_channels,\n",
        "                               kernel_size=3, padding=1, stride=strides)\n",
        "        self.conv2 = nn.Conv2d(num_channels, num_channels,\n",
        "                               kernel_size=3, padding=1)\n",
        "        if use_1x1conv:\n",
        "            self.conv3 = nn.Conv2d(input_channels, num_channels,\n",
        "                                   kernel_size=1, stride=strides)\n",
        "        else:\n",
        "            self.conv3 = None\n",
        "        self.bn1 = nn.BatchNorm2d(input_channels)  # 归一化输入通道数\n",
        "        self.bn2 = nn.BatchNorm2d(num_channels)    # 归一化输出通道数\n",
        "\n",
        "    def forward(self, X):\n",
        "        # 新顺序: BN → ReLU → Conv\n",
        "        Y = self.conv1(F.relu(self.bn1(X)))       # 第一层: BN → ReLU → Conv\n",
        "        Y = self.conv2(F.relu(self.bn2(Y)))        # 第二层: BN → ReLU → Conv\n",
        "\n",
        "        # 残差连接处理\n",
        "        if self.conv3:\n",
        "            X = self.conv3(X)\n",
        "\n",
        "        Y += X  # 残差连接\n",
        "        return Y  # 注意: 不再有最后的ReLU"
      ],
      "metadata": {
        "id": "GIvuU2-PeJb-"
      },
      "id": "GIvuU2-PeJb-",
      "execution_count": null,
      "outputs": []
    },
    {
      "cell_type": "markdown",
      "source": [
        "\"所有模型都是错的，但有些是有用的\" - George Box。限制复杂性正是为了找到那个\"有用\"的模型，而非追求完美拟合数据却无泛化能力的模型。\n",
        "\n",
        "---\n",
        "\n"
      ],
      "metadata": {
        "id": "VcfmNl2zemJq"
      },
      "id": "VcfmNl2zemJq"
    }
  ],
  "metadata": {
    "accelerator": "TPU",
    "kernelspec": {
      "display_name": "Python 3",
      "name": "python3"
    },
    "language_info": {
      "name": "python"
    },
    "required_libs": [],
    "colab": {
      "provenance": [],
      "gpuType": "V28"
    }
  },
  "nbformat": 4,
  "nbformat_minor": 5
}