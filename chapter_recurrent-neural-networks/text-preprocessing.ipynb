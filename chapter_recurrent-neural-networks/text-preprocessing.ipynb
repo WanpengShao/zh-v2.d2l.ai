{
  "cells": [
    {
      "cell_type": "markdown",
      "id": "ec52bdca",
      "metadata": {
        "id": "ec52bdca"
      },
      "source": [
        "The following additional libraries are needed to run this\n",
        "notebook. Note that running on Colab is experimental, please report a Github\n",
        "issue if you have any problem."
      ]
    },
    {
      "cell_type": "code",
      "execution_count": 1,
      "id": "bc3e7c4b",
      "metadata": {
        "id": "bc3e7c4b",
        "outputId": "5ab6654f-c1a8-49d8-c79c-12f79d52ca50",
        "colab": {
          "base_uri": "https://localhost:8080/"
        }
      },
      "outputs": [
        {
          "output_type": "stream",
          "name": "stdout",
          "text": [
            "Collecting git+https://github.com/d2l-ai/d2l-zh@release\n",
            "  Cloning https://github.com/d2l-ai/d2l-zh (to revision release) to /tmp/pip-req-build-_lk4xe_z\n",
            "  Running command git clone --filter=blob:none --quiet https://github.com/d2l-ai/d2l-zh /tmp/pip-req-build-_lk4xe_z\n",
            "  Running command git checkout -b release --track origin/release\n",
            "  Switched to a new branch 'release'\n",
            "  Branch 'release' set up to track remote branch 'release' from 'origin'.\n",
            "  Resolved https://github.com/d2l-ai/d2l-zh to commit 843d3d41dca48d8df65f4b324dd171d8bfe9c067\n",
            "  Running command git submodule update --init --recursive -q\n",
            "  Preparing metadata (setup.py) ... \u001b[?25l\u001b[?25hdone\n",
            "Building wheels for collected packages: d2l\n",
            "  Building wheel for d2l (setup.py) ... \u001b[?25l\u001b[?25hdone\n",
            "  Created wheel for d2l: filename=d2l-2.0.0-py3-none-any.whl size=110800 sha256=3ff5a9b455ec2e85d757075424a95f7912daa342b1903e1436248763b2af2a9b\n",
            "  Stored in directory: /tmp/pip-ephem-wheel-cache-ozgziqk8/wheels/3e/87/36/53b013ece7da539a59fcc56da2d329d7afb08eef9a9a5ae1d1\n",
            "Successfully built d2l\n",
            "Installing collected packages: d2l\n",
            "Successfully installed d2l-2.0.0\n"
          ]
        }
      ],
      "source": [
        "!pip install git+https://github.com/d2l-ai/d2l-zh@release --no-deps --force-reinstall\n",
        "!pip install numpy>=1.20\n"
      ]
    },
    {
      "cell_type": "markdown",
      "id": "fdaad6d5",
      "metadata": {
        "origin_pos": 0,
        "id": "fdaad6d5"
      },
      "source": [
        "# 文本预处理\n",
        ":label:`sec_text_preprocessing`\n",
        "\n",
        "对于序列数据处理问题，我们在 :numref:`sec_sequence`中\n",
        "评估了所需的统计工具和预测时面临的挑战。\n",
        "这样的数据存在许多种形式，文本是最常见例子之一。\n",
        "例如，一篇文章可以被简单地看作一串单词序列，甚至是一串字符序列。\n",
        "本节中，我们将解析文本的常见预处理步骤。\n",
        "这些步骤通常包括：\n",
        "\n",
        "1. 将文本作为字符串加载到内存中。\n",
        "1. 将字符串拆分为词元（如单词和字符）。\n",
        "1. 建立一个词表，将拆分的词元映射到数字索引。\n",
        "1. 将文本转换为数字索引序列，方便模型操作。\n"
      ]
    },
    {
      "cell_type": "code",
      "execution_count": 2,
      "id": "bb8907ca",
      "metadata": {
        "execution": {
          "iopub.execute_input": "2023-08-18T07:02:24.243885Z",
          "iopub.status.busy": "2023-08-18T07:02:24.243343Z",
          "iopub.status.idle": "2023-08-18T07:02:26.213654Z",
          "shell.execute_reply": "2023-08-18T07:02:26.212745Z"
        },
        "origin_pos": 2,
        "tab": [
          "pytorch"
        ],
        "id": "bb8907ca"
      },
      "outputs": [],
      "source": [
        "import collections\n",
        "import re\n",
        "from d2l import torch as d2l"
      ]
    },
    {
      "cell_type": "markdown",
      "id": "e987bf4c",
      "metadata": {
        "origin_pos": 5,
        "id": "e987bf4c"
      },
      "source": [
        "## 读取数据集\n",
        "\n",
        "首先，我们从H.G.Well的[时光机器](https://www.gutenberg.org/ebooks/35)中加载文本。\n",
        "这是一个相当小的语料库，只有30000多个单词，但足够我们小试牛刀，\n",
        "而现实中的文档集合可能会包含数十亿个单词。\n",
        "下面的函数(**将数据集读取到由多条文本行组成的列表中**)，其中每条文本行都是一个字符串。\n",
        "为简单起见，我们在这里忽略了标点符号和字母大写。\n"
      ]
    },
    {
      "cell_type": "code",
      "execution_count": 3,
      "id": "ac0f9f0d",
      "metadata": {
        "execution": {
          "iopub.execute_input": "2023-08-18T07:02:26.218338Z",
          "iopub.status.busy": "2023-08-18T07:02:26.217685Z",
          "iopub.status.idle": "2023-08-18T07:02:26.304928Z",
          "shell.execute_reply": "2023-08-18T07:02:26.304151Z"
        },
        "origin_pos": 6,
        "tab": [
          "pytorch"
        ],
        "id": "ac0f9f0d",
        "outputId": "704b523e-4f57-4fed-a207-58301ba6a623",
        "colab": {
          "base_uri": "https://localhost:8080/"
        }
      },
      "outputs": [
        {
          "output_type": "stream",
          "name": "stdout",
          "text": [
            "正在从http://d2l-data.s3-accelerate.amazonaws.com/timemachine.txt下载../data/timemachine.txt...\n",
            "# 文本总行数: 3221\n",
            "the time machine by h g wells\n",
            "twinkled and his usually pale face was flushed and animated the\n"
          ]
        }
      ],
      "source": [
        "#@save\n",
        "d2l.DATA_HUB['time_machine'] = (d2l.DATA_URL + 'timemachine.txt',\n",
        "                                '090b5e7e70c295757f55df93cb0a180b9691891a')\n",
        "\n",
        "def read_time_machine():  #@save\n",
        "    \"\"\"将时间机器数据集加载到文本行的列表中\"\"\"\n",
        "    with open(d2l.download('time_machine'), 'r') as f:\n",
        "        lines = f.readlines()\n",
        "    return [re.sub('[^A-Za-z]+', ' ', line).strip().lower() for line in lines]\n",
        "\n",
        "lines = read_time_machine()\n",
        "print(f'# 文本总行数: {len(lines)}')\n",
        "print(lines[0])\n",
        "print(lines[10])"
      ]
    },
    {
      "cell_type": "markdown",
      "id": "c34664d1",
      "metadata": {
        "origin_pos": 7,
        "id": "c34664d1"
      },
      "source": [
        "## 词元化\n",
        "\n",
        "下面的`tokenize`函数将文本行列表（`lines`）作为输入，\n",
        "列表中的每个元素是一个文本序列（如一条文本行）。\n",
        "[**每个文本序列又被拆分成一个词元列表**]，*词元*（token）是文本的基本单位。\n",
        "最后，返回一个由词元列表组成的列表，其中的每个词元都是一个字符串（string）。\n"
      ]
    },
    {
      "cell_type": "code",
      "execution_count": 4,
      "id": "afd6a9df",
      "metadata": {
        "execution": {
          "iopub.execute_input": "2023-08-18T07:02:26.308604Z",
          "iopub.status.busy": "2023-08-18T07:02:26.308048Z",
          "iopub.status.idle": "2023-08-18T07:02:26.317083Z",
          "shell.execute_reply": "2023-08-18T07:02:26.316264Z"
        },
        "origin_pos": 8,
        "tab": [
          "pytorch"
        ],
        "id": "afd6a9df",
        "outputId": "8a1d0805-a1ea-4e1b-a78b-d8a4d5af8258",
        "colab": {
          "base_uri": "https://localhost:8080/"
        }
      },
      "outputs": [
        {
          "output_type": "stream",
          "name": "stdout",
          "text": [
            "['the', 'time', 'machine', 'by', 'h', 'g', 'wells']\n",
            "[]\n",
            "[]\n",
            "[]\n",
            "[]\n",
            "['i']\n",
            "[]\n",
            "[]\n",
            "['the', 'time', 'traveller', 'for', 'so', 'it', 'will', 'be', 'convenient', 'to', 'speak', 'of', 'him']\n",
            "['was', 'expounding', 'a', 'recondite', 'matter', 'to', 'us', 'his', 'grey', 'eyes', 'shone', 'and']\n",
            "['twinkled', 'and', 'his', 'usually', 'pale', 'face', 'was', 'flushed', 'and', 'animated', 'the']\n"
          ]
        }
      ],
      "source": [
        "def tokenize(lines, token='word'):  #@save\n",
        "    \"\"\"将文本行拆分为单词或字符词元\"\"\"\n",
        "    if token == 'word':\n",
        "        return [line.split() for line in lines]\n",
        "    elif token == 'char':\n",
        "        return [list(line) for line in lines]\n",
        "    else:\n",
        "        print('错误：未知词元类型：' + token)\n",
        "\n",
        "tokens = tokenize(lines)\n",
        "for i in range(11):\n",
        "    print(tokens[i])"
      ]
    },
    {
      "cell_type": "markdown",
      "id": "e61c06e8",
      "metadata": {
        "origin_pos": 9,
        "id": "e61c06e8"
      },
      "source": [
        "## 词表\n",
        "\n",
        "词元的类型是字符串，而模型需要的输入是数字，因此这种类型不方便模型使用。\n",
        "现在，让我们[**构建一个字典，通常也叫做*词表*（vocabulary），\n",
        "用来将字符串类型的词元映射到从$0$开始的数字索引中**]。\n",
        "我们先将训练集中的所有文档合并在一起，对它们的唯一词元进行统计，\n",
        "得到的统计结果称之为*语料*（corpus）。\n",
        "然后根据每个唯一词元的出现频率，为其分配一个数字索引。\n",
        "很少出现的词元通常被移除，这可以降低复杂性。\n",
        "另外，语料库中不存在或已删除的任何词元都将映射到一个特定的未知词元“&lt;unk&gt;”。\n",
        "我们可以选择增加一个列表，用于保存那些被保留的词元，\n",
        "例如：填充词元（“&lt;pad&gt;”）；\n",
        "序列开始词元（“&lt;bos&gt;”）；\n",
        "序列结束词元（“&lt;eos&gt;”）。\n"
      ]
    },
    {
      "cell_type": "code",
      "execution_count": 25,
      "id": "16db7dad",
      "metadata": {
        "execution": {
          "iopub.execute_input": "2023-08-18T07:02:26.320587Z",
          "iopub.status.busy": "2023-08-18T07:02:26.320050Z",
          "iopub.status.idle": "2023-08-18T07:02:26.330519Z",
          "shell.execute_reply": "2023-08-18T07:02:26.329736Z"
        },
        "origin_pos": 10,
        "tab": [
          "pytorch"
        ],
        "id": "16db7dad"
      },
      "outputs": [],
      "source": [
        "class Vocab:#@save\n",
        "    \"\"\"文本词表\"\"\"\n",
        "    def __init__(self, tokens=None, min_freq=0, reserved_tokens=None):#reserved_tokens 开头和结尾torken\n",
        "        if tokens is None:\n",
        "            tokens = []\n",
        "        if reserved_tokens is None:\n",
        "            reserved_tokens = []\n",
        "        # 按出现频率排序\n",
        "        counter = count_corpus(tokens)\n",
        "        self._token_freqs = sorted(counter.items(), key=lambda x: x[1], #lambda x: x[1] 是一个匿名函数，它指定按照每个元组的第二个元素（即计数）进行排序\n",
        "                                  reverse=True)#排序后的结果\n",
        "        print(self._token_freqs)\n",
        "        # 未知词元的索引为0\n",
        "        self.idx_to_token = ['<unk>'] + reserved_tokens\n",
        "        self.token_to_idx = {token: idx\n",
        "                             for idx, token in enumerate(self.idx_to_token)}\n",
        "        for token, freq in self._token_freqs:\n",
        "            if freq < min_freq:\n",
        "                break\n",
        "            if token not in self.token_to_idx: #给你一个token我给你一个index这是字典\n",
        "                self.idx_to_token.append(token) #索引到token: ['<unk>', '<pad>', '<bos>', '<eos>']\n",
        "                self.token_to_idx[token] = len(self.idx_to_token) - 1\n",
        "                #{'<unk>': 0, '<pad>': 1, '<bos>': 2, '<eos>': 3}\n",
        "    def __len__(self):\n",
        "        return len(self.idx_to_token)\n",
        "\n",
        "    def __getitem__(self, tokens):\n",
        "        if not isinstance(tokens, (list, tuple)):\n",
        "            return self.token_to_idx.get(tokens, self.unk)\n",
        "        return [self.__getitem__(token) for token in tokens]\n",
        "\n",
        "    def to_tokens(self, indices):\n",
        "        if not isinstance(indices, (list, tuple)):\n",
        "            return self.idx_to_token[indices]\n",
        "        return [self.idx_to_token[index] for index in indices]\n",
        "\n",
        "    @property\n",
        "    def unk(self):  # 未知词元的索引为0\n",
        "        return 0\n",
        "\n",
        "    @property\n",
        "    def token_freqs(self):\n",
        "        return self._token_freqs\n",
        "\n",
        "def count_corpus(tokens):  #@save\n",
        "    \"\"\"统计词元的频率\"\"\"\n",
        "    # 这里的tokens是1D列表或2D列表\n",
        "    if len(tokens) == 0 or isinstance(tokens[0], list):#还能这么判断是否为List\n",
        "        # 将词元列表展平成一个列表\n",
        "        tokens = [token for line in tokens for token in line] #[表达式 for 外层变量 in 外层可迭代对象 for 内层变量 in 内层可迭代对象]\n",
        "    return collections.Counter(tokens)#count"
      ]
    },
    {
      "cell_type": "markdown",
      "id": "d7fde2e0",
      "metadata": {
        "origin_pos": 11,
        "id": "d7fde2e0"
      },
      "source": [
        "我们首先使用时光机器数据集作为语料库来[**构建词表**]，然后打印前几个高频词元及其索引。\n"
      ]
    },
    {
      "cell_type": "code",
      "execution_count": 26,
      "id": "1501d478",
      "metadata": {
        "execution": {
          "iopub.execute_input": "2023-08-18T07:02:26.333942Z",
          "iopub.status.busy": "2023-08-18T07:02:26.333382Z",
          "iopub.status.idle": "2023-08-18T07:02:26.346927Z",
          "shell.execute_reply": "2023-08-18T07:02:26.346182Z"
        },
        "origin_pos": 12,
        "tab": [
          "pytorch"
        ],
        "id": "1501d478",
        "outputId": "ae1dd870-40e6-44d7-bfc7-b8e2c43d8a41",
        "colab": {
          "base_uri": "https://localhost:8080/"
        }
      },
      "outputs": [
        {
          "output_type": "stream",
          "name": "stdout",
          "text": [
            "[('hello', 3), ('world', 2), ('python', 1), ('test', 1)]\n",
            "[('<unk>', 0), ('hello', 1), ('world', 2), ('python', 3), ('test', 4)]\n"
          ]
        }
      ],
      "source": [
        "vocab = Vocab(tokens)\n",
        "print(list(vocab.token_to_idx.items())[:10])"
      ]
    },
    {
      "cell_type": "markdown",
      "id": "ce7b78a3",
      "metadata": {
        "origin_pos": 13,
        "id": "ce7b78a3"
      },
      "source": [
        "现在，我们可以(**将每一条文本行转换成一个数字索引列表**)。\n"
      ]
    },
    {
      "cell_type": "code",
      "execution_count": 27,
      "id": "f0244f09",
      "metadata": {
        "execution": {
          "iopub.execute_input": "2023-08-18T07:02:26.350343Z",
          "iopub.status.busy": "2023-08-18T07:02:26.349779Z",
          "iopub.status.idle": "2023-08-18T07:02:26.354215Z",
          "shell.execute_reply": "2023-08-18T07:02:26.353468Z"
        },
        "origin_pos": 14,
        "tab": [
          "pytorch"
        ],
        "id": "f0244f09",
        "outputId": "ccceb329-00ee-4e0d-d63b-69c5b04e8957",
        "colab": {
          "base_uri": "https://localhost:8080/",
          "height": 219
        }
      },
      "outputs": [
        {
          "output_type": "stream",
          "name": "stdout",
          "text": [
            "文本: hello\n",
            "索引: 1\n"
          ]
        },
        {
          "output_type": "error",
          "ename": "IndexError",
          "evalue": "list index out of range",
          "traceback": [
            "\u001b[0;31m---------------------------------------------------------------------------\u001b[0m",
            "\u001b[0;31mIndexError\u001b[0m                                Traceback (most recent call last)",
            "\u001b[0;32m/tmp/ipython-input-1753900577.py\u001b[0m in \u001b[0;36m<cell line: 0>\u001b[0;34m()\u001b[0m\n\u001b[1;32m      1\u001b[0m \u001b[0;32mfor\u001b[0m \u001b[0mi\u001b[0m \u001b[0;32min\u001b[0m \u001b[0;34m[\u001b[0m\u001b[0;36m0\u001b[0m\u001b[0;34m,\u001b[0m \u001b[0;36m10\u001b[0m\u001b[0;34m]\u001b[0m\u001b[0;34m:\u001b[0m\u001b[0;34m\u001b[0m\u001b[0;34m\u001b[0m\u001b[0m\n\u001b[0;32m----> 2\u001b[0;31m     \u001b[0mprint\u001b[0m\u001b[0;34m(\u001b[0m\u001b[0;34m'文本:'\u001b[0m\u001b[0;34m,\u001b[0m \u001b[0mtokens\u001b[0m\u001b[0;34m[\u001b[0m\u001b[0mi\u001b[0m\u001b[0;34m]\u001b[0m\u001b[0;34m)\u001b[0m\u001b[0;34m\u001b[0m\u001b[0;34m\u001b[0m\u001b[0m\n\u001b[0m\u001b[1;32m      3\u001b[0m     \u001b[0mprint\u001b[0m\u001b[0;34m(\u001b[0m\u001b[0;34m'索引:'\u001b[0m\u001b[0;34m,\u001b[0m \u001b[0mvocab\u001b[0m\u001b[0;34m[\u001b[0m\u001b[0mtokens\u001b[0m\u001b[0;34m[\u001b[0m\u001b[0mi\u001b[0m\u001b[0;34m]\u001b[0m\u001b[0;34m]\u001b[0m\u001b[0;34m)\u001b[0m\u001b[0;34m\u001b[0m\u001b[0;34m\u001b[0m\u001b[0m\n",
            "\u001b[0;31mIndexError\u001b[0m: list index out of range"
          ]
        }
      ],
      "source": [
        "for i in [0, 10]:\n",
        "    print('文本:', tokens[i])\n",
        "    print('索引:', vocab[tokens[i]])"
      ]
    },
    {
      "cell_type": "markdown",
      "id": "e84c1a2a",
      "metadata": {
        "origin_pos": 15,
        "id": "e84c1a2a"
      },
      "source": [
        "## 整合所有功能\n",
        "\n",
        "在使用上述函数时，我们[**将所有功能打包到`load_corpus_time_machine`函数中**]，\n",
        "该函数返回`corpus`（词元索引列表）和`vocab`（时光机器语料库的词表）。\n",
        "我们在这里所做的改变是：\n",
        "\n",
        "1. 为了简化后面章节中的训练，我们使用字符（而不是单词）实现文本词元化；\n",
        "1. 时光机器数据集中的每个文本行不一定是一个句子或一个段落，还可能是一个单词，因此返回的`corpus`仅处理为单个列表，而不是使用多词元列表构成的一个列表。\n"
      ]
    },
    {
      "cell_type": "code",
      "execution_count": 28,
      "id": "578ed76f",
      "metadata": {
        "execution": {
          "iopub.execute_input": "2023-08-18T07:02:26.357414Z",
          "iopub.status.busy": "2023-08-18T07:02:26.357141Z",
          "iopub.status.idle": "2023-08-18T07:02:26.470812Z",
          "shell.execute_reply": "2023-08-18T07:02:26.470008Z"
        },
        "origin_pos": 16,
        "tab": [
          "pytorch"
        ],
        "id": "578ed76f",
        "outputId": "0e83df87-f51c-4774-fc23-7b6605bee751",
        "colab": {
          "base_uri": "https://localhost:8080/"
        }
      },
      "outputs": [
        {
          "output_type": "stream",
          "name": "stdout",
          "text": [
            "[(' ', 29927), ('e', 17838), ('t', 13515), ('a', 11704), ('i', 10138), ('n', 9917), ('o', 9758), ('s', 8486), ('h', 8257), ('r', 7674), ('d', 6337), ('l', 6146), ('m', 4043), ('u', 3805), ('c', 3424), ('f', 3354), ('w', 3225), ('g', 3075), ('y', 2679), ('p', 2427), ('b', 1897), ('v', 1295), ('k', 1087), ('x', 236), ('z', 144), ('j', 97), ('q', 95)]\n"
          ]
        },
        {
          "output_type": "execute_result",
          "data": {
            "text/plain": [
              "(170580, 28)"
            ]
          },
          "metadata": {},
          "execution_count": 28
        }
      ],
      "source": [
        "def load_corpus_time_machine(max_tokens=-1):  #@save\n",
        "    \"\"\"返回时光机器数据集的词元索引列表和词表\"\"\"\n",
        "    lines = read_time_machine()\n",
        "    tokens = tokenize(lines, 'char')\n",
        "    vocab = Vocab(tokens)\n",
        "    # 因为时光机器数据集中的每个文本行不一定是一个句子或一个段落，\n",
        "    # 所以将所有文本行展平到一个列表中\n",
        "    corpus = [vocab[token] for line in tokens for token in line]\n",
        "    if max_tokens > 0:\n",
        "        corpus = corpus[:max_tokens]\n",
        "    return corpus, vocab\n",
        "\n",
        "corpus, vocab = load_corpus_time_machine()\n",
        "len(corpus), len(vocab)"
      ]
    },
    {
      "cell_type": "markdown",
      "id": "28620a4d",
      "metadata": {
        "origin_pos": 17,
        "id": "28620a4d"
      },
      "source": [
        "## 小结\n",
        "\n",
        "* 文本是序列数据的一种最常见的形式之一。\n",
        "* 为了对文本进行预处理，我们通常将文本拆分为词元，构建词表将词元字符串映射为数字索引，并将文本数据转换为词元索引以供模型操作。\n",
        "\n",
        "## 练习\n",
        "\n",
        "1. 词元化是一个关键的预处理步骤，它因语言而异。尝试找到另外三种常用的词元化文本的方法。\n",
        "1. 在本节的实验中，将文本词元为单词和更改`Vocab`实例的`min_freq`参数。这对词表大小有何影响？\n"
      ]
    },
    {
      "cell_type": "markdown",
      "source": [
        "BPE\t简单有效，广泛使用\t可能产生不直观的分割\t通用NLP任务，多语言处理\n",
        "WordPiece\t处理未知词汇效果好\t训练计算成本较高\tBERT等Transformer模型\n",
        "SentencePiece\t语言无关，无需预处理\t需要训练模型\t处理混合语言文本，非标准文本\n"
      ],
      "metadata": {
        "id": "4Poh_yXmzot0"
      },
      "id": "4Poh_yXmzot0"
    },
    {
      "cell_type": "code",
      "source": [
        "import collections\n",
        "\n",
        "def count_corpus(tokens):\n",
        "    \"\"\"统计词元的频率\"\"\"\n",
        "    if len(tokens) == 0 or isinstance(tokens[0], list):\n",
        "        tokens = [token for line in tokens for token in line]\n",
        "    return collections.Counter(tokens)\n",
        "\n",
        "class Vocab:\n",
        "    \"\"\"文本词表\"\"\"\n",
        "    def __init__(self, tokens=None, min_freq=0, reserved_tokens=None):\n",
        "        if tokens is None:\n",
        "            tokens = []\n",
        "        if reserved_tokens is None:\n",
        "            reserved_tokens = []\n",
        "        # 按出现频率排序\n",
        "        counter = count_corpus(tokens) #\n",
        "        self._token_freqs = sorted(counter.items(), key=lambda x: x[1], reverse=True)\n",
        "        print(\"_token_freqs:\",self._token_freqs)\n",
        "        # 未知词元的索引为0\n",
        "        self.idx_to_token = ['<unk>'] + reserved_tokens #['<pad>', '<bos>', '<eos>']\n",
        "        print(\"idx_to_token: \",self.idx_to_token)\n",
        "        self.token_to_idx = {token: idx for idx, token in enumerate(self.idx_to_token)}\n",
        "        print(\"token_to_idx:\",self.token_to_idx)\n",
        "        for token, freq in self._token_freqs: #这里只取前两个\n",
        "            if freq < min_freq:\n",
        "                break\n",
        "            if token not in self.token_to_idx:\n",
        "                self.idx_to_token.append(token) #后面加两个_token_freqs的单词\n",
        "                self.token_to_idx[token] = len(self.idx_to_token) - 1 #给字典加一个index\n",
        "        print(\"new_token_to_idx: \",self.token_to_idx)\n",
        "\n",
        "    def __len__(self):\n",
        "        return len(self.idx_to_token)\n",
        "\n",
        "    def __getitem__(self, tokens):\n",
        "        if not isinstance(tokens, (list, tuple)):\n",
        "            return self.token_to_idx.get(tokens, self.unk)\n",
        "        return [self.__getitem__(token) for token in tokens]\n",
        "\n",
        "    def to_tokens(self, indices):\n",
        "        if not isinstance(indices, (list, tuple)):\n",
        "            return self.idx_to_token[indices]\n",
        "        return [self.idx_to_token[index] for index in indices]\n",
        "\n",
        "    @property\n",
        "    def unk(self):\n",
        "        return 0\n",
        "\n",
        "    @property\n",
        "    def token_freqs(self):\n",
        "        return self._token_freqs\n",
        "\n",
        "# 测试代码\n",
        "if __name__ == \"__main__\":\n",
        "    # 示例1: 使用一维token列表\n",
        "    print(\"=== 示例1: 一维token列表 ===\")\n",
        "    tokens = [\"hello\", \"world\", \"hello\", \"python\", \"world\", \"hello\", \"test\"]\n",
        "    vocab = Vocab(tokens, min_freq=0, reserved_tokens=['<pad>', '<bos>', '<eos>'])\n",
        "\n",
        "    print(\"词汇表大小:\", len(vocab))\n",
        "    print(\"索引到token映射:\", vocab.idx_to_token)\n",
        "    print(\"token到索引映射:\", vocab.token_to_idx)\n",
        "    print(\"词频统计:\", vocab.token_freqs)\n",
        "\n",
        "    # 测试转换功能\n",
        "    test_tokens = [\"hello\", \"world\", \"python\", \"unknown_word\", \"<bos>\"]\n",
        "    indices = vocab[test_tokens] #vocab返回是：vocab.token_to_idx 这个字典就是字典里的索引\n",
        "    print(\"Tokens to indices:\", test_tokens, \"→\", indices)\n",
        "\n",
        "    # 测试反向转换\n",
        "    test_indices = [0, 1, 2, 3, 4, 5]\n",
        "    tokens_back = vocab.to_tokens(test_indices)\n",
        "    print(\"Indices to tokens:\", test_indices, \"→\", tokens_back)\n",
        "\n",
        "    # 示例2: 使用二维token列表（句子列表）\n",
        "    print(\"\\n=== 示例2: 二维token列表 ===\")\n",
        "    sentences = [\n",
        "        [\"I\", \"love\", \"python\"],\n",
        "        [\"Python\", \"is\", \"awesome\"],\n",
        "        [\"I\", \"love\", \"coding\"],\n",
        "        [\"Python\", \"is\", \"fun\"]\n",
        "    ]\n",
        "\n",
        "    vocab2 = Vocab(sentences, min_freq=2, reserved_tokens=['<pad>'])\n",
        "\n",
        "    print(\"词汇表大小:\", len(vocab2))\n",
        "    print(\"索引到token映射:\", vocab2.idx_to_token)\n",
        "    print(\"词频统计:\", vocab2.token_freqs)\n",
        "\n",
        "    # 测试单个token转换\n",
        "    print(\"'python'的索引:\", vocab2[\"python\"])\n",
        "    print(\"'love'的索引:\", vocab2[\"love\"])\n",
        "    print(\"'unknown'的索引:\", vocab2[\"unknown\"])  # 应该返回0 (<unk>)\n",
        "\n",
        "    # 测试列表转换\n",
        "    test_sentence = [\"I\", \"love\", \"python\", \"and\", \"coding\"]\n",
        "    indices2 = vocab2[test_sentence]\n",
        "    print(\"句子转索引:\", test_sentence, \"→\", indices2)\n",
        "\n",
        "    # 测试反向转换\n",
        "    test_indices2 = [0, 1, 2, 3, 4, 5]\n",
        "    tokens_back2 = vocab2.to_tokens(test_indices2)\n",
        "    print(\"索引转token:\", test_indices2, \"→\", tokens_back2)\n",
        "\n",
        "    # 测试属性访问\n",
        "    print(\"未知token的索引:\", vocab2.unk)"
      ],
      "metadata": {
        "id": "LRM6tiaGysrA",
        "outputId": "90f457b9-fbd9-4e44-8d4e-024a14040c10",
        "colab": {
          "base_uri": "https://localhost:8080/"
        }
      },
      "id": "LRM6tiaGysrA",
      "execution_count": 29,
      "outputs": [
        {
          "output_type": "stream",
          "name": "stdout",
          "text": [
            "=== 示例1: 一维token列表 ===\n",
            "_token_freqs: [('hello', 3), ('world', 2), ('python', 1), ('test', 1)]\n",
            "idx_to_token:  ['<unk>', '<pad>', '<bos>', '<eos>']\n",
            "token_to_idx: {'<unk>': 0, '<pad>': 1, '<bos>': 2, '<eos>': 3}\n",
            "new_token_to_idx:  {'<unk>': 0, '<pad>': 1, '<bos>': 2, '<eos>': 3, 'hello': 4, 'world': 5, 'python': 6, 'test': 7}\n",
            "词汇表大小: 8\n",
            "索引到token映射: ['<unk>', '<pad>', '<bos>', '<eos>', 'hello', 'world', 'python', 'test']\n",
            "token到索引映射: {'<unk>': 0, '<pad>': 1, '<bos>': 2, '<eos>': 3, 'hello': 4, 'world': 5, 'python': 6, 'test': 7}\n",
            "词频统计: [('hello', 3), ('world', 2), ('python', 1), ('test', 1)]\n",
            "Tokens to indices: ['hello', 'world', 'python', 'unknown_word', '<bos>'] → [4, 5, 6, 0, 2]\n",
            "Indices to tokens: [0, 1, 2, 3, 4, 5] → ['<unk>', '<pad>', '<bos>', '<eos>', 'hello', 'world']\n",
            "\n",
            "=== 示例2: 二维token列表 ===\n",
            "_token_freqs: [('I', 2), ('love', 2), ('Python', 2), ('is', 2), ('python', 1), ('awesome', 1), ('coding', 1), ('fun', 1)]\n",
            "idx_to_token:  ['<unk>', '<pad>']\n",
            "token_to_idx: {'<unk>': 0, '<pad>': 1}\n",
            "new_token_to_idx:  {'<unk>': 0, '<pad>': 1, 'I': 2, 'love': 3, 'Python': 4, 'is': 5}\n",
            "词汇表大小: 6\n",
            "索引到token映射: ['<unk>', '<pad>', 'I', 'love', 'Python', 'is']\n",
            "词频统计: [('I', 2), ('love', 2), ('Python', 2), ('is', 2), ('python', 1), ('awesome', 1), ('coding', 1), ('fun', 1)]\n",
            "'python'的索引: 0\n",
            "'love'的索引: 3\n",
            "'unknown'的索引: 0\n",
            "句子转索引: ['I', 'love', 'python', 'and', 'coding'] → [2, 3, 0, 0, 0]\n",
            "索引转token: [0, 1, 2, 3, 4, 5] → ['<unk>', '<pad>', 'I', 'love', 'Python', 'is']\n",
            "未知token的索引: 0\n"
          ]
        }
      ]
    },
    {
      "cell_type": "markdown",
      "id": "17f3b26f",
      "metadata": {
        "origin_pos": 19,
        "tab": [
          "pytorch"
        ],
        "id": "17f3b26f"
      },
      "source": [
        "[Discussions](https://discuss.d2l.ai/t/2094)\n"
      ]
    }
  ],
  "metadata": {
    "kernelspec": {
      "display_name": "Python 3",
      "name": "python3"
    },
    "language_info": {
      "name": "python"
    },
    "required_libs": [],
    "colab": {
      "provenance": []
    }
  },
  "nbformat": 4,
  "nbformat_minor": 5
}