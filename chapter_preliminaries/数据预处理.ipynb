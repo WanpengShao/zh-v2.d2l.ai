{
  "cells": [
    {
      "cell_type": "markdown",
      "id": "ab73852c",
      "metadata": {
        "origin_pos": 0,
        "id": "ab73852c"
      },
      "source": [
        "# 数据预处理\n",
        ":label:`sec_pandas`\n",
        "\n",
        "为了能用深度学习来解决现实世界的问题，我们经常从预处理原始数据开始，\n",
        "而不是从那些准备好的张量格式数据开始。\n",
        "在Python中常用的数据分析工具中，我们通常使用`pandas`软件包。\n",
        "像庞大的Python生态系统中的许多其他扩展包一样，`pandas`可以与张量兼容。\n",
        "本节我们将简要介绍使用`pandas`预处理原始数据，并将原始数据转换为张量格式的步骤。\n",
        "后面的章节将介绍更多的数据预处理技术。\n",
        "\n",
        "## 读取数据集\n",
        "\n",
        "举一个例子，我们首先(**创建一个人工数据集，并存储在CSV（逗号分隔值）文件**)\n",
        "`../data/house_tiny.csv`中。\n",
        "以其他格式存储的数据也可以通过类似的方式进行处理。\n",
        "下面我们将数据集按行写入CSV文件中。\n"
      ]
    },
    {
      "cell_type": "code",
      "execution_count": 11,
      "id": "ee72fd16",
      "metadata": {
        "execution": {
          "iopub.execute_input": "2023-08-18T07:03:38.903209Z",
          "iopub.status.busy": "2023-08-18T07:03:38.902351Z",
          "iopub.status.idle": "2023-08-18T07:03:38.918117Z",
          "shell.execute_reply": "2023-08-18T07:03:38.916775Z"
        },
        "origin_pos": 1,
        "tab": [
          "pytorch"
        ],
        "id": "ee72fd16",
        "outputId": "2692d8f1-d99f-49c5-882b-7ebc832fe466",
        "colab": {
          "base_uri": "https://localhost:8080/"
        }
      },
      "outputs": [
        {
          "output_type": "stream",
          "name": "stdout",
          "text": [
            "../data/house_tiny.csv\n"
          ]
        }
      ],
      "source": [
        "import os\n",
        "\n",
        "dir = os.makedirs(os.path.join('..', 'data'), exist_ok=True)#哦 做一个dir\n",
        "\n",
        "data_file = os.path.join('..', 'data', 'house_tiny.csv')\n",
        "print(data_file)\n",
        "with open(data_file, 'w') as f:\n",
        "    f.write('NumRooms,Alley,Price\\n')  # 列名\n",
        "    f.write('NA,Pave,127500\\n')  # 每行表示一个数据样本\n",
        "    f.write('2,NA,106000\\n')\n",
        "    f.write('4,NA,178100\\n')\n",
        "    f.write('NA,NA,140000\\n')"
      ]
    },
    {
      "cell_type": "markdown",
      "id": "f5be7568",
      "metadata": {
        "origin_pos": 2,
        "id": "f5be7568"
      },
      "source": [
        "要[**从创建的CSV文件中加载原始数据集**]，我们导入`pandas`包并调用`read_csv`函数。该数据集有四行三列。其中每行描述了房间数量（“NumRooms”）、巷子类型（“Alley”）和房屋价格（“Price”）。\n"
      ]
    },
    {
      "cell_type": "code",
      "execution_count": 25,
      "id": "5fb16e52",
      "metadata": {
        "execution": {
          "iopub.execute_input": "2023-08-18T07:03:38.923957Z",
          "iopub.status.busy": "2023-08-18T07:03:38.923101Z",
          "iopub.status.idle": "2023-08-18T07:03:39.372116Z",
          "shell.execute_reply": "2023-08-18T07:03:39.371151Z"
        },
        "origin_pos": 3,
        "tab": [
          "pytorch"
        ],
        "id": "5fb16e52",
        "outputId": "f826f52b-97cf-4a9b-c398-c6f15ed26401",
        "colab": {
          "base_uri": "https://localhost:8080/"
        }
      },
      "outputs": [
        {
          "output_type": "stream",
          "name": "stdout",
          "text": [
            "NumRooms    float64\n",
            "Alley        object\n",
            "Price         int64\n",
            "dtype: object\n"
          ]
        }
      ],
      "source": [
        "# 如果没有安装pandas，只需取消对以下行的注释来安装pandas\n",
        "# !pip install pandas\n",
        "import pandas as pd\n",
        "\n",
        "data = pd.read_csv(data_file)\n",
        "data\n",
        "print(data.dtypes)"
      ]
    },
    {
      "cell_type": "markdown",
      "id": "30188bf5",
      "metadata": {
        "origin_pos": 4,
        "id": "30188bf5"
      },
      "source": [
        "## 处理缺失值\n",
        "\n",
        "注意，“NaN”项代表缺失值。\n",
        "[**为了处理缺失的数据，典型的方法包括*插值法*和*删除法*，**]\n",
        "其中插值法用一个替代值弥补缺失值，而删除法则直接忽略缺失值。\n",
        "在(**这里，我们将考虑插值法**)。\n",
        "\n",
        "通过位置索引`iloc`，我们将`data`分成`inputs`和`outputs`，\n",
        "其中前者为`data`的前两列，而后者为`data`的最后一列。\n",
        "对于`inputs`中缺少的数值，我们用同一列的均值替换“NaN”项。\n"
      ]
    },
    {
      "cell_type": "code",
      "execution_count": 26,
      "id": "d460a301",
      "metadata": {
        "execution": {
          "iopub.execute_input": "2023-08-18T07:03:39.375828Z",
          "iopub.status.busy": "2023-08-18T07:03:39.375535Z",
          "iopub.status.idle": "2023-08-18T07:03:39.389220Z",
          "shell.execute_reply": "2023-08-18T07:03:39.387998Z"
        },
        "origin_pos": 5,
        "tab": [
          "pytorch"
        ],
        "id": "d460a301",
        "outputId": "e8f9df3c-d914-47fe-b029-5ee84ca80dbc",
        "colab": {
          "base_uri": "https://localhost:8080/"
        }
      },
      "outputs": [
        {
          "output_type": "stream",
          "name": "stdout",
          "text": [
            "NumRooms    float64\n",
            "Alley        object\n",
            "dtype: object\n",
            "   NumRooms Alley\n",
            "0       3.0  Pave\n",
            "1       2.0  Pave\n",
            "2       4.0  Pave\n",
            "3       3.0  Pave\n"
          ]
        }
      ],
      "source": [
        "inputs, outputs = data.iloc[:,  0:2], data.iloc[:, 2] #iloc: index localtion\n",
        "print(inputs.dtypes)\n",
        "#inputs = inputs.fillna(inputs.mean()) #所有not a number nan 的 把nan填充不是not a number的均值 也就是3 问题是0和pave怎么会means 是3呢？同一列的均值 搞错了！#inputs.mean()同一列的均值。\n",
        "numeric_cols = inputs.select_dtypes(include=['number']).columns #所以只有object类型才能选择dtypes. 这里是选了只包含有number的那一列，\n",
        "inputs[numeric_cols] = inputs[numeric_cols].fillna(inputs[numeric_cols].mean())\n",
        "# 非数值列用其他方法填充（如众数）\n",
        "non_numeric_cols = inputs.select_dtypes(exclude=['number']).columns #这个选择了不包含number的那一列。\n",
        "inputs[non_numeric_cols] = inputs[non_numeric_cols].fillna(inputs[non_numeric_cols].mode().iloc[0])\n",
        "print(inputs)"
      ]
    },
    {
      "cell_type": "markdown",
      "id": "eae762a4",
      "metadata": {
        "origin_pos": 6,
        "id": "eae762a4"
      },
      "source": [
        "[**对于`inputs`中的类别值或离散值，我们将“NaN”视为一个类别。**]\n",
        "由于“巷子类型”（“Alley”）列只接受两种类型的类别值“Pave”和“NaN”，\n",
        "`pandas`可以自动将此列转换为两列“Alley_Pave”和“Alley_nan”。\n",
        "巷子类型为“Pave”的行会将“Alley_Pave”的值设置为1，“Alley_nan”的值设置为0。\n",
        "缺少巷子类型的行会将“Alley_Pave”和“Alley_nan”分别设置为0和1。\n"
      ]
    },
    {
      "cell_type": "code",
      "execution_count": 20,
      "id": "09ab8738",
      "metadata": {
        "execution": {
          "iopub.execute_input": "2023-08-18T07:03:39.394176Z",
          "iopub.status.busy": "2023-08-18T07:03:39.393444Z",
          "iopub.status.idle": "2023-08-18T07:03:39.409892Z",
          "shell.execute_reply": "2023-08-18T07:03:39.408559Z"
        },
        "origin_pos": 7,
        "tab": [
          "pytorch"
        ],
        "id": "09ab8738",
        "outputId": "fe309575-62a5-40ae-cbb1-beece02ae639",
        "colab": {
          "base_uri": "https://localhost:8080/"
        }
      },
      "outputs": [
        {
          "output_type": "stream",
          "name": "stdout",
          "text": [
            "   NumRooms  Alley_Pave  Alley_nan\n",
            "0       3.0        True      False\n",
            "1       2.0        True      False\n",
            "2       4.0        True      False\n",
            "3       3.0        True      False\n"
          ]
        }
      ],
      "source": [
        "inputs = pd.get_dummies(inputs, dummy_na=True)\n",
        "print(inputs)"
      ]
    },
    {
      "cell_type": "markdown",
      "id": "ea1dd875",
      "metadata": {
        "origin_pos": 8,
        "id": "ea1dd875"
      },
      "source": [
        "## 转换为张量格式\n",
        "\n",
        "[**现在`inputs`和`outputs`中的所有条目都是数值类型，它们可以转换为张量格式。**]\n",
        "当数据采用张量格式后，可以通过在 :numref:`sec_ndarray`中引入的那些张量函数来进一步操作。\n"
      ]
    },
    {
      "cell_type": "code",
      "execution_count": 21,
      "id": "4f551c6d",
      "metadata": {
        "execution": {
          "iopub.execute_input": "2023-08-18T07:03:39.414531Z",
          "iopub.status.busy": "2023-08-18T07:03:39.413831Z",
          "iopub.status.idle": "2023-08-18T07:03:40.467689Z",
          "shell.execute_reply": "2023-08-18T07:03:40.466637Z"
        },
        "origin_pos": 10,
        "tab": [
          "pytorch"
        ],
        "id": "4f551c6d",
        "outputId": "872a5fa6-35bc-4950-d213-8b488c5d21a7",
        "colab": {
          "base_uri": "https://localhost:8080/"
        }
      },
      "outputs": [
        {
          "output_type": "execute_result",
          "data": {
            "text/plain": [
              "(tensor([[3., 1., 0.],\n",
              "         [2., 1., 0.],\n",
              "         [4., 1., 0.],\n",
              "         [3., 1., 0.]], dtype=torch.float64),\n",
              " tensor([127500., 106000., 178100., 140000.], dtype=torch.float64))"
            ]
          },
          "metadata": {},
          "execution_count": 21
        }
      ],
      "source": [
        "import torch\n",
        "\n",
        "X = torch.tensor(inputs.to_numpy(dtype=float))\n",
        "y = torch.tensor(outputs.to_numpy(dtype=float))\n",
        "X, y"
      ]
    },
    {
      "cell_type": "markdown",
      "id": "dbcbca0d",
      "metadata": {
        "origin_pos": 13,
        "id": "dbcbca0d"
      },
      "source": [
        "## 小结\n",
        "\n",
        "* `pandas`软件包是Python中常用的数据分析工具中，`pandas`可以与张量兼容。\n",
        "* 用`pandas`处理缺失的数据时，我们可根据情况选择用插值法和删除法。\n",
        "\n",
        "## 练习\n",
        "\n",
        "创建包含更多行和列的原始数据集。\n",
        "\n",
        "1. 删除缺失值最多的列。\n",
        "2. 将预处理后的数据集转换为张量格式。\n"
      ]
    },
    {
      "cell_type": "code",
      "source": [
        "import pandas as pd\n",
        "import numpy as np\n",
        "\n",
        "# 设置随机种子保证结果可复现\n",
        "np.random.seed(42)\n",
        "\n",
        "# 创建5x4的随机数值矩阵（范围0-10）\n",
        "data = np.random.randint(0, 10, size=(5, 4)).astype(float)\n",
        "\n",
        "# 为每列随机生成10%-30%的NaN位置\n",
        "for col in range(4):\n",
        "    nan_mask = np.random.choice([True, False], size=5, p=[0.2, 0.8])  # 20%概率为NaN\n",
        "    data[:, col][nan_mask] = np.nan\n",
        "\n",
        "# 转换为DataFrame并命名列\n",
        "df = pd.DataFrame(data, columns=['Col1', 'Col2', 'Col3', 'Col4']) #直接把numpy ndarray转化为了object类型 通过在每一列上头加一个key 这个key不参与计算。\n",
        "print(df.dtypes)\n",
        "# 打印结果\n",
        "print(\"原始数据集（含随机NaN）：\")\n",
        "print(df)"
      ],
      "metadata": {
        "id": "tF80dL6cqth9",
        "outputId": "d6895f5b-3af1-49a1-8613-fa3c45240d2c",
        "colab": {
          "base_uri": "https://localhost:8080/"
        }
      },
      "id": "tF80dL6cqth9",
      "execution_count": 27,
      "outputs": [
        {
          "output_type": "stream",
          "name": "stdout",
          "text": [
            "Col1    float64\n",
            "Col2    float64\n",
            "Col3    float64\n",
            "Col4    float64\n",
            "dtype: object\n",
            "原始数据集（含随机NaN）：\n",
            "   Col1  Col2  Col3  Col4\n",
            "0   NaN   3.0   7.0   NaN\n",
            "1   NaN   9.0   2.0   6.0\n",
            "2   7.0   NaN   NaN   NaN\n",
            "3   7.0   2.0   5.0   NaN\n",
            "4   1.0   7.0   5.0   1.0\n"
          ]
        }
      ]
    },
    {
      "cell_type": "code",
      "source": [
        "numeric_cols = df.select_dtypes(include=['number']).columns #这个相当于四个都选了。\n",
        "print(numeric_cols)\n",
        "df[numeric_cols] = df[numeric_cols].fillna(df[numeric_cols].mean())\n",
        "print(df)\n",
        "# 非数值列用其他方法填充（如众数）\n",
        "non_numeric_cols = df.select_dtypes(include=['number']).columns\n",
        "df[non_numeric_cols] = df[non_numeric_cols].fillna(df[non_numeric_cols].mode().iloc[0])\n",
        "print(df)"
      ],
      "metadata": {
        "id": "pEy4KF4-sqFV",
        "outputId": "05e54014-1ef7-4df6-fd5b-b7d6bfe2ded1",
        "colab": {
          "base_uri": "https://localhost:8080/"
        }
      },
      "id": "pEy4KF4-sqFV",
      "execution_count": 31,
      "outputs": [
        {
          "output_type": "stream",
          "name": "stdout",
          "text": [
            "Index(['Col1', 'Col2', 'Col3', 'Col4'], dtype='object')\n",
            "   Col1  Col2  Col3  Col4\n",
            "0   5.0  3.00  7.00   3.5\n",
            "1   5.0  9.00  2.00   6.0\n",
            "2   7.0  5.25  4.75   3.5\n",
            "3   7.0  2.00  5.00   3.5\n",
            "4   1.0  7.00  5.00   1.0\n",
            "   Col1  Col2  Col3  Col4\n",
            "0   5.0  3.00  7.00   3.5\n",
            "1   5.0  9.00  2.00   6.0\n",
            "2   7.0  5.25  4.75   3.5\n",
            "3   7.0  2.00  5.00   3.5\n",
            "4   1.0  7.00  5.00   1.0\n"
          ]
        }
      ]
    },
    {
      "cell_type": "code",
      "source": [
        "col_means = np.nanmean(data, axis=0)  # axis=0 表示按列计算\n",
        "# 逐列计算均值（忽略NaN）\n",
        "col_means = np.nanmean(data, axis=0)  # axis=0 表示按列计算\n",
        "\n",
        "# 用均值填充每列的NaN\n",
        "for col in range(data.shape[1]):\n",
        "    mask = np.isnan(data[:, col])          # 找出当前列的NaN位置\n",
        "    data[mask, col] = col_means[col]       # 填充均值\n",
        "print(data)"
      ],
      "metadata": {
        "id": "xSwfD3EpvR1z",
        "outputId": "6cd67665-618e-48ba-c7b6-a43a2a61a201",
        "colab": {
          "base_uri": "https://localhost:8080/"
        }
      },
      "id": "xSwfD3EpvR1z",
      "execution_count": 34,
      "outputs": [
        {
          "output_type": "stream",
          "name": "stdout",
          "text": [
            "[[5.   3.   7.   3.5 ]\n",
            " [5.   9.   2.   6.  ]\n",
            " [7.   5.25 4.75 3.5 ]\n",
            " [7.   2.   5.   3.5 ]\n",
            " [1.   7.   5.   1.  ]]\n"
          ]
        }
      ]
    },
    {
      "cell_type": "markdown",
      "id": "7b8c6c96",
      "metadata": {
        "origin_pos": 15,
        "tab": [
          "pytorch"
        ],
        "id": "7b8c6c96"
      },
      "source": [
        "[Discussions](https://discuss.d2l.ai/t/1750)\n"
      ]
    }
  ],
  "metadata": {
    "kernelspec": {
      "display_name": "Python 3",
      "name": "python3"
    },
    "language_info": {
      "name": "python"
    },
    "required_libs": [],
    "colab": {
      "provenance": []
    }
  },
  "nbformat": 4,
  "nbformat_minor": 5
}
